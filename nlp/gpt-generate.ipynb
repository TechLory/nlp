{
 "cells": [
  {
   "cell_type": "code",
   "execution_count": 1,
   "metadata": {},
   "outputs": [],
   "source": [
    "from nlp import datageneration as dg\n",
    "from nlp.data import SketchList, EnglishNames"
   ]
  },
  {
   "cell_type": "markdown",
   "metadata": {},
   "source": [
    "## Generate a text corpus with a low variety using GPT-2\n",
    "\n",
    "- We use a list of names and a list of verbs to compose a seed\n",
    "- A seed is a sentence in the form *Hi, my name is [name] and I [verb]*\n",
    "- For each seed, `GPT-2` is used in order to generate $K$ sentences.\n",
    "- We stop the process after $N$ sentences"
   ]
  },
  {
   "cell_type": "code",
   "execution_count": 2,
   "metadata": {},
   "outputs": [],
   "source": [
    "verb_path = \"/Users/flint/Data/wordlists/english-verbs/verbs.csv\"\n",
    "words = SketchList(verb_path)\n",
    "names = EnglishNames()"
   ]
  },
  {
   "cell_type": "code",
   "execution_count": 3,
   "metadata": {},
   "outputs": [
    {
     "name": "stderr",
     "output_type": "stream",
     "text": [
      "100%|██████████| 5000/5000 [1:03:48<00:00,  1.31it/s]\n",
      "100%|██████████| 5000/5000 [1:04:02<00:00,  1.30it/s]\n"
     ]
    }
   ],
   "source": [
    "corpus = dg.generate_corpus(n_docs=5000, names=names, words=words, docs_per_seed=1, template=\"I am {} and today I {}\")"
   ]
  },
  {
   "cell_type": "markdown",
   "metadata": {},
   "source": [
    "## Save"
   ]
  },
  {
   "cell_type": "code",
   "execution_count": 4,
   "metadata": {},
   "outputs": [],
   "source": [
    "import json"
   ]
  },
  {
   "cell_type": "code",
   "execution_count": 5,
   "metadata": {},
   "outputs": [],
   "source": [
    "with open(\"/Users/flint/Data/wordlists/generated/gpt-5000.json\", 'w') as out:\n",
    "    data = {'corpus': corpus}\n",
    "    json.dump(data, out)"
   ]
  }
 ],
 "metadata": {
  "kernelspec": {
   "display_name": "nlp",
   "language": "python",
   "name": "python3"
  },
  "language_info": {
   "codemirror_mode": {
    "name": "ipython",
    "version": 3
   },
   "file_extension": ".py",
   "mimetype": "text/x-python",
   "name": "python",
   "nbconvert_exporter": "python",
   "pygments_lexer": "ipython3",
   "version": "3.9.17"
  }
 },
 "nbformat": 4,
 "nbformat_minor": 2
}
