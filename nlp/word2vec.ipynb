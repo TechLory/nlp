{
 "cells": [
  {
   "cell_type": "markdown",
   "metadata": {},
   "source": [
    "# Explore the Gensim implementation\n",
    "> Mikolov, T., Grave, E., Bojanowski, P., Puhrsch, C., & Joulin, A. (2017). Advances in pre-training distributed word representations. arXiv preprint arXiv:1712.09405."
   ]
  },
  {
   "cell_type": "code",
   "execution_count": 1,
   "metadata": {},
   "outputs": [],
   "source": [
    "import numpy as np\n",
    "import pandas as pd\n",
    "from tqdm.notebook import tqdm"
   ]
  },
  {
   "cell_type": "code",
   "execution_count": 2,
   "metadata": {},
   "outputs": [],
   "source": [
    "import warnings\n",
    "warnings.filterwarnings(\"ignore\")"
   ]
  },
  {
   "cell_type": "code",
   "execution_count": 3,
   "metadata": {},
   "outputs": [],
   "source": [
    "from gensim.models import Word2Vec, KeyedVectors\n",
    "from gensim.test.utils import datapath"
   ]
  },
  {
   "cell_type": "code",
   "execution_count": 4,
   "metadata": {},
   "outputs": [],
   "source": [
    "wv = KeyedVectors.load_word2vec_format(datapath(\"/Users/flint/Data/word2vec/GoogleNews-vectors-negative300.bin\"), \n",
    "                                       binary=True)"
   ]
  },
  {
   "cell_type": "markdown",
   "metadata": {},
   "source": [
    "## Similarity"
   ]
  },
  {
   "cell_type": "code",
   "execution_count": 5,
   "metadata": {},
   "outputs": [
    {
     "name": "stdout",
     "output_type": "stream",
     "text": [
      "'car'\t'minivan'\t0.69\n",
      "'car'\t'bicycle'\t0.54\n",
      "'car'\t'airplane'\t0.42\n",
      "'car'\t'cereal'\t0.14\n",
      "'car'\t'communism'\t0.06\n"
     ]
    }
   ],
   "source": [
    "pairs = [\n",
    "    ('car', 'minivan'),   # a minivan is a kind of car\n",
    "    ('car', 'bicycle'),   # still a wheeled vehicle\n",
    "    ('car', 'airplane'),  # ok, no wheels, but still a vehicle\n",
    "    ('car', 'cereal'),    # ... and so on\n",
    "    ('car', 'communism'),\n",
    "]\n",
    "for w1, w2 in pairs:\n",
    "    print('%r\\t%r\\t%.2f' % (w1, w2, wv.similarity(w1, w2)))"
   ]
  },
  {
   "cell_type": "code",
   "execution_count": 6,
   "metadata": {},
   "outputs": [
    {
     "name": "stdout",
     "output_type": "stream",
     "text": [
      "pizzas 0.7863470315933228\n",
      "Domino_pizza 0.7342829704284668\n",
      "Pizza 0.6988078355789185\n",
      "pepperoni_pizza 0.6902607083320618\n",
      "sandwich 0.6840401887893677\n",
      "burger 0.6569692492485046\n",
      "sandwiches 0.6495091319084167\n",
      "takeout_pizza 0.6491535902023315\n",
      "gourmet_pizza 0.6400628089904785\n",
      "meatball_sandwich 0.6377009749412537\n"
     ]
    }
   ],
   "source": [
    "for x, y in wv.most_similar('pizza'):\n",
    "    print(x, y)"
   ]
  },
  {
   "cell_type": "code",
   "execution_count": 56,
   "metadata": {},
   "outputs": [],
   "source": [
    "vectors = []\n",
    "for word in ['car', 'minivan', 'bicycle', 'airplane']:\n",
    "    vectors.append(wv.get_vector(word))\n",
    "V = np.array(vectors)"
   ]
  },
  {
   "cell_type": "code",
   "execution_count": 57,
   "metadata": {},
   "outputs": [
    {
     "name": "stdout",
     "output_type": "stream",
     "text": [
      "[ 1.44226074e-01 -6.29272461e-02 -1.86157227e-03  3.36608887e-02\n",
      " -3.40881348e-02 -1.92108154e-01  4.43115234e-02 -2.16186523e-01\n",
      "  2.69287109e-01  2.95410156e-02  2.29736328e-01 -1.63024902e-01\n",
      "  1.02573395e-01 -1.12518311e-01 -1.67846680e-02  5.32836914e-02\n",
      " -6.10275269e-02  8.65478516e-02  1.27197266e-01  4.43115234e-02\n",
      "  7.01293945e-02 -1.74789429e-02 -1.12884521e-01  5.61523438e-03\n",
      "  6.15692139e-02  2.16674805e-03 -1.09191895e-01  1.79321289e-01\n",
      "  3.07373047e-01  1.48315430e-02 -1.25259399e-01 -1.83288574e-01\n",
      " -4.57153320e-02  1.40197754e-01 -1.35589600e-01 -9.58251953e-02\n",
      "  2.16690063e-01  6.10351562e-05 -1.13525391e-01  6.99386597e-02\n",
      " -7.07397461e-02  1.05438232e-01  1.56341553e-01  1.45401001e-01\n",
      " -2.04406738e-01  7.43408203e-02  2.68173218e-02  1.35681152e-01\n",
      "  3.46679688e-01  2.37426758e-02 -2.63916016e-01  3.02246094e-01\n",
      "  1.34643555e-01  1.26770020e-01 -2.03125000e-01 -1.32141113e-02\n",
      "  5.70297241e-03  9.94873047e-02  1.25610352e-01 -3.10058594e-02\n",
      "  1.82006836e-01 -1.59912109e-01 -2.69287109e-01  2.74658203e-02\n",
      "  7.03125000e-02  7.83843994e-02 -1.31591797e-01  2.04467773e-03\n",
      " -7.65380859e-02  1.06552124e-01  7.28759766e-02  1.20849609e-02\n",
      " -2.60986328e-01  5.96923828e-02 -2.38769531e-01  9.67407227e-02\n",
      " -1.22436523e-01 -2.24060059e-01  4.43725586e-02 -2.04467773e-01\n",
      "  2.67578125e-01 -8.78906250e-03 -1.04040146e-01  8.07495117e-02\n",
      " -1.61651611e-01 -1.41998291e-01 -1.05697632e-01  7.38525391e-02\n",
      "  5.75256348e-03  1.04064941e-02 -8.79516602e-02  8.72802734e-03\n",
      "  1.25427246e-02 -1.22558594e-01  3.61938477e-02 -1.62109375e-01\n",
      "  2.97546387e-02 -9.52148438e-02  2.14965820e-01 -1.38092041e-01\n",
      " -3.94134521e-02 -2.43164062e-01  1.42730713e-01  2.03735352e-01\n",
      "  2.37304688e-01 -5.00488281e-02  1.34429932e-01 -2.13500977e-01\n",
      "  2.22778320e-02 -1.25808716e-02 -3.36669922e-01 -1.05957031e-01\n",
      " -7.55004883e-02 -1.29394531e-01  1.14501953e-01 -1.74621582e-01\n",
      "  6.34765625e-03 -3.79638672e-02 -1.53564453e-01  1.44165039e-01\n",
      " -5.55572510e-02 -1.35498047e-02 -4.79736328e-02 -2.12646484e-01\n",
      "  3.67889404e-02  1.28173828e-01 -4.80346680e-02 -1.19319916e-01\n",
      "  9.15527344e-04  2.83447266e-01  5.02014160e-03 -1.53686523e-01\n",
      " -1.28417969e-01 -9.25292969e-02  1.00097656e-01  1.97143555e-02\n",
      "  1.16577148e-01 -2.10693359e-01 -3.47900391e-03  1.84997559e-01\n",
      " -7.24487305e-02 -8.98742676e-02 -1.21185303e-01  1.34887695e-02\n",
      "  8.27484131e-02  1.39282227e-01  1.43280029e-02 -1.22863770e-01\n",
      " -2.60009766e-02 -2.23632812e-01  2.39501953e-01 -7.59277344e-02\n",
      "  3.90014648e-02  4.16564941e-02  5.07812500e-02 -3.76892090e-02\n",
      " -1.04553223e-01 -4.87365723e-02 -1.43554688e-01  6.37207031e-02\n",
      " -6.53076172e-02  1.64916992e-01  1.30844116e-01 -1.01318359e-01\n",
      " -2.76489258e-02  4.15039062e-03  2.08251953e-01 -1.87988281e-01\n",
      " -5.45654297e-02 -2.35351562e-01 -4.59594727e-02 -1.14013672e-01\n",
      " -1.14501953e-01 -1.87988281e-02 -1.33239746e-01 -9.91821289e-02\n",
      "  1.08459473e-01 -1.08886719e-01 -2.59521484e-01  1.68975830e-01\n",
      " -1.18286133e-01 -2.07458496e-01 -1.69921875e-01 -5.28564453e-02\n",
      "  1.43463135e-01 -8.22448730e-02 -6.35681152e-02  2.92358398e-01\n",
      " -2.64038086e-01  6.26831055e-02  9.46044922e-02  5.86242676e-02\n",
      " -1.90063477e-01  2.08251953e-01 -2.25257874e-02  1.00708008e-01\n",
      " -9.14688110e-02 -1.63085938e-01 -3.67584229e-02  3.90625000e-03\n",
      " -1.83959961e-01 -2.17010498e-01 -2.69653320e-01 -1.61743164e-01\n",
      " -8.49914551e-03 -2.12036133e-01 -5.33447266e-02  1.14624023e-01\n",
      " -3.61938477e-02  5.55419922e-02  5.41992188e-02 -2.02789307e-02\n",
      " -1.58218384e-01  1.01982117e-01 -9.22851562e-02  1.11755371e-01\n",
      " -6.61010742e-02  3.55224609e-01 -1.90734863e-05 -5.46875000e-02\n",
      " -1.30493164e-01 -2.16163635e-01  3.50341797e-01 -1.25122070e-02\n",
      "  1.17767334e-01 -8.91723633e-02  1.92260742e-02  1.97265625e-01\n",
      " -1.71386719e-01 -3.68652344e-02  5.07278442e-02  7.86743164e-02\n",
      " -4.06494141e-02 -1.96166992e-01 -2.42187500e-01 -2.44140625e-02\n",
      " -1.49185181e-01 -4.17022705e-02  5.37414551e-02 -8.08105469e-02\n",
      "  1.63085938e-01 -1.20666504e-01 -2.33642578e-01 -2.29003906e-01\n",
      " -1.25114441e-01 -8.56933594e-02 -1.67236328e-02 -1.61376953e-01\n",
      "  1.45324707e-01 -2.20214844e-01  2.31933594e-02  7.61108398e-02\n",
      "  8.36181641e-02  7.86437988e-02  9.91821289e-05  4.71801758e-02\n",
      "  3.66821289e-02 -3.40576172e-02 -1.78833008e-02 -2.32788086e-01\n",
      "  9.36279297e-02 -1.17431641e-01  1.78585052e-02  2.80151367e-02\n",
      "  5.61523438e-02  3.26416016e-01 -1.80023193e-01 -7.10525513e-02\n",
      " -3.49121094e-01  9.17358398e-02 -7.03125000e-02  5.39493561e-03\n",
      "  8.75606537e-02  9.10949707e-02 -6.69250488e-02 -1.31151438e-01\n",
      " -8.12530518e-03 -7.83691406e-02 -1.24847412e-01 -4.87670898e-02\n",
      " -7.10449219e-02 -1.21536255e-02  7.36999512e-03 -1.22497559e-01\n",
      " -1.61380768e-02 -9.35058594e-02 -7.37609863e-02  9.67407227e-02\n",
      "  2.05078125e-02  1.14440918e-01 -2.72460938e-01  4.51660156e-02\n",
      "  1.08947754e-02  2.24609375e-02  4.25872803e-02 -2.74353027e-02\n",
      " -1.34887695e-02  1.10839844e-01 -1.99890137e-02 -1.05285645e-01]\n"
     ]
    }
   ],
   "source": [
    "v = V.mean(axis=0)\n",
    "\n",
    "print(v)\n",
    "\n",
    "#v = v - wv.get_vector('car')"
   ]
  },
  {
   "cell_type": "code",
   "execution_count": 58,
   "metadata": {},
   "outputs": [
    {
     "data": {
      "text/plain": [
       "[('car', 0.852258026599884),\n",
       " ('minivan', 0.8156529664993286),\n",
       " ('vehicle', 0.7754934430122375),\n",
       " ('SUV', 0.7660486698150635),\n",
       " ('bicycle', 0.7264742255210876),\n",
       " ('pickup_truck', 0.723552942276001),\n",
       " ('scooter', 0.7198848724365234),\n",
       " ('truck', 0.7041884064674377),\n",
       " ('Jeep', 0.7000145316123962),\n",
       " ('motorcycle', 0.6802986264228821)]"
      ]
     },
     "execution_count": 58,
     "metadata": {},
     "output_type": "execute_result"
    }
   ],
   "source": [
    "wv.similar_by_vector(v)"
   ]
  },
  {
   "cell_type": "markdown",
   "metadata": {},
   "source": [
    "## Analogy\n",
    "\n",
    "FRANCE : PARIS = ITALY : ?\n",
    "\n",
    "PARIS - FRANCE + ITALY"
   ]
  },
  {
   "cell_type": "code",
   "execution_count": 10,
   "metadata": {},
   "outputs": [
    {
     "data": {
      "text/plain": [
       "[('Milan', 0.7222141623497009),\n",
       " ('Rome', 0.702830970287323),\n",
       " ('Palermo_Sicily', 0.5967570543289185),\n",
       " ('Italian', 0.5911272764205933),\n",
       " ('Tuscany', 0.5632812976837158),\n",
       " ('Bologna', 0.5608358383178711),\n",
       " ('Sicily', 0.5596384406089783),\n",
       " ('Bologna_Italy', 0.5470058917999268),\n",
       " ('Berna_Milan', 0.5464027523994446),\n",
       " ('Genoa', 0.5308900475502014)]"
      ]
     },
     "execution_count": 10,
     "metadata": {},
     "output_type": "execute_result"
    }
   ],
   "source": [
    "wv.most_similar(positive=['Paris', 'Italy'], negative=['France'])"
   ]
  },
  {
   "cell_type": "code",
   "execution_count": 11,
   "metadata": {},
   "outputs": [
    {
     "data": {
      "text/plain": [
       "[('Queen', 0.4929387867450714),\n",
       " ('Tupou_V.', 0.45174285769462585),\n",
       " ('Oprah_BFF_Gayle', 0.4422132968902588),\n",
       " ('Jackson', 0.440250426530838),\n",
       " ('NECN_Alison', 0.4331282675266266),\n",
       " ('Whitfield', 0.42834725975990295),\n",
       " ('Ida_Vandross', 0.42084527015686035),\n",
       " ('prosecutor_Dan_Satterberg', 0.420758992433548),\n",
       " ('martin_Luther_King', 0.42059651017189026),\n",
       " ('Coretta_King', 0.4202733635902405)]"
      ]
     },
     "execution_count": 11,
     "metadata": {},
     "output_type": "execute_result"
    }
   ],
   "source": [
    "wv.most_similar(positive=['King', 'Woman'], negative=['Man'])"
   ]
  },
  {
   "cell_type": "markdown",
   "metadata": {},
   "source": [
    "## Not matching"
   ]
  },
  {
   "cell_type": "code",
   "execution_count": 12,
   "metadata": {},
   "outputs": [
    {
     "data": {
      "text/plain": [
       "'apple'"
      ]
     },
     "execution_count": 12,
     "metadata": {},
     "output_type": "execute_result"
    }
   ],
   "source": [
    "wv.doesnt_match(\"school professor apple student\".split())"
   ]
  },
  {
   "cell_type": "markdown",
   "metadata": {},
   "source": [
    "## Mean"
   ]
  },
  {
   "cell_type": "code",
   "execution_count": 13,
   "metadata": {},
   "outputs": [],
   "source": [
    "vp = wv['school']\n",
    "vr = wv['professor']\n",
    "vx = wv['student']\n",
    "m = (vp + vr + vx) / 3"
   ]
  },
  {
   "cell_type": "code",
   "execution_count": 14,
   "metadata": {},
   "outputs": [
    {
     "data": {
      "text/plain": [
       "[('student', 0.8481254577636719),\n",
       " ('professor', 0.7627506852149963),\n",
       " ('teacher', 0.6942789554595947),\n",
       " ('school', 0.6849855780601501),\n",
       " ('students', 0.6768636703491211),\n",
       " ('lecturer', 0.6700003147125244),\n",
       " ('faculty', 0.645453155040741),\n",
       " ('university', 0.6376535892486572),\n",
       " ('professors', 0.6346085667610168),\n",
       " ('associate_professor', 0.6325882077217102)]"
      ]
     },
     "execution_count": 14,
     "metadata": {},
     "output_type": "execute_result"
    }
   ],
   "source": [
    "wv.similar_by_vector(m)"
   ]
  },
  {
   "cell_type": "code",
   "execution_count": 15,
   "metadata": {},
   "outputs": [
    {
     "name": "stdout",
     "output_type": "stream",
     "text": [
      "'lecturer'\t'school'\t0.18\n",
      "'lecturer'\t'professor'\t0.80\n",
      "'lecturer'\t'student'\t0.43\n",
      "'lecturer'\t'teacher'\t0.48\n"
     ]
    }
   ],
   "source": [
    "pairs = [\n",
    "    ('lecturer', 'school'),\n",
    "    ('lecturer', 'professor'),\n",
    "    ('lecturer', 'student'),\n",
    "    ('lecturer', 'teacher'),\n",
    "]\n",
    "for w1, w2 in pairs:\n",
    "    print('%r\\t%r\\t%.2f' % (w1, w2, wv.similarity(w1, w2)))"
   ]
  },
  {
   "cell_type": "markdown",
   "metadata": {},
   "source": [
    "## Context"
   ]
  },
  {
   "cell_type": "code",
   "execution_count": 16,
   "metadata": {},
   "outputs": [
    {
     "data": {
      "text/plain": [
       "[('sell', 0.8308461308479309),\n",
       " ('purchase', 0.7639904618263245),\n",
       " ('buying', 0.7209187746047974),\n",
       " ('bought', 0.7087081074714661),\n",
       " ('buys', 0.6617438197135925),\n",
       " ('Buy', 0.5850198864936829),\n",
       " ('tobuy', 0.5843992829322815),\n",
       " ('purchased', 0.582695484161377),\n",
       " ('Buying', 0.578020453453064),\n",
       " ('acquire', 0.5730165839195251)]"
      ]
     },
     "execution_count": 16,
     "metadata": {},
     "output_type": "execute_result"
    }
   ],
   "source": [
    "wv.most_similar('buy')"
   ]
  },
  {
   "cell_type": "code",
   "execution_count": 17,
   "metadata": {},
   "outputs": [
    {
     "data": {
      "text/plain": [
       "0.31760776"
      ]
     },
     "execution_count": 17,
     "metadata": {},
     "output_type": "execute_result"
    }
   ],
   "source": [
    "wv.similarity('buy', 'money')"
   ]
  },
  {
   "cell_type": "markdown",
   "metadata": {},
   "source": [
    "## Train a custom model"
   ]
  },
  {
   "cell_type": "code",
   "execution_count": 18,
   "metadata": {},
   "outputs": [],
   "source": [
    "import gensim.models"
   ]
  },
  {
   "cell_type": "markdown",
   "metadata": {},
   "source": [
    "### Generate a global model for YELP reviews"
   ]
  },
  {
   "cell_type": "code",
   "execution_count": 19,
   "metadata": {},
   "outputs": [],
   "source": [
    "import json\n",
    "from nltk.tokenize import word_tokenize\n",
    "from string import punctuation"
   ]
  },
  {
   "cell_type": "code",
   "execution_count": 20,
   "metadata": {},
   "outputs": [],
   "source": [
    "review_data_file = '/Users/flint/Data/yelp/data/yelp_sample.json'\n",
    "with open(review_data_file, 'r') as infile:\n",
    "    R = json.load(infile)"
   ]
  },
  {
   "cell_type": "code",
   "execution_count": 21,
   "metadata": {},
   "outputs": [
    {
     "data": {
      "text/plain": [
       "{'content': \"Red, white and bleu salad was super yum and a great addition to the menu! This location was clean with great service and food served at just the right temps! Kids pizza is always a hit too with lots of great side dish options for the kiddos! When I'm on this side of town, this will definitely be a spot I'll hit up again!\",\n",
       " 'date': '2014-02-17',\n",
       " 'stars': 4,\n",
       " 'useful': 1,\n",
       " 'funny': 0,\n",
       " 'cool': 0,\n",
       " 'business': 'Ue6-WhXvI-_1xUIuapl0zQ',\n",
       " 'id': '----X0BIDP9tA49U3RvdSQ',\n",
       " 'categories': ['American (Traditional)', 'Burgers', 'Restaurants']}"
      ]
     },
     "execution_count": 21,
     "metadata": {},
     "output_type": "execute_result"
    }
   ],
   "source": [
    "R[0]"
   ]
  },
  {
   "cell_type": "code",
   "execution_count": 22,
   "metadata": {},
   "outputs": [],
   "source": [
    "data = [[x.lower() for x in word_tokenize(doc['content']) if x not in punctuation] for doc in R]"
   ]
  },
  {
   "cell_type": "code",
   "execution_count": 23,
   "metadata": {},
   "outputs": [
    {
     "data": {
      "text/plain": [
       "['red', 'white', 'and', 'bleu', 'salad', 'was']"
      ]
     },
     "execution_count": 23,
     "metadata": {},
     "output_type": "execute_result"
    }
   ],
   "source": [
    "data[0][:6]"
   ]
  },
  {
   "cell_type": "code",
   "execution_count": 24,
   "metadata": {},
   "outputs": [],
   "source": [
    "R0 = gensim.models.Word2Vec(sentences=data, epochs=25, window=6, vector_size=100)"
   ]
  },
  {
   "cell_type": "code",
   "execution_count": 25,
   "metadata": {},
   "outputs": [
    {
     "data": {
      "text/plain": [
       "[('vehicle', 0.7783134579658508),\n",
       " ('battery', 0.61270672082901),\n",
       " ('dealership', 0.5907988548278809),\n",
       " ('bike', 0.5900876522064209),\n",
       " ('insurance', 0.5317571759223938),\n",
       " ('warranty', 0.5301386117935181),\n",
       " ('company', 0.524592936038971),\n",
       " ('teeth', 0.5224493145942688),\n",
       " ('backyard', 0.5171056985855103),\n",
       " ('mechanic', 0.5154500603675842)]"
      ]
     },
     "execution_count": 25,
     "metadata": {},
     "output_type": "execute_result"
    }
   ],
   "source": [
    "R0.wv.most_similar('car')"
   ]
  },
  {
   "cell_type": "markdown",
   "metadata": {},
   "source": [
    "### Application example: use graph community detection to find aspects"
   ]
  },
  {
   "cell_type": "code",
   "execution_count": 26,
   "metadata": {},
   "outputs": [],
   "source": [
    "import networkx as nx"
   ]
  },
  {
   "cell_type": "code",
   "execution_count": 27,
   "metadata": {},
   "outputs": [
    {
     "data": {
      "application/vnd.jupyter.widget-view+json": {
       "model_id": "a700b19202ee4ce1a0f7e0ceed199601",
       "version_major": 2,
       "version_minor": 0
      },
      "text/plain": [
       "  0%|          | 0/8837 [00:00<?, ?it/s]"
      ]
     },
     "metadata": {},
     "output_type": "display_data"
    }
   ],
   "source": [
    "min_sim = 0.7\n",
    "G = nx.Graph()\n",
    "for word in tqdm(R0.wv.index_to_key):\n",
    "    for match, sim in R0.wv.most_similar(word):\n",
    "        if sim >= min_sim:\n",
    "            G.add_edge(word, match, sim=sim)"
   ]
  },
  {
   "cell_type": "code",
   "execution_count": 28,
   "metadata": {},
   "outputs": [
    {
     "name": "stdout",
     "output_type": "stream",
     "text": [
      "you u {'sim': 0.7822895646095276}\n"
     ]
    }
   ],
   "source": [
    "for a, b, c in G.edges(data=True):\n",
    "    print(a, b, c)\n",
    "    break"
   ]
  },
  {
   "cell_type": "markdown",
   "metadata": {},
   "source": [
    "### Visualize"
   ]
  },
  {
   "cell_type": "code",
   "execution_count": 32,
   "metadata": {},
   "outputs": [],
   "source": [
    "from pyvis.network import Network"
   ]
  },
  {
   "cell_type": "code",
   "execution_count": 40,
   "metadata": {},
   "outputs": [
    {
     "name": "stdout",
     "output_type": "stream",
     "text": [
      "./imgs/word2vec.html\n"
     ]
    }
   ],
   "source": [
    "nt = Network('1500px', '1500px')\n",
    "nt.from_nx(G.subgraph(list(G.nodes)[:100]))\n",
    "nt.show('./imgs/word2vec.html', notebook=False)"
   ]
  },
  {
   "cell_type": "code",
   "execution_count": 41,
   "metadata": {},
   "outputs": [],
   "source": [
    "from sklearn.manifold import TSNE\n",
    "import matplotlib.pyplot as plt \n",
    "import seaborn as sns\n",
    "sns.set_theme(style=\"whitegrid\")"
   ]
  },
  {
   "cell_type": "code",
   "execution_count": 42,
   "metadata": {},
   "outputs": [],
   "source": [
    "tsne = TSNE(n_components=2, perplexity=6)\n",
    "m = []\n",
    "for word in list(G.nodes)[:100]:\n",
    "    v = R0.wv.get_vector(word)\n",
    "    m.append(v)\n",
    "X = tsne.fit_transform(np.array(m))"
   ]
  },
  {
   "cell_type": "code",
   "execution_count": 44,
   "metadata": {},
   "outputs": [
    {
     "data": {
      "image/png": "[encoded data removed]",
      "text/plain": [
       "<Figure size 800x800 with 1 Axes>"
      ]
     },
     "metadata": {},
     "output_type": "display_data"
    }
   ],
   "source": [
    "fig, ax = plt.subplots(figsize=(8, 8), ncols=1)\n",
    "sns.scatterplot(x=X[:,0], y=X[:,1], ax=ax)\n",
    "for j, w in enumerate(list(G.nodes)[:100]):\n",
    "    ax.text(X[j][0], X[j][1], w, fontsize=8)\n",
    "plt.tight_layout()\n",
    "plt.show()"
   ]
  },
  {
   "cell_type": "markdown",
   "metadata": {},
   "source": [
    "### Community detection"
   ]
  },
  {
   "cell_type": "code",
   "execution_count": 45,
   "metadata": {},
   "outputs": [],
   "source": [
    "from networkx.algorithms.community import greedy_modularity_communities"
   ]
  },
  {
   "cell_type": "code",
   "execution_count": 46,
   "metadata": {},
   "outputs": [
    {
     "name": "stdout",
     "output_type": "stream",
     "text": [
      "['onion', 'pistachio', 'icing', 'bisque', 'fig', 'balls', 'almond', 'acidic', 'bean', 'poppers']\n",
      "[\"d'autres\", 'grande', 'pris', 'bien', 'montréal', 'ce', 'aux', 'fixe', 'goût', 'sur']\n",
      "['muss', 'der', 'er', 'wurde', 'einem', 'zur', 'immer', 'auf', 'darauf', 'alles']\n",
      "['quesadilla', 'skirt', 'kalbi', 'brisket', 'enchiladas', 'parm', 'scrambled', 'pork', 'roast', 'chop']\n",
      "['tender', 'bun', 'ripe', 'flakey', 'thin', 'moist', 'tasteless', 'dry', 'thick', 'fluffy']\n",
      "['five', '35', '30-45', '8', '15', '20', 'forty', '2.5', '20-30', 'three']\n",
      "['picked', 'hung', 'elvis', 'pick', 'summed', 'wake', 'signing', 'screwed', 'wound', 'screw']\n",
      "['friendly', 'polite', 'helpful', 'courteous', 'enthusiastic', 'considerate', 'talented', 'responsive', 'knowledgable', 'competent']\n",
      "['mom', 'son', 'co-worker', 'mother', 'bff', 'fiancé', 'dad', 'coworker', 'father', 'boyfriend']\n",
      "['decorated', 'appointed', 'ambiance', 'classy', 'quiet', 'decor', 'neat', 'modern', 'inviting', 'relaxing']\n",
      "['8pm', '7pm', '11pm', '9pm', 'p.m.', 'pm', '5:30', '4pm', '7:30', '3pm']\n",
      "['avid', 'asset', 'addict', 'icon', 'embarrassment', 'assortment', 'annual', 'impromptu', 'ordeal', 'understatement']\n",
      "['az', 'cleveland', 'south', 'scottsdale', 'phoenix', 'montreal', 'pittsburgh', 'city', 'east', 'downtown']\n",
      "['venetian', 'cosmopolitan', 'tower', 'avenue', 'rd', 'st', 'inn', 'monte', '215', 'blvd']\n",
      "['outstanding', 'amazing', 'fabulous', 'fantastic', 'awesome', 'decent', 'superb', 'impeccable', 'good', 'exceptional']\n",
      "['hair', 'shellac', 'pedicure', 'gel', 'toes', 'manicure', 'pedi', 'acrylic', 'mani', 'polish']\n",
      "['pricier', 'bigger', 'cheaper', 'more', 'larger', 'smaller', 'hotter', 'less', 'nicer', 'harder']\n",
      "['week', 'weeks', 'hours', 'yr', 'months', 'yrs', 'year', 'days', 'month', 'years']\n",
      "['thursday', 'tuesday', 'monday', 'friday', 'weekday', 'weekends', 'wednesday', 'saturday', 'sunday', 'weekdays']\n",
      "['fusion', 'indian', 'chinese', 'korean', 'vietnamese', 'filipino', 'mexican', 'japanese', 'asian']\n",
      "['bathroom', 'jacuzzi', 'sinks', 'tub', 'bathtub', 'refrigerator', 'kitchenette', 'shower']\n",
      "['pastries', 'coffees', 'tarts', 'muffins', 'lattes', 'gelato', 'breads', 'fruit']\n",
      "['november', 'june', 'december', '2015', '2014', 'february', 'september', 'april']\n",
      "['might', 'should', \"'d\", 'may', 'will', 'would', \"'ll\"]\n",
      "['handful', 'lot', 'bunch', 'plenty', 'lots', 'ton', 'tons']\n",
      "['iced', 'teas', 'bubble', 'chai', 'tea', 'milk', 'espresso']\n",
      "['several', 'few', 'multiple', 'couple', 'numerous']\n",
      "['favorite', 'fave', 'go-to', 'fav', 'favourite']\n",
      "['establishments', 'places', 'restaurants', 'spots', 'hotels']\n",
      "['seconds', 'mins', 'minutes', 'minute', 'min']\n",
      "['downside', 'drawback', 'criticism', 'complaint', 'downfall']\n",
      "['very', 'incredibly', 'extremely', 'super']\n",
      "['recommend', 'reccommend', 'suggest', 'reccomend']\n",
      "['advised', 'told', 'informed', 'assured']\n",
      "['size', 'sizes', 'portions', 'portion']\n",
      "['disappointed', 'impressed', 'pleased', 'satisfied']\n",
      "['perfection', 'nicely', 'perfectly', 'beautifully']\n",
      "['girl', 'gentleman', 'woman', 'lady']\n",
      "['chairs', 'comfy', 'areas', 'booths']\n",
      "['waitresses', 'servers', 'waiters', 'bartenders']\n",
      "['replied', 'replies', 'mumbled', 'responded']\n",
      "['raves', 'raved', 'raving', 'rave']\n",
      "['intrigued', 'surrounded', 'accompanied', 'floored']\n",
      "['northeast', 'ttc', 'finch', 'yonge']\n",
      "['impression', 'impressions', 'timer', 'foremost']\n",
      "['got', 'shared', 'ordered']\n",
      "['ask', 'asked', 'asking']\n",
      "['brunch', 'dinner', 'lunch']\n",
      "['battery', 'vehicle', 'car']\n",
      "['server', 'waiter', 'waitress']\n",
      "['okay', 'ok', 'alright']\n",
      "['unprofessional', 'rude', 'unfriendly']\n",
      "['fair', 'affordable', 'reasonable']\n",
      "['horrible', 'terrible', 'awful']\n",
      "['seating', 'outdoor', 'indoor']\n",
      "['pillows', 'rooms', 'beds']\n",
      "['located', 'mall', 'plaza']\n",
      "['dental', 'dr.', 'dr']\n",
      "['sauces', 'flavours', 'flavors']\n",
      "['insurance', 'claim', 'warranty']\n",
      "['games', 'televisions', 'tvs']\n",
      "['shout', 'hang', 'hanging']\n",
      "['gon', 'na', 'wan']\n",
      "['varieties', 'types', 'kinds']\n",
      "['layer', 'wrapped', 'soaked']\n",
      "['san', 'francisco', 'diego']\n",
      "['inquired', 'complained', 'confronted']\n",
      "['hip', 'sexy', 'contemporary']\n",
      "['july', 'october', '4th']\n",
      "['container', 'scoop', 'jar']\n",
      "['sweeter', 'spicier', 'thicker']\n",
      "['genuine', 'compassion', 'patients']\n",
      "['wiped', 'upside', 'watered']\n",
      "['splash', 'keurig', 'dash']\n",
      "['hudman', 'gonzales', 'yu']\n",
      "['represented', 'versed', 'executed']\n",
      "['scottish', 'tataki', 'albacore']\n",
      "['u', 'you']\n",
      "['but', 'although']\n",
      "[\"n't\", 'not']\n",
      "['restaurant', 'place']\n",
      "['come', 'go']\n",
      "['been', 'gone']\n",
      "[\"'ve\", 'ive']\n",
      "['worst', 'best']\n",
      "['am', \"'m\"]\n",
      "['want', 'need']\n",
      "['price', 'prices']\n",
      "['something', 'anything']\n",
      "['wo', 'ca']\n",
      "['small', 'large']\n",
      "['stars', 'star']\n",
      "['trip', 'visit']\n",
      "['coworkers', 'friends']\n",
      "['shop', 'store']\n",
      "['highly', 'strongly']\n",
      "['variety', 'selection']\n",
      "['owner', 'manager']\n",
      "['pizzas', 'dishes']\n",
      "['enjoyed', 'loved']\n",
      "['crowded', 'busy']\n",
      "['shaved', 'cream']\n",
      "['hotel', 'casino']\n",
      "['seasoned', 'cooked']\n",
      "['choices', 'options']\n",
      "['imagine', 'tell']\n",
      "['entire', 'whole']\n",
      "['assist', 'help']\n",
      "['third', 'second']\n",
      "['gives', 'makes']\n",
      "['party', 'group']\n",
      "['gorgeous', 'beautiful']\n",
      "['wished', 'wish']\n",
      "['appt', 'appointment']\n",
      "['experienced', 'seen']\n",
      "['pricey', 'expensive']\n",
      "['wings', 'nachos']\n",
      "['employees', 'workers']\n",
      "['appetizer', 'entree']\n",
      "['salsa', 'guacamole']\n",
      "['view', 'views']\n",
      "['afternoon', 'evening']\n",
      "['entrees', 'appetizers']\n",
      "['complaining', 'talking']\n",
      "['stayed', 'dined']\n",
      "['glass', 'bottle']\n",
      "['anywhere', 'somewhere']\n",
      "['problems', 'issues']\n",
      "['clue', 'idea']\n",
      "['bought', 'purchased']\n",
      "['send', 'sent']\n",
      "['turned', 'turns']\n",
      "['mouth', 'melts']\n",
      "['reservations', 'reservation']\n",
      "['craving', 'hankering']\n",
      "['explained', 'listened']\n",
      "['dollars', 'bucks']\n",
      "['includes', 'included']\n",
      "['groupon', 'coupon']\n",
      "['spoke', 'talked']\n",
      "['chada', 'cuisine']\n",
      "['repair', 'auto']\n",
      "['pub', 'diner']\n",
      "['playing', 'played']\n",
      "['ceilings', 'walls']\n",
      "['installed', 'replaced']\n",
      "['decently', 'reasonably']\n",
      "['email', 'message']\n",
      "['orleans', 'york']\n",
      "['emails', 'calls']\n",
      "['reply', 'response']\n",
      "['cheeseburger', 'gyro']\n",
      "['1st', '2nd']\n",
      "['refill', 'refills']\n",
      "['appalled', 'upset']\n",
      "['joe', 'trader']\n",
      "['awkward', 'uncomfortable']\n",
      "['reminds', 'reminded']\n",
      "['wood', 'brick']\n",
      "['boneless', 'buffalo']\n",
      "['upscale', 'intimate']\n",
      "['wifi', 'wi-fi']\n",
      "['manner', 'timely']\n",
      "['http', '\\\\/\\\\/www.youtube.com\\\\/watch']\n",
      "['suggestions', 'recommendations']\n",
      "['mail', 'collections']\n",
      "['expertise', 'knowledge']\n",
      "['suite', 'bedroom']\n",
      "['upgrade', 'exam']\n",
      "['mandalay', 'bay']\n",
      "['wasting', 'wasted']\n",
      "['7th', '3rd']\n",
      "['tends', 'careful']\n",
      "['supporting', 'businesses']\n",
      "['staffed', 'trained']\n",
      "['nestled', 'tucked']\n",
      "['thankful', 'grateful']\n",
      "['lake', 'mead']\n",
      "['stumbled', 'entering']\n",
      "['taiwanese', 'hawaiian']\n",
      "['refilled', 'waters']\n",
      "['centre', 'eaton']\n",
      "['banh', 'mi']\n",
      "['ramsay', 'gordon']\n",
      "['cle', 'chinatown']\n",
      "['chandler', 'gilbert']\n",
      "['hoover', 'dam']\n",
      "['4\\\\/5', '5\\\\/5']\n",
      "['eyebrows', 'lashes']\n",
      "['g', 'jmc']\n",
      "['oz', 'pints']\n",
      "['bang', 'buck']\n",
      "['stew', 'wonton']\n",
      "['tots', 'tater']\n",
      "['maki', 'nigiri']\n",
      "['los', 'angeles']\n",
      "['facials', 'waxing']\n",
      "['decatur', 'ave']\n",
      "['creek', 'cave']\n",
      "['instructed', 'master']\n",
      "['airlines', 'spirit']\n",
      "['miracle', 'forum']\n",
      "['shampoo', 'conditioner']\n",
      "['serrano', 'julian']\n",
      "['carl', 'jr.']\n",
      "['beaten', 'path']\n",
      "['extensions', 'lash']\n",
      "['mitchell', 'graeter']\n",
      "['turf', 'surf']\n",
      "['addicted', 'fanatic']\n",
      "['johns', 'papa']\n",
      "['cora', 'wendy']\n",
      "['kong', 'hong']\n",
      "['moscow', 'mule']\n",
      "['noir', 'pinot']\n",
      "['huevos', 'rancheros']\n",
      "['1-2', '4-5']\n",
      "['complement', 'chilled']\n",
      "['charred', 'plated']\n",
      "['cotta', 'panna']\n",
      "['tahini', 'tamarind']\n",
      "['dal', 'lemongrass']\n",
      "['lotus', 'siam']\n",
      "['e-gift', 'certificate']\n",
      "['walkway', 'pipe']\n",
      "['lowes', 'depot']\n",
      "['chevrolet', 'hendrick']\n",
      "['myun', 'naeng']\n",
      "['tutti', 'matti']\n",
      "['allergic', 'shellfish']\n",
      "['sq', '1800']\n",
      "['dean', 'martin']\n",
      "['graham', 'slush']\n",
      "['2005', 'oregon']\n",
      "['identity', 'crisis']\n",
      "['catherine', 'rue']\n",
      "['karen', 'nicole']\n",
      "['sidewalk', 'performing']\n",
      "['grocers', 'breweries']\n",
      "['krispy', 'kreme']\n",
      "['playground', 'slides']\n",
      "['limes', 'lemons']\n",
      "['lotion', 'applying']\n",
      "['pei', 'wei']\n"
     ]
    }
   ],
   "source": [
    "communities = greedy_modularity_communities(G)\n",
    "for community in communities:\n",
    "    print(list(community)[:10])"
   ]
  },
  {
   "cell_type": "markdown",
   "metadata": {},
   "source": [
    "## Update an existing model\n",
    "Let's create a collection for each category"
   ]
  },
  {
   "cell_type": "code",
   "execution_count": 47,
   "metadata": {},
   "outputs": [],
   "source": [
    "from collections import defaultdict"
   ]
  },
  {
   "cell_type": "code",
   "execution_count": 48,
   "metadata": {},
   "outputs": [],
   "source": [
    "corpora = defaultdict(list)\n",
    "for review in R:\n",
    "    content, categories = review['content'], review['categories']\n",
    "    tokens = [x.lower() for x in word_tokenize(content) if x not in punctuation]\n",
    "    for category in categories:\n",
    "        corpora[category].append(tokens)"
   ]
  },
  {
   "cell_type": "code",
   "execution_count": 49,
   "metadata": {},
   "outputs": [
    {
     "data": {
      "text/plain": [
       "['unbelievable',\n",
       " 'how',\n",
       " 'the',\n",
       " 'employees',\n",
       " 'that',\n",
       " 'work',\n",
       " 'in',\n",
       " 'the',\n",
       " 'front',\n",
       " 'part']"
      ]
     },
     "execution_count": 49,
     "metadata": {},
     "output_type": "execute_result"
    }
   ],
   "source": [
    "corpora['RV Rental'][0][:10]"
   ]
  },
  {
   "cell_type": "markdown",
   "metadata": {},
   "source": [
    "### Update the global model with the local information (i.e., create a model for each category)"
   ]
  },
  {
   "cell_type": "code",
   "execution_count": 50,
   "metadata": {},
   "outputs": [],
   "source": [
    "import copy"
   ]
  },
  {
   "cell_type": "code",
   "execution_count": 51,
   "metadata": {},
   "outputs": [
    {
     "data": {
      "application/vnd.jupyter.widget-view+json": {
       "model_id": "6e4119d10ff54bba8d61c789c1abafa8",
       "version_major": 2,
       "version_minor": 0
      },
      "text/plain": [
       "  0%|          | 0/4 [00:00<?, ?it/s]"
      ]
     },
     "metadata": {},
     "output_type": "display_data"
    }
   ],
   "source": [
    "selected_categories = ['Burgers', 'Indian', 'Italian', 'Seafood']\n",
    "models = {}\n",
    "runs = [(c, d) for c, d in corpora.items() if c in selected_categories]\n",
    "for category, data in tqdm(runs):\n",
    "    models[category] = copy.deepcopy(R0)\n",
    "    models[category].train(data, total_examples=R0.corpus_count, epochs=R0.epochs)"
   ]
  },
  {
   "cell_type": "code",
   "execution_count": 52,
   "metadata": {},
   "outputs": [
    {
     "name": "stdout",
     "output_type": "stream",
     "text": [
      "['Burgers', 'Indian', 'Italian', 'Seafood']\n"
     ]
    }
   ],
   "source": [
    "print(list(models.keys()))"
   ]
  },
  {
   "cell_type": "code",
   "execution_count": 53,
   "metadata": {},
   "outputs": [
    {
     "name": "stdout",
     "output_type": "stream",
     "text": [
      "Burgers ['sushi', 'fare', 'ambiance', 'meal', 'presentation']\n",
      "Indian ['meal', 'sushi', 'pizza', 'fare', 'it']\n",
      "Italian ['consistently', 'sushi', 'meal', 'ambiance', 'atmosphere']\n",
      "Seafood ['foods', 'sushi', 'presentation', 'ambiance', 'fare']\n"
     ]
    }
   ],
   "source": [
    "word = 'food'\n",
    "for cat, m in models.items():\n",
    "    print(cat, [x for x, y in m.wv.most_similar(word, topn=20)][:5])"
   ]
  },
  {
   "cell_type": "markdown",
   "metadata": {},
   "source": [
    "#### Filter common words"
   ]
  },
  {
   "cell_type": "code",
   "execution_count": 54,
   "metadata": {},
   "outputs": [
    {
     "name": "stdout",
     "output_type": "stream",
     "text": [
      "Burgers ['shockingly', 'service', 'pricing', 'margaritas', 'it', 'ambience', 'insanely']\n",
      "Indian ['it', 'service', 'restaurant', 'restaurants', 'drinks', 'beer']\n",
      "Italian ['ambience', 'margaritas', 'waitstaff', 'pricing', 'milkshakes', 'product', 'attentive']\n",
      "Seafood ['waitstaff', 'overall', 'pizzas', 'attentive', 'dishes', 'value', 'meals']\n"
     ]
    }
   ],
   "source": [
    "counter = defaultdict(lambda: 0)\n",
    "for cat, m in models.items():\n",
    "    for x, y in m.wv.most_similar(word, topn=20):\n",
    "        counter[x] += 1\n",
    "for cat, m in models.items():\n",
    "    print(cat, [x for x, y in m.wv.most_similar(word, topn=20) if counter[x] < 3])"
   ]
  },
  {
   "cell_type": "markdown",
   "metadata": {},
   "source": [
    "## Exercise: train a model from wordnet\n",
    "\n",
    "How `word2vec` may be used to disambiguate words and lookup for synsets"
   ]
  },
  {
   "cell_type": "code",
   "execution_count": 55,
   "metadata": {},
   "outputs": [
    {
     "name": "stdout",
     "output_type": "stream",
     "text": [
      "['cat', 'cat.n.01']\n"
     ]
    },
    {
     "data": {
      "text/plain": [
       "[('fish.v.01', 0.33891671895980835),\n",
       " ('shuttle', 0.3145788609981537),\n",
       " ('run_down', 0.29708608984947205),\n",
       " ('solid_food', 0.28112900257110596),\n",
       " ('brail', 0.27431318163871765),\n",
       " ('grownup', 0.27283111214637756),\n",
       " ('pictorial_representation', 0.209917813539505),\n",
       " ('eel.n.01', 0.20881067216396332),\n",
       " ('weenie', 0.2070414274930954),\n",
       " ('hot_dog', 0.19912771880626678)]"
      ]
     },
     "execution_count": 55,
     "metadata": {},
     "output_type": "execute_result"
    }
   ],
   "source": [
    "from nltk.corpus import wordnet as wn\n",
    "import nltk\n",
    "\n",
    "words = ['cat', 'dog', 'bird', 'fish']\n",
    "\n",
    "h = lambda s: s.hypernyms()\n",
    "p = lambda s: s.hyponyms()\n",
    "\n",
    "def get_pseudo_sentences(word, context=3):\n",
    "    sentences = []\n",
    "    for s in wn.synsets(word):\n",
    "        for lemma in s.lemmas():\n",
    "            sentences.append([lemma.name(), s.name()])\n",
    "        for i, j in enumerate(s.closure(h)):\n",
    "            sentences.append([s.name(), j.name()])\n",
    "            for lemma in j.lemmas():\n",
    "                sentences.append([lemma.name(), j.name()])\n",
    "            if i == context:\n",
    "                break\n",
    "        for i, j in enumerate(s.closure(p)):\n",
    "            sentences.append([j.name(), s.name()])\n",
    "            for lemma in j.lemmas():\n",
    "                sentences.append([lemma.name(), j.name()])\n",
    "            if i == context:\n",
    "                break\n",
    "    return sentences\n",
    "\n",
    "sentences = []\n",
    "for w in words:\n",
    "    sentences += get_pseudo_sentences(w)\n",
    "    \n",
    "print(sentences[0])\n",
    "\n",
    "model = Word2Vec(sentences=sentences, vector_size=100, window=5, min_count=1, workers=4)\n",
    "\n",
    "model.wv.most_similar('fish')"
   ]
  },
  {
   "cell_type": "code",
   "execution_count": null,
   "metadata": {},
   "outputs": [],
   "source": []
  }
 ],
 "metadata": {
  "kernelspec": {
   "display_name": "Python 3 (ipykernel)",
   "language": "python",
   "name": "python3"
  },
  "language_info": {
   "codemirror_mode": {
    "name": "ipython",
    "version": 3
   },
   "file_extension": ".py",
   "mimetype": "text/x-python",
   "name": "python",
   "nbconvert_exporter": "python",
   "pygments_lexer": "ipython3",
   "version": "3.9.17"
  },
  "toc": {
   "base_numbering": 1,
   "nav_menu": {},
   "number_sections": true,
   "sideBar": true,
   "skip_h1_title": true,
   "title_cell": "Table of Contents",
   "title_sidebar": "Contents",
   "toc_cell": false,
   "toc_position": {},
   "toc_section_display": true,
   "toc_window_display": false
  }
 },
 "nbformat": 4,
 "nbformat_minor": 2
}
