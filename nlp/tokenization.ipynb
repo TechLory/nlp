{
 "cells": [
  {
   "cell_type": "markdown",
   "metadata": {},
   "source": [
    "### Overview of main methods for tokenization and normalization using `NLTK`, `SpaCy` and `TextBlob`"
   ]
  },
  {
   "cell_type": "code",
   "execution_count": 1,
   "metadata": {},
   "outputs": [],
   "source": [
    "from nlp.data import load_20news"
   ]
  },
  {
   "cell_type": "code",
   "execution_count": 2,
   "metadata": {},
   "outputs": [],
   "source": [
    "data = load_20news()"
   ]
  },
  {
   "cell_type": "code",
   "execution_count": 3,
   "metadata": {},
   "outputs": [
    {
     "name": "stdout",
     "output_type": "stream",
     "text": [
      "\n",
      "\n",
      "I am sure some bashers of Pens fans are pretty confused about the lack\n",
      "of any kind of posts about the recent Pens massacre of the Devils. Actually,\n",
      "I am  bit puzzled too and a bit relieved. However, I am going to put an end\n",
      "to non-PIttsburghers' relief with a bit of praise for the Pens. Man, they\n",
      "are killing those Devils worse than I thought. Jagr just showed you why\n",
      "he is much better than his regular season stats. He is also a lot\n",
      "fo fun to watch in the playoffs. Bowman should let JAgr have a \n",
      "...\n",
      "10 rec.sport.hockey\n"
     ]
    }
   ],
   "source": [
    "print(data.data[0][:500], '\\n...')\n",
    "print(data.target[0], data.target_names[data.target[0]])"
   ]
  },
  {
   "cell_type": "markdown",
   "metadata": {},
   "source": [
    "## Tokenization"
   ]
  },
  {
   "cell_type": "markdown",
   "metadata": {},
   "source": [
    "### NLTK\n",
    "[nltk tokenize](https://www.nltk.org/api/nltk.tokenize.html)"
   ]
  },
  {
   "cell_type": "code",
   "execution_count": 4,
   "metadata": {},
   "outputs": [],
   "source": [
    "from nltk.tokenize import regexp_tokenize, wordpunct_tokenize, blankline_tokenize, word_tokenize, sent_tokenize"
   ]
  },
  {
   "cell_type": "code",
   "execution_count": 5,
   "metadata": {},
   "outputs": [],
   "source": [
    "doc = 1\n",
    "tokenizers = {'regexp': regexp_tokenize, 'wordpunct': wordpunct_tokenize, 'blank': blankline_tokenize, 'word': word_tokenize}\n",
    "tokens = {}\n",
    "for model, tokenizer in tokenizers.items():\n",
    "    if model == 'regexp':\n",
    "        tokens[model] = tokenizer(data.data[doc], r\"\\w+|\\$[\\d\\.]+|\\S+\")\n",
    "    else:\n",
    "        tokens[model] = tokenizer(data.data[doc])"
   ]
  },
  {
   "cell_type": "code",
   "execution_count": 6,
   "metadata": {},
   "outputs": [
    {
     "name": "stdout",
     "output_type": "stream",
     "text": [
      "My brother is in the market for a high-performance video card that supports\n",
      "VESA local bus with 1-2MB RAM.  Does anyone have suggestions/ideas on:\n",
      "\n",
      "  - Diamond Stealth Pro Local Bus\n",
      "\n",
      "  - Orchid Farenheit 1280\n",
      "\n",
      "  - ATI Graphics Ultra Pro\n",
      "\n",
      "  - Any other high-performance VLB card\n",
      "\n",
      "\n",
      "Please post or email.  Thank you!\n",
      "\n",
      "  - Matt\n",
      "\n",
      "regexp     ['My', 'brother', 'is', 'in', 'the', 'market', 'for', 'a', 'high', '-performance', 'video', 'card', 'that', 'supports', 'VESA', 'local', 'bus', 'with', '1', '-2MB']\n",
      "wordpunct  ['My', 'brother', 'is', 'in', 'the', 'market', 'for', 'a', 'high', '-', 'performance', 'video', 'card', 'that', 'supports', 'VESA', 'local', 'bus', 'with', '1']\n",
      "blank      ['My brother is in the market for a high-performance video card that supports\\nVESA local bus with 1-2MB RAM.  Does anyone have suggestions/ideas on:', '- Diamond Stealth Pro Local Bus', '- Orchid Farenheit 1280', '- ATI Graphics Ultra Pro', '- Any other high-performance VLB card', 'Please post or email.  Thank you!', '- Matt\\n']\n",
      "word       ['My', 'brother', 'is', 'in', 'the', 'market', 'for', 'a', 'high-performance', 'video', 'card', 'that', 'supports', 'VESA', 'local', 'bus', 'with', '1-2MB', 'RAM', '.']\n",
      "SENTENCE 1:['My brother is in the market for a high-performance video card that supports\\nVESA local bus with 1-2MB RAM.']\n",
      "SENTENCE 2:['Does anyone have suggestions/ideas on:\\n\\n  - Diamond Stealth Pro Local Bus\\n\\n  - Orchid Farenheit 1280\\n\\n  - ATI Graphics Ultra Pro\\n\\n  - Any other high-performance VLB card\\n\\n\\nPlease post or email.']\n",
      "SENTENCE 3:['Thank you!']\n",
      "SENTENCE 4:['- Matt']\n"
     ]
    }
   ],
   "source": [
    "print(data.data[doc])\n",
    "for model, example in tokens.items():\n",
    "    print(f\"{model:10} {example[:20]}\")\n",
    "    \n",
    "for i, sentence in enumerate(sent_tokenize(data.data[doc])):\n",
    "    print(f\"SENTENCE {i+1}:{[sentence]}\")    "
   ]
  },
  {
   "cell_type": "markdown",
   "metadata": {},
   "source": [
    "## TextBlob\n",
    "[Text Blob](https://textblob.readthedocs.io/en/dev/)"
   ]
  },
  {
   "cell_type": "code",
   "execution_count": 7,
   "metadata": {},
   "outputs": [],
   "source": [
    "from textblob import TextBlob"
   ]
  },
  {
   "cell_type": "code",
   "execution_count": 8,
   "metadata": {},
   "outputs": [
    {
     "name": "stdout",
     "output_type": "stream",
     "text": [
      "['My', 'brother', 'is', 'in', 'the', 'market', 'for', 'a', 'high-performance', 'video', 'card', 'that', 'supports', 'VESA', 'local', 'bus', 'with', '1-2MB', 'RAM', 'Does', 'anyone', 'have', 'suggestions/ideas', 'on', 'Diamond', 'Stealth', 'Pro', 'Local', 'Bus', 'Orchid', 'Farenheit', '1280', 'ATI', 'Graphics', 'Ultra', 'Pro', 'Any', 'other', 'high-performance', 'VLB', 'card', 'Please', 'post', 'or', 'email', 'Thank', 'you', 'Matt']\n",
      "\n",
      "SENTENCE 1:[Sentence(\"My brother is in the market for a high-performance video card that supports\n",
      "VESA local bus with 1-2MB RAM.\")]\n",
      "SENTENCE 2:[Sentence(\"Does anyone have suggestions/ideas on:\n",
      "\n",
      "  - Diamond Stealth Pro Local Bus\n",
      "\n",
      "  - Orchid Farenheit 1280\n",
      "\n",
      "  - ATI Graphics Ultra Pro\n",
      "\n",
      "  - Any other high-performance VLB card\n",
      "\n",
      "\n",
      "Please post or email.\")]\n",
      "SENTENCE 3:[Sentence(\"Thank you!\")]\n",
      "SENTENCE 4:[Sentence(\"- Matt\")]\n"
     ]
    }
   ],
   "source": [
    "blob = TextBlob(data.data[doc])\n",
    "print(blob.words)\n",
    "print()\n",
    "for i, sentence in enumerate(blob.sentences):\n",
    "    print(f\"SENTENCE {i+1}:{[sentence]}\")"
   ]
  },
  {
   "cell_type": "markdown",
   "metadata": {},
   "source": [
    "### SpaCy\n",
    "[SpaCy](https://spacy.io/)"
   ]
  },
  {
   "cell_type": "code",
   "execution_count": 9,
   "metadata": {},
   "outputs": [],
   "source": [
    "import spacy"
   ]
  },
  {
   "cell_type": "code",
   "execution_count": 10,
   "metadata": {},
   "outputs": [],
   "source": [
    "nlp = spacy.load(\"en_core_web_lg\")"
   ]
  },
  {
   "cell_type": "code",
   "execution_count": 11,
   "metadata": {},
   "outputs": [
    {
     "name": "stdout",
     "output_type": "stream",
     "text": [
      "[My, brother, is, in, the, market, for, a, high, -, performance, video, card, that, supports, \n",
      ", VESA, local, bus, with]\n",
      "\n",
      "SENTENCE 1:[My brother is in the market for a high-performance video card that supports\n",
      "VESA local bus with 1-2MB RAM.  ]\n",
      "SENTENCE 2:[Does anyone have suggestions/ideas on:\n",
      "\n",
      "  - Diamond Stealth Pro Local Bus\n",
      "\n",
      "  - Orchid Farenheit 1280\n",
      "\n",
      "  - ATI Graphics Ultra Pro\n",
      "\n",
      "  - Any other high-performance VLB card\n",
      "\n",
      "\n",
      "Please post or email.  ]\n",
      "SENTENCE 3:[Thank you!\n",
      "\n",
      "  - Matt\n",
      "]\n"
     ]
    }
   ],
   "source": [
    "document = nlp(data.data[doc])\n",
    "print(list(document)[:20])\n",
    "print()\n",
    "for i, sentence in enumerate(document.sents):\n",
    "    print(f\"SENTENCE {i+1}:{[sentence]}\")"
   ]
  },
  {
   "cell_type": "markdown",
   "metadata": {},
   "source": [
    "# Frequency"
   ]
  },
  {
   "cell_type": "code",
   "execution_count": 12,
   "metadata": {},
   "outputs": [],
   "source": [
    "import matplotlib.pyplot as plt \n",
    "import seaborn as sns\n",
    "\n",
    "\n",
    "sns.set_theme(style=\"whitegrid\")"
   ]
  },
  {
   "cell_type": "code",
   "execution_count": 13,
   "metadata": {},
   "outputs": [],
   "source": [
    "from nlp.data import frequency"
   ]
  },
  {
   "cell_type": "code",
   "execution_count": 14,
   "metadata": {},
   "outputs": [],
   "source": [
    "tokenizers = {\n",
    "    'whitespace': lambda text: text.split(),\n",
    "    'nltk': lambda text: word_tokenize(text),\n",
    "    'lower': lambda text: [x.lower() for x in word_tokenize(text)]\n",
    "}"
   ]
  },
  {
   "cell_type": "code",
   "execution_count": 15,
   "metadata": {},
   "outputs": [],
   "source": [
    "output = {}\n",
    "for model, tokenizer in tokenizers.items():\n",
    "    output[model] = frequency(data.data, tokenizer=tokenizer)"
   ]
  },
  {
   "cell_type": "code",
   "execution_count": 25,
   "metadata": {},
   "outputs": [
    {
     "data": {
      "text/plain": [
       "305"
      ]
     },
     "execution_count": 25,
     "metadata": {},
     "output_type": "execute_result"
    }
   ],
   "source": [
    "output['whitespace'].sort_values(ascending=False)['well,']"
   ]
  },
  {
   "cell_type": "code",
   "execution_count": 17,
   "metadata": {},
   "outputs": [
    {
     "name": "stdout",
     "output_type": "stream",
     "text": [
      "whitespace 288723 3423145 0.08434436753336479\n",
      "nltk 217350 4766093 0.04560339044999751\n",
      "lower 193266 4766093 0.040550194887090954\n"
     ]
    }
   ],
   "source": [
    "for model, out in output.items():\n",
    "    print(model, out.shape[0], out.sum(), out.shape[0] / out.sum())"
   ]
  },
  {
   "cell_type": "code",
   "execution_count": 18,
   "metadata": {},
   "outputs": [
    {
     "data": {
      "text/plain": [
       "4766093"
      ]
     },
     "execution_count": 18,
     "metadata": {},
     "output_type": "execute_result"
    }
   ],
   "source": [
    "output['nltk'].sum()"
   ]
  },
  {
   "cell_type": "code",
   "execution_count": 21,
   "metadata": {},
   "outputs": [
    {
     "data": {
      "image/png": "[encoded data removed]",
      "text/plain": [
       "<Figure size 1200x400 with 3 Axes>"
      ]
     },
     "metadata": {},
     "output_type": "display_data"
    }
   ],
   "source": [
    "fig, ax = plt.subplots(figsize=(12, 4), ncols=3)\n",
    "for i, (m, o) in enumerate(output.items()):\n",
    "    o = o.sort_values(ascending=False)\n",
    "    sns.lineplot(x=range(o.shape[0]), y=o.values, ax=ax[i])\n",
    "    ax[i].set_yscale('log')\n",
    "    ax[i].set_title(m)\n",
    "plt.tight_layout()\n",
    "plt.show()"
   ]
  },
  {
   "cell_type": "code",
   "execution_count": 32,
   "metadata": {},
   "outputs": [
    {
     "name": "stdout",
     "output_type": "stream",
     "text": [
      "21 -12.332515011945652\n",
      "771 -8.729349076105747\n",
      "103 -10.74230846143944\n",
      "280 -9.742247846499826\n"
     ]
    }
   ],
   "source": [
    "import numpy as np\n",
    "\n",
    "count = lambda word: output['nltk'].sort_values(ascending=False)[word]\n",
    "\n",
    "print(count('Play'), np.log(count('Play') / output['nltk'].sum()))\n",
    "print(count('play'), np.log(count('play') / output['nltk'].sum()))\n",
    "print(count('plays'), np.log(count('plays') / output['nltk'].sum()))\n",
    "print(count('playing'), np.log(count('playing') / output['nltk'].sum()))"
   ]
  },
  {
   "cell_type": "code",
   "execution_count": 37,
   "metadata": {},
   "outputs": [],
   "source": [
    "from spacy.displacy import render"
   ]
  },
  {
   "cell_type": "code",
   "execution_count": 36,
   "metadata": {},
   "outputs": [
    {
     "name": "stdout",
     "output_type": "stream",
     "text": [
      "My my PRON\n",
      "brother brother NOUN\n",
      "is be AUX\n",
      "in in ADP\n",
      "the the DET\n",
      "market market NOUN\n",
      "for for ADP\n",
      "a a DET\n",
      "high high ADJ\n",
      "- - PUNCT\n",
      "performance performance NOUN\n",
      "video video NOUN\n",
      "card card NOUN\n",
      "that that PRON\n",
      "supports support VERB\n",
      "\n",
      " \n",
      " SPACE\n",
      "VESA VESA PROPN\n",
      "local local ADJ\n",
      "bus bus NOUN\n",
      "with with ADP\n",
      "1 1 NUM\n",
      "- - SYM\n",
      "2 2 NUM\n",
      "MB MB PROPN\n",
      "RAM RAM PROPN\n",
      ". . PUNCT\n",
      "    SPACE\n",
      "Does do AUX\n",
      "anyone anyone PRON\n",
      "have have VERB\n",
      "suggestions suggestion NOUN\n",
      "/ / SYM\n",
      "ideas idea NOUN\n",
      "on on ADP\n",
      ": : PUNCT\n",
      "\n",
      "\n",
      "   \n",
      "\n",
      "   SPACE\n",
      "- - PUNCT\n",
      "Diamond Diamond PROPN\n",
      "Stealth Stealth PROPN\n",
      "Pro Pro PROPN\n",
      "Local Local PROPN\n",
      "Bus Bus PROPN\n",
      "\n",
      "\n",
      "   \n",
      "\n",
      "   SPACE\n",
      "- - PUNCT\n",
      "Orchid Orchid PROPN\n",
      "Farenheit Farenheit PROPN\n",
      "1280 1280 NUM\n",
      "\n",
      "\n",
      "   \n",
      "\n",
      "   SPACE\n",
      "- - PUNCT\n",
      "ATI ATI PROPN\n",
      "Graphics Graphics PROPN\n",
      "Ultra Ultra PROPN\n",
      "Pro Pro PROPN\n",
      "\n",
      "\n",
      "   \n",
      "\n",
      "   SPACE\n",
      "- - PUNCT\n",
      "Any any DET\n",
      "other other ADJ\n",
      "high high ADJ\n",
      "- - PUNCT\n",
      "performance performance NOUN\n",
      "VLB VLB PROPN\n",
      "card card NOUN\n",
      "\n",
      "\n",
      "\n",
      " \n",
      "\n",
      "\n",
      " SPACE\n",
      "Please please INTJ\n",
      "post post VERB\n",
      "or or CCONJ\n",
      "email email NOUN\n",
      ". . PUNCT\n",
      "    SPACE\n",
      "Thank thank VERB\n",
      "you you PRON\n",
      "! ! PUNCT\n",
      "\n",
      "\n",
      "   \n",
      "\n",
      "   SPACE\n",
      "- - PUNCT\n",
      "Matt Matt PROPN\n",
      "\n",
      " \n",
      " SPACE\n"
     ]
    }
   ],
   "source": [
    "for token in document:\n",
    "    print(token.text, token.lemma_, token.pos_)\n",
    "    "
   ]
  },
  {
   "cell_type": "code",
   "execution_count": 39,
   "metadata": {},
   "outputs": [
    {
     "data": {
      "text/html": [
       "<span class=\"tex2jax_ignore\"><svg xmlns=\"http://www.w3.org/2000/svg\" xmlns:xlink=\"http://www.w3.org/1999/xlink\" xml:lang=\"en\" id=\"f820e5175c5e4d4eb7965db5310daae5-0\" class=\"displacy\" width=\"1100\" height=\"312.0\" direction=\"ltr\" style=\"max-width: none; height: 312.0px; color: #000000; background: #ffffff; font-family: Arial; direction: ltr\">\n",
       "<text class=\"displacy-token\" fill=\"currentColor\" text-anchor=\"middle\" y=\"222.0\">\n",
       "    <tspan class=\"displacy-word\" fill=\"currentColor\" x=\"50\">the</tspan>\n",
       "    <tspan class=\"displacy-tag\" dy=\"2em\" fill=\"currentColor\" x=\"50\">DET</tspan>\n",
       "</text>\n",
       "\n",
       "<text class=\"displacy-token\" fill=\"currentColor\" text-anchor=\"middle\" y=\"222.0\">\n",
       "    <tspan class=\"displacy-word\" fill=\"currentColor\" x=\"225\">cat</tspan>\n",
       "    <tspan class=\"displacy-tag\" dy=\"2em\" fill=\"currentColor\" x=\"225\">NOUN</tspan>\n",
       "</text>\n",
       "\n",
       "<text class=\"displacy-token\" fill=\"currentColor\" text-anchor=\"middle\" y=\"222.0\">\n",
       "    <tspan class=\"displacy-word\" fill=\"currentColor\" x=\"400\">is</tspan>\n",
       "    <tspan class=\"displacy-tag\" dy=\"2em\" fill=\"currentColor\" x=\"400\">AUX</tspan>\n",
       "</text>\n",
       "\n",
       "<text class=\"displacy-token\" fill=\"currentColor\" text-anchor=\"middle\" y=\"222.0\">\n",
       "    <tspan class=\"displacy-word\" fill=\"currentColor\" x=\"575\">on</tspan>\n",
       "    <tspan class=\"displacy-tag\" dy=\"2em\" fill=\"currentColor\" x=\"575\">ADP</tspan>\n",
       "</text>\n",
       "\n",
       "<text class=\"displacy-token\" fill=\"currentColor\" text-anchor=\"middle\" y=\"222.0\">\n",
       "    <tspan class=\"displacy-word\" fill=\"currentColor\" x=\"750\">the</tspan>\n",
       "    <tspan class=\"displacy-tag\" dy=\"2em\" fill=\"currentColor\" x=\"750\">DET</tspan>\n",
       "</text>\n",
       "\n",
       "<text class=\"displacy-token\" fill=\"currentColor\" text-anchor=\"middle\" y=\"222.0\">\n",
       "    <tspan class=\"displacy-word\" fill=\"currentColor\" x=\"925\">table</tspan>\n",
       "    <tspan class=\"displacy-tag\" dy=\"2em\" fill=\"currentColor\" x=\"925\">NOUN</tspan>\n",
       "</text>\n",
       "\n",
       "<g class=\"displacy-arrow\">\n",
       "    <path class=\"displacy-arc\" id=\"arrow-f820e5175c5e4d4eb7965db5310daae5-0-0\" stroke-width=\"2px\" d=\"M70,177.0 C70,89.5 220.0,89.5 220.0,177.0\" fill=\"none\" stroke=\"currentColor\"/>\n",
       "    <text dy=\"1.25em\" style=\"font-size: 0.8em; letter-spacing: 1px\">\n",
       "        <textPath xlink:href=\"#arrow-f820e5175c5e4d4eb7965db5310daae5-0-0\" class=\"displacy-label\" startOffset=\"50%\" side=\"left\" fill=\"currentColor\" text-anchor=\"middle\">det</textPath>\n",
       "    </text>\n",
       "    <path class=\"displacy-arrowhead\" d=\"M70,179.0 L62,167.0 78,167.0\" fill=\"currentColor\"/>\n",
       "</g>\n",
       "\n",
       "<g class=\"displacy-arrow\">\n",
       "    <path class=\"displacy-arc\" id=\"arrow-f820e5175c5e4d4eb7965db5310daae5-0-1\" stroke-width=\"2px\" d=\"M245,177.0 C245,89.5 395.0,89.5 395.0,177.0\" fill=\"none\" stroke=\"currentColor\"/>\n",
       "    <text dy=\"1.25em\" style=\"font-size: 0.8em; letter-spacing: 1px\">\n",
       "        <textPath xlink:href=\"#arrow-f820e5175c5e4d4eb7965db5310daae5-0-1\" class=\"displacy-label\" startOffset=\"50%\" side=\"left\" fill=\"currentColor\" text-anchor=\"middle\">nsubj</textPath>\n",
       "    </text>\n",
       "    <path class=\"displacy-arrowhead\" d=\"M245,179.0 L237,167.0 253,167.0\" fill=\"currentColor\"/>\n",
       "</g>\n",
       "\n",
       "<g class=\"displacy-arrow\">\n",
       "    <path class=\"displacy-arc\" id=\"arrow-f820e5175c5e4d4eb7965db5310daae5-0-2\" stroke-width=\"2px\" d=\"M420,177.0 C420,89.5 570.0,89.5 570.0,177.0\" fill=\"none\" stroke=\"currentColor\"/>\n",
       "    <text dy=\"1.25em\" style=\"font-size: 0.8em; letter-spacing: 1px\">\n",
       "        <textPath xlink:href=\"#arrow-f820e5175c5e4d4eb7965db5310daae5-0-2\" class=\"displacy-label\" startOffset=\"50%\" side=\"left\" fill=\"currentColor\" text-anchor=\"middle\">prep</textPath>\n",
       "    </text>\n",
       "    <path class=\"displacy-arrowhead\" d=\"M570.0,179.0 L578.0,167.0 562.0,167.0\" fill=\"currentColor\"/>\n",
       "</g>\n",
       "\n",
       "<g class=\"displacy-arrow\">\n",
       "    <path class=\"displacy-arc\" id=\"arrow-f820e5175c5e4d4eb7965db5310daae5-0-3\" stroke-width=\"2px\" d=\"M770,177.0 C770,89.5 920.0,89.5 920.0,177.0\" fill=\"none\" stroke=\"currentColor\"/>\n",
       "    <text dy=\"1.25em\" style=\"font-size: 0.8em; letter-spacing: 1px\">\n",
       "        <textPath xlink:href=\"#arrow-f820e5175c5e4d4eb7965db5310daae5-0-3\" class=\"displacy-label\" startOffset=\"50%\" side=\"left\" fill=\"currentColor\" text-anchor=\"middle\">det</textPath>\n",
       "    </text>\n",
       "    <path class=\"displacy-arrowhead\" d=\"M770,179.0 L762,167.0 778,167.0\" fill=\"currentColor\"/>\n",
       "</g>\n",
       "\n",
       "<g class=\"displacy-arrow\">\n",
       "    <path class=\"displacy-arc\" id=\"arrow-f820e5175c5e4d4eb7965db5310daae5-0-4\" stroke-width=\"2px\" d=\"M595,177.0 C595,2.0 925.0,2.0 925.0,177.0\" fill=\"none\" stroke=\"currentColor\"/>\n",
       "    <text dy=\"1.25em\" style=\"font-size: 0.8em; letter-spacing: 1px\">\n",
       "        <textPath xlink:href=\"#arrow-f820e5175c5e4d4eb7965db5310daae5-0-4\" class=\"displacy-label\" startOffset=\"50%\" side=\"left\" fill=\"currentColor\" text-anchor=\"middle\">pobj</textPath>\n",
       "    </text>\n",
       "    <path class=\"displacy-arrowhead\" d=\"M925.0,179.0 L933.0,167.0 917.0,167.0\" fill=\"currentColor\"/>\n",
       "</g>\n",
       "</svg></span>"
      ],
      "text/plain": [
       "<IPython.core.display.HTML object>"
      ]
     },
     "metadata": {},
     "output_type": "display_data"
    }
   ],
   "source": [
    "render(nlp(\"the cat is on the table\"))"
   ]
  },
  {
   "cell_type": "code",
   "execution_count": null,
   "metadata": {},
   "outputs": [],
   "source": []
  }
 ],
 "metadata": {
  "kernelspec": {
   "display_name": "nlp",
   "language": "python",
   "name": "python3"
  },
  "language_info": {
   "codemirror_mode": {
    "name": "ipython",
    "version": 3
   },
   "file_extension": ".py",
   "mimetype": "text/x-python",
   "name": "python",
   "nbconvert_exporter": "python",
   "pygments_lexer": "ipython3",
   "version": "3.9.17"
  }
 },
 "nbformat": 4,
 "nbformat_minor": 2
}
