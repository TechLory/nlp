{
 "cells": [
  {
   "cell_type": "markdown",
   "id": "cd2eac68",
   "metadata": {},
   "source": [
    "# Example of a classification task using RNN\n",
    "\n",
    "For a similar example, see also:\n",
    "\n",
    "> NLP FROM SCRATCH: CLASSIFYING NAMES WITH A CHARACTER-LEVEL RNN\n",
    "by Sean Robertson on [pytorch](https://pytorch.org/tutorials/intermediate/char_rnn_classification_tutorial.html)"
   ]
  },
  {
   "cell_type": "markdown",
   "id": "70111409",
   "metadata": {},
   "source": [
    "## Data task\n",
    "We work on a collection of dates represented with different formats. The task is to associate each date with the correct month, in spite of the date format."
   ]
  },
  {
   "cell_type": "code",
   "execution_count": 1,
   "id": "2960cfcb",
   "metadata": {},
   "outputs": [],
   "source": [
    "import pandas as pd\n",
    "import numpy as np\n",
    "from tqdm.notebook import tqdm"
   ]
  },
  {
   "cell_type": "code",
   "execution_count": 2,
   "id": "7fda0057",
   "metadata": {},
   "outputs": [],
   "source": [
    "data = pd.read_csv('/Users/flint/GitHub/textsent/insights/data/rome_dates.csv', index_col=0)"
   ]
  },
  {
   "cell_type": "code",
   "execution_count": 3,
   "id": "4b710459",
   "metadata": {},
   "outputs": [
    {
     "data": {
      "text/html": [
       "<div>\n",
       "<style scoped>\n",
       "    .dataframe tbody tr th:only-of-type {\n",
       "        vertical-align: middle;\n",
       "    }\n",
       "\n",
       "    .dataframe tbody tr th {\n",
       "        vertical-align: top;\n",
       "    }\n",
       "\n",
       "    .dataframe thead th {\n",
       "        text-align: right;\n",
       "    }\n",
       "</style>\n",
       "<table border=\"1\" class=\"dataframe\">\n",
       "  <thead>\n",
       "    <tr style=\"text-align: right;\">\n",
       "      <th></th>\n",
       "      <th>text</th>\n",
       "      <th>target</th>\n",
       "      <th>day</th>\n",
       "      <th>month</th>\n",
       "      <th>year</th>\n",
       "      <th>temperature</th>\n",
       "      <th>temperature_class</th>\n",
       "    </tr>\n",
       "  </thead>\n",
       "  <tbody>\n",
       "    <tr>\n",
       "      <th>0</th>\n",
       "      <td>01-01-1960</td>\n",
       "      <td>1960-01-01</td>\n",
       "      <td>1</td>\n",
       "      <td>1</td>\n",
       "      <td>1960</td>\n",
       "      <td>3.638</td>\n",
       "      <td>1</td>\n",
       "    </tr>\n",
       "    <tr>\n",
       "      <th>1</th>\n",
       "      <td>01/01/1960</td>\n",
       "      <td>1960-01-01</td>\n",
       "      <td>1</td>\n",
       "      <td>1</td>\n",
       "      <td>1960</td>\n",
       "      <td>3.638</td>\n",
       "      <td>1</td>\n",
       "    </tr>\n",
       "    <tr>\n",
       "      <th>2</th>\n",
       "      <td>01.01.1960</td>\n",
       "      <td>1960-01-01</td>\n",
       "      <td>1</td>\n",
       "      <td>1</td>\n",
       "      <td>1960</td>\n",
       "      <td>3.638</td>\n",
       "      <td>1</td>\n",
       "    </tr>\n",
       "    <tr>\n",
       "      <th>3</th>\n",
       "      <td>01/01/1960</td>\n",
       "      <td>1960-01-01</td>\n",
       "      <td>1</td>\n",
       "      <td>1</td>\n",
       "      <td>1960</td>\n",
       "      <td>3.638</td>\n",
       "      <td>1</td>\n",
       "    </tr>\n",
       "    <tr>\n",
       "      <th>4</th>\n",
       "      <td>01.01.1960</td>\n",
       "      <td>1960-01-01</td>\n",
       "      <td>1</td>\n",
       "      <td>1</td>\n",
       "      <td>1960</td>\n",
       "      <td>3.638</td>\n",
       "      <td>1</td>\n",
       "    </tr>\n",
       "    <tr>\n",
       "      <th>5</th>\n",
       "      <td>Fri 01, Jan 1960</td>\n",
       "      <td>1960-01-01</td>\n",
       "      <td>1</td>\n",
       "      <td>1</td>\n",
       "      <td>1960</td>\n",
       "      <td>3.638</td>\n",
       "      <td>1</td>\n",
       "    </tr>\n",
       "    <tr>\n",
       "      <th>6</th>\n",
       "      <td>Jan 01, 1960</td>\n",
       "      <td>1960-01-01</td>\n",
       "      <td>1</td>\n",
       "      <td>1</td>\n",
       "      <td>1960</td>\n",
       "      <td>3.638</td>\n",
       "      <td>1</td>\n",
       "    </tr>\n",
       "    <tr>\n",
       "      <th>7</th>\n",
       "      <td>Fri 01, January 1960</td>\n",
       "      <td>1960-01-01</td>\n",
       "      <td>1</td>\n",
       "      <td>1</td>\n",
       "      <td>1960</td>\n",
       "      <td>3.638</td>\n",
       "      <td>1</td>\n",
       "    </tr>\n",
       "    <tr>\n",
       "      <th>8</th>\n",
       "      <td>1960/01/01</td>\n",
       "      <td>1960-01-01</td>\n",
       "      <td>1</td>\n",
       "      <td>1</td>\n",
       "      <td>1960</td>\n",
       "      <td>3.638</td>\n",
       "      <td>1</td>\n",
       "    </tr>\n",
       "    <tr>\n",
       "      <th>9</th>\n",
       "      <td>1960 January 01</td>\n",
       "      <td>1960-01-01</td>\n",
       "      <td>1</td>\n",
       "      <td>1</td>\n",
       "      <td>1960</td>\n",
       "      <td>3.638</td>\n",
       "      <td>1</td>\n",
       "    </tr>\n",
       "    <tr>\n",
       "      <th>10</th>\n",
       "      <td>1960 Jan 01</td>\n",
       "      <td>1960-01-01</td>\n",
       "      <td>1</td>\n",
       "      <td>1</td>\n",
       "      <td>1960</td>\n",
       "      <td>3.638</td>\n",
       "      <td>1</td>\n",
       "    </tr>\n",
       "    <tr>\n",
       "      <th>11</th>\n",
       "      <td>02-01-1960</td>\n",
       "      <td>1960-01-02</td>\n",
       "      <td>2</td>\n",
       "      <td>1</td>\n",
       "      <td>1960</td>\n",
       "      <td>3.638</td>\n",
       "      <td>1</td>\n",
       "    </tr>\n",
       "    <tr>\n",
       "      <th>12</th>\n",
       "      <td>02/01/1960</td>\n",
       "      <td>1960-01-02</td>\n",
       "      <td>2</td>\n",
       "      <td>1</td>\n",
       "      <td>1960</td>\n",
       "      <td>3.638</td>\n",
       "      <td>1</td>\n",
       "    </tr>\n",
       "    <tr>\n",
       "      <th>13</th>\n",
       "      <td>02.01.1960</td>\n",
       "      <td>1960-01-02</td>\n",
       "      <td>2</td>\n",
       "      <td>1</td>\n",
       "      <td>1960</td>\n",
       "      <td>3.638</td>\n",
       "      <td>1</td>\n",
       "    </tr>\n",
       "    <tr>\n",
       "      <th>14</th>\n",
       "      <td>01/02/1960</td>\n",
       "      <td>1960-01-02</td>\n",
       "      <td>2</td>\n",
       "      <td>1</td>\n",
       "      <td>1960</td>\n",
       "      <td>3.638</td>\n",
       "      <td>1</td>\n",
       "    </tr>\n",
       "    <tr>\n",
       "      <th>15</th>\n",
       "      <td>01.02.1960</td>\n",
       "      <td>1960-01-02</td>\n",
       "      <td>2</td>\n",
       "      <td>1</td>\n",
       "      <td>1960</td>\n",
       "      <td>3.638</td>\n",
       "      <td>1</td>\n",
       "    </tr>\n",
       "    <tr>\n",
       "      <th>16</th>\n",
       "      <td>Sat 02, Jan 1960</td>\n",
       "      <td>1960-01-02</td>\n",
       "      <td>2</td>\n",
       "      <td>1</td>\n",
       "      <td>1960</td>\n",
       "      <td>3.638</td>\n",
       "      <td>1</td>\n",
       "    </tr>\n",
       "    <tr>\n",
       "      <th>17</th>\n",
       "      <td>Jan 02, 1960</td>\n",
       "      <td>1960-01-02</td>\n",
       "      <td>2</td>\n",
       "      <td>1</td>\n",
       "      <td>1960</td>\n",
       "      <td>3.638</td>\n",
       "      <td>1</td>\n",
       "    </tr>\n",
       "    <tr>\n",
       "      <th>18</th>\n",
       "      <td>Sat 02, January 1960</td>\n",
       "      <td>1960-01-02</td>\n",
       "      <td>2</td>\n",
       "      <td>1</td>\n",
       "      <td>1960</td>\n",
       "      <td>3.638</td>\n",
       "      <td>1</td>\n",
       "    </tr>\n",
       "    <tr>\n",
       "      <th>19</th>\n",
       "      <td>1960/01/02</td>\n",
       "      <td>1960-01-02</td>\n",
       "      <td>2</td>\n",
       "      <td>1</td>\n",
       "      <td>1960</td>\n",
       "      <td>3.638</td>\n",
       "      <td>1</td>\n",
       "    </tr>\n",
       "  </tbody>\n",
       "</table>\n",
       "</div>"
      ],
      "text/plain": [
       "                    text      target  day  month  year  temperature  \\\n",
       "0             01-01-1960  1960-01-01    1      1  1960        3.638   \n",
       "1             01/01/1960  1960-01-01    1      1  1960        3.638   \n",
       "2             01.01.1960  1960-01-01    1      1  1960        3.638   \n",
       "3             01/01/1960  1960-01-01    1      1  1960        3.638   \n",
       "4             01.01.1960  1960-01-01    1      1  1960        3.638   \n",
       "5       Fri 01, Jan 1960  1960-01-01    1      1  1960        3.638   \n",
       "6           Jan 01, 1960  1960-01-01    1      1  1960        3.638   \n",
       "7   Fri 01, January 1960  1960-01-01    1      1  1960        3.638   \n",
       "8             1960/01/01  1960-01-01    1      1  1960        3.638   \n",
       "9        1960 January 01  1960-01-01    1      1  1960        3.638   \n",
       "10           1960 Jan 01  1960-01-01    1      1  1960        3.638   \n",
       "11            02-01-1960  1960-01-02    2      1  1960        3.638   \n",
       "12            02/01/1960  1960-01-02    2      1  1960        3.638   \n",
       "13            02.01.1960  1960-01-02    2      1  1960        3.638   \n",
       "14            01/02/1960  1960-01-02    2      1  1960        3.638   \n",
       "15            01.02.1960  1960-01-02    2      1  1960        3.638   \n",
       "16      Sat 02, Jan 1960  1960-01-02    2      1  1960        3.638   \n",
       "17          Jan 02, 1960  1960-01-02    2      1  1960        3.638   \n",
       "18  Sat 02, January 1960  1960-01-02    2      1  1960        3.638   \n",
       "19            1960/01/02  1960-01-02    2      1  1960        3.638   \n",
       "\n",
       "    temperature_class  \n",
       "0                   1  \n",
       "1                   1  \n",
       "2                   1  \n",
       "3                   1  \n",
       "4                   1  \n",
       "5                   1  \n",
       "6                   1  \n",
       "7                   1  \n",
       "8                   1  \n",
       "9                   1  \n",
       "10                  1  \n",
       "11                  1  \n",
       "12                  1  \n",
       "13                  1  \n",
       "14                  1  \n",
       "15                  1  \n",
       "16                  1  \n",
       "17                  1  \n",
       "18                  1  \n",
       "19                  1  "
      ]
     },
     "execution_count": 3,
     "metadata": {},
     "output_type": "execute_result"
    }
   ],
   "source": [
    "data.head(20)"
   ]
  },
  {
   "cell_type": "markdown",
   "id": "189bc62d",
   "metadata": {},
   "source": [
    "### Get a subset of dates with month names"
   ]
  },
  {
   "cell_type": "code",
   "execution_count": 4,
   "id": "55dedf34",
   "metadata": {},
   "outputs": [],
   "source": [
    "from datetime import datetime"
   ]
  },
  {
   "cell_type": "code",
   "execution_count": 5,
   "id": "f86580a3",
   "metadata": {},
   "outputs": [],
   "source": [
    "selected_months = ['January', 'February', 'March', 'April', 'May', 'June', 'July', 'August', 'September', \n",
    "                'October', 'November', 'December']\n",
    "date_list, month_list, dates_list = data.text.values, data.month.values, data.target.values\n",
    "dataset = []\n",
    "for i, d in enumerate(date_list):\n",
    "    for m in selected_months:\n",
    "        if m in d:\n",
    "#            dt = datetime.strptime(dates_list[i], '%Y-%m-%d')\n",
    "            parts = d.split(m)\n",
    "            dataset.append((\"{}{}\".format(parts[0], m), month_list[i]))\n",
    "            break"
   ]
  },
  {
   "cell_type": "code",
   "execution_count": 6,
   "id": "9db953aa",
   "metadata": {},
   "outputs": [
    {
     "data": {
      "text/plain": [
       "[('Fri 01, January', 1),\n",
       " ('1960 January', 1),\n",
       " ('Sat 02, January', 1),\n",
       " ('1960 January', 1),\n",
       " ('Sun 03, January', 1),\n",
       " ('1960 January', 1)]"
      ]
     },
     "execution_count": 6,
     "metadata": {},
     "output_type": "execute_result"
    }
   ],
   "source": [
    "dataset[:6]"
   ]
  },
  {
   "cell_type": "markdown",
   "id": "829cde50",
   "metadata": {},
   "source": [
    "## Prepare data\n",
    "In this example, we read each date (text) as a **sequence of chars** represented according to the one-hot encoding scheme."
   ]
  },
  {
   "cell_type": "code",
   "execution_count": 7,
   "id": "5dc60b3a",
   "metadata": {},
   "outputs": [],
   "source": [
    "import string\n",
    "import torch"
   ]
  },
  {
   "cell_type": "markdown",
   "id": "5955b664",
   "metadata": {},
   "source": [
    "### Date strings to PyTorch tensors"
   ]
  },
  {
   "cell_type": "code",
   "execution_count": 8,
   "id": "6b1e78c7",
   "metadata": {},
   "outputs": [],
   "source": [
    "alphabet = string.ascii_letters + string.digits + \" -./,\""
   ]
  },
  {
   "cell_type": "code",
   "execution_count": 9,
   "id": "e60c5d72",
   "metadata": {},
   "outputs": [],
   "source": [
    "def date2tensor(date_text):\n",
    "    tensor = torch.zeros(len(date_text), 1, len(alphabet))\n",
    "    for i, char in enumerate(date_text):\n",
    "        tensor[i][0][alphabet.find(char)] = 1\n",
    "    return tensor\n",
    "\n",
    "def tensor2date(date_tensor):\n",
    "    return \"\".join([alphabet[x] for x in torch.nonzero(date_tensor)[:,2]])"
   ]
  },
  {
   "cell_type": "markdown",
   "id": "2dc94c83",
   "metadata": {},
   "source": [
    "#### Example"
   ]
  },
  {
   "cell_type": "code",
   "execution_count": 10,
   "id": "b0329814",
   "metadata": {},
   "outputs": [],
   "source": [
    "dt = date2tensor('Sun 03, January')\n",
    "td = tensor2date(dt)"
   ]
  },
  {
   "cell_type": "code",
   "execution_count": 11,
   "id": "74afa9d2",
   "metadata": {},
   "outputs": [
    {
     "data": {
      "text/plain": [
       "torch.Size([15, 1, 67])"
      ]
     },
     "execution_count": 11,
     "metadata": {},
     "output_type": "execute_result"
    }
   ],
   "source": [
    "dt.size()"
   ]
  },
  {
   "cell_type": "code",
   "execution_count": 12,
   "id": "56b52e8e",
   "metadata": {},
   "outputs": [
    {
     "data": {
      "text/plain": [
       "tensor([[[0., 0., 0., 0., 0., 0., 0., 0., 0., 0., 0., 0., 0., 0., 0., 0., 0.,\n",
       "          0., 0., 0., 0., 0., 0., 0., 0., 0., 0., 0., 0., 0., 0., 0., 0., 0.,\n",
       "          0., 0., 0., 0., 0., 0., 0., 0., 0., 0., 1., 0., 0., 0., 0., 0., 0.,\n",
       "          0., 0., 0., 0., 0., 0., 0., 0., 0., 0., 0., 0., 0., 0., 0., 0.]],\n",
       "\n",
       "        [[0., 0., 0., 0., 0., 0., 0., 0., 0., 0., 0., 0., 0., 0., 0., 0., 0.,\n",
       "          0., 0., 0., 1., 0., 0., 0., 0., 0., 0., 0., 0., 0., 0., 0., 0., 0.,\n",
       "          0., 0., 0., 0., 0., 0., 0., 0., 0., 0., 0., 0., 0., 0., 0., 0., 0.,\n",
       "          0., 0., 0., 0., 0., 0., 0., 0., 0., 0., 0., 0., 0., 0., 0., 0.]]])"
      ]
     },
     "execution_count": 12,
     "metadata": {},
     "output_type": "execute_result"
    }
   ],
   "source": [
    "dt[:2]"
   ]
  },
  {
   "cell_type": "code",
   "execution_count": 13,
   "id": "08c8ff86",
   "metadata": {},
   "outputs": [
    {
     "data": {
      "text/plain": [
       "'Sun 03, January'"
      ]
     },
     "execution_count": 13,
     "metadata": {},
     "output_type": "execute_result"
    }
   ],
   "source": [
    "td"
   ]
  },
  {
   "cell_type": "markdown",
   "id": "703f738b",
   "metadata": {},
   "source": [
    "## RNN network structure\n",
    "\n",
    "![rnn](../data/rnn.png)"
   ]
  },
  {
   "cell_type": "code",
   "execution_count": 14,
   "id": "a759f3f5",
   "metadata": {},
   "outputs": [],
   "source": [
    "import torch.nn as nn"
   ]
  },
  {
   "cell_type": "code",
   "execution_count": 15,
   "id": "9a326b2f",
   "metadata": {},
   "outputs": [],
   "source": [
    "class RNN(nn.Module):\n",
    "    def __init__(self, input_size, hidden_size, output_size):\n",
    "        super(RNN, self).__init__()\n",
    "        self.hidden_size = hidden_size\n",
    "        self.i2h = nn.Linear(input_size + hidden_size, hidden_size)\n",
    "        self.i2o = nn.Linear(input_size + hidden_size, output_size)\n",
    "        self.softmax = nn.LogSoftmax(dim=1)\n",
    "\n",
    "    def forward(self, input_tensor, hidden):\n",
    "        combined = torch.cat((input_tensor, hidden), 1)\n",
    "        hidden = self.i2h(combined)\n",
    "        output = self.i2o(combined)\n",
    "        output = self.softmax(output)\n",
    "        return output, hidden\n",
    "\n",
    "    def init_hidden(self):\n",
    "        return torch.zeros(1, self.hidden_size)"
   ]
  },
  {
   "cell_type": "code",
   "execution_count": 16,
   "id": "b7ba1985",
   "metadata": {},
   "outputs": [],
   "source": [
    "hidden_size = 20\n",
    "rnn = RNN(len(alphabet), hidden_size, len(selected_months))"
   ]
  },
  {
   "cell_type": "markdown",
   "id": "3068d5bd",
   "metadata": {},
   "source": [
    "### Forward step"
   ]
  },
  {
   "cell_type": "code",
   "execution_count": 17,
   "id": "8de6fbb5",
   "metadata": {},
   "outputs": [],
   "source": [
    "date_tensor = date2tensor('Sun 03, January')\n",
    "hidden_tensor = rnn.init_hidden()"
   ]
  },
  {
   "cell_type": "code",
   "execution_count": 18,
   "id": "19c12dd9",
   "metadata": {},
   "outputs": [
    {
     "data": {
      "text/plain": [
       "tensor([[0., 0., 0., 0., 0., 0., 0., 0., 0., 0., 0., 0., 0., 0., 0., 0., 0., 0., 0., 0.]])"
      ]
     },
     "execution_count": 18,
     "metadata": {},
     "output_type": "execute_result"
    }
   ],
   "source": [
    "hidden_tensor"
   ]
  },
  {
   "cell_type": "code",
   "execution_count": 19,
   "id": "26c7e3db",
   "metadata": {},
   "outputs": [
    {
     "name": "stdout",
     "output_type": "stream",
     "text": [
      "tensor([[0., 0., 0., 0., 0., 0., 0., 0., 0., 0., 0., 0., 0., 0., 0., 0., 0., 0., 0., 0.]])\n",
      "tensor([[ 0.0825, -0.1085,  0.1363, -0.0747, -0.0598,  0.0144,  0.0550,  0.0249,\n",
      "          0.1763,  0.1049,  0.1674,  0.1164, -0.1378, -0.1454, -0.0669, -0.0968,\n",
      "          0.1491, -0.0699,  0.1035, -0.0516]], grad_fn=<AddmmBackward0>)\n",
      "tensor([[ 6.7424e-02, -2.7910e-02,  1.1062e-01, -1.0839e-01, -3.6102e-02,\n",
      "         -1.9075e-02,  8.7800e-02,  2.2504e-02,  1.3163e-01,  2.1337e-01,\n",
      "          9.9528e-02,  1.3607e-01,  2.7340e-02, -1.1752e-01, -8.7903e-02,\n",
      "         -2.8534e-02,  1.0355e-01, -1.0969e-01,  2.4327e-02, -2.0353e-04]],\n",
      "       grad_fn=<AddmmBackward0>)\n",
      "tensor([[ 0.0552,  0.0349,  0.1648, -0.0358, -0.0365,  0.0636,  0.2139,  0.0934,\n",
      "          0.0612,  0.0257, -0.0047,  0.0639, -0.0343,  0.0233, -0.0414, -0.1130,\n",
      "          0.0335, -0.0646,  0.1657, -0.0709]], grad_fn=<AddmmBackward0>)\n",
      "tensor([[-0.0594, -0.1377,  0.1845, -0.0437,  0.0130,  0.0114,  0.1621,  0.0666,\n",
      "          0.0064,  0.1226,  0.1831,  0.0633, -0.0950, -0.0602, -0.0786, -0.0017,\n",
      "          0.0551, -0.1706,  0.1593, -0.1361]], grad_fn=<AddmmBackward0>)\n",
      "tensor([[ 0.0764,  0.0080,  0.0959, -0.0773, -0.0379,  0.1202,  0.1850,  0.0149,\n",
      "          0.1569,  0.1484,  0.1273,  0.2235, -0.1513, -0.0072,  0.0495, -0.0143,\n",
      "         -0.0218, -0.1236,  0.0488, -0.1249]], grad_fn=<AddmmBackward0>)\n",
      "tensor([[ 0.0892, -0.0646,  0.1287,  0.1204, -0.1140,  0.0234,  0.1773,  0.0655,\n",
      "          0.1316, -0.0040,  0.1667,  0.1976, -0.1443, -0.0375,  0.0413, -0.1460,\n",
      "          0.0528, -0.1035,  0.1658, -0.0074]], grad_fn=<AddmmBackward0>)\n",
      "tensor([[-0.0999, -0.0131,  0.1725, -0.0671,  0.0128,  0.1023,  0.0337,  0.1716,\n",
      "          0.0643,  0.1446,  0.1414,  0.0434, -0.1559, -0.0204,  0.0156, -0.1323,\n",
      "         -0.0045, -0.0041,  0.1206, -0.1802]], grad_fn=<AddmmBackward0>)\n",
      "tensor([[-0.0280, -0.1517,  0.1531, -0.0235, -0.0069,  0.0307,  0.1799,  0.0822,\n",
      "         -0.0233,  0.1031,  0.1696,  0.0960, -0.0775, -0.1028, -0.0882, -0.0146,\n",
      "          0.0725, -0.1633,  0.1478, -0.1453]], grad_fn=<AddmmBackward0>)\n",
      "tensor([[-0.0413, -0.0757,  0.0950, -0.0806, -0.0423,  0.1170,  0.1330, -0.0495,\n",
      "         -0.0190, -0.0197,  0.1827,  0.1003, -0.1797, -0.0378,  0.0289, -0.1522,\n",
      "          0.0569, -0.1618,  0.1466, -0.0817]], grad_fn=<AddmmBackward0>)\n",
      "tensor([[ 0.0348, -0.1349,  0.1451,  0.0141,  0.0085, -0.0180,  0.0437,  0.1042,\n",
      "          0.1029,  0.0444,  0.1063,  0.0038, -0.0662, -0.0030,  0.0464, -0.1474,\n",
      "          0.0887,  0.0142,  0.1240,  0.0417]], grad_fn=<AddmmBackward0>)\n",
      "tensor([[ 0.0146, -0.0085,  0.1448, -0.0587, -0.0734,  0.0785,  0.2077,  0.1380,\n",
      "          0.0751,  0.0243,  0.0566,  0.0420, -0.0509,  0.0299, -0.0516, -0.1224,\n",
      "          0.0688, -0.0344,  0.1673, -0.0883]], grad_fn=<AddmmBackward0>)\n",
      "tensor([[ 0.0700, -0.0322,  0.1156, -0.1145, -0.0651, -0.0402,  0.0522,  0.0346,\n",
      "          0.1488,  0.2246,  0.1396,  0.1577,  0.0058, -0.0697, -0.0527, -0.0356,\n",
      "          0.0924, -0.0913, -0.0183,  0.0280]], grad_fn=<AddmmBackward0>)\n",
      "tensor([[-0.0020, -0.0928,  0.1471,  0.0096, -0.0053, -0.0243,  0.0298,  0.0370,\n",
      "          0.1255,  0.0666,  0.0671, -0.0108, -0.0617, -0.0064,  0.0310, -0.1103,\n",
      "          0.0794, -0.0182,  0.1151,  0.0229]], grad_fn=<AddmmBackward0>)\n",
      "tensor([[-0.0765, -0.1757,  0.1252,  0.0728, -0.0947,  0.1019,  0.1191,  0.1686,\n",
      "          0.1037,  0.1123,  0.0955,  0.1830, -0.0957, -0.1273,  0.0191, -0.1055,\n",
      "          0.0840, -0.0762,  0.1649, -0.0884]], grad_fn=<AddmmBackward0>)\n"
     ]
    }
   ],
   "source": [
    "for row in date_tensor:\n",
    "    print(hidden_tensor)\n",
    "    output, next_hidden = rnn(row, hidden_tensor)\n",
    "    hidden_tensor = next_hidden\n"
   ]
  },
  {
   "cell_type": "code",
   "execution_count": 20,
   "id": "dabc8be8",
   "metadata": {},
   "outputs": [
    {
     "data": {
      "text/plain": [
       "5"
      ]
     },
     "execution_count": 20,
     "metadata": {},
     "output_type": "execute_result"
    }
   ],
   "source": [
    "np.argmax(output.detach().numpy())"
   ]
  },
  {
   "cell_type": "code",
   "execution_count": 21,
   "id": "8b10e6b3",
   "metadata": {},
   "outputs": [
    {
     "data": {
      "text/plain": [
       "tensor([[-2.4070, -2.5009, -2.5754, -2.5743, -2.4728, -2.3826, -2.4075, -2.4369,\n",
       "         -2.5455, -2.5502, -2.4049, -2.5946]], grad_fn=<LogSoftmaxBackward0>)"
      ]
     },
     "execution_count": 21,
     "metadata": {},
     "output_type": "execute_result"
    }
   ],
   "source": [
    "output"
   ]
  },
  {
   "cell_type": "code",
   "execution_count": 22,
   "id": "b1ad7307",
   "metadata": {},
   "outputs": [
    {
     "data": {
      "text/plain": [
       "tensor([[ 0.0249, -0.1473, -0.0350, -0.1075, -0.1006,  0.0002,  0.0174,  0.1886,\n",
       "          0.1672,  0.1859,  0.1785,  0.0293, -0.1710, -0.1102, -0.0599, -0.0271,\n",
       "          0.0929, -0.0340,  0.0397, -0.1242]], grad_fn=<AddmmBackward0>)"
      ]
     },
     "execution_count": 22,
     "metadata": {},
     "output_type": "execute_result"
    }
   ],
   "source": [
    "next_hidden"
   ]
  },
  {
   "cell_type": "markdown",
   "id": "c7eb689f",
   "metadata": {},
   "source": [
    "## Training"
   ]
  },
  {
   "cell_type": "code",
   "execution_count": 23,
   "id": "a752be13",
   "metadata": {},
   "outputs": [],
   "source": [
    "def output2month(output):\n",
    "    top_n, top_i = output.topk(1)\n",
    "    return selected_months[top_i[0].item()]"
   ]
  },
  {
   "cell_type": "code",
   "execution_count": 24,
   "id": "4fe2fe79",
   "metadata": {},
   "outputs": [
    {
     "data": {
      "text/plain": [
       "'June'"
      ]
     },
     "execution_count": 24,
     "metadata": {},
     "output_type": "execute_result"
    }
   ],
   "source": [
    "output2month(output)"
   ]
  },
  {
   "cell_type": "markdown",
   "id": "dd68f7dd",
   "metadata": {},
   "source": [
    "### Create a training data generator"
   ]
  },
  {
   "cell_type": "code",
   "execution_count": 25,
   "id": "8dccacf3",
   "metadata": {},
   "outputs": [],
   "source": [
    "def create_training():\n",
    "    date_string, month = dataset[np.random.choice(range(len(dataset)))]\n",
    "    date_tensor = date2tensor(date_string)\n",
    "    target_tensor = torch.tensor([month-1], dtype=torch.long)\n",
    "    return date_tensor, target_tensor, date_string, month"
   ]
  },
  {
   "cell_type": "code",
   "execution_count": 26,
   "id": "18ae9b4d",
   "metadata": {},
   "outputs": [
    {
     "name": "stdout",
     "output_type": "stream",
     "text": [
      "tensor([9]) 1981 October 10\n"
     ]
    }
   ],
   "source": [
    "input_t, target, date_string, month = create_training()\n",
    "print(target, date_string, month)"
   ]
  },
  {
   "cell_type": "markdown",
   "id": "a8bb58c5",
   "metadata": {},
   "source": [
    "### Training"
   ]
  },
  {
   "cell_type": "code",
   "execution_count": 27,
   "id": "5a8e45a4",
   "metadata": {},
   "outputs": [],
   "source": [
    "loss_function = nn.NLLLoss()\n",
    "learning_rate = 0.005"
   ]
  },
  {
   "cell_type": "code",
   "execution_count": 28,
   "id": "f66e8328",
   "metadata": {},
   "outputs": [],
   "source": [
    "def train(target_tensor, date_tensor):\n",
    "    hidden = rnn.init_hidden()\n",
    "    rnn.zero_grad()\n",
    "    for i in range(date_tensor.size()[0]):\n",
    "        output, hidden = rnn(date_tensor[i], hidden)\n",
    "    loss = loss_function(output, target_tensor)\n",
    "    loss.backward()\n",
    "    # Add parameters' gradients to their values, multiplied by learning rate\n",
    "    for p in rnn.parameters():\n",
    "        p.data.add_(p.grad.data, alpha=-learning_rate)\n",
    "    return output, loss.item()"
   ]
  },
  {
   "cell_type": "markdown",
   "id": "445f2404",
   "metadata": {},
   "source": [
    "#### Example"
   ]
  },
  {
   "cell_type": "code",
   "execution_count": 29,
   "id": "5bd481d8",
   "metadata": {},
   "outputs": [],
   "source": [
    "date_tensor, target_tensor, date_text, month = create_training()\n",
    "output, loss = train(target_tensor, date_tensor)"
   ]
  },
  {
   "cell_type": "code",
   "execution_count": 30,
   "id": "7bca210a",
   "metadata": {},
   "outputs": [
    {
     "data": {
      "text/plain": [
       "2.586009979248047"
      ]
     },
     "execution_count": 30,
     "metadata": {},
     "output_type": "execute_result"
    }
   ],
   "source": [
    "loss"
   ]
  },
  {
   "cell_type": "code",
   "execution_count": 31,
   "id": "688ed540",
   "metadata": {},
   "outputs": [
    {
     "name": "stdout",
     "output_type": "stream",
     "text": [
      "1992 October\n",
      "1992 October\n",
      "March\n"
     ]
    }
   ],
   "source": [
    "print(date_text)\n",
    "print(tensor2date(date_tensor))\n",
    "print(output2month(output))"
   ]
  },
  {
   "cell_type": "markdown",
   "id": "4fcef3b5",
   "metadata": {},
   "source": [
    "### Training with more data"
   ]
  },
  {
   "cell_type": "code",
   "execution_count": 32,
   "id": "d0c3fdd5",
   "metadata": {},
   "outputs": [],
   "source": [
    "hidden_size = 128\n",
    "rnn = RNN(len(alphabet), hidden_size, len(selected_months))"
   ]
  },
  {
   "cell_type": "code",
   "execution_count": 33,
   "id": "a16f3c63",
   "metadata": {},
   "outputs": [
    {
     "data": {
      "application/vnd.jupyter.widget-view+json": {
       "model_id": "37c01348d5424c8b86883d603ddeed7c",
       "version_major": 2,
       "version_minor": 0
      },
      "text/plain": [
       "  0%|          | 0/3000 [00:00<?, ?it/s]"
      ]
     },
     "metadata": {},
     "output_type": "display_data"
    }
   ],
   "source": [
    "epochs = 3000\n",
    "error_history = []\n",
    "run = list(enumerate(range(epochs)))\n",
    "e = 0\n",
    "log_period = 50\n",
    "\n",
    "for i, epoch in tqdm(run):\n",
    "    date_tensor, target_tensor, date_text, month = create_training()\n",
    "    output, loss = train(target_tensor, date_tensor)\n",
    "    e += loss\n",
    "    if i > 0 and i % log_period == 0:\n",
    "        error_history.append(e / log_period)\n",
    "        e = 0"
   ]
  },
  {
   "cell_type": "markdown",
   "id": "bd0193cd",
   "metadata": {},
   "source": [
    "#### Plot error rate"
   ]
  },
  {
   "cell_type": "code",
   "execution_count": 34,
   "id": "4a21fdb2",
   "metadata": {},
   "outputs": [],
   "source": [
    "import matplotlib.pyplot as plt"
   ]
  },
  {
   "cell_type": "code",
   "execution_count": 35,
   "id": "9c494895",
   "metadata": {},
   "outputs": [
    {
     "data": {
      "image/png": "[encoded data removed]",
      "text/plain": [
       "<Figure size 1200x400 with 1 Axes>"
      ]
     },
     "metadata": {},
     "output_type": "display_data"
    }
   ],
   "source": [
    "fig, ax = plt.subplots(figsize=(12, 4))\n",
    "ax.plot(error_history)\n",
    "plt.tight_layout()\n",
    "plt.show()"
   ]
  },
  {
   "cell_type": "markdown",
   "id": "72e06060",
   "metadata": {},
   "source": [
    "## Test and evaluate"
   ]
  },
  {
   "cell_type": "markdown",
   "id": "a1205ddd",
   "metadata": {},
   "source": [
    "### Test"
   ]
  },
  {
   "cell_type": "code",
   "execution_count": 36,
   "id": "1cde301f",
   "metadata": {},
   "outputs": [],
   "source": [
    "def predict(date_text):\n",
    "    hidden = rnn.init_hidden()\n",
    "    date_tensor = date2tensor(date_text)\n",
    "    for char_tensor in date_tensor:\n",
    "        output, hidden = rnn(char_tensor, hidden)\n",
    "    return output\n",
    "\n",
    "def output2month(output):\n",
    "    return int(output.argmax() + 1)"
   ]
  },
  {
   "cell_type": "code",
   "execution_count": 37,
   "id": "03b3f5b0",
   "metadata": {},
   "outputs": [
    {
     "data": {
      "text/plain": [
       "2"
      ]
     },
     "execution_count": 37,
     "metadata": {},
     "output_type": "execute_result"
    }
   ],
   "source": [
    "output2month(predict('Tue 27, February'))"
   ]
  },
  {
   "cell_type": "code",
   "execution_count": 38,
   "id": "d71afc4d",
   "metadata": {},
   "outputs": [
    {
     "name": "stdout",
     "output_type": "stream",
     "text": [
      "Fri 14, November month is 12\n",
      "Fri 13, March month is 3\n",
      "1983 June month is 6\n",
      "Tue 29, December month is 12\n",
      "1999 February month is 2\n",
      "Mon 12, June month is 6\n",
      "1980 May month is 5\n",
      "Thu 15, October month is 10\n",
      "1963 August month is 8\n",
      "Sat 06, May month is 5\n"
     ]
    }
   ],
   "source": [
    "sample = np.random.choice([x for x, y in dataset], 10)\n",
    "for d in sample:\n",
    "    print(d, \"month is\", output2month(predict(d)))"
   ]
  },
  {
   "cell_type": "code",
   "execution_count": 39,
   "id": "0b4ee629",
   "metadata": {},
   "outputs": [
    {
     "data": {
      "text/plain": [
       "12"
      ]
     },
     "execution_count": 39,
     "metadata": {},
     "output_type": "execute_result"
    }
   ],
   "source": [
    "output2month(predict('Christmass is on December'))"
   ]
  },
  {
   "cell_type": "code",
   "execution_count": 40,
   "id": "125960c7",
   "metadata": {},
   "outputs": [
    {
     "data": {
      "text/plain": [
       "4"
      ]
     },
     "execution_count": 40,
     "metadata": {},
     "output_type": "execute_result"
    }
   ],
   "source": [
    "output2month(predict('3012 ril'))"
   ]
  },
  {
   "cell_type": "markdown",
   "id": "5f1eedcf",
   "metadata": {},
   "source": [
    "### Evaluate"
   ]
  },
  {
   "cell_type": "code",
   "execution_count": 41,
   "id": "dd883f55",
   "metadata": {},
   "outputs": [],
   "source": [
    "from sklearn.metrics import classification_report, confusion_matrix, ConfusionMatrixDisplay"
   ]
  },
  {
   "cell_type": "code",
   "execution_count": 42,
   "id": "37808dae",
   "metadata": {},
   "outputs": [],
   "source": [
    "y_true, y_pred = [], []\n",
    "for i in range(2000):\n",
    "    date_tensor, target_tensor, date_text, month = create_training()\n",
    "    y_true.append(selected_months[month-1])\n",
    "    p = output2month(predict(date_text))\n",
    "    y_pred.append(selected_months[p-1])"
   ]
  },
  {
   "cell_type": "code",
   "execution_count": 43,
   "id": "631ad76e",
   "metadata": {},
   "outputs": [
    {
     "name": "stdout",
     "output_type": "stream",
     "text": [
      "              precision    recall  f1-score   support\n",
      "\n",
      "       April       1.00      1.00      1.00       140\n",
      "      August       1.00      1.00      1.00       156\n",
      "    December       0.48      1.00      0.65       137\n",
      "    February       1.00      1.00      1.00       130\n",
      "     January       1.00      1.00      1.00       160\n",
      "        July       1.00      1.00      1.00       145\n",
      "        June       1.00      1.00      1.00       135\n",
      "       March       1.00      1.00      1.00       159\n",
      "         May       1.00      1.00      1.00       380\n",
      "    November       1.00      0.02      0.04       153\n",
      "     October       0.53      1.00      0.69       162\n",
      "   September       0.00      0.00      0.00       143\n",
      "\n",
      "    accuracy                           0.85      2000\n",
      "   macro avg       0.83      0.83      0.78      2000\n",
      "weighted avg       0.85      0.85      0.81      2000\n",
      "\n"
     ]
    }
   ],
   "source": [
    "print(classification_report(y_true, y_pred, zero_division=0))"
   ]
  },
  {
   "cell_type": "code",
   "execution_count": 44,
   "id": "05d34f4c",
   "metadata": {},
   "outputs": [],
   "source": [
    "cm = confusion_matrix(y_true, y_pred, labels=selected_months)"
   ]
  },
  {
   "cell_type": "code",
   "execution_count": 45,
   "id": "f4533965",
   "metadata": {},
   "outputs": [
    {
     "data": {
      "image/png": "[encoded data removed]",
      "text/plain": [
       "<Figure size 1200x800 with 2 Axes>"
      ]
     },
     "metadata": {},
     "output_type": "display_data"
    }
   ],
   "source": [
    "fig, ax = plt.subplots(figsize=(12, 8))\n",
    "dis = ConfusionMatrixDisplay(cm, display_labels=selected_months)\n",
    "dis.plot(ax=ax, cmap='Greens', xticks_rotation='vertical')\n",
    "plt.tight_layout()\n",
    "plt.show()"
   ]
  },
  {
   "cell_type": "code",
   "execution_count": null,
   "id": "c3a64ce0",
   "metadata": {},
   "outputs": [],
   "source": []
  }
 ],
 "metadata": {
  "kernelspec": {
   "display_name": "nlp",
   "language": "python",
   "name": "python3"
  },
  "language_info": {
   "codemirror_mode": {
    "name": "ipython",
    "version": 3
   },
   "file_extension": ".py",
   "mimetype": "text/x-python",
   "name": "python",
   "nbconvert_exporter": "python",
   "pygments_lexer": "ipython3",
   "version": "3.9.17"
  },
  "toc": {
   "base_numbering": 1,
   "nav_menu": {},
   "number_sections": true,
   "sideBar": true,
   "skip_h1_title": false,
   "title_cell": "Table of Contents",
   "title_sidebar": "Contents",
   "toc_cell": false,
   "toc_position": {},
   "toc_section_display": true,
   "toc_window_display": false
  }
 },
 "nbformat": 4,
 "nbformat_minor": 5
}
