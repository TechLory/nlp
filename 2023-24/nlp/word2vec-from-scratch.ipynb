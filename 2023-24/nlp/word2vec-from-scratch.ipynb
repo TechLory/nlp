{
 "cells": [
  {
   "cell_type": "code",
   "execution_count": 72,
   "metadata": {},
   "outputs": [],
   "source": [
    "import re\n",
    "import numpy as np\n",
    "import pandas as pd\n",
    "from termcolor import colored\n",
    "from collections import Counter\n",
    "from multiprocessing import Pool # waning: it will raise exception if executed in notebook\n",
    "from nltk.corpus import stopwords"
   ]
  },
  {
   "cell_type": "code",
   "execution_count": 73,
   "metadata": {},
   "outputs": [],
   "source": [
    "from tqdm.notebook import tqdm"
   ]
  },
  {
   "cell_type": "code",
   "execution_count": 74,
   "metadata": {},
   "outputs": [],
   "source": [
    "sw = stopwords.words('english')"
   ]
  },
  {
   "cell_type": "markdown",
   "metadata": {},
   "source": [
    "# Text from sentences\n",
    "Example of sentences are taken from `20 newsgroup`"
   ]
  },
  {
   "cell_type": "code",
   "execution_count": 75,
   "metadata": {},
   "outputs": [],
   "source": [
    "import nltk\n",
    "from sklearn.datasets import fetch_20newsgroups"
   ]
  },
  {
   "cell_type": "code",
   "execution_count": 76,
   "metadata": {},
   "outputs": [],
   "source": [
    "train = fetch_20newsgroups(data_home=\"/Users/flint/Data/sklearn/\", subset='train', \n",
    "                        remove=('headers', 'footers', 'quotes'),\n",
    "                        categories=['rec.sport.baseball'])"
   ]
  },
  {
   "cell_type": "code",
   "execution_count": 77,
   "metadata": {},
   "outputs": [],
   "source": [
    "sentences = []\n",
    "for doc in train.data:\n",
    "    for s in nltk.tokenize.sent_tokenize(doc):\n",
    "        sentences.append(s.lower())"
   ]
  },
  {
   "cell_type": "code",
   "execution_count": 78,
   "metadata": {},
   "outputs": [
    {
     "data": {
      "text/plain": [
       "'\\nmaybe it\\'s just me, but the combination of those *young* faces peeking out\\nfrom under oversized aqua helmets screams \"little league\" in every fibre of\\nmy being...'"
      ]
     },
     "execution_count": 78,
     "metadata": {},
     "output_type": "execute_result"
    }
   ],
   "source": [
    "sentences[0]"
   ]
  },
  {
   "cell_type": "markdown",
   "metadata": {},
   "source": [
    "# One-hot encoding\n",
    "Many current NLP systems and techniques treat words as atomic\n",
    "units - there is no notion of similarity between words, as these are\n",
    "represented as indices in a vocabulary\n",
    "(Mikolov et al., 2013)\n",
    "\n",
    "\n",
    "Suppose that the number of different words in the vocabulary (the vocabulary size) is $V$. To obtain the one-hot vector representation for any word with index $i$, we create a length-$V$ vector with all $0$ s and set the element at position $i$ to $1$"
   ]
  },
  {
   "cell_type": "code",
   "execution_count": 79,
   "metadata": {},
   "outputs": [],
   "source": [
    "from nltk.tokenize import word_tokenize"
   ]
  },
  {
   "cell_type": "code",
   "execution_count": 80,
   "metadata": {},
   "outputs": [],
   "source": [
    "corpus = sentences\n",
    "V = set()\n",
    "for sentence in corpus:\n",
    "    for word in word_tokenize(sentence):\n",
    "        V.add(word)\n",
    "V = list(V)"
   ]
  },
  {
   "cell_type": "code",
   "execution_count": 81,
   "metadata": {},
   "outputs": [
    {
     "name": "stdout",
     "output_type": "stream",
     "text": [
      "\u001b[1mVocab size:\u001b[0m 8723\n"
     ]
    }
   ],
   "source": [
    "# example\n",
    "print(colored('Vocab size:', attrs=['bold']), len(V))"
   ]
  },
  {
   "cell_type": "code",
   "execution_count": 82,
   "metadata": {},
   "outputs": [
    {
     "data": {
      "text/plain": [
       "1597"
      ]
     },
     "execution_count": 82,
     "metadata": {},
     "output_type": "execute_result"
    }
   ],
   "source": [
    "V.index('suppose')"
   ]
  },
  {
   "cell_type": "code",
   "execution_count": 83,
   "metadata": {},
   "outputs": [],
   "source": [
    "def one_hot_encoding(V, word) -> np.array:\n",
    "    \"\"\"Return one-hot encoding\n",
    "    \n",
    "    Args:\n",
    "        V(list): Vocabulary, i.e., word list.\n",
    "        word: word in the vocabulary.\n",
    "    Returns:\n",
    "        one_hot_encoding(np.array)\n",
    "    \"\"\"\n",
    "    vec = np.zeros(len(V))\n",
    "    vec[V.index(word)] = 1.0\n",
    "    return vec"
   ]
  },
  {
   "cell_type": "code",
   "execution_count": 85,
   "metadata": {},
   "outputs": [
    {
     "name": "stdout",
     "output_type": "stream",
     "text": [
      "\u001b[1mOne-hot Encoding\u001b[0m supportive: [0. 1. 0. ... 0. 0. 0.]\n",
      "\u001b[1mOne-hot Encoding\u001b[0m miserable: [0. 0. 0. ... 0. 0. 0.]\n"
     ]
    }
   ],
   "source": [
    "# example\n",
    "word1, word2 = V[1], V[3]\n",
    "vec1, vec2 = one_hot_encoding(V, word1), one_hot_encoding(V, word2)\n",
    "\n",
    "print(f\"{colored('One-hot Encoding', attrs=['bold'])} {word1}:\", vec1)\n",
    "print(f\"{colored('One-hot Encoding', attrs=['bold'])} {word2}:\", vec2)   "
   ]
  },
  {
   "cell_type": "markdown",
   "metadata": {},
   "source": [
    "One-hot encoded vectors are orthonormal. <br/>\n",
    "\n",
    "For vectors $x, y \\in \\mathbb{R}^V$ with $x\\ne y$, their _similarity_ is always $0$. \n",
    "\n",
    "On the contrary, for vectors $x, y \\in \\mathbb{R}^V$ with $x = y$, their _similarity_ is always $1$.\n",
    "\n",
    "\\begin{equation*}\n",
    "\\frac{x^T \\ y}{\\|x\\| \\ \\|y\\|} \\in \\{0, 1\\}\n",
    "\\end{equation*}"
   ]
  },
  {
   "cell_type": "code",
   "execution_count": 86,
   "metadata": {},
   "outputs": [],
   "source": [
    "def cosine_similarity(vec1: np.array, vec2: np.array) -> float:\n",
    "    \"\"\"Return cosine similarity between two vectors\n",
    "    \n",
    "    Args:\n",
    "        vec1(np.array): vector 1.\n",
    "        vec2(np.array): vector 2.\n",
    "    Returns:\n",
    "        cosine similarity\n",
    "    \"\"\"\n",
    "    return np.dot(vec1, vec2)/(np.linalg.norm(vec1)*np.linalg.norm(vec2))"
   ]
  },
  {
   "cell_type": "code",
   "execution_count": 87,
   "metadata": {},
   "outputs": [
    {
     "name": "stdout",
     "output_type": "stream",
     "text": [
      "\u001b[1mCosine similarity (\u001b[0msupportive, miserable\u001b[1m)\u001b[0m: 0.0\n",
      "\u001b[1mCosine similarity (\u001b[0mmiserable, supportive\u001b[1m)\u001b[0m: 0.0\n",
      "\u001b[1mCosine similarity (\u001b[0msupportive, supportive\u001b[1m)\u001b[0m: 1.0\n",
      "\u001b[1mCosine similarity (\u001b[0mmiserable, miserable\u001b[1m)\u001b[0m: 1.0\n"
     ]
    }
   ],
   "source": [
    "# example \n",
    "print(f\"{colored('Cosine similarity (', attrs=['bold'])}{word1}, {word2}{colored(')', attrs=['bold'])}:\", \n",
    "      cosine_similarity(vec1, vec2))\n",
    "print(f\"{colored('Cosine similarity (', attrs=['bold'])}{word2}, {word1}{colored(')', attrs=['bold'])}:\", \n",
    "      cosine_similarity(vec2, vec1))\n",
    "print(f\"{colored('Cosine similarity (', attrs=['bold'])}{word1}, {word1}{colored(')', attrs=['bold'])}:\", \n",
    "      cosine_similarity(vec1, vec1))\n",
    "print(f\"{colored('Cosine similarity (', attrs=['bold'])}{word2}, {word2}{colored(')', attrs=['bold'])}:\", \n",
    "      cosine_similarity(vec2, vec2))"
   ]
  },
  {
   "cell_type": "code",
   "execution_count": 88,
   "metadata": {},
   "outputs": [],
   "source": [
    "v_play = one_hot_encoding(V, 'play')\n",
    "v_game = one_hot_encoding(V, 'game')"
   ]
  },
  {
   "cell_type": "code",
   "execution_count": 89,
   "metadata": {},
   "outputs": [
    {
     "data": {
      "text/plain": [
       "0.0"
      ]
     },
     "execution_count": 89,
     "metadata": {},
     "output_type": "execute_result"
    }
   ],
   "source": [
    "cosine_similarity(v_play, v_game)"
   ]
  },
  {
   "cell_type": "markdown",
   "metadata": {},
   "source": [
    "# Word2Vec: semantic word representations"
   ]
  },
  {
   "cell_type": "markdown",
   "metadata": {},
   "source": [
    "Word2Vec maps each word to a **low-dimensional continuous vector**, in a way that words that have similar meaning have similar representations.\n",
    "\t\n",
    "Word2Vec is based on a simple but efficient *feed-forward* neural architecture which is trained with language modeling objective. \n",
    "\n",
    "Word2Vec consists of two different architectures: __Skip-gram__ and __Continuous Bag-of-Words__ (CBOW)."
   ]
  },
  {
   "cell_type": "markdown",
   "metadata": {},
   "source": [
    "## Generating variables"
   ]
  },
  {
   "cell_type": "code",
   "execution_count": 18,
   "metadata": {},
   "outputs": [],
   "source": [
    "import string"
   ]
  },
  {
   "cell_type": "code",
   "execution_count": 19,
   "metadata": {},
   "outputs": [],
   "source": [
    "tokens = [[x for x in word_tokenize(t) if x not in sw and x not in string.punctuation] for t in corpus]"
   ]
  },
  {
   "cell_type": "code",
   "execution_count": 20,
   "metadata": {},
   "outputs": [
    {
     "name": "stdout",
     "output_type": "stream",
     "text": [
      "\u001b[1mText:\u001b[0m\n",
      "finally, i throw all this into a a formula i call defensive contribution, or\n",
      "dcon :->.\n",
      "\n",
      "\u001b[1mTokens:\u001b[0m\n",
      "['finally', 'throw', 'formula', 'call', 'defensive', 'contribution', 'dcon']\n"
     ]
    }
   ],
   "source": [
    "# example\n",
    "print(colored('Text:', attrs=['bold']))\n",
    "print(corpus[20], end='\\n\\n')\n",
    "\n",
    "print(colored('Tokens:', attrs=['bold']))\n",
    "print(tokens[20])"
   ]
  },
  {
   "cell_type": "code",
   "execution_count": 21,
   "metadata": {},
   "outputs": [],
   "source": [
    "def build_vocab(token_batches, min_count=15) -> dict:\n",
    "    '''Build vocabulary and filter rare words.\n",
    "    \n",
    "    Args:\n",
    "        token_batches(list): Token batches.\n",
    "        min_count(int, optional, default=15): Minimum frequency threshold.\n",
    "    Returns:\n",
    "        vocab(dict): Dictionary containing token and frequencies.\n",
    "    '''\n",
    "    \n",
    "    counts = Counter([token for tokens in token_batches for token in tokens])\n",
    "    vocab = list(counts.keys())\n",
    "    vocab = {k:v for k, v in counts.items() if v > min_count} # Filtering\n",
    "    return vocab\n",
    "\n",
    "vocab = build_vocab(tokens, min_count=10)\n",
    "vocab_size = len(vocab)"
   ]
  },
  {
   "cell_type": "code",
   "execution_count": 22,
   "metadata": {},
   "outputs": [
    {
     "name": "stdout",
     "output_type": "stream",
     "text": [
      "\u001b[1mVocab size:\u001b[0m 824 \n",
      "\n",
      "\u001b[1mVocab(word, frequency):\u001b[0m \n",
      "  ...,\n",
      " '7': 76,\n",
      " '70': 12,\n",
      " '8': 36,\n",
      " '80': 14,\n",
      " '89': 11,\n",
      " '9': 47,\n",
      " '92': 12,\n",
      "  ...\n"
     ]
    }
   ],
   "source": [
    "# example\n",
    "print(colored('Vocab size:', attrs=['bold']), vocab_size, '\\n')\n",
    "print(colored('Vocab(word, frequency):', attrs=['bold']), \n",
    "      f\"\\n  ..., {str({k: vocab[k] for k in sorted(vocab)[100:107]})[1:-1]},  ...\".replace(',', ',\\n'))"
   ]
  },
  {
   "cell_type": "code",
   "execution_count": 23,
   "metadata": {},
   "outputs": [],
   "source": [
    "def mapping(vocab: list) -> tuple:\n",
    "    '''\n",
    "    Generate mapping dictionaries.\n",
    "    \n",
    "    Args:\n",
    "        vocab(dict): Dictionary containing token and frequencies.\n",
    "    Returns:\n",
    "        token_to_id(dict): Mapping token -> id. \n",
    "        id_to_token(dict): Mapping id -> token. \n",
    "    '''\n",
    "    token_to_id = dict()\n",
    "    id_to_token = dict()\n",
    "\n",
    "    for i, token in enumerate(vocab):\n",
    "        token_to_id[token] = i\n",
    "        id_to_token[i] = token\n",
    "\n",
    "    return token_to_id, id_to_token\n",
    "\n",
    "token_to_id, id_to_token = mapping(vocab)"
   ]
  },
  {
   "cell_type": "code",
   "execution_count": 24,
   "metadata": {},
   "outputs": [
    {
     "name": "stdout",
     "output_type": "stream",
     "text": [
      "\u001b[1mRecord\u001b[0m\n",
      "345 : pitch\n"
     ]
    }
   ],
   "source": [
    "# example\n",
    "print(colored('Record', attrs=['bold']))\n",
    "print(token_to_id['pitch'],':', id_to_token[token_to_id['pitch']])"
   ]
  },
  {
   "cell_type": "markdown",
   "metadata": {},
   "source": [
    "## Generating training samples"
   ]
  },
  {
   "cell_type": "code",
   "execution_count": 25,
   "metadata": {},
   "outputs": [],
   "source": [
    "def one_hot_encoding(token_id, vocab_size) -> np.array:\n",
    "    '''Return one-hot encoding\n",
    "    \n",
    "    Args:\n",
    "        token_id(int): Token id.\n",
    "        vocab_size(int): Number of token in the dictionary.\n",
    "    Returns:\n",
    "        one_hot_encoding(np.array)\n",
    "    '''\n",
    "    vec = np.zeros(vocab_size)\n",
    "    vec[token_id] = 1.0\n",
    "    return vec"
   ]
  },
  {
   "cell_type": "code",
   "execution_count": 26,
   "metadata": {},
   "outputs": [],
   "source": [
    "def generate_training_samples(tokens: list, token_to_id: dict, id_to_token: dict, window:int=3) -> list:\n",
    "    '''Generate training examples for word2vec algorithm.\n",
    "    \n",
    "    Args:\n",
    "        tokens(list): Batch of tokens.\n",
    "        token_to_id(dict): Mapping token -> id.\n",
    "        id_to_token(dict): Mapping id -> token.\n",
    "        window(int, optional, default=5): Number of left and right context words for each target word.\n",
    "    \n",
    "    Returns:\n",
    "        examples(list).\n",
    "    '''\n",
    "    \n",
    "    examples = list()\n",
    "    n_tokens = len(tokens)\n",
    "\n",
    "    for i in range(n_tokens):\n",
    "        if tokens[i] not in token_to_id: continue\n",
    "            \n",
    "        target = token_to_id[tokens[i]]\n",
    "        new_examples = list()\n",
    "\n",
    "        for j in range(1, window+2):\n",
    "            # right context\n",
    "            if i + j < len(tokens):\n",
    "                if not tokens[i + j] in token_to_id: continue\n",
    "                context = token_to_id[tokens[i + j]]\n",
    "                new_examples.append((target, context))\n",
    "                \n",
    "            # left context\n",
    "            if i - j >= 0:\n",
    "                if not tokens[i - j] in token_to_id: continue\n",
    "                context = token_to_id[tokens[i - j]]\n",
    "                new_examples.append((target, context))\n",
    "            \n",
    "        examples.append(new_examples)\n",
    "\n",
    "    return np.asarray(examples, dtype=object)\n",
    "\n",
    "def generate_multiple_training_samples(token_batches: list, token_to_id: dict, id_to_token: dict, window:int=3, \n",
    "                                workers:int = 10):\n",
    "    '''Generate training example for word2vec algorithm.\n",
    "    \n",
    "    Args:\n",
    "        tokens(list): Batch of tokens.\n",
    "        token_to_id(dict): Mapping token -> id.\n",
    "        id_to_token(dict): Mapping id -> token.\n",
    "        vocab_size(int): Number of token in the dictionary.\n",
    "        window(int, optional, default=5): Number of left and right context words for each target word.'''\n",
    "    \n",
    "    \n",
    "    with Pool(processes=workers) as p:\n",
    "        res = p.starmap(generate_training_samples, [(tokens, token_to_id, id_to_token, window) for tokens in token_batches])\n",
    "    \n",
    "    return res\n",
    "\n",
    "window = 3\n",
    "#samples = generate_multiple_training_samples(tokens, token_to_id, id_to_token, window=3, workers=10) # not working in notebook\n",
    "samples = [generate_training_samples(t, token_to_id, id_to_token, window=window) for t in tokens]"
   ]
  },
  {
   "cell_type": "code",
   "execution_count": 27,
   "metadata": {
    "scrolled": false
   },
   "outputs": [
    {
     "name": "stdout",
     "output_type": "stream",
     "text": [
      "\u001b[1mText:\u001b[0m\n",
      "finally throw formula call defensive contribution dcon\n",
      "\n",
      "\u001b[1mWindow size:\u001b[0m 3 \n",
      "\n",
      "\u001b[1mSliding Window:\u001b[0m\n",
      "0.   \u001b[34m\u001b[0m \u001b[31mfinally\u001b[0m \u001b[34mthrow formula call\u001b[0m defensive contribution dcon\n",
      "\n",
      "1.   \u001b[34mfinally\u001b[0m \u001b[31mthrow\u001b[0m \u001b[34mformula call defensive\u001b[0m contribution dcon\n",
      "\n",
      "2.   \u001b[34mfinally throw\u001b[0m \u001b[31mformula\u001b[0m \u001b[34mcall defensive contribution\u001b[0m dcon\n",
      "\n",
      "3.   \u001b[34mfinally throw formula\u001b[0m \u001b[31mcall\u001b[0m \u001b[34mdefensive contribution dcon\u001b[0m \n",
      "\n",
      "4.  finally \u001b[34mthrow formula call\u001b[0m \u001b[31mdefensive\u001b[0m \u001b[34mcontribution dcon\u001b[0m \n",
      "\n",
      "5.  finally throw \u001b[34mformula call defensive\u001b[0m \u001b[31mcontribution\u001b[0m \u001b[34mdcon\u001b[0m \n",
      "\n",
      "\u001b[1mTraining Example (id, id) - 4:\u001b[0m\n",
      "[(71, 72), (71, 73), (71, 45)] \n",
      "\n",
      "\n",
      "\u001b[1mTraining Example (word, word) - 4:\u001b[0m\n",
      "[['finally' 'throw']\n",
      " ['finally' 'call']\n",
      " ['finally' 'defensive']] \n",
      "\n",
      "\n",
      "\u001b[1mTraining Example (id, id) - 4:\u001b[0m\n",
      "[[[0. 0. 0. ... 0. 0. 0.]\n",
      "  [0. 0. 0. ... 0. 0. 0.]]\n",
      "\n",
      " [[0. 0. 0. ... 0. 0. 0.]\n",
      "  [0. 0. 0. ... 0. 0. 0.]]\n",
      "\n",
      " [[0. 0. 0. ... 0. 0. 0.]\n",
      "  [0. 0. 0. ... 0. 0. 0.]]]\n"
     ]
    }
   ],
   "source": [
    "example = 20\n",
    "\n",
    "print(colored('Text:', attrs=['bold']))\n",
    "print(\" \".join(tokens[example]), end='\\n\\n')\n",
    "\n",
    "print(colored('Window size:', attrs=['bold']), window,'\\n')\n",
    "\n",
    "print(colored('Sliding Window:', attrs=['bold']))\n",
    "for i in range(len(tokens[example])):\n",
    "    if i>5: break\n",
    "    before = \" \".join([t for j, t in enumerate(tokens[example]) if j < i-window])\n",
    "    context_l = colored(\" \".join(tokens[example][max(i-window,0):i]), 'blue')\n",
    "    target = colored(tokens[example][i], 'red')\n",
    "    context_r = colored(\" \".join(tokens[example][i+1:i+window+1]), 'blue')\n",
    "    after = \" \".join(tokens[example][i+window+1:])\n",
    "    print(f'{i}. ', before + \" \" + context_l + \" \" + target + \" \" + context_r + \" \" + after,end='\\n\\n')\n",
    "\n",
    "training_samples = generate_training_samples(tokens[example], token_to_id, id_to_token, window)[0]\n",
    "print(colored('Training Example (id, id) - 4:', attrs=['bold']))\n",
    "print(str(training_samples), '\\n\\n')\n",
    "\n",
    "print(colored('Training Example (word, word) - 4:', attrs=['bold']))\n",
    "print(str(np.array([[id_to_token[i[0]], id_to_token[i[1]]] for i in training_samples])), '\\n\\n')\n",
    "\n",
    "print(colored('Training Example (id, id) - 4:', attrs=['bold']))\n",
    "print(str(np.array([[one_hot_encoding(i[0], vocab_size), \n",
    "                    one_hot_encoding(i[1], vocab_size)] \n",
    "                    for i in training_samples])))"
   ]
  },
  {
   "cell_type": "markdown",
   "metadata": {},
   "source": [
    "# CBOW"
   ]
  },
  {
   "cell_type": "markdown",
   "metadata": {},
   "source": [
    "## Word2Vec: CBOW"
   ]
  },
  {
   "cell_type": "markdown",
   "metadata": {},
   "source": [
    "_input to hidden_ \n",
    "\n",
    "Input layer: $\\mathbf{x} \\in \\mathbb{R}^{V}$ <br/>\n",
    "$$\n",
    "\t        \\bar{\\mathbf{x}} = \\frac{1}{C}\\sum^C_{c=1} \\mathbf{x^{(c)}}\n",
    "$$\n",
    "Weights: $W \\in \\mathbb{R}^{V\\times N}$, randomly initialized<br/><br/>\n",
    "Hidden layer: $\\mathbf{h} \\in \\mathbb{R}^{N}$\n",
    "\n",
    "$$\n",
    "\\mathbf{h} = \\frac{1}{C} \\mathbf{W}^T \\sum^C_{c=1}  x^{(c)} = \\mathbf{W}^T \\bar{\\mathbf{x}}\n",
    "$$\n",
    "\n",
    "Activation function: $\\mathbb{I}\\text{dentity}$"
   ]
  },
  {
   "cell_type": "markdown",
   "metadata": {},
   "source": [
    "_hidden to output_\n",
    "\n",
    "Weights: $\\mathbf{W'} \\in \\mathbb{R}^{N\\times V}$, randomly initialized\n",
    "\n",
    "Output layer: $\\mathbf{u} \\in \\mathbb{R}^V$\n",
    "\n",
    "$$\n",
    "\\mathbf{u} = \\mathbf{W}'^T \\mathbf{h} = \\frac{1}{C} \\sum^C_{c=1} \\mathbf{W'}^T \\mathbf{W}^T x^{(c)} = \\mathbf{W'}^T \\mathbf{W}^T \\bar{\\mathbf{x}}\n",
    "$$\n",
    "\n",
    "Activation function: $\\mathbb{S}\\text{oftmax}$\n",
    "\n",
    "$$\n",
    "\\mathbf{y} = \\mathbb{S}\\text{oftmax}(\\mathbf{u}) = \\mathbb{S}\\text{oftmax}(\\mathbf{W'}^T\\mathbf{W}^T \\bar{\\mathbf{x}})\n",
    "$$"
   ]
  },
  {
   "cell_type": "markdown",
   "metadata": {},
   "source": [
    "_Loss Function_\n",
    "\n",
    "$$\n",
    "\\mathcal{L} = -\\log \\mathbb{P}(w_O| w_{c,1}, w_{c,2}, ..., w_{c,C})\n",
    "\\max \\log y_{j^*} \\nonumber\n",
    "\t\t     =       \\max \\log \\left(\\frac{\\exp(u_{j^*})}{\\sum^V_{j'=1} \\exp(u_{j'})} \\right) \\nonumber\n",
    "\t\t      =      \\max u_{j^*} - \\log \\sum^V_{j' = 1} \\exp(u_{j'}) \\nonumber\n",
    "\t\t       =     \\min \\log \\sum^V_{j' = 1} \\exp(u_{j'}) - u_{j^*}\n",
    "$$"
   ]
  },
  {
   "cell_type": "markdown",
   "metadata": {},
   "source": [
    "_Gradient descent_\n",
    "\n",
    "$$\n",
    "\t    \\frac{\\partial \\mathcal{L}}{\\partial \\mathbf{W'}} = (\\mathbf{W}^T \\bar{\\mathbf{x}}) \\otimes E \n",
    "\t     \\frac{\\partial \\mathcal{L}}{\\partial \\mathbf{W}} = \\bar{\\mathbf{x}} \\otimes (\\mathbf{W'} E) \n",
    "$$\n",
    "\n",
    "_Backpropagation_\n",
    "\n",
    "$$\n",
    "\\mathbf{v}_{W}^{(new)} =  \\mathbf{v}_{W}^{(old)} - \\eta \\cdot \\frac{\\partial \\mathcal{L}}{\\partial W}\n",
    "$$\n",
    "\n",
    "$$\n",
    "    \\mathbf{v}_{W'}^{(new)} =  \\mathbf{v}_{W'}^{(old)} - \\eta \\cdot \\frac{\\partial \\mathcal{L}}{\\partial W'}\n",
    "$$"
   ]
  },
  {
   "cell_type": "code",
   "execution_count": 28,
   "metadata": {},
   "outputs": [],
   "source": [
    "def softmax(x):\n",
    "    x = x.astype(float)\n",
    "    return np.exp(x) / np.sum(np.exp(x), axis=0)"
   ]
  },
  {
   "cell_type": "code",
   "execution_count": 29,
   "metadata": {},
   "outputs": [],
   "source": [
    "class Word2Vec:\n",
    "    \n",
    "    def __init__(self, sequences:list, vector_size=100):\n",
    "        \"\"\"\n",
    "        Args:\n",
    "            sequences(list): Token batches.\n",
    "        \"\"\"\n",
    "        self.sequences = sequences\n",
    "        self.vector_size = vector_size\n",
    "    \n",
    "    def __init_network__(self):\n",
    "        \"\"\"Initialize the network\"\"\"\n",
    "        \n",
    "        self.model = {\n",
    "            \"W\": np.random.uniform(-1, 1, (self.vocab_size, self.vector_size)),  # input to hidden\n",
    "            \"W'\": np.random.uniform(-1, 1, (self.vector_size, self.vocab_size)) # hidden to output\n",
    "        }\n",
    "        return self.model\n",
    "    \n",
    "    def build_vocab(self, min_count=15) -> dict:\n",
    "        \"\"\"Build vocabulary and filter rare words.\n",
    "\n",
    "        Args:\n",
    "            min_count(int, optional, default=15): Minimum frequency threshold.\n",
    "        Returns:\n",
    "            vocab(dict): Dictionary containing token and frequencies.\n",
    "        \"\"\"\n",
    "\n",
    "        counts = Counter([token for sequence in self.sequences for token in sequence])\n",
    "        vocab = list(counts.keys())\n",
    "        vocab = {k:v for k, v in counts.items() if v > min_count} # Filtering\n",
    "\n",
    "        self.vocab = vocab\n",
    "        self.vocab_size = len(vocab)\n",
    "        \n",
    "        self.token_to_id, self.id_to_token = self.__mapping__()\n",
    "        \n",
    "        return vocab\n",
    "    \n",
    "    def one_hot_encoding(self, token_id) -> np.array:\n",
    "        '''Return one-hot encoding\n",
    "\n",
    "        Args:\n",
    "            token_id(int): Token id.\n",
    "        Returns:\n",
    "            one_hot_encoding(np.array)\n",
    "        '''\n",
    "        vec = np.zeros(self.vocab_size)\n",
    "        vec[token_id] = 1.0\n",
    "        return vec\n",
    "    \n",
    "    def __mapping__(self) -> tuple:\n",
    "        '''\n",
    "        Generate mapping dictionaries.\n",
    "\n",
    "        Returns:\n",
    "            token_to_id(dict): Mapping token -> id. \n",
    "            id_to_token(dict): Mapping id -> token. \n",
    "        '''\n",
    "        token_to_id = dict()\n",
    "        id_to_token = dict()\n",
    "\n",
    "        for i, token in enumerate(self.vocab):\n",
    "            token_to_id[token] = i\n",
    "            id_to_token[i] = token\n",
    "        \n",
    "        return token_to_id, id_to_token\n",
    "\n",
    "    def __generate_training_samples__(self, tokens: list, window:int=3) -> list:\n",
    "        '''Generate training examples for word2vec algorithm.\n",
    "\n",
    "        Args:\n",
    "            tokens(list): Batch of tokens.\n",
    "            window(int, optional, default=3): Number of left and right context words for each target word.\n",
    "\n",
    "        Returns:\n",
    "            examples(list).\n",
    "        '''\n",
    "\n",
    "        examples = list()\n",
    "        n_tokens = len(tokens)\n",
    "\n",
    "        for i in range(n_tokens):\n",
    "            if tokens[i] not in self.token_to_id: continue\n",
    "\n",
    "            target = self.token_to_id[tokens[i]]\n",
    "            X, y = list(), np.array(self.one_hot_encoding(target))\n",
    "\n",
    "            for j in range(1, window+2):\n",
    "                # right context\n",
    "                if i + j < len(tokens):\n",
    "                    if not tokens[i + j] in self.token_to_id: continue\n",
    "                    context = self.token_to_id[tokens[i + j]]\n",
    "                    X.append(self.one_hot_encoding(context))\n",
    "\n",
    "                # left context\n",
    "                if i - j >= 0:\n",
    "                    if not tokens[i - j] in self.token_to_id: continue\n",
    "                    context = self.token_to_id[tokens[i - j]]\n",
    "                    X.append(self.one_hot_encoding(context))\n",
    "\n",
    "            examples.append((np.mean(X, axis=0), y))\n",
    "\n",
    "        return np.asarray(examples, dtype=object)\n",
    "\n",
    "    def __build_training_samples__(self, window:int=3, workers:int = 10):\n",
    "        '''Generate training example for word2vec algorithm.\n",
    "\n",
    "        Args:\n",
    "            vocab_size(int): Number of token in the dictionary.\n",
    "            window(int, optional, default=5): Number of left and right context words for each target word.'''\n",
    "\n",
    "\n",
    "        #with Pool(processes=workers) as p:\n",
    "        #     res = p.starmap(self.__generate_training_samples__, [(tokens, window) for tokens in self.sequences])\n",
    "\n",
    "        #return res\n",
    "        for tokens in self.sequences:\n",
    "            for sample in self.__generate_training_samples__(tokens, window=window):\n",
    "                target, context = sample[1], sample[0]\n",
    "                yield target, context\n",
    "    \n",
    "    def __forward_prop__(self, x):\n",
    "    \n",
    "        h = np.dot(self.model['W'].T, x)\n",
    "        u = np.dot(self.model[\"W'\"].T, h)\n",
    "        y_pred = softmax(u)\n",
    "\n",
    "        return y_pred, h, u\n",
    "    \n",
    "    def __backward_prop__(self, y_pred, h, target, context, learning_rate):\n",
    "        total_error = self.__calculate_error__(y_pred, target)\n",
    "        \n",
    "        derivatives = dict()\n",
    "        derivatives[\"∂L/∂W\"] = np.outer(target, np.dot(self.model[\"W'\"], total_error.T))\n",
    "        derivatives[\"∂L/∂W'\"] = np.outer(h, total_error)\n",
    "\n",
    "        # Update weights\n",
    "        self.model[\"W\"] = self.model[\"W\"] - (learning_rate * derivatives[\"∂L/∂W\"])\n",
    "        self.model[\"W'\"] = self.model[\"W'\"] - (learning_rate * derivatives[\"∂L/∂W'\"])\n",
    "\n",
    "    def __calculate_error__(self, y_pred, y):\n",
    "        return y_pred - y\n",
    "        #return np.sum([y_pred - self.one_hot_encoding(index) for index in np.where(context == 1)[0]], axis=0)\n",
    "    \n",
    "    def __calculate_loss__(self, u, target):\n",
    "        u = u.astype(float)\n",
    "        return -u[target==1][0] + np.log(np.sum(np.exp(u)))\n",
    "        #return -u[context==1].sum() + len(np.where(context==1)[0]) *np.log(np.sum(np.exp(u)))\n",
    "    \n",
    "    def train(self, window:int=3, workers:int=10, epochs:int=25, learning_rate:float=0.01):\n",
    "        \n",
    "        self.__init_network__()\n",
    "\n",
    "        #For analysis purposes\n",
    "        epoch_loss = []\n",
    "        weights_1 = []\n",
    "        weights_2 = []\n",
    "\n",
    "        for epoch in tqdm(range(epochs)):\n",
    "            loss = 0\n",
    "\n",
    "            for target, context in self.__build_training_samples__(window, workers=10):\n",
    "                y_pred, h, u = self.__forward_prop__(target)\n",
    "                self.__backward_prop__(y_pred, h, target, context, learning_rate)\n",
    "\n",
    "                loss_temp = self.__calculate_loss__(u,target)\n",
    "                loss += loss_temp\n",
    "\n",
    "            epoch_loss.append( loss )\n",
    "            weights_1.append(self.model['W'])\n",
    "            weights_2.append(self.model[\"W'\"])\n",
    "\n",
    "        self.epoch_loss = epoch_loss\n",
    "        return epoch_loss, np.array(weights_1), np.array(weights_2)"
   ]
  },
  {
   "cell_type": "code",
   "execution_count": 30,
   "metadata": {},
   "outputs": [
    {
     "data": {
      "application/vnd.jupyter.widget-view+json": {
       "model_id": "91391cc81af3408483b1b13ac707e4c6",
       "version_major": 2,
       "version_minor": 0
      },
      "text/plain": [
       "  0%|          | 0/25 [00:00<?, ?it/s]"
      ]
     },
     "metadata": {},
     "output_type": "display_data"
    }
   ],
   "source": [
    "w = Word2Vec([x for x in tokens if 'game' in x][:50], vector_size=6)\n",
    "\n",
    "w.build_vocab(min_count=0)\n",
    "\n",
    "# fit parameters\n",
    "_ = w.train(window=3, epochs=25, learning_rate=0.01)"
   ]
  },
  {
   "cell_type": "code",
   "execution_count": 31,
   "metadata": {},
   "outputs": [
    {
     "name": "stdout",
     "output_type": "stream",
     "text": [
      "game ['tomlin', 'waving', '11th', 'beat', \"'d\", 'showed', 'effort', 'command', '-1', 'drawn-in'] \n",
      "\n",
      "bat ['replay', 'distressed', 'handed', '9/25', 'williams', 'hold', '2-run', 'bucky', 'possesion', 'pinch'] \n",
      "\n",
      "play ['chet', 'strike', 'even', 'two', '9/28', 'rough', 'lineup', 'nine', 'knot', 'threw'] \n",
      "\n"
     ]
    }
   ],
   "source": [
    "from scipy.spatial import distance\n",
    "import numpy as np\n",
    "\n",
    "def get_distance_matrix(wordvecs, metric):\n",
    "    dist_matrix = distance.squareform(distance.pdist(wordvecs, metric))\n",
    "    return dist_matrix\n",
    "\n",
    "def get_k_similar_words(word, dist_matrix, token_to_id, id_to_token, k=10):\n",
    "    idx = token_to_id[word]\n",
    "    dists = dist_matrix[idx]\n",
    "    ind = np.argpartition(dists, k)[:k+1]\n",
    "    ind = ind[np.argsort(dists[ind])][1:]\n",
    "    out = [(i, id_to_token[i], dists[i]) for i in ind]\n",
    "    return out\n",
    "\n",
    "sim_matrix = get_distance_matrix(w.model[\"W\"], 'cosine')\n",
    "for word in ['game', 'bat', 'play']:\n",
    "    print(word, [t[1] for t in get_k_similar_words(word, sim_matrix, w.token_to_id, w.id_to_token)], \"\\n\")"
   ]
  },
  {
   "cell_type": "code",
   "execution_count": 32,
   "metadata": {},
   "outputs": [
    {
     "data": {
      "text/plain": [
       "(495, 6)"
      ]
     },
     "execution_count": 32,
     "metadata": {},
     "output_type": "execute_result"
    }
   ],
   "source": [
    "w.model['W'].shape"
   ]
  },
  {
   "cell_type": "code",
   "execution_count": 33,
   "metadata": {},
   "outputs": [],
   "source": [
    "v_game = w.model['W'][token_to_id['game']]\n",
    "v_play = w.model['W'][token_to_id['baseball']]"
   ]
  },
  {
   "cell_type": "code",
   "execution_count": 34,
   "metadata": {},
   "outputs": [
    {
     "data": {
      "text/plain": [
       "-0.6641255183982596"
      ]
     },
     "execution_count": 34,
     "metadata": {},
     "output_type": "execute_result"
    }
   ],
   "source": [
    "np.dot(v_game, v_play)/(np.linalg.norm(v_game)*np.linalg.norm(v_play))"
   ]
  },
  {
   "cell_type": "code",
   "execution_count": 35,
   "metadata": {},
   "outputs": [
    {
     "data": {
      "text/plain": [
       "[<matplotlib.lines.Line2D at 0x14c9472b0>]"
      ]
     },
     "execution_count": 35,
     "metadata": {},
     "output_type": "execute_result"
    },
    {
     "data": {
      "image/png": "[encoded data removed]",
      "text/plain": [
       "<Figure size 640x480 with 1 Axes>"
      ]
     },
     "metadata": {},
     "output_type": "display_data"
    }
   ],
   "source": [
    "import matplotlib.pyplot as plt\n",
    "plt.plot(w.epoch_loss)"
   ]
  },
  {
   "cell_type": "code",
   "execution_count": 36,
   "metadata": {},
   "outputs": [
    {
     "data": {
      "application/vnd.jupyter.widget-view+json": {
       "model_id": "4df4d196785d4b77a365740167fa5dc6",
       "version_major": 2,
       "version_minor": 0
      },
      "text/plain": [
       "  0%|          | 0/150 [00:00<?, ?it/s]"
      ]
     },
     "metadata": {},
     "output_type": "display_data"
    }
   ],
   "source": [
    "w = Word2Vec([x for x in tokens if 'game' in x][:50], vector_size=6)\n",
    "\n",
    "w.build_vocab(min_count=0)\n",
    "\n",
    "# fit parameters\n",
    "_ = w.train(window=3, epochs=150, learning_rate=0.01)"
   ]
  },
  {
   "cell_type": "code",
   "execution_count": 37,
   "metadata": {},
   "outputs": [
    {
     "name": "stdout",
     "output_type": "stream",
     "text": [
      "game ['less', 'seventh', 'wilhelm', 'falls', 'decision', 'defense', 'distressed', 'jays', 'chicago', 'mitch', '10/1', '3rd', 'even', 'torre', 'lose', 'sees', '9/25', 'redding', 'possesion', 'interview'] \n",
      "\n",
      "bat ['aaron', 'seven', 'effort', 'took', 'sundays', 'dinger', 'entered', 'clark', 'brian', 'run', 'day', 'yesterday', 'outshone', 'shortstops', \"'s\", 'hitter', 'rube', 'hundley', '4-3', 'moving'] \n",
      "\n",
      "play ['baylor', 'showed', 'calls', 'hell', 'tying', 'curt', 'came', '0-0', 'umpires', 'braves', 'steve', 'second', '19-8', 'bring', 'games', 'defensively', 'sole', '5', 'third', 'larry'] \n",
      "\n"
     ]
    }
   ],
   "source": [
    "from scipy.spatial import distance\n",
    "import numpy as np\n",
    "\n",
    "def get_distance_matrix(wordvecs, metric):\n",
    "    dist_matrix = distance.squareform(distance.pdist(wordvecs, metric))\n",
    "    return dist_matrix\n",
    "\n",
    "def get_k_similar_words(word, dist_matrix, token_to_id, id_to_token, k=20):\n",
    "    idx = token_to_id[word]\n",
    "    dists = dist_matrix[idx]\n",
    "    ind = np.argpartition(dists, k)[:k+1]\n",
    "    ind = ind[np.argsort(dists[ind])][1:]\n",
    "    out = [(i, id_to_token[i], dists[i]) for i in ind]\n",
    "    return out\n",
    "\n",
    "sim_matrix = get_distance_matrix(w.model[\"W\"], 'cosine')\n",
    "for word in ['game', 'bat', 'play']:\n",
    "    print(word, [t[1] for t in get_k_similar_words(word, sim_matrix, w.token_to_id, w.id_to_token)], \"\\n\")"
   ]
  },
  {
   "cell_type": "code",
   "execution_count": 38,
   "metadata": {},
   "outputs": [
    {
     "data": {
      "text/plain": [
       "[<matplotlib.lines.Line2D at 0x14e5cc220>]"
      ]
     },
     "execution_count": 38,
     "metadata": {},
     "output_type": "execute_result"
    },
    {
     "data": {
      "image/png": "[encoded data removed]",
      "text/plain": [
       "<Figure size 640x480 with 1 Axes>"
      ]
     },
     "metadata": {},
     "output_type": "display_data"
    }
   ],
   "source": [
    "import matplotlib.pyplot as plt\n",
    "plt.plot(w.epoch_loss)"
   ]
  },
  {
   "cell_type": "code",
   "execution_count": 39,
   "metadata": {},
   "outputs": [
    {
     "data": {
      "application/vnd.jupyter.widget-view+json": {
       "model_id": "19703250b5a9425e8fb9926aa3156c9b",
       "version_major": 2,
       "version_minor": 0
      },
      "text/plain": [
       "  0%|          | 0/50 [00:00<?, ?it/s]"
      ]
     },
     "metadata": {},
     "output_type": "display_data"
    }
   ],
   "source": [
    "w = Word2Vec([i for i in tokens if 'game' in i][:50], vector_size=10)\n",
    "\n",
    "w.build_vocab(min_count=0)\n",
    "\n",
    "# fit parameters\n",
    "_ = w.train(window=3, epochs=20, learning_rate=0.03)"
   ]
  },
  {
   "cell_type": "code",
   "execution_count": 40,
   "metadata": {},
   "outputs": [
    {
     "data": {
      "text/plain": [
       "[<matplotlib.lines.Line2D at 0x14e5ce0a0>]"
      ]
     },
     "execution_count": 40,
     "metadata": {},
     "output_type": "execute_result"
    },
    {
     "data": {
      "image/png": "[encoded data removed]",
      "text/plain": [
       "<Figure size 640x480 with 1 Axes>"
      ]
     },
     "metadata": {},
     "output_type": "display_data"
    }
   ],
   "source": [
    "import matplotlib.pyplot as plt\n",
    "plt.plot(w.epoch_loss)"
   ]
  },
  {
   "cell_type": "code",
   "execution_count": 41,
   "metadata": {},
   "outputs": [
    {
     "data": {
      "text/plain": [
       "[5089.679245522817,\n",
       " 4546.217039767511,\n",
       " 4200.298153364016,\n",
       " 3914.4483318560087,\n",
       " 3657.618886803957,\n",
       " 3424.3801510501453,\n",
       " 3216.1615884259118,\n",
       " 3031.4870164141794,\n",
       " 2866.805887020582,\n",
       " 2719.531498702829,\n",
       " 2587.326115842553,\n",
       " 2467.5528725729378,\n",
       " 2357.884180895598,\n",
       " 2256.9082201486835,\n",
       " 2163.7150483678124,\n",
       " 2077.45229653784,\n",
       " 1997.3030093806206,\n",
       " 1922.5434254553368,\n",
       " 1852.539616055783,\n",
       " 1786.730578262344,\n",
       " 1724.6272443760247,\n",
       " 1665.8131445638137,\n",
       " 1609.9338357929162,\n",
       " 1556.6820212790483,\n",
       " 1505.786432302046,\n",
       " 1457.005315229674,\n",
       " 1410.122287532075,\n",
       " 1364.9432418133774,\n",
       " 1321.2946922692736,\n",
       " 1279.0242053298673,\n",
       " 1238.0022465313766,\n",
       " 1198.123686687847,\n",
       " 1159.307429807113,\n",
       " 1121.4936515998215,\n",
       " 1084.6391614338386,\n",
       " 1048.7120882652978,\n",
       " 1013.6872994861274,\n",
       " 979.5435185385168,\n",
       " 946.2621803493382,\n",
       " 913.8273111750541,\n",
       " 882.2256276944289,\n",
       " 851.4464298065118,\n",
       " 821.4812422105076,\n",
       " 792.3233219519101,\n",
       " 763.9671470763766,\n",
       " 736.4079488554537,\n",
       " 709.6413076884523,\n",
       " 683.6628126372165,\n",
       " 658.4677793510364,\n",
       " 634.0510219548133]"
      ]
     },
     "execution_count": 41,
     "metadata": {},
     "output_type": "execute_result"
    }
   ],
   "source": [
    "w.epoch_loss"
   ]
  },
  {
   "cell_type": "markdown",
   "metadata": {},
   "source": [
    "## Gensim"
   ]
  },
  {
   "cell_type": "code",
   "execution_count": 42,
   "metadata": {},
   "outputs": [],
   "source": [
    "from gensim.models import Word2Vec"
   ]
  },
  {
   "cell_type": "code",
   "execution_count": 43,
   "metadata": {},
   "outputs": [],
   "source": [
    "train = fetch_20newsgroups(data_home=\"/Users/flint/Data/sklearn/\", subset='train', \n",
    "                        remove=('headers', 'footers', 'quotes'))"
   ]
  },
  {
   "cell_type": "code",
   "execution_count": 44,
   "metadata": {},
   "outputs": [],
   "source": [
    "sentences = []\n",
    "for doc in train.data:\n",
    "    for s in nltk.tokenize.sent_tokenize(doc):\n",
    "        sentences.append(s.lower())"
   ]
  },
  {
   "cell_type": "code",
   "execution_count": 45,
   "metadata": {},
   "outputs": [],
   "source": [
    "tokens = [[x for x in word_tokenize(t) if x not in sw and x not in \n",
    "           string.punctuation] for t in sentences]"
   ]
  },
  {
   "cell_type": "code",
   "execution_count": 46,
   "metadata": {},
   "outputs": [],
   "source": [
    "model = Word2Vec(sentences=tokens, vector_size=50, \n",
    "                window=6, epochs=25, min_count=1, workers=4)"
   ]
  },
  {
   "cell_type": "code",
   "execution_count": 90,
   "metadata": {},
   "outputs": [
    {
     "data": {
      "text/plain": [
       "array([ 4.9234424e+00, -2.7225268e+00, -4.9001461e-01, -3.6283934e-01,\n",
       "        2.5527606e-02, -1.7068950e+00,  8.8312292e-01,  3.8682973e+00,\n",
       "       -6.5154636e-01,  1.3061858e+00,  3.9570257e-01, -2.2285976e+00,\n",
       "       -1.5349945e+00, -1.3768686e+00, -7.3610032e-01, -1.8737226e-03,\n",
       "        3.5914645e+00, -4.3556724e+00,  2.0459845e+00, -2.1968277e+00,\n",
       "        3.0970383e+00,  3.8067465e+00, -3.5519366e+00,  5.5043459e-02,\n",
       "        4.4087739e+00, -4.7236896e+00, -4.9095151e-01,  2.0719318e+00,\n",
       "       -3.9872649e+00,  4.6269722e+00,  2.1180542e+00,  5.7024598e-01,\n",
       "       -2.0484550e+00,  1.0725787e+00, -2.2567604e+00,  1.9110231e+00,\n",
       "       -1.4872780e+00,  4.8129582e+00,  3.1539743e+00,  1.1411450e+00,\n",
       "       -3.9281034e+00,  1.4398215e+00, -4.1727943e+00,  7.2803891e-01,\n",
       "        4.6070161e+00, -2.7400072e+00,  2.7095346e-02,  2.2063248e+00,\n",
       "       -4.1944456e+00, -3.8258762e+00], dtype=float32)"
      ]
     },
     "execution_count": 90,
     "metadata": {},
     "output_type": "execute_result"
    }
   ],
   "source": [
    "model.wv.get_vector('gun')"
   ]
  },
  {
   "cell_type": "code",
   "execution_count": 47,
   "metadata": {},
   "outputs": [
    {
     "data": {
      "text/plain": [
       "[('guns', 0.7798922061920166),\n",
       " ('hcikkk', 0.7414756417274475),\n",
       " ('the-big-lie', 0.7374076247215271),\n",
       " ('handgun', 0.7298084497451782),\n",
       " ('control', 0.7013261318206787),\n",
       " ('prohibitionists', 0.6926414370536804),\n",
       " ('excludes', 0.682186484336853),\n",
       " ('handguns', 0.674522340297699),\n",
       " (\"_can't_\", 0.6644439101219177),\n",
       " ('crime', 0.6604949235916138)]"
      ]
     },
     "execution_count": 47,
     "metadata": {},
     "output_type": "execute_result"
    }
   ],
   "source": [
    "model.wv.similar_by_word('gun')"
   ]
  },
  {
   "cell_type": "code",
   "execution_count": 48,
   "metadata": {},
   "outputs": [
    {
     "data": {
      "text/plain": [
       "0.72516835"
      ]
     },
     "execution_count": 48,
     "metadata": {},
     "output_type": "execute_result"
    }
   ],
   "source": [
    "model.wv.similarity('play', 'game')"
   ]
  },
  {
   "cell_type": "markdown",
   "metadata": {},
   "source": [
    "### Base model and specialized models\n",
    "Word embedding may be used also to get the specific shift of words among different corpora"
   ]
  },
  {
   "cell_type": "markdown",
   "metadata": {},
   "source": [
    "#### Create a global model"
   ]
  },
  {
   "cell_type": "code",
   "execution_count": 49,
   "metadata": {},
   "outputs": [],
   "source": [
    "import copy"
   ]
  },
  {
   "cell_type": "code",
   "execution_count": 50,
   "metadata": {},
   "outputs": [],
   "source": [
    "politics = copy.deepcopy(model)\n",
    "religion = copy.deepcopy(model)\n",
    "sports = copy.deepcopy(model)"
   ]
  },
  {
   "cell_type": "code",
   "execution_count": 51,
   "metadata": {},
   "outputs": [
    {
     "data": {
      "text/plain": [
       "['alt.atheism',\n",
       " 'comp.graphics',\n",
       " 'comp.os.ms-windows.misc',\n",
       " 'comp.sys.ibm.pc.hardware',\n",
       " 'comp.sys.mac.hardware',\n",
       " 'comp.windows.x',\n",
       " 'misc.forsale',\n",
       " 'rec.autos',\n",
       " 'rec.motorcycles',\n",
       " 'rec.sport.baseball',\n",
       " 'rec.sport.hockey',\n",
       " 'sci.crypt',\n",
       " 'sci.electronics',\n",
       " 'sci.med',\n",
       " 'sci.space',\n",
       " 'soc.religion.christian',\n",
       " 'talk.politics.guns',\n",
       " 'talk.politics.mideast',\n",
       " 'talk.politics.misc',\n",
       " 'talk.religion.misc']"
      ]
     },
     "execution_count": 51,
     "metadata": {},
     "output_type": "execute_result"
    }
   ],
   "source": [
    "train.target_names"
   ]
  },
  {
   "cell_type": "code",
   "execution_count": 52,
   "metadata": {},
   "outputs": [],
   "source": [
    "politics_classes = ['talk.politics.guns', 'talk.politics.mideast', 'talk.politics.misc']\n",
    "religion_classes = ['alt.atheism', 'soc.religion.christian', 'talk.religion.misc']\n",
    "sports_classes = ['rec.sport.baseball', 'rec.sport.hockey']\n",
    "politics_docs = []\n",
    "religion_docs = []\n",
    "sports_docs = []\n",
    "for i, text in enumerate(train.data):\n",
    "    class_label = train.target_names[train.target[i]]\n",
    "    for sentence in nltk.tokenize.sent_tokenize(text):\n",
    "        tokens = [x for x in word_tokenize(sentence) if x not in sw and x not in string.punctuation]\n",
    "        if class_label in politics_classes:\n",
    "            politics_docs.append(tokens)\n",
    "        elif class_label in religion_classes:\n",
    "            religion_docs.append(tokens)\n",
    "        elif class_label in sports_classes:\n",
    "            sports_docs.append(tokens)\n",
    "        else:\n",
    "            pass "
   ]
  },
  {
   "cell_type": "markdown",
   "metadata": {},
   "source": [
    "#### Update the model for specific corpora to obtain specific fine-tuned models"
   ]
  },
  {
   "cell_type": "code",
   "execution_count": 53,
   "metadata": {},
   "outputs": [
    {
     "data": {
      "text/plain": [
       "(4725625, 7300150)"
      ]
     },
     "execution_count": 53,
     "metadata": {},
     "output_type": "execute_result"
    }
   ],
   "source": [
    "politics.train(politics_docs, total_examples=model.corpus_count, epochs=model.epochs)"
   ]
  },
  {
   "cell_type": "code",
   "execution_count": 54,
   "metadata": {},
   "outputs": [
    {
     "data": {
      "text/plain": [
       "(3468121, 4920050)"
      ]
     },
     "execution_count": 54,
     "metadata": {},
     "output_type": "execute_result"
    }
   ],
   "source": [
    "religion.train(religion_docs, total_examples=model.corpus_count, epochs=model.epochs)"
   ]
  },
  {
   "cell_type": "code",
   "execution_count": 55,
   "metadata": {},
   "outputs": [
    {
     "data": {
      "text/plain": [
       "(2236177, 3605400)"
      ]
     },
     "execution_count": 55,
     "metadata": {},
     "output_type": "execute_result"
    }
   ],
   "source": [
    "sports.train(sports_docs, total_examples=model.corpus_count, epochs=model.epochs)"
   ]
  },
  {
   "cell_type": "markdown",
   "metadata": {},
   "source": [
    "#### Compare the models"
   ]
  },
  {
   "cell_type": "code",
   "execution_count": 56,
   "metadata": {},
   "outputs": [
    {
     "data": {
      "text/plain": [
       "[('catholic', 0.8050046563148499),\n",
       " ('priests', 0.7905719876289368),\n",
       " ('christian', 0.7792543768882751),\n",
       " ('doctrine', 0.7660804390907288),\n",
       " ('catholics', 0.758306086063385),\n",
       " ('orthodox', 0.7528191208839417),\n",
       " ('magi', 0.7429896593093872),\n",
       " ('doctrines', 0.7411214113235474),\n",
       " ('teachings', 0.7370744943618774),\n",
       " ('biblical', 0.7328833341598511)]"
      ]
     },
     "execution_count": 56,
     "metadata": {},
     "output_type": "execute_result"
    }
   ],
   "source": [
    "politics.wv.most_similar('church')"
   ]
  },
  {
   "cell_type": "code",
   "execution_count": 57,
   "metadata": {},
   "outputs": [
    {
     "data": {
      "text/plain": [
       "[('priests', 0.6971016526222229),\n",
       " ('catholic', 0.6696492433547974),\n",
       " ('meetings', 0.6594052314758301),\n",
       " ('parish', 0.658689558506012),\n",
       " ('leaders', 0.6558417677879333),\n",
       " ('invitation', 0.6488326787948608),\n",
       " ('cooperate', 0.6467721462249756),\n",
       " ('election', 0.6427996158599854),\n",
       " ('wedding', 0.6384967565536499),\n",
       " ('magi', 0.6349389553070068)]"
      ]
     },
     "execution_count": 57,
     "metadata": {},
     "output_type": "execute_result"
    }
   ],
   "source": [
    "religion.wv.most_similar('church')"
   ]
  },
  {
   "cell_type": "code",
   "execution_count": 58,
   "metadata": {},
   "outputs": [
    {
     "data": {
      "text/plain": [
       "[('catholic', 0.8080372214317322),\n",
       " ('priests', 0.7907432913780212),\n",
       " ('doctrine', 0.7903192639350891),\n",
       " ('christian', 0.786611020565033),\n",
       " ('orthodox', 0.7775787115097046),\n",
       " ('magi', 0.7753424048423767),\n",
       " ('fathers', 0.7729811072349548),\n",
       " ('writings', 0.7697899341583252),\n",
       " ('doctrines', 0.7674410343170166),\n",
       " ('teachings', 0.7604914307594299)]"
      ]
     },
     "execution_count": 58,
     "metadata": {},
     "output_type": "execute_result"
    }
   ],
   "source": [
    "sports.wv.most_similar('church')"
   ]
  },
  {
   "cell_type": "code",
   "execution_count": 59,
   "metadata": {},
   "outputs": [
    {
     "data": {
      "text/plain": [
       "0.27403983"
      ]
     },
     "execution_count": 59,
     "metadata": {},
     "output_type": "execute_result"
    }
   ],
   "source": [
    "religion.wv.similarity('church', 'person')"
   ]
  },
  {
   "cell_type": "code",
   "execution_count": 60,
   "metadata": {},
   "outputs": [
    {
     "data": {
      "text/plain": [
       "0.33084387"
      ]
     },
     "execution_count": 60,
     "metadata": {},
     "output_type": "execute_result"
    }
   ],
   "source": [
    "politics.wv.similarity('church', 'person')"
   ]
  },
  {
   "cell_type": "code",
   "execution_count": 61,
   "metadata": {},
   "outputs": [
    {
     "data": {
      "text/plain": [
       "0.39237553"
      ]
     },
     "execution_count": 61,
     "metadata": {},
     "output_type": "execute_result"
    }
   ],
   "source": [
    "sports.wv.similarity('church', 'person')"
   ]
  },
  {
   "cell_type": "markdown",
   "metadata": {},
   "source": [
    "**Shift from global model**"
   ]
  },
  {
   "cell_type": "code",
   "execution_count": 62,
   "metadata": {},
   "outputs": [],
   "source": [
    "word = 'church'\n",
    "g, p, r, s = model.wv.get_vector(word), politics.wv.get_vector(word), religion.wv.get_vector(word), sports.wv.get_vector(word)"
   ]
  },
  {
   "cell_type": "code",
   "execution_count": 63,
   "metadata": {},
   "outputs": [
    {
     "data": {
      "text/plain": [
       "0.99038076"
      ]
     },
     "execution_count": 63,
     "metadata": {},
     "output_type": "execute_result"
    }
   ],
   "source": [
    "np.dot(g, p)/(np.linalg.norm(g)*np.linalg.norm(p))"
   ]
  },
  {
   "cell_type": "code",
   "execution_count": 64,
   "metadata": {},
   "outputs": [
    {
     "data": {
      "text/plain": [
       "0.90328413"
      ]
     },
     "execution_count": 64,
     "metadata": {},
     "output_type": "execute_result"
    }
   ],
   "source": [
    "np.dot(g, r)/(np.linalg.norm(g)*np.linalg.norm(r))"
   ]
  },
  {
   "cell_type": "code",
   "execution_count": 65,
   "metadata": {},
   "outputs": [
    {
     "data": {
      "text/plain": [
       "0.9999999"
      ]
     },
     "execution_count": 65,
     "metadata": {},
     "output_type": "execute_result"
    }
   ],
   "source": [
    "np.dot(g, s)/(np.linalg.norm(g)*np.linalg.norm(s))"
   ]
  },
  {
   "cell_type": "markdown",
   "metadata": {},
   "source": [
    "### Visualize"
   ]
  },
  {
   "cell_type": "code",
   "execution_count": 66,
   "metadata": {},
   "outputs": [],
   "source": [
    "from sklearn.manifold import TSNE\n",
    "import numpy as np \n",
    "import matplotlib.pyplot as plt \n",
    "import seaborn as sns\n",
    "sns.set_theme(style=\"whitegrid\")"
   ]
  },
  {
   "cell_type": "code",
   "execution_count": 67,
   "metadata": {},
   "outputs": [],
   "source": [
    "selected_words = [\n",
    "    'play', 'game', 'win', 'defeat', 'lose', 'gun', 'people', 'field'\n",
    "]\n",
    "P = np.array([politics.wv.get_vector(w) for w in selected_words])\n",
    "R = np.array([religion.wv.get_vector(w) for w in selected_words])\n",
    "S = np.array([sports.wv.get_vector(w) for w in selected_words])"
   ]
  },
  {
   "cell_type": "code",
   "execution_count": 68,
   "metadata": {},
   "outputs": [],
   "source": [
    "collection = {'Politics': P, 'Religion': R, 'Sports': S}\n",
    "reduced = {}\n",
    "for k, v in collection.items():\n",
    "    tsne = TSNE(n_components=2, perplexity=6)\n",
    "    reduced[k] = tsne.fit_transform(v)"
   ]
  },
  {
   "cell_type": "code",
   "execution_count": 69,
   "metadata": {},
   "outputs": [
    {
     "data": {
      "image/png": "[encoded data removed]",
      "text/plain": [
       "<Figure size 1200x400 with 3 Axes>"
      ]
     },
     "metadata": {},
     "output_type": "display_data"
    }
   ],
   "source": [
    "fig, ax = plt.subplots(figsize=(12, 4), ncols=3)\n",
    "for i, (k, v) in enumerate(reduced.items()):\n",
    "    sns.scatterplot(x=v[:,0], y=v[:,1], ax=ax[i])\n",
    "    for j, w in enumerate(selected_words):\n",
    "        ax[i].text(v[j][0], v[j][1], w, fontsize=8)\n",
    "    ax[i].set_title(k)\n",
    "plt.tight_layout()\n",
    "plt.show()"
   ]
  },
  {
   "cell_type": "code",
   "execution_count": null,
   "metadata": {},
   "outputs": [],
   "source": []
  }
 ],
 "metadata": {
  "kernelspec": {
   "display_name": "Python 3 (ipykernel)",
   "language": "python",
   "name": "python3"
  },
  "language_info": {
   "codemirror_mode": {
    "name": "ipython",
    "version": 3
   },
   "file_extension": ".py",
   "mimetype": "text/x-python",
   "name": "python",
   "nbconvert_exporter": "python",
   "pygments_lexer": "ipython3",
   "version": "3.9.17"
  },
  "toc": {
   "base_numbering": 1,
   "nav_menu": {},
   "number_sections": true,
   "sideBar": true,
   "skip_h1_title": false,
   "title_cell": "Table of Contents",
   "title_sidebar": "Contents",
   "toc_cell": false,
   "toc_position": {},
   "toc_section_display": true,
   "toc_window_display": false
  }
 },
 "nbformat": 4,
 "nbformat_minor": 4
}
