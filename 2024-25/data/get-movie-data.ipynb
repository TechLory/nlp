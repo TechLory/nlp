{
 "cells": [
  {
   "cell_type": "markdown",
   "metadata": {},
   "source": [
    "### Master degree on Computer Science and Data Science and Economics\n",
    "# Create a dataset for TV Series\n",
    "## Prof. Alfio Ferrara"
   ]
  },
  {
   "cell_type": "code",
   "execution_count": 1,
   "metadata": {},
   "outputs": [],
   "source": [
    "import moviedata as mvd\n",
    "import pymongo as pym\n",
    "from datetime import datetime"
   ]
  },
  {
   "cell_type": "code",
   "execution_count": 2,
   "metadata": {},
   "outputs": [
    {
     "data": {
      "text/plain": [
       "{10759: 'Action & Adventure',\n",
       " 16: 'Animation',\n",
       " 35: 'Comedy',\n",
       " 80: 'Crime',\n",
       " 99: 'Documentary',\n",
       " 18: 'Drama',\n",
       " 10751: 'Family',\n",
       " 10762: 'Kids',\n",
       " 9648: 'Mystery',\n",
       " 10763: 'News',\n",
       " 10764: 'Reality',\n",
       " 10765: 'Sci-Fi & Fantasy',\n",
       " 10766: 'Soap',\n",
       " 10767: 'Talk',\n",
       " 10768: 'War & Politics',\n",
       " 37: 'Western'}"
      ]
     },
     "execution_count": 2,
     "metadata": {},
     "output_type": "execute_result"
    }
   ],
   "source": [
    "genres = {\"genres\":[{\"id\":10759,\"name\":\"Action & Adventure\"},{\"id\":16,\"name\":\"Animation\"},{\"id\":35,\"name\":\"Comedy\"},{\"id\":80,\"name\":\"Crime\"},{\"id\":99,\"name\":\"Documentary\"},{\"id\":18,\"name\":\"Drama\"},{\"id\":10751,\"name\":\"Family\"},{\"id\":10762,\"name\":\"Kids\"},{\"id\":9648,\"name\":\"Mystery\"},{\"id\":10763,\"name\":\"News\"},{\"id\":10764,\"name\":\"Reality\"},{\"id\":10765,\"name\":\"Sci-Fi & Fantasy\"},{\"id\":10766,\"name\":\"Soap\"},{\"id\":10767,\"name\":\"Talk\"},{\"id\":10768,\"name\":\"War & Politics\"},{\"id\":37,\"name\":\"Western\"}]}\n",
    "genre_map = {}\n",
    "for obj in genres['genres']:\n",
    "    genre_map[obj['id']] = obj['name']\n",
    "genre_map"
   ]
  },
  {
   "cell_type": "code",
   "execution_count": 3,
   "metadata": {},
   "outputs": [],
   "source": [
    "db = pym.MongoClient()['tmdb']\n",
    "tvseries = db['tvseries']"
   ]
  },
  {
   "cell_type": "code",
   "execution_count": 4,
   "metadata": {},
   "outputs": [
    {
     "data": {
      "text/plain": [
       "InsertManyResult([ObjectId('67b8b766ac238144c3ef7f4f'), ObjectId('67b8b766ac238144c3ef7f50'), ObjectId('67b8b766ac238144c3ef7f51'), ObjectId('67b8b766ac238144c3ef7f52'), ObjectId('67b8b766ac238144c3ef7f53'), ObjectId('67b8b766ac238144c3ef7f54'), ObjectId('67b8b766ac238144c3ef7f55'), ObjectId('67b8b766ac238144c3ef7f56'), ObjectId('67b8b766ac238144c3ef7f57'), ObjectId('67b8b766ac238144c3ef7f58'), ObjectId('67b8b766ac238144c3ef7f59'), ObjectId('67b8b766ac238144c3ef7f5a'), ObjectId('67b8b766ac238144c3ef7f5b'), ObjectId('67b8b766ac238144c3ef7f5c'), ObjectId('67b8b766ac238144c3ef7f5d'), ObjectId('67b8b766ac238144c3ef7f5e'), ObjectId('67b8b766ac238144c3ef7f5f'), ObjectId('67b8b766ac238144c3ef7f60'), ObjectId('67b8b766ac238144c3ef7f61'), ObjectId('67b8b766ac238144c3ef7f62'), ObjectId('67b8b766ac238144c3ef7f63'), ObjectId('67b8b766ac238144c3ef7f64'), ObjectId('67b8b766ac238144c3ef7f65'), ObjectId('67b8b766ac238144c3ef7f66'), ObjectId('67b8b766ac238144c3ef7f67'), ObjectId('67b8b766ac238144c3ef7f68'), ObjectId('67b8b766ac238144c3ef7f69'), ObjectId('67b8b766ac238144c3ef7f6a'), ObjectId('67b8b766ac238144c3ef7f6b'), ObjectId('67b8b766ac238144c3ef7f6c'), ObjectId('67b8b766ac238144c3ef7f6d'), ObjectId('67b8b766ac238144c3ef7f6e'), ObjectId('67b8b766ac238144c3ef7f6f'), ObjectId('67b8b766ac238144c3ef7f70'), ObjectId('67b8b766ac238144c3ef7f71'), ObjectId('67b8b766ac238144c3ef7f72'), ObjectId('67b8b766ac238144c3ef7f73'), ObjectId('67b8b766ac238144c3ef7f74'), ObjectId('67b8b766ac238144c3ef7f75'), ObjectId('67b8b766ac238144c3ef7f76'), ObjectId('67b8b766ac238144c3ef7f77'), ObjectId('67b8b766ac238144c3ef7f78'), ObjectId('67b8b766ac238144c3ef7f79'), ObjectId('67b8b766ac238144c3ef7f7a'), ObjectId('67b8b766ac238144c3ef7f7b'), ObjectId('67b8b766ac238144c3ef7f7c'), ObjectId('67b8b766ac238144c3ef7f7d'), ObjectId('67b8b766ac238144c3ef7f7e'), ObjectId('67b8b766ac238144c3ef7f7f'), ObjectId('67b8b766ac238144c3ef7f80'), ObjectId('67b8b766ac238144c3ef7f81'), ObjectId('67b8b766ac238144c3ef7f82'), ObjectId('67b8b766ac238144c3ef7f83'), ObjectId('67b8b766ac238144c3ef7f84'), ObjectId('67b8b766ac238144c3ef7f85'), ObjectId('67b8b766ac238144c3ef7f86'), ObjectId('67b8b766ac238144c3ef7f87'), ObjectId('67b8b766ac238144c3ef7f88'), ObjectId('67b8b766ac238144c3ef7f89'), ObjectId('67b8b766ac238144c3ef7f8a'), ObjectId('67b8b766ac238144c3ef7f8b'), ObjectId('67b8b766ac238144c3ef7f8c'), ObjectId('67b8b766ac238144c3ef7f8d'), ObjectId('67b8b766ac238144c3ef7f8e'), ObjectId('67b8b766ac238144c3ef7f8f'), ObjectId('67b8b766ac238144c3ef7f90'), ObjectId('67b8b766ac238144c3ef7f91'), ObjectId('67b8b766ac238144c3ef7f92'), ObjectId('67b8b766ac238144c3ef7f93'), ObjectId('67b8b766ac238144c3ef7f94'), ObjectId('67b8b766ac238144c3ef7f95'), ObjectId('67b8b766ac238144c3ef7f96'), ObjectId('67b8b766ac238144c3ef7f97'), ObjectId('67b8b766ac238144c3ef7f98'), ObjectId('67b8b766ac238144c3ef7f99'), ObjectId('67b8b766ac238144c3ef7f9a'), ObjectId('67b8b766ac238144c3ef7f9b'), ObjectId('67b8b766ac238144c3ef7f9c'), ObjectId('67b8b766ac238144c3ef7f9d'), ObjectId('67b8b766ac238144c3ef7f9e'), ObjectId('67b8b766ac238144c3ef7f9f'), ObjectId('67b8b766ac238144c3ef7fa0'), ObjectId('67b8b766ac238144c3ef7fa1'), ObjectId('67b8b766ac238144c3ef7fa2'), ObjectId('67b8b766ac238144c3ef7fa3'), ObjectId('67b8b766ac238144c3ef7fa4'), ObjectId('67b8b766ac238144c3ef7fa5'), ObjectId('67b8b766ac238144c3ef7fa6'), ObjectId('67b8b766ac238144c3ef7fa7'), ObjectId('67b8b766ac238144c3ef7fa8'), ObjectId('67b8b766ac238144c3ef7fa9'), ObjectId('67b8b766ac238144c3ef7faa'), ObjectId('67b8b766ac238144c3ef7fab'), ObjectId('67b8b766ac238144c3ef7fac'), ObjectId('67b8b766ac238144c3ef7fad'), ObjectId('67b8b766ac238144c3ef7fae'), ObjectId('67b8b766ac238144c3ef7faf'), ObjectId('67b8b766ac238144c3ef7fb0'), ObjectId('67b8b766ac238144c3ef7fb1'), ObjectId('67b8b766ac238144c3ef7fb2'), ObjectId('67b8b766ac238144c3ef7fb3'), ObjectId('67b8b766ac238144c3ef7fb4'), ObjectId('67b8b766ac238144c3ef7fb5'), ObjectId('67b8b766ac238144c3ef7fb6'), ObjectId('67b8b766ac238144c3ef7fb7'), ObjectId('67b8b766ac238144c3ef7fb8'), ObjectId('67b8b766ac238144c3ef7fb9'), ObjectId('67b8b766ac238144c3ef7fba'), ObjectId('67b8b766ac238144c3ef7fbb'), ObjectId('67b8b766ac238144c3ef7fbc'), ObjectId('67b8b766ac238144c3ef7fbd'), ObjectId('67b8b766ac238144c3ef7fbe'), ObjectId('67b8b766ac238144c3ef7fbf'), ObjectId('67b8b766ac238144c3ef7fc0'), ObjectId('67b8b766ac238144c3ef7fc1'), ObjectId('67b8b766ac238144c3ef7fc2'), ObjectId('67b8b766ac238144c3ef7fc3'), ObjectId('67b8b766ac238144c3ef7fc4'), ObjectId('67b8b766ac238144c3ef7fc5'), ObjectId('67b8b766ac238144c3ef7fc6'), ObjectId('67b8b766ac238144c3ef7fc7'), ObjectId('67b8b766ac238144c3ef7fc8'), ObjectId('67b8b766ac238144c3ef7fc9'), ObjectId('67b8b766ac238144c3ef7fca'), ObjectId('67b8b766ac238144c3ef7fcb'), ObjectId('67b8b766ac238144c3ef7fcc'), ObjectId('67b8b766ac238144c3ef7fcd'), ObjectId('67b8b766ac238144c3ef7fce'), ObjectId('67b8b766ac238144c3ef7fcf'), ObjectId('67b8b766ac238144c3ef7fd0'), ObjectId('67b8b766ac238144c3ef7fd1'), ObjectId('67b8b766ac238144c3ef7fd2'), ObjectId('67b8b766ac238144c3ef7fd3'), ObjectId('67b8b766ac238144c3ef7fd4'), ObjectId('67b8b766ac238144c3ef7fd5'), ObjectId('67b8b766ac238144c3ef7fd6'), ObjectId('67b8b766ac238144c3ef7fd7'), ObjectId('67b8b766ac238144c3ef7fd8'), ObjectId('67b8b766ac238144c3ef7fd9'), ObjectId('67b8b766ac238144c3ef7fda'), ObjectId('67b8b766ac238144c3ef7fdb'), ObjectId('67b8b766ac238144c3ef7fdc'), ObjectId('67b8b766ac238144c3ef7fdd'), ObjectId('67b8b766ac238144c3ef7fde'), ObjectId('67b8b766ac238144c3ef7fdf'), ObjectId('67b8b766ac238144c3ef7fe0'), ObjectId('67b8b766ac238144c3ef7fe1'), ObjectId('67b8b766ac238144c3ef7fe2'), ObjectId('67b8b766ac238144c3ef7fe3'), ObjectId('67b8b766ac238144c3ef7fe4'), ObjectId('67b8b766ac238144c3ef7fe5'), ObjectId('67b8b766ac238144c3ef7fe6'), ObjectId('67b8b766ac238144c3ef7fe7'), ObjectId('67b8b766ac238144c3ef7fe8'), ObjectId('67b8b766ac238144c3ef7fe9'), ObjectId('67b8b766ac238144c3ef7fea'), ObjectId('67b8b766ac238144c3ef7feb'), ObjectId('67b8b766ac238144c3ef7fec'), ObjectId('67b8b766ac238144c3ef7fed'), ObjectId('67b8b766ac238144c3ef7fee'), ObjectId('67b8b766ac238144c3ef7fef'), ObjectId('67b8b766ac238144c3ef7ff0'), ObjectId('67b8b766ac238144c3ef7ff1'), ObjectId('67b8b766ac238144c3ef7ff2'), ObjectId('67b8b766ac238144c3ef7ff3'), ObjectId('67b8b766ac238144c3ef7ff4'), ObjectId('67b8b766ac238144c3ef7ff5'), ObjectId('67b8b766ac238144c3ef7ff6'), ObjectId('67b8b766ac238144c3ef7ff7'), ObjectId('67b8b766ac238144c3ef7ff8'), ObjectId('67b8b766ac238144c3ef7ff9'), ObjectId('67b8b766ac238144c3ef7ffa'), ObjectId('67b8b766ac238144c3ef7ffb'), ObjectId('67b8b766ac238144c3ef7ffc'), ObjectId('67b8b766ac238144c3ef7ffd'), ObjectId('67b8b766ac238144c3ef7ffe'), ObjectId('67b8b766ac238144c3ef7fff'), ObjectId('67b8b766ac238144c3ef8000'), ObjectId('67b8b766ac238144c3ef8001'), ObjectId('67b8b766ac238144c3ef8002'), ObjectId('67b8b766ac238144c3ef8003'), ObjectId('67b8b766ac238144c3ef8004'), ObjectId('67b8b766ac238144c3ef8005'), ObjectId('67b8b766ac238144c3ef8006'), ObjectId('67b8b766ac238144c3ef8007'), ObjectId('67b8b766ac238144c3ef8008'), ObjectId('67b8b766ac238144c3ef8009'), ObjectId('67b8b766ac238144c3ef800a'), ObjectId('67b8b766ac238144c3ef800b'), ObjectId('67b8b766ac238144c3ef800c'), ObjectId('67b8b766ac238144c3ef800d'), ObjectId('67b8b766ac238144c3ef800e'), ObjectId('67b8b766ac238144c3ef800f'), ObjectId('67b8b766ac238144c3ef8010'), ObjectId('67b8b766ac238144c3ef8011'), ObjectId('67b8b766ac238144c3ef8012'), ObjectId('67b8b766ac238144c3ef8013'), ObjectId('67b8b766ac238144c3ef8014'), ObjectId('67b8b766ac238144c3ef8015'), ObjectId('67b8b766ac238144c3ef8016')], acknowledged=True)"
      ]
     },
     "execution_count": 4,
     "metadata": {},
     "output_type": "execute_result"
    }
   ],
   "source": [
    "tv_series_raw = mvd.get_tv_series_top_rated(pages=10)\n",
    "tv_series_data = []\n",
    "for tvs in tv_series_raw:\n",
    "    tvs['first_air_date'] = datetime.strptime(tvs['first_air_date'], \"%Y-%m-%d\")\n",
    "    tvs['genre_labels'] = [genre_map[x] for x in tvs['genres']]\n",
    "    tv_series_data.append(tvs)\n",
    "tvseries.insert_many(tv_series_data)"
   ]
  },
  {
   "cell_type": "markdown",
   "metadata": {},
   "source": [
    "**Add some of the popular not yet included in the top rated**"
   ]
  },
  {
   "cell_type": "code",
   "execution_count": 5,
   "metadata": {},
   "outputs": [
    {
     "data": {
      "text/plain": [
       "InsertManyResult([ObjectId('67b8b76eac238144c3ef8017'), ObjectId('67b8b76eac238144c3ef8018'), ObjectId('67b8b76eac238144c3ef8019'), ObjectId('67b8b76eac238144c3ef801a'), ObjectId('67b8b76eac238144c3ef801b'), ObjectId('67b8b76eac238144c3ef801c'), ObjectId('67b8b76eac238144c3ef801d'), ObjectId('67b8b76eac238144c3ef801e'), ObjectId('67b8b76eac238144c3ef801f'), ObjectId('67b8b76eac238144c3ef8020'), ObjectId('67b8b76eac238144c3ef8021'), ObjectId('67b8b76eac238144c3ef8022'), ObjectId('67b8b76eac238144c3ef8023'), ObjectId('67b8b76eac238144c3ef8024'), ObjectId('67b8b76eac238144c3ef8025'), ObjectId('67b8b76eac238144c3ef8026'), ObjectId('67b8b76eac238144c3ef8027'), ObjectId('67b8b76eac238144c3ef8028'), ObjectId('67b8b76eac238144c3ef8029'), ObjectId('67b8b76eac238144c3ef802a'), ObjectId('67b8b76eac238144c3ef802b'), ObjectId('67b8b76eac238144c3ef802c'), ObjectId('67b8b76eac238144c3ef802d'), ObjectId('67b8b76eac238144c3ef802e'), ObjectId('67b8b76eac238144c3ef802f'), ObjectId('67b8b76eac238144c3ef8030'), ObjectId('67b8b76eac238144c3ef8031'), ObjectId('67b8b76eac238144c3ef8032'), ObjectId('67b8b76eac238144c3ef8033'), ObjectId('67b8b76eac238144c3ef8034'), ObjectId('67b8b76eac238144c3ef8035'), ObjectId('67b8b76eac238144c3ef8036'), ObjectId('67b8b76eac238144c3ef8037'), ObjectId('67b8b76eac238144c3ef8038'), ObjectId('67b8b76eac238144c3ef8039'), ObjectId('67b8b76eac238144c3ef803a'), ObjectId('67b8b76eac238144c3ef803b'), ObjectId('67b8b76eac238144c3ef803c'), ObjectId('67b8b76eac238144c3ef803d'), ObjectId('67b8b76eac238144c3ef803e'), ObjectId('67b8b76eac238144c3ef803f'), ObjectId('67b8b76eac238144c3ef8040'), ObjectId('67b8b76eac238144c3ef8041'), ObjectId('67b8b76eac238144c3ef8042'), ObjectId('67b8b76eac238144c3ef8043'), ObjectId('67b8b76eac238144c3ef8044'), ObjectId('67b8b76eac238144c3ef8045'), ObjectId('67b8b76eac238144c3ef8046'), ObjectId('67b8b76eac238144c3ef8047'), ObjectId('67b8b76eac238144c3ef8048'), ObjectId('67b8b76eac238144c3ef8049'), ObjectId('67b8b76eac238144c3ef804a'), ObjectId('67b8b76eac238144c3ef804b'), ObjectId('67b8b76eac238144c3ef804c'), ObjectId('67b8b76eac238144c3ef804d'), ObjectId('67b8b76eac238144c3ef804e'), ObjectId('67b8b76eac238144c3ef804f'), ObjectId('67b8b76eac238144c3ef8050'), ObjectId('67b8b76eac238144c3ef8051'), ObjectId('67b8b76eac238144c3ef8052'), ObjectId('67b8b76eac238144c3ef8053'), ObjectId('67b8b76eac238144c3ef8054'), ObjectId('67b8b76eac238144c3ef8055'), ObjectId('67b8b76eac238144c3ef8056'), ObjectId('67b8b76eac238144c3ef8057'), ObjectId('67b8b76eac238144c3ef8058'), ObjectId('67b8b76eac238144c3ef8059'), ObjectId('67b8b76eac238144c3ef805a'), ObjectId('67b8b76eac238144c3ef805b'), ObjectId('67b8b76eac238144c3ef805c'), ObjectId('67b8b76eac238144c3ef805d'), ObjectId('67b8b76eac238144c3ef805e'), ObjectId('67b8b76eac238144c3ef805f'), ObjectId('67b8b76eac238144c3ef8060'), ObjectId('67b8b76eac238144c3ef8061'), ObjectId('67b8b76eac238144c3ef8062'), ObjectId('67b8b76eac238144c3ef8063'), ObjectId('67b8b76eac238144c3ef8064'), ObjectId('67b8b76eac238144c3ef8065'), ObjectId('67b8b76eac238144c3ef8066'), ObjectId('67b8b76eac238144c3ef8067'), ObjectId('67b8b76eac238144c3ef8068'), ObjectId('67b8b76eac238144c3ef8069'), ObjectId('67b8b76eac238144c3ef806a'), ObjectId('67b8b76eac238144c3ef806b'), ObjectId('67b8b76eac238144c3ef806c'), ObjectId('67b8b76eac238144c3ef806d'), ObjectId('67b8b76eac238144c3ef806e'), ObjectId('67b8b76eac238144c3ef806f'), ObjectId('67b8b76eac238144c3ef8070'), ObjectId('67b8b76eac238144c3ef8071'), ObjectId('67b8b76eac238144c3ef8072'), ObjectId('67b8b76eac238144c3ef8073'), ObjectId('67b8b76eac238144c3ef8074'), ObjectId('67b8b76eac238144c3ef8075'), ObjectId('67b8b76eac238144c3ef8076'), ObjectId('67b8b76eac238144c3ef8077'), ObjectId('67b8b76eac238144c3ef8078'), ObjectId('67b8b76eac238144c3ef8079'), ObjectId('67b8b76eac238144c3ef807a'), ObjectId('67b8b76eac238144c3ef807b'), ObjectId('67b8b76eac238144c3ef807c'), ObjectId('67b8b76eac238144c3ef807d'), ObjectId('67b8b76eac238144c3ef807e'), ObjectId('67b8b76eac238144c3ef807f'), ObjectId('67b8b76eac238144c3ef8080'), ObjectId('67b8b76eac238144c3ef8081'), ObjectId('67b8b76eac238144c3ef8082'), ObjectId('67b8b76eac238144c3ef8083'), ObjectId('67b8b76eac238144c3ef8084'), ObjectId('67b8b76eac238144c3ef8085'), ObjectId('67b8b76eac238144c3ef8086'), ObjectId('67b8b76eac238144c3ef8087'), ObjectId('67b8b76eac238144c3ef8088'), ObjectId('67b8b76eac238144c3ef8089'), ObjectId('67b8b76eac238144c3ef808a'), ObjectId('67b8b76eac238144c3ef808b'), ObjectId('67b8b76eac238144c3ef808c'), ObjectId('67b8b76eac238144c3ef808d'), ObjectId('67b8b76eac238144c3ef808e'), ObjectId('67b8b76eac238144c3ef808f'), ObjectId('67b8b76eac238144c3ef8090'), ObjectId('67b8b76eac238144c3ef8091'), ObjectId('67b8b76eac238144c3ef8092'), ObjectId('67b8b76eac238144c3ef8093'), ObjectId('67b8b76eac238144c3ef8094'), ObjectId('67b8b76eac238144c3ef8095'), ObjectId('67b8b76eac238144c3ef8096'), ObjectId('67b8b76eac238144c3ef8097'), ObjectId('67b8b76eac238144c3ef8098'), ObjectId('67b8b76eac238144c3ef8099'), ObjectId('67b8b76eac238144c3ef809a'), ObjectId('67b8b76eac238144c3ef809b'), ObjectId('67b8b76eac238144c3ef809c'), ObjectId('67b8b76eac238144c3ef809d'), ObjectId('67b8b76eac238144c3ef809e'), ObjectId('67b8b76eac238144c3ef809f'), ObjectId('67b8b76eac238144c3ef80a0'), ObjectId('67b8b76eac238144c3ef80a1'), ObjectId('67b8b76eac238144c3ef80a2'), ObjectId('67b8b76eac238144c3ef80a3'), ObjectId('67b8b76eac238144c3ef80a4'), ObjectId('67b8b76eac238144c3ef80a5'), ObjectId('67b8b76eac238144c3ef80a6'), ObjectId('67b8b76eac238144c3ef80a7'), ObjectId('67b8b76eac238144c3ef80a8'), ObjectId('67b8b76eac238144c3ef80a9'), ObjectId('67b8b76eac238144c3ef80aa'), ObjectId('67b8b76eac238144c3ef80ab'), ObjectId('67b8b76eac238144c3ef80ac'), ObjectId('67b8b76eac238144c3ef80ad'), ObjectId('67b8b76eac238144c3ef80ae'), ObjectId('67b8b76eac238144c3ef80af'), ObjectId('67b8b76eac238144c3ef80b0'), ObjectId('67b8b76eac238144c3ef80b1'), ObjectId('67b8b76eac238144c3ef80b2'), ObjectId('67b8b76eac238144c3ef80b3'), ObjectId('67b8b76eac238144c3ef80b4'), ObjectId('67b8b76eac238144c3ef80b5'), ObjectId('67b8b76eac238144c3ef80b6'), ObjectId('67b8b76eac238144c3ef80b7'), ObjectId('67b8b76eac238144c3ef80b8'), ObjectId('67b8b76eac238144c3ef80b9'), ObjectId('67b8b76eac238144c3ef80ba'), ObjectId('67b8b76eac238144c3ef80bb'), ObjectId('67b8b76eac238144c3ef80bc'), ObjectId('67b8b76eac238144c3ef80bd'), ObjectId('67b8b76eac238144c3ef80be'), ObjectId('67b8b76eac238144c3ef80bf'), ObjectId('67b8b76eac238144c3ef80c0'), ObjectId('67b8b76eac238144c3ef80c1'), ObjectId('67b8b76eac238144c3ef80c2'), ObjectId('67b8b76eac238144c3ef80c3'), ObjectId('67b8b76eac238144c3ef80c4'), ObjectId('67b8b76eac238144c3ef80c5'), ObjectId('67b8b76eac238144c3ef80c6'), ObjectId('67b8b76eac238144c3ef80c7'), ObjectId('67b8b76eac238144c3ef80c8'), ObjectId('67b8b76eac238144c3ef80c9'), ObjectId('67b8b76eac238144c3ef80ca'), ObjectId('67b8b76eac238144c3ef80cb'), ObjectId('67b8b76eac238144c3ef80cc'), ObjectId('67b8b76eac238144c3ef80cd'), ObjectId('67b8b76eac238144c3ef80ce'), ObjectId('67b8b76eac238144c3ef80cf'), ObjectId('67b8b76eac238144c3ef80d0'), ObjectId('67b8b76eac238144c3ef80d1'), ObjectId('67b8b76eac238144c3ef80d2'), ObjectId('67b8b76eac238144c3ef80d3'), ObjectId('67b8b76eac238144c3ef80d4'), ObjectId('67b8b76eac238144c3ef80d5'), ObjectId('67b8b76eac238144c3ef80d6'), ObjectId('67b8b76eac238144c3ef80d7'), ObjectId('67b8b76eac238144c3ef80d8'), ObjectId('67b8b76eac238144c3ef80d9'), ObjectId('67b8b76eac238144c3ef80da')], acknowledged=True)"
      ]
     },
     "execution_count": 5,
     "metadata": {},
     "output_type": "execute_result"
    }
   ],
   "source": [
    "series_in_db = set(tvseries.distinct('id'))\n",
    "tv_series_raw = mvd.get_tv_series_popular(pages=10)\n",
    "tv_series_data = []\n",
    "for tvs in tv_series_raw:\n",
    "    if tvs['id'] not in series_in_db:\n",
    "        tvs['first_air_date'] = datetime.strptime(tvs['first_air_date'], \"%Y-%m-%d\")\n",
    "        tvs['genre_labels'] = [genre_map[x] for x in tvs['genres']]\n",
    "        tv_series_data.append(tvs)\n",
    "tvseries.insert_many(tv_series_data)"
   ]
  },
  {
   "cell_type": "code",
   "execution_count": null,
   "metadata": {},
   "outputs": [],
   "source": []
  }
 ],
 "metadata": {
  "kernelspec": {
   "display_name": "nlp",
   "language": "python",
   "name": "python3"
  },
  "language_info": {
   "codemirror_mode": {
    "name": "ipython",
    "version": 3
   },
   "file_extension": ".py",
   "mimetype": "text/x-python",
   "name": "python",
   "nbconvert_exporter": "python",
   "pygments_lexer": "ipython3",
   "version": "3.10.4"
  }
 },
 "nbformat": 4,
 "nbformat_minor": 2
}
