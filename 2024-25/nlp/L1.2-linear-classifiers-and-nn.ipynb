{
 "cells": [
  {
   "cell_type": "markdown",
   "id": "43e0fe86",
   "metadata": {},
   "source": [
    "##### Master Degree in Computer Science and Data Science for Economics\n",
    "\n",
    "# General introduction to linear classification and non linear classification with neural networks\n",
    "\n",
    "### Alfio Ferrara\n",
    "\n",
    "Problem: given a set of data, assume that they are linearly separable and find a good boundary between the classes."
   ]
  },
  {
   "cell_type": "code",
   "execution_count": 1,
   "id": "e22a0ccc",
   "metadata": {},
   "outputs": [],
   "source": [
    "import pandas as pd\n",
    "import numpy as np\n",
    "from tqdm.notebook import tqdm"
   ]
  },
  {
   "cell_type": "code",
   "execution_count": 2,
   "id": "daab2606",
   "metadata": {},
   "outputs": [],
   "source": [
    "import matplotlib.pyplot as plt"
   ]
  },
  {
   "cell_type": "markdown",
   "id": "1aafcc4f",
   "metadata": {},
   "source": [
    "## Dataset\n",
    "For the examples, we are going to use the [**Food.com Recipes with Search Terms and Tags**](https://www.kaggle.com/datasets/shuyangli94/foodcom-recipes-with-search-terms-and-tags).\n",
    "\n",
    "Each recipe is a collection of ingredients and the task is to guess the kind of cuisine (multi-class classification).\n",
    "\n",
    "First, we compute some statistics on the dataset in order to find the most specific ingredients for each type of cuisine."
   ]
  },
  {
   "cell_type": "code",
   "execution_count": 3,
   "id": "444c4ad4",
   "metadata": {},
   "outputs": [],
   "source": [
    "from collections import defaultdict\n",
    "import pymongo\n",
    "import pandas as pd\n",
    "import numpy as np \n",
    "import matplotlib.pyplot as plt\n",
    "import seaborn as sns"
   ]
  },
  {
   "cell_type": "code",
   "execution_count": 4,
   "id": "5c8e8921",
   "metadata": {},
   "outputs": [],
   "source": [
    "db = pymongo.MongoClient()['cousine']\n",
    "recipes = db['foodcom']\n",
    "label_field = 'category'\n",
    "data = []\n",
    "labels = ['italian', 'indian', 'southern', 'mexican', 'chinese', 'greek']\n",
    "\n",
    "q = {'search_terms': {'$in': labels}}\n",
    "for recipe in recipes.find(q):\n",
    "    data.append({\n",
    "        'ingredients': recipe['ingredients'],\n",
    "        label_field: [x for x in recipe['search_terms'] if x in labels][0]\n",
    "    })"
   ]
  },
  {
   "cell_type": "code",
   "execution_count": 5,
   "id": "c0d32948",
   "metadata": {},
   "outputs": [],
   "source": [
    "cuisine = defaultdict(list)\n",
    "document_frequency = defaultdict(lambda: 0)\n",
    "cuisine_frequency = defaultdict(lambda: defaultdict(lambda: 0))\n",
    "for recipe in data:\n",
    "    cuisine[recipe[label_field]].append(recipe)\n",
    "    for ingredient in recipe['ingredients']:\n",
    "        document_frequency[ingredient] += 1\n",
    "        cuisine_frequency[recipe[label_field]][ingredient] += 1"
   ]
  },
  {
   "cell_type": "markdown",
   "id": "e6e47925",
   "metadata": {},
   "source": [
    "### Specificity of ingredients"
   ]
  },
  {
   "cell_type": "code",
   "execution_count": 6,
   "id": "628f9cce",
   "metadata": {},
   "outputs": [],
   "source": [
    "kl_ingredients = defaultdict(lambda: defaultdict(lambda: 0))\n",
    "N = sum(document_frequency.values())\n",
    "for c, i in cuisine_frequency.items():\n",
    "    T = sum(i.values())\n",
    "    for x, f in i.items():\n",
    "        kl_ingredients[c][x] = f / T * np.log((f / T) / (document_frequency[x] / N))"
   ]
  },
  {
   "cell_type": "code",
   "execution_count": 7,
   "id": "c1846552",
   "metadata": {},
   "outputs": [],
   "source": [
    "KL = pd.DataFrame(kl_ingredients).fillna(-1).T"
   ]
  },
  {
   "cell_type": "code",
   "execution_count": 9,
   "id": "f9fc7633",
   "metadata": {},
   "outputs": [
    {
     "data": {
      "text/html": [
       "<div>\n",
       "<style scoped>\n",
       "    .dataframe tbody tr th:only-of-type {\n",
       "        vertical-align: middle;\n",
       "    }\n",
       "\n",
       "    .dataframe tbody tr th {\n",
       "        vertical-align: top;\n",
       "    }\n",
       "\n",
       "    .dataframe thead th {\n",
       "        text-align: right;\n",
       "    }\n",
       "</style>\n",
       "<table border=\"1\" class=\"dataframe\">\n",
       "  <thead>\n",
       "    <tr style=\"text-align: right;\">\n",
       "      <th></th>\n",
       "      <th>zucchini</th>\n",
       "      <th>yellow squash</th>\n",
       "      <th>diced tomatoes</th>\n",
       "      <th>onion</th>\n",
       "      <th>garlic</th>\n",
       "      <th>green bell pepper</th>\n",
       "      <th>italian seasoning</th>\n",
       "      <th>water</th>\n",
       "      <th>salt and pepper</th>\n",
       "      <th>button mushrooms</th>\n",
       "      <th>...</th>\n",
       "      <th>sweet bread crumbs</th>\n",
       "      <th>unsalted cheese</th>\n",
       "      <th>rusks</th>\n",
       "      <th>lamb blade chops</th>\n",
       "      <th>whole grain bagel</th>\n",
       "      <th>stolichnaya vodka</th>\n",
       "      <th>vegan chicken seasoning</th>\n",
       "      <th>garlic parmesan pretzel crisps%c2%ae</th>\n",
       "      <th>dill dip</th>\n",
       "      <th>pocketless pita</th>\n",
       "    </tr>\n",
       "  </thead>\n",
       "  <tbody>\n",
       "    <tr>\n",
       "      <th>italian</th>\n",
       "      <td>0.003567</td>\n",
       "      <td>0.000150</td>\n",
       "      <td>0.001665</td>\n",
       "      <td>-0.000623</td>\n",
       "      <td>0.001975</td>\n",
       "      <td>-0.000778</td>\n",
       "      <td>0.007238</td>\n",
       "      <td>-0.003886</td>\n",
       "      <td>0.004128</td>\n",
       "      <td>0.000426</td>\n",
       "      <td>...</td>\n",
       "      <td>-1.0</td>\n",
       "      <td>-1.0</td>\n",
       "      <td>-1.0</td>\n",
       "      <td>-1.0</td>\n",
       "      <td>-1.0</td>\n",
       "      <td>-1.0</td>\n",
       "      <td>-1.0</td>\n",
       "      <td>-1.0</td>\n",
       "      <td>-1.0</td>\n",
       "      <td>-1.0</td>\n",
       "    </tr>\n",
       "    <tr>\n",
       "      <th>mexican</th>\n",
       "      <td>-0.000446</td>\n",
       "      <td>-0.000066</td>\n",
       "      <td>0.001361</td>\n",
       "      <td>0.008477</td>\n",
       "      <td>-0.001132</td>\n",
       "      <td>0.000905</td>\n",
       "      <td>-0.000340</td>\n",
       "      <td>-0.001304</td>\n",
       "      <td>-0.000801</td>\n",
       "      <td>-0.000101</td>\n",
       "      <td>...</td>\n",
       "      <td>-1.0</td>\n",
       "      <td>-1.0</td>\n",
       "      <td>-1.0</td>\n",
       "      <td>-1.0</td>\n",
       "      <td>-1.0</td>\n",
       "      <td>-1.0</td>\n",
       "      <td>-1.0</td>\n",
       "      <td>-1.0</td>\n",
       "      <td>-1.0</td>\n",
       "      <td>-1.0</td>\n",
       "    </tr>\n",
       "    <tr>\n",
       "      <th>southern</th>\n",
       "      <td>-0.000893</td>\n",
       "      <td>0.000301</td>\n",
       "      <td>-0.000619</td>\n",
       "      <td>-0.001807</td>\n",
       "      <td>-0.002068</td>\n",
       "      <td>0.002689</td>\n",
       "      <td>-0.000634</td>\n",
       "      <td>-0.000331</td>\n",
       "      <td>-0.000459</td>\n",
       "      <td>-0.000101</td>\n",
       "      <td>...</td>\n",
       "      <td>-1.0</td>\n",
       "      <td>-1.0</td>\n",
       "      <td>-1.0</td>\n",
       "      <td>-1.0</td>\n",
       "      <td>-1.0</td>\n",
       "      <td>-1.0</td>\n",
       "      <td>-1.0</td>\n",
       "      <td>-1.0</td>\n",
       "      <td>-1.0</td>\n",
       "      <td>-1.0</td>\n",
       "    </tr>\n",
       "    <tr>\n",
       "      <th>indian</th>\n",
       "      <td>-0.000890</td>\n",
       "      <td>-0.000105</td>\n",
       "      <td>-0.001037</td>\n",
       "      <td>0.002146</td>\n",
       "      <td>-0.000552</td>\n",
       "      <td>-0.000919</td>\n",
       "      <td>-0.000110</td>\n",
       "      <td>0.008571</td>\n",
       "      <td>-0.002672</td>\n",
       "      <td>-0.000002</td>\n",
       "      <td>...</td>\n",
       "      <td>-1.0</td>\n",
       "      <td>-1.0</td>\n",
       "      <td>-1.0</td>\n",
       "      <td>-1.0</td>\n",
       "      <td>-1.0</td>\n",
       "      <td>-1.0</td>\n",
       "      <td>-1.0</td>\n",
       "      <td>-1.0</td>\n",
       "      <td>-1.0</td>\n",
       "      <td>-1.0</td>\n",
       "    </tr>\n",
       "    <tr>\n",
       "      <th>chinese</th>\n",
       "      <td>-0.000902</td>\n",
       "      <td>-0.000108</td>\n",
       "      <td>-0.000470</td>\n",
       "      <td>-0.008297</td>\n",
       "      <td>0.005309</td>\n",
       "      <td>-0.000767</td>\n",
       "      <td>-0.000138</td>\n",
       "      <td>0.013080</td>\n",
       "      <td>-0.002650</td>\n",
       "      <td>0.000043</td>\n",
       "      <td>...</td>\n",
       "      <td>-1.0</td>\n",
       "      <td>-1.0</td>\n",
       "      <td>-1.0</td>\n",
       "      <td>-1.0</td>\n",
       "      <td>-1.0</td>\n",
       "      <td>-1.0</td>\n",
       "      <td>-1.0</td>\n",
       "      <td>-1.0</td>\n",
       "      <td>-1.0</td>\n",
       "      <td>-1.0</td>\n",
       "    </tr>\n",
       "  </tbody>\n",
       "</table>\n",
       "<p>5 rows × 10208 columns</p>\n",
       "</div>"
      ],
      "text/plain": [
       "          zucchini  yellow squash  diced tomatoes     onion    garlic  \\\n",
       "italian   0.003567       0.000150        0.001665 -0.000623  0.001975   \n",
       "mexican  -0.000446      -0.000066        0.001361  0.008477 -0.001132   \n",
       "southern -0.000893       0.000301       -0.000619 -0.001807 -0.002068   \n",
       "indian   -0.000890      -0.000105       -0.001037  0.002146 -0.000552   \n",
       "chinese  -0.000902      -0.000108       -0.000470 -0.008297  0.005309   \n",
       "\n",
       "          green bell pepper  italian seasoning     water  salt and pepper  \\\n",
       "italian           -0.000778           0.007238 -0.003886         0.004128   \n",
       "mexican            0.000905          -0.000340 -0.001304        -0.000801   \n",
       "southern           0.002689          -0.000634 -0.000331        -0.000459   \n",
       "indian            -0.000919          -0.000110  0.008571        -0.002672   \n",
       "chinese           -0.000767          -0.000138  0.013080        -0.002650   \n",
       "\n",
       "          button mushrooms  ...  sweet bread crumbs  unsalted cheese  rusks  \\\n",
       "italian           0.000426  ...                -1.0             -1.0   -1.0   \n",
       "mexican          -0.000101  ...                -1.0             -1.0   -1.0   \n",
       "southern         -0.000101  ...                -1.0             -1.0   -1.0   \n",
       "indian           -0.000002  ...                -1.0             -1.0   -1.0   \n",
       "chinese           0.000043  ...                -1.0             -1.0   -1.0   \n",
       "\n",
       "          lamb blade chops  whole grain bagel  stolichnaya vodka  \\\n",
       "italian               -1.0               -1.0               -1.0   \n",
       "mexican               -1.0               -1.0               -1.0   \n",
       "southern              -1.0               -1.0               -1.0   \n",
       "indian                -1.0               -1.0               -1.0   \n",
       "chinese               -1.0               -1.0               -1.0   \n",
       "\n",
       "          vegan chicken seasoning  garlic parmesan pretzel crisps%c2%ae  \\\n",
       "italian                      -1.0                                  -1.0   \n",
       "mexican                      -1.0                                  -1.0   \n",
       "southern                     -1.0                                  -1.0   \n",
       "indian                       -1.0                                  -1.0   \n",
       "chinese                      -1.0                                  -1.0   \n",
       "\n",
       "          dill dip  pocketless pita  \n",
       "italian       -1.0             -1.0  \n",
       "mexican       -1.0             -1.0  \n",
       "southern      -1.0             -1.0  \n",
       "indian        -1.0             -1.0  \n",
       "chinese       -1.0             -1.0  \n",
       "\n",
       "[5 rows x 10208 columns]"
      ]
     },
     "execution_count": 9,
     "metadata": {},
     "output_type": "execute_result"
    }
   ],
   "source": [
    "KL.head()"
   ]
  },
  {
   "cell_type": "code",
   "execution_count": 10,
   "id": "5b396580",
   "metadata": {},
   "outputs": [
    {
     "data": {
      "text/plain": [
       "parmesan cheese           0.036814\n",
       "olive oil                 0.023101\n",
       "mozzarella cheese         0.014691\n",
       "extra virgin olive oil    0.012431\n",
       "fresh basil               0.009392\n",
       "Name: italian, dtype: float64"
      ]
     },
     "execution_count": 10,
     "metadata": {},
     "output_type": "execute_result"
    }
   ],
   "source": [
    "KL.loc['italian'].sort_values(ascending=False).head(5)"
   ]
  },
  {
   "cell_type": "code",
   "execution_count": 11,
   "id": "db4f5c52",
   "metadata": {},
   "outputs": [
    {
     "data": {
      "text/plain": [
       "soy sauce       0.103635\n",
       "cornstarch      0.069609\n",
       "sesame oil      0.059794\n",
       "peanut oil      0.025632\n",
       "fresh ginger    0.024135\n",
       "Name: chinese, dtype: float64"
      ]
     },
     "execution_count": 11,
     "metadata": {},
     "output_type": "execute_result"
    }
   ],
   "source": [
    "KL.loc['chinese'].sort_values(ascending=False).head(5)"
   ]
  },
  {
   "cell_type": "markdown",
   "id": "dfb5b6d5",
   "metadata": {},
   "source": [
    "## Starting with linear regression\n",
    "In order to discuss linear regression, we select a type of cuisine and we create a special dataset where we have only one feature $x$ representing the fraction of that cuisine-specific ingredients in each recipe.\n",
    "\n",
    "The target variable is an arbitrary function $f(x)$ defined over $x$. "
   ]
  },
  {
   "cell_type": "code",
   "execution_count": 12,
   "id": "e9ca9e1e",
   "metadata": {},
   "outputs": [],
   "source": [
    "import matplotlib.pyplot as plt"
   ]
  },
  {
   "cell_type": "code",
   "execution_count": 13,
   "id": "87bd080b",
   "metadata": {},
   "outputs": [],
   "source": [
    "cuisine = 'italian'\n",
    "specific_ingredients = set(KL.loc[cuisine][KL.loc[cuisine] > 0].keys())\n",
    "target_function = lambda x: 6 + 2 * x + np.random.randn(x.shape[0], 1)"
   ]
  },
  {
   "cell_type": "code",
   "execution_count": 14,
   "id": "27764f5b",
   "metadata": {},
   "outputs": [],
   "source": [
    "sample_size = 200\n",
    "X = np.zeros((sample_size, 1))\n",
    "for i, recipe in enumerate(data[:sample_size]):\n",
    "    ingredients = recipe['ingredients']\n",
    "    X[i,0] = len([x for x in ingredients if x in specific_ingredients]) / len(ingredients)\n",
    "y = target_function(X)"
   ]
  },
  {
   "cell_type": "code",
   "execution_count": 15,
   "id": "16d5b376",
   "metadata": {},
   "outputs": [
    {
     "data": {
      "image/png": "[encoded data removed]",
      "text/plain": [
       "<Figure size 800x400 with 1 Axes>"
      ]
     },
     "metadata": {},
     "output_type": "display_data"
    }
   ],
   "source": [
    "fig, ax = plt.subplots(figsize=(8, 4))\n",
    "ax.scatter(X, y, alpha=.6)\n",
    "plt.tight_layout()\n",
    "plt.show()"
   ]
  },
  {
   "cell_type": "markdown",
   "id": "521515c6",
   "metadata": {},
   "source": [
    "### Linear regression model prediction\n",
    "The general form of the linear regression prediction function is:\n",
    "\n",
    "$$\n",
    "\\hat{y} = \\theta_0 + \\theta_1 x_1 + \\theta_2 x_2 + \\dots + \\theta_{n-1} x_{n-1} + \\theta_{n} x_{n}\n",
    "$$\n",
    "\n",
    "where $\\theta_1 \\dots \\theta_n$ are weights for the features and $\\theta_0$ represents a bias term."
   ]
  },
  {
   "cell_type": "code",
   "execution_count": 16,
   "id": "8acd078e",
   "metadata": {},
   "outputs": [],
   "source": [
    "theta = np.random.uniform(size=1 + X.shape[1]).reshape(-1, 1)"
   ]
  },
  {
   "cell_type": "code",
   "execution_count": 17,
   "id": "ae837a10",
   "metadata": {},
   "outputs": [
    {
     "data": {
      "text/plain": [
       "array([[0.39969813],\n",
       "       [0.62247586]])"
      ]
     },
     "execution_count": 17,
     "metadata": {},
     "output_type": "execute_result"
    }
   ],
   "source": [
    "theta"
   ]
  },
  {
   "cell_type": "code",
   "execution_count": 18,
   "id": "6cc6db38",
   "metadata": {},
   "outputs": [
    {
     "data": {
      "text/plain": [
       "np.float64(0.8146820380715687)"
      ]
     },
     "execution_count": 18,
     "metadata": {},
     "output_type": "execute_result"
    }
   ],
   "source": [
    "y_hat_0 = theta[0,0] + sum([theta[i+1,0]*X[0, i] for i in range(X.shape[1])])\n",
    "y_hat_0"
   ]
  },
  {
   "cell_type": "markdown",
   "id": "4e656165",
   "metadata": {},
   "source": [
    "Let's rewrite the function in its vector form\n",
    "\n",
    "$$\n",
    "\\hat{y} = \\theta^T \\cdot \\mathbf{x}\n",
    "$$\n",
    "\n",
    "note that we can manage the free bias term by adding a special feature with value 1 to all the items"
   ]
  },
  {
   "cell_type": "code",
   "execution_count": 19,
   "id": "a6c6e24d",
   "metadata": {},
   "outputs": [
    {
     "data": {
      "text/plain": [
       "array([[1.        , 0.66666667],\n",
       "       [1.        , 0.66666667]])"
      ]
     },
     "execution_count": 19,
     "metadata": {},
     "output_type": "execute_result"
    }
   ],
   "source": [
    "Xb = np.c_[np.ones((X.shape[0], 1)), X]\n",
    "Xb[:2]"
   ]
  },
  {
   "cell_type": "code",
   "execution_count": 20,
   "id": "fad93ed0",
   "metadata": {},
   "outputs": [
    {
     "data": {
      "text/plain": [
       "array([0.81468204])"
      ]
     },
     "execution_count": 20,
     "metadata": {},
     "output_type": "execute_result"
    }
   ],
   "source": [
    "y_hat_0 = theta.T.dot(Xb[0])\n",
    "y_hat_0"
   ]
  },
  {
   "cell_type": "markdown",
   "id": "ff8b1e65",
   "metadata": {},
   "source": [
    "### Geometric interpretation\n",
    "The model parameters $\\theta$ provide the slope and the intercept for the line that fits the points"
   ]
  },
  {
   "cell_type": "code",
   "execution_count": 21,
   "id": "89860b46",
   "metadata": {},
   "outputs": [],
   "source": [
    "example_points = np.array([\n",
    "    [1, X.min()], [1, X.max()]\n",
    "])\n",
    "y_prediction = theta.T.dot(example_points.T)"
   ]
  },
  {
   "cell_type": "code",
   "execution_count": 22,
   "id": "ac31716b",
   "metadata": {},
   "outputs": [
    {
     "data": {
      "image/png": "[encoded data removed]",
      "text/plain": [
       "<Figure size 800x400 with 1 Axes>"
      ]
     },
     "metadata": {},
     "output_type": "display_data"
    }
   ],
   "source": [
    "fig, ax = plt.subplots(figsize=(8, 4))\n",
    "ax.scatter(X, y, alpha=.6)\n",
    "ax.plot(example_points[:,1], y_prediction[0], 'r-')\n",
    "plt.tight_layout()\n",
    "plt.show()"
   ]
  },
  {
   "cell_type": "markdown",
   "id": "2daa00ff",
   "metadata": {},
   "source": [
    "## Learning the parameters $\\theta$\n",
    "\n",
    "The optimal parameters $\\theta$ that map the features $X$ to the target variable $y$ can be computed by a closed-form solution called $Normal Equation$\n",
    "\n",
    "$$\n",
    "\\hat{\\theta} = \\left ( \\mathbf{X}^T \\cdot \\mathbf{X} \\right )^{-1} \\cdot \\mathbf{X}^T \\cdot y\n",
    "$$"
   ]
  },
  {
   "cell_type": "code",
   "execution_count": 23,
   "id": "b6769dce",
   "metadata": {},
   "outputs": [],
   "source": [
    "theta_best = np.linalg.inv(Xb.T.dot(Xb)).dot(Xb.T).dot(y)"
   ]
  },
  {
   "cell_type": "code",
   "execution_count": 24,
   "id": "4b00a17d",
   "metadata": {},
   "outputs": [
    {
     "data": {
      "text/plain": [
       "array([[6.13511506],\n",
       "       [1.75954166]])"
      ]
     },
     "execution_count": 24,
     "metadata": {},
     "output_type": "execute_result"
    }
   ],
   "source": [
    "theta_best"
   ]
  },
  {
   "cell_type": "code",
   "execution_count": 25,
   "id": "5457e9cb",
   "metadata": {},
   "outputs": [],
   "source": [
    "example_points = np.array([\n",
    "    [1, X.min()], [1, X.max()]\n",
    "])\n",
    "y_prediction = theta_best.T.dot(example_points.T)"
   ]
  },
  {
   "cell_type": "code",
   "execution_count": 26,
   "id": "dbb3f831",
   "metadata": {},
   "outputs": [
    {
     "data": {
      "image/png": "[encoded data removed]",
      "text/plain": [
       "<Figure size 800x400 with 1 Axes>"
      ]
     },
     "metadata": {},
     "output_type": "display_data"
    }
   ],
   "source": [
    "fig, ax = plt.subplots(figsize=(8, 4))\n",
    "ax.scatter(X, y, alpha=.6)\n",
    "ax.plot(example_points[:,1], y_prediction[0], 'r-')\n",
    "plt.tight_layout()\n",
    "plt.show()"
   ]
  },
  {
   "cell_type": "code",
   "execution_count": 27,
   "id": "227cd0c1",
   "metadata": {},
   "outputs": [
    {
     "data": {
      "text/plain": [
       "array([[6.13511506],\n",
       "       [1.75954166]])"
      ]
     },
     "execution_count": 27,
     "metadata": {},
     "output_type": "execute_result"
    }
   ],
   "source": [
    "theta_best"
   ]
  },
  {
   "cell_type": "markdown",
   "id": "a3ea5932",
   "metadata": {},
   "source": [
    "### Complexity of the Normal Equation as a solution\n",
    "The main limit of the normal equation is that it requires to compute the inverse of $\\mathbf{X}^T \\cdot \\mathbf{X}$ that is $n \\times n$, where $n$ is the number of features. Inverting such matrix as complexity that may reach $O(n^3)$. Thus, this solution is not suitable with a high number of features."
   ]
  },
  {
   "cell_type": "markdown",
   "id": "3aca3229",
   "metadata": {},
   "source": [
    "## Learning $\\theta$ by Gradient Descent\n",
    "\n",
    "As an alternative to compute the optimal values for $\\theta$, we can try to learn them by finding the values that minimize the error.\n",
    "\n",
    "### Compute prediction error by a loss function\n",
    "\n",
    "As an example of a loss function, we can use Mean Square Error\n",
    "\n",
    "$$\n",
    "MSE(\\mathbf{X}, \\hat{y}) = \\frac{1}{m} \\sum\\limits_{i=1}^{m} \\left( \\hat{y}^{(i}) - y^{(i)} \\right)^2\n",
    "$$\n",
    "\n",
    "### Batch gradient descent\n",
    "Then, we need the gradient of the loss function in order to use it for updating the parameters in the direction of the $MSE$ minimum. To compute the gradient vector, we start from the partial derivative of each parameter $\\theta_j$ as follows:\n",
    "\n",
    "$$\n",
    "\\frac{\\partial}{\\partial \\theta_j} MSE(\\theta) = \\frac{2}{m} \\sum\\limits_{i=1}^{m} \\left ( \\theta^T \\cdot \\mathbf{x}^{(i)} - y^{(i)} \\right ) x_{j}^{(i)}\n",
    "$$\n",
    "\n",
    "That is, in vector form:\n",
    "\n",
    "$$\n",
    "grad_{MSE} = \\frac{2}{m} \\mathbf{X}^T \\cdot (\\mathbf{X} \\cdot \\theta - y)\n",
    "$$\n",
    "\n",
    "Given $grad_{MSE}$ we just need to subtract it to $\\theta$. However, we need to avoid an updating step too big, because we risk to skip the minimum. Thus, let's introduce a learning rate $\\eta$ and do training as:\n",
    "\n",
    "$$\n",
    "\\theta_{i+1} = \\theta_i - \\eta\\ grad_{MSE}(\\theta_i)\n",
    "$$"
   ]
  },
  {
   "cell_type": "code",
   "execution_count": 28,
   "id": "7fc5cec8",
   "metadata": {},
   "outputs": [],
   "source": [
    "mse = lambda theta: np.power(theta.T.dot(Xb.T)[0] - y, 2).mean()"
   ]
  },
  {
   "cell_type": "code",
   "execution_count": 29,
   "id": "e315d3d7",
   "metadata": {},
   "outputs": [],
   "source": [
    "eta = .1\n",
    "iterations = 1000\n",
    "m = Xb.shape[0]\n",
    "\n",
    "theta = np.random.uniform(size=(Xb.shape[1], 1))"
   ]
  },
  {
   "cell_type": "code",
   "execution_count": 30,
   "id": "c0ada955",
   "metadata": {},
   "outputs": [],
   "source": [
    "loss = []\n",
    "history = []\n",
    "for iteration in range(iterations):\n",
    "    loss.append(mse(theta))\n",
    "    gradients = 2/m * Xb.T.dot(Xb.dot(theta) - y)\n",
    "    theta = theta - eta * gradients\n",
    "    if iteration % 20 == 0:\n",
    "        history.append(theta)"
   ]
  },
  {
   "cell_type": "code",
   "execution_count": 31,
   "id": "70d624e6",
   "metadata": {},
   "outputs": [
    {
     "data": {
      "image/png": "[encoded data removed]",
      "text/plain": [
       "<Figure size 800x400 with 1 Axes>"
      ]
     },
     "metadata": {},
     "output_type": "display_data"
    }
   ],
   "source": [
    "fig, ax = plt.subplots(figsize=(8, 4))\n",
    "ax.plot(loss)\n",
    "plt.tight_layout()\n",
    "plt.show()"
   ]
  },
  {
   "cell_type": "code",
   "execution_count": 32,
   "id": "9669e28a",
   "metadata": {},
   "outputs": [
    {
     "data": {
      "image/png": "[encoded data removed]",
      "text/plain": [
       "<Figure size 800x400 with 1 Axes>"
      ]
     },
     "metadata": {},
     "output_type": "display_data"
    }
   ],
   "source": [
    "example_points = np.array([\n",
    "    [1, X.min()], [1, X.max()]\n",
    "])\n",
    "y_prediction_best = theta_best.T.dot(example_points.T)\n",
    "y_prediction = theta.T.dot(example_points.T)\n",
    "\n",
    "fig, ax = plt.subplots(figsize=(8, 4))\n",
    "ax.scatter(X, y, alpha=.6)\n",
    "ax.plot(example_points[:,1], y_prediction_best[0], 'g-')\n",
    "ax.plot(example_points[:,1], y_prediction[0], 'r--')\n",
    "plt.tight_layout()\n",
    "plt.show()"
   ]
  },
  {
   "cell_type": "code",
   "execution_count": 33,
   "id": "a2ac130b",
   "metadata": {},
   "outputs": [],
   "source": [
    "from IPython.display import clear_output\n",
    "import time"
   ]
  },
  {
   "cell_type": "code",
   "execution_count": 35,
   "id": "893707b2",
   "metadata": {},
   "outputs": [
    {
     "data": {
      "image/png": "[encoded data removed]",
      "text/plain": [
       "<Figure size 800x400 with 1 Axes>"
      ]
     },
     "metadata": {},
     "output_type": "display_data"
    }
   ],
   "source": [
    "example_points = np.array([[1, X.min()], [1, X.max()]])\n",
    "predictions = []\n",
    "for th in history:\n",
    "    predictions.append(th.T.dot(example_points.T))\n",
    "\n",
    "cmd = None\n",
    "for pred in predictions:\n",
    "    if cmd == 'quit':\n",
    "        break\n",
    "    clear_output(wait=True)\n",
    "    fig, ax = plt.subplots(figsize=(8, 4))\n",
    "    ax.scatter(X, y, alpha=.6)\n",
    "    ax.plot(example_points[:,1], pred[0], 'r--', linewidth=4)\n",
    "    ax.set_ylim((1,10))\n",
    "    plt.tight_layout()\n",
    "    plt.show()\n",
    "    cmd = input()"
   ]
  },
  {
   "cell_type": "markdown",
   "id": "d6557dc8",
   "metadata": {},
   "source": [
    "## Exploit Linear regression for binary classification\n",
    "In order to address binary classification, a very simple strategy is to just change the target variable in a categorical variable. In our case, we set $y \\in \\{-1, 1\\}$, with $-1$ if the recipes is not from the selected cuisine and $1$ otherwise."
   ]
  },
  {
   "cell_type": "code",
   "execution_count": 37,
   "id": "aa1e7597",
   "metadata": {},
   "outputs": [],
   "source": [
    "\n",
    "sample_size = 200\n",
    "X, y = np.zeros((sample_size, 1)), np.ones((sample_size, 1))\n",
    "for i, recipe in enumerate(data[:sample_size]):\n",
    "    ingredients = recipe['ingredients']\n",
    "    X[i,0] = len([x for x in ingredients if x in specific_ingredients]) / len(ingredients)\n",
    "    if recipe[label_field] != cuisine:\n",
    "        y[i] = -1"
   ]
  },
  {
   "cell_type": "code",
   "execution_count": 38,
   "id": "b1ccae6a",
   "metadata": {},
   "outputs": [
    {
     "data": {
      "image/png": "[encoded data removed]",
      "text/plain": [
       "<Figure size 800x400 with 1 Axes>"
      ]
     },
     "metadata": {},
     "output_type": "display_data"
    }
   ],
   "source": [
    "fig, ax = plt.subplots(figsize=(8, 4))\n",
    "ax.scatter(X, y, alpha=.6)\n",
    "plt.tight_layout()\n",
    "plt.show()"
   ]
  },
  {
   "cell_type": "code",
   "execution_count": 39,
   "id": "2c7497aa",
   "metadata": {},
   "outputs": [],
   "source": [
    "eta = 0.1\n",
    "iterations = 1000\n",
    "m = Xb.shape[0]\n",
    "theta = np.random.uniform(size=(Xb.shape[1], 1))\n",
    "loss = []\n",
    "history = []\n",
    "for iteration in range(iterations):\n",
    "    loss.append(mse(theta))\n",
    "    gradients = 2/m * Xb.T.dot(Xb.dot(theta) - y)\n",
    "    theta = theta - eta * gradients\n",
    "    if iteration % 20 == 0:\n",
    "        history.append(theta)"
   ]
  },
  {
   "cell_type": "code",
   "execution_count": 40,
   "id": "aac823d5",
   "metadata": {},
   "outputs": [
    {
     "data": {
      "image/png": "[encoded data removed]",
      "text/plain": [
       "<Figure size 800x400 with 1 Axes>"
      ]
     },
     "metadata": {},
     "output_type": "display_data"
    }
   ],
   "source": [
    "example_points = np.array([[1, X.min()], [1, X.max()]])\n",
    "y_prediction = theta.T.dot(example_points.T)\n",
    "\n",
    "fig, ax = plt.subplots(figsize=(8, 4))\n",
    "ax.scatter(X, y, alpha=.6)\n",
    "ax.plot(example_points[:,1], y_prediction[0], 'r--')\n",
    "plt.tight_layout()\n",
    "plt.show()"
   ]
  },
  {
   "cell_type": "code",
   "execution_count": 41,
   "id": "8efd1836",
   "metadata": {},
   "outputs": [
    {
     "data": {
      "text/plain": [
       "array([[-1.32427297,  1.00170581]])"
      ]
     },
     "execution_count": 41,
     "metadata": {},
     "output_type": "execute_result"
    }
   ],
   "source": [
    "y_prediction"
   ]
  },
  {
   "cell_type": "markdown",
   "id": "7330b3fd",
   "metadata": {},
   "source": [
    "### Other algorithm for gradient descent\n",
    "\n",
    "Batch gradient descent is not the only option for training. In order to avoid exploring the whole dataset to estimate the gradients, have a look at two important options:\n",
    "- **Stocastic Gradient Descent**: computes the gradient of the parameters using only a single or a few training items by sampling.\n",
    "- **Mini-batch Gradient Descent**: used often in combination with SGD works of small subsets of the trainin items. Working on minibatches instead of single items reduces the variance in the parameter update and can lead to more stable convergence."
   ]
  },
  {
   "cell_type": "markdown",
   "id": "11078d83",
   "metadata": {},
   "source": [
    "## Work with more features\n",
    "\n",
    "Now, instead of trying to predict the class observing the number of cuisine-specific ingredients, we encode the recipe ingredients into one-hot encoding vectors in order to work with more features.\n",
    "\n",
    "Note that the only thing that changes is the shape of the $\\mathbf{X}$ matrix."
   ]
  },
  {
   "cell_type": "code",
   "execution_count": 42,
   "id": "992677da",
   "metadata": {},
   "outputs": [],
   "source": [
    "sample_size = 200\n",
    "vocabulary = list(pd.Series(document_frequency).sort_values(ascending=False).head(100).keys().values)\n",
    "X, y = np.zeros((sample_size, len(vocabulary))), np.ones((sample_size, 1))\n",
    "for i, recipe in enumerate(data[:sample_size]):\n",
    "    ingredients = recipe['ingredients']\n",
    "    for ingredient in ingredients:\n",
    "        try:\n",
    "            X[i, vocabulary.index(ingredient)] = 1\n",
    "        except ValueError:\n",
    "            pass\n",
    "    if recipe[label_field] != cuisine:\n",
    "        y[i] = -1"
   ]
  },
  {
   "cell_type": "code",
   "execution_count": 43,
   "id": "fddfdfe0",
   "metadata": {},
   "outputs": [
    {
     "data": {
      "text/plain": [
       "(200, 101)"
      ]
     },
     "execution_count": 43,
     "metadata": {},
     "output_type": "execute_result"
    }
   ],
   "source": [
    "Xb = np.c_[np.ones((X.shape[0], 1)), X]\n",
    "Xb.shape"
   ]
  },
  {
   "cell_type": "code",
   "execution_count": 44,
   "id": "e1b6ca37",
   "metadata": {},
   "outputs": [],
   "source": [
    "eta = 0.1\n",
    "iterations = 1000\n",
    "m = Xb.shape[0]\n",
    "theta = np.random.uniform(size=(Xb.shape[1], 1))\n",
    "loss = []\n",
    "history = []\n",
    "for iteration in range(iterations):\n",
    "    loss.append(mse(theta))\n",
    "    gradients = 2/m * Xb.T.dot(Xb.dot(theta) - y)\n",
    "    theta = theta - eta * gradients\n",
    "    if iteration % 20 == 0:\n",
    "        history.append(theta)"
   ]
  },
  {
   "cell_type": "code",
   "execution_count": 45,
   "id": "ba5a2553",
   "metadata": {},
   "outputs": [
    {
     "data": {
      "image/png": "[encoded data removed]",
      "text/plain": [
       "<Figure size 600x200 with 1 Axes>"
      ]
     },
     "metadata": {},
     "output_type": "display_data"
    }
   ],
   "source": [
    "fig, ax = plt.subplots(figsize=(6, 2))\n",
    "ax.plot(loss)\n",
    "plt.tight_layout()\n",
    "plt.show()"
   ]
  },
  {
   "cell_type": "markdown",
   "id": "aa2bc6ff",
   "metadata": {},
   "source": [
    "**note**: we use a transformation function (i.e., sign) to map predictions on binary labels"
   ]
  },
  {
   "cell_type": "code",
   "execution_count": 46,
   "id": "0f453bc0",
   "metadata": {},
   "outputs": [
    {
     "data": {
      "text/plain": [
       "array([ 1.,  1.,  1., -1., -1.,  1., -1., -1., -1.,  1.])"
      ]
     },
     "execution_count": 46,
     "metadata": {},
     "output_type": "execute_result"
    }
   ],
   "source": [
    "y_hat = theta.T.dot(Xb.T)[0]\n",
    "np.sign(y_hat[:10])"
   ]
  },
  {
   "cell_type": "code",
   "execution_count": 47,
   "id": "eea71801",
   "metadata": {},
   "outputs": [],
   "source": [
    "from sklearn.decomposition import PCA"
   ]
  },
  {
   "cell_type": "code",
   "execution_count": 48,
   "id": "9d079155",
   "metadata": {},
   "outputs": [],
   "source": [
    "pca = PCA(n_components=2)\n",
    "Xpca = pca.fit_transform(Xb)"
   ]
  },
  {
   "cell_type": "code",
   "execution_count": 49,
   "id": "905e86f6",
   "metadata": {},
   "outputs": [
    {
     "data": {
      "image/png": "[encoded data removed]",
      "text/plain": [
       "<Figure size 1200x600 with 2 Axes>"
      ]
     },
     "metadata": {},
     "output_type": "display_data"
    }
   ],
   "source": [
    "fig, ax = plt.subplots(figsize=(12, 6), ncols=2)\n",
    "ax[0].scatter(Xpca[:,0], Xpca[:,1], alpha=.4, c=y, cmap='coolwarm')\n",
    "ax[1].scatter(Xpca[:,0], Xpca[:,1], alpha=.4, c=np.sign(y_hat), cmap='coolwarm')\n",
    "plt.tight_layout()\n",
    "plt.show()"
   ]
  },
  {
   "cell_type": "markdown",
   "id": "d855792b",
   "metadata": {},
   "source": [
    "### Evaluation for binary classification"
   ]
  },
  {
   "cell_type": "code",
   "execution_count": 50,
   "id": "b174eec0",
   "metadata": {},
   "outputs": [],
   "source": [
    "import sklearn.metrics as mt"
   ]
  },
  {
   "cell_type": "code",
   "execution_count": 51,
   "id": "8fb1b5c8",
   "metadata": {},
   "outputs": [],
   "source": [
    "test_sample_size = 100\n",
    "X_test, y_test = np.zeros((test_sample_size, len(vocabulary))), np.ones((test_sample_size, 1))\n",
    "for i, recipe in enumerate(data[sample_size:sample_size + test_sample_size]):\n",
    "    ingredients = recipe['ingredients']\n",
    "    for ingredient in ingredients:\n",
    "        try:\n",
    "            X_test[i, vocabulary.index(ingredient)] = 1\n",
    "        except ValueError:\n",
    "            pass\n",
    "    if recipe[label_field] != cuisine:\n",
    "        y_test[i] = -1"
   ]
  },
  {
   "cell_type": "code",
   "execution_count": 52,
   "id": "b1b510e7",
   "metadata": {},
   "outputs": [],
   "source": [
    "Xb_test = np.c_[np.ones((X_test.shape[0], 1)), X_test]"
   ]
  },
  {
   "cell_type": "code",
   "execution_count": 53,
   "id": "c74a95a8",
   "metadata": {},
   "outputs": [],
   "source": [
    "y_pred = np.sign(theta.T.dot(Xb_test.T)[0])"
   ]
  },
  {
   "cell_type": "code",
   "execution_count": 54,
   "id": "abbed607",
   "metadata": {},
   "outputs": [
    {
     "name": "stdout",
     "output_type": "stream",
     "text": [
      "              precision    recall  f1-score   support\n",
      "\n",
      "        -1.0       0.81      0.79      0.80        72\n",
      "         1.0       0.50      0.54      0.52        28\n",
      "\n",
      "    accuracy                           0.72       100\n",
      "   macro avg       0.66      0.66      0.66       100\n",
      "weighted avg       0.73      0.72      0.72       100\n",
      "\n"
     ]
    }
   ],
   "source": [
    "print(mt.classification_report(y_test, y_pred))"
   ]
  },
  {
   "cell_type": "code",
   "execution_count": 56,
   "id": "0841b51d",
   "metadata": {},
   "outputs": [
    {
     "data": {
      "image/png": "[encoded data removed]",
      "text/plain": [
       "<Figure size 800x400 with 2 Axes>"
      ]
     },
     "metadata": {},
     "output_type": "display_data"
    }
   ],
   "source": [
    "fig, ax = plt.subplots(figsize=(8, 4), ncols=2)\n",
    "cmd_train = mt.ConfusionMatrixDisplay(confusion_matrix=mt.confusion_matrix(y, np.sign(y_hat)))\n",
    "cmd_test = mt.ConfusionMatrixDisplay(confusion_matrix=mt.confusion_matrix(y_test, y_pred))\n",
    "cmd_train.plot(ax=ax[0], cmap='Greys', colorbar=False)\n",
    "cmd_test.plot(ax=ax[1], cmap='Greys', colorbar=False)\n",
    "ax[0].set_title('Trainset')\n",
    "ax[1].set_title('Testset')\n",
    "plt.tight_layout()\n",
    "plt.show()"
   ]
  },
  {
   "cell_type": "markdown",
   "id": "a3e08a2a",
   "metadata": {},
   "source": [
    "### Learning rates on the training and the test set and the problem of overfitting"
   ]
  },
  {
   "cell_type": "code",
   "execution_count": 57,
   "id": "24b3f90c",
   "metadata": {},
   "outputs": [],
   "source": [
    "test_mse = lambda theta: np.power(theta.T.dot(Xb_test.T)[0] - y_test, 2).mean()"
   ]
  },
  {
   "cell_type": "code",
   "execution_count": 58,
   "id": "c0ddb4f0",
   "metadata": {},
   "outputs": [],
   "source": [
    "eta = 0.2\n",
    "iterations = 5000\n",
    "m = Xb.shape[0]\n",
    "theta = np.random.uniform(size=(Xb.shape[1], 1))\n",
    "loss, accuracy = [], []\n",
    "test_loss, test_accuracy = [], []\n",
    "for iteration in range(iterations):\n",
    "    loss.append(mse(theta))\n",
    "    test_loss.append(test_mse(theta))\n",
    "    accuracy.append(mt.accuracy_score(y, np.sign(theta.T.dot(Xb.T)[0])))\n",
    "    test_accuracy.append(mt.accuracy_score(y_test, np.sign(theta.T.dot(Xb_test.T)[0])))\n",
    "    gradients = 2/m * Xb.T.dot(Xb.dot(theta) - y)\n",
    "    theta = theta - eta * gradients"
   ]
  },
  {
   "cell_type": "code",
   "execution_count": 59,
   "id": "78f631b2",
   "metadata": {},
   "outputs": [
    {
     "data": {
      "image/png": "[encoded data removed]",
      "text/plain": [
       "<Figure size 1200x400 with 2 Axes>"
      ]
     },
     "metadata": {},
     "output_type": "display_data"
    }
   ],
   "source": [
    "fig, ax = plt.subplots(figsize=(12, 4), ncols=2)\n",
    "ax[0].plot(loss, label='Train loss')\n",
    "ax[0].plot(test_loss, label='Test loss')\n",
    "ax[0].set_yscale('log')\n",
    "ax[0].legend()\n",
    "ax[1].plot(accuracy, label='Train accuracy')\n",
    "ax[1].plot(test_accuracy, label='Test accuracy')\n",
    "ax[1].legend()\n",
    "plt.tight_layout()\n",
    "plt.show()"
   ]
  },
  {
   "cell_type": "markdown",
   "id": "6228a1cb",
   "metadata": {},
   "source": [
    "**Idea**. Use the mapping to categorical values in the training process."
   ]
  },
  {
   "cell_type": "markdown",
   "id": "f821aa91",
   "metadata": {},
   "source": [
    "## Logistic regression\n",
    "\n",
    "The main idea of logistic regression is to estimate a probability for the target class as follows:\n",
    "\n",
    "$$\n",
    "\\hat{p} = \\sigma(\\theta^T \\cdot \\mathbf{X})\n",
    "$$\n",
    "\n",
    "where $\\sigma(\\cdot)$ is a sigmoid function, such as:\n",
    "\n",
    "$$\n",
    "\\sigma(j) = \\frac{1}{1 + exp(-j)}\n",
    "$$\n",
    "\n",
    "The output $\\hat{p}$ is interpreted as a probability that we can map on $\\hat{y}$ as follows:\n",
    "\n",
    "$$\n",
    "\\hat{y} = \\Big\\{  \\begin{array}{ccc}\n",
    "-1 & if & \\hat{p} < 0.5 \\\\\n",
    "1 & if & \\hat{p} \\geq 0.5\n",
    "\\end{array}\n",
    "$$\n",
    "\n",
    "### Loss function\n",
    "The cost in training for an item can be estimated as (**log loss**):\n",
    "\n",
    "$$\n",
    "\\ell(\\theta) = \\Big\\{  \\begin{array}{ccc}\n",
    "-\\log{\\hat{p}} & if & y = 1 \\\\\n",
    "-\\log{1 - \\hat{p}} & if & y = -1\n",
    "\\end{array}\n",
    "$$\n",
    "\n",
    "That is general is rewritten with $y \\in {0, 1}$ as\n",
    "\n",
    "$$\n",
    "\\ell(\\theta) = - \\frac{1}{m} \\sum\\limits_{i=1}^{m} \\left[ y^{(i)} \\log \\left( \\hat{p}^{(i)} \\right) + \n",
    "(1 - y^{(i)}) \\log \\left( 1 - \\hat{p}^{(i)} \\right) \\right]\n",
    "$$\n",
    "\n",
    "with partial derivates\n",
    "\n",
    "$$\n",
    "\\frac{\\partial}{\\partial \\theta_j} \\ell(\\theta) = \\frac{1}{m} \\sum\\limits_{i=1}^{m} \n",
    "\\left( \\sigma \\left( \\theta^T - \\mathbf{x}^{(i)} \\right) - y^{(i)} \\right) x_j^{(i)}\n",
    "$$\n"
   ]
  },
  {
   "cell_type": "code",
   "execution_count": 60,
   "id": "d8bc8fa2",
   "metadata": {},
   "outputs": [],
   "source": [
    "from sklearn.linear_model import LogisticRegression"
   ]
  },
  {
   "cell_type": "code",
   "execution_count": 61,
   "id": "facf1e2e",
   "metadata": {},
   "outputs": [],
   "source": [
    "sample_size = 200\n",
    "X, y = np.zeros((sample_size, 1)), np.ones((sample_size, 1))\n",
    "for i, recipe in enumerate(data[:sample_size]):\n",
    "    ingredients = recipe['ingredients']\n",
    "    X[i,0] = len([x for x in ingredients if x in specific_ingredients]) / len(ingredients)\n",
    "    if recipe[label_field] != cuisine:\n",
    "        y[i] = 0"
   ]
  },
  {
   "cell_type": "code",
   "execution_count": 62,
   "id": "ea052159",
   "metadata": {},
   "outputs": [
    {
     "data": {
      "text/html": [
       "<style>#sk-container-id-1 {\n",
       "  /* Definition of color scheme common for light and dark mode */\n",
       "  --sklearn-color-text: #000;\n",
       "  --sklearn-color-text-muted: #666;\n",
       "  --sklearn-color-line: gray;\n",
       "  /* Definition of color scheme for unfitted estimators */\n",
       "  --sklearn-color-unfitted-level-0: #fff5e6;\n",
       "  --sklearn-color-unfitted-level-1: #f6e4d2;\n",
       "  --sklearn-color-unfitted-level-2: #ffe0b3;\n",
       "  --sklearn-color-unfitted-level-3: chocolate;\n",
       "  /* Definition of color scheme for fitted estimators */\n",
       "  --sklearn-color-fitted-level-0: #f0f8ff;\n",
       "  --sklearn-color-fitted-level-1: #d4ebff;\n",
       "  --sklearn-color-fitted-level-2: #b3dbfd;\n",
       "  --sklearn-color-fitted-level-3: cornflowerblue;\n",
       "\n",
       "  /* Specific color for light theme */\n",
       "  --sklearn-color-text-on-default-background: var(--sg-text-color, var(--theme-code-foreground, var(--jp-content-font-color1, black)));\n",
       "  --sklearn-color-background: var(--sg-background-color, var(--theme-background, var(--jp-layout-color0, white)));\n",
       "  --sklearn-color-border-box: var(--sg-text-color, var(--theme-code-foreground, var(--jp-content-font-color1, black)));\n",
       "  --sklearn-color-icon: #696969;\n",
       "\n",
       "  @media (prefers-color-scheme: dark) {\n",
       "    /* Redefinition of color scheme for dark theme */\n",
       "    --sklearn-color-text-on-default-background: var(--sg-text-color, var(--theme-code-foreground, var(--jp-content-font-color1, white)));\n",
       "    --sklearn-color-background: var(--sg-background-color, var(--theme-background, var(--jp-layout-color0, #111)));\n",
       "    --sklearn-color-border-box: var(--sg-text-color, var(--theme-code-foreground, var(--jp-content-font-color1, white)));\n",
       "    --sklearn-color-icon: #878787;\n",
       "  }\n",
       "}\n",
       "\n",
       "#sk-container-id-1 {\n",
       "  color: var(--sklearn-color-text);\n",
       "}\n",
       "\n",
       "#sk-container-id-1 pre {\n",
       "  padding: 0;\n",
       "}\n",
       "\n",
       "#sk-container-id-1 input.sk-hidden--visually {\n",
       "  border: 0;\n",
       "  clip: rect(1px 1px 1px 1px);\n",
       "  clip: rect(1px, 1px, 1px, 1px);\n",
       "  height: 1px;\n",
       "  margin: -1px;\n",
       "  overflow: hidden;\n",
       "  padding: 0;\n",
       "  position: absolute;\n",
       "  width: 1px;\n",
       "}\n",
       "\n",
       "#sk-container-id-1 div.sk-dashed-wrapped {\n",
       "  border: 1px dashed var(--sklearn-color-line);\n",
       "  margin: 0 0.4em 0.5em 0.4em;\n",
       "  box-sizing: border-box;\n",
       "  padding-bottom: 0.4em;\n",
       "  background-color: var(--sklearn-color-background);\n",
       "}\n",
       "\n",
       "#sk-container-id-1 div.sk-container {\n",
       "  /* jupyter's `normalize.less` sets `[hidden] { display: none; }`\n",
       "     but bootstrap.min.css set `[hidden] { display: none !important; }`\n",
       "     so we also need the `!important` here to be able to override the\n",
       "     default hidden behavior on the sphinx rendered scikit-learn.org.\n",
       "     See: https://github.com/scikit-learn/scikit-learn/issues/21755 */\n",
       "  display: inline-block !important;\n",
       "  position: relative;\n",
       "}\n",
       "\n",
       "#sk-container-id-1 div.sk-text-repr-fallback {\n",
       "  display: none;\n",
       "}\n",
       "\n",
       "div.sk-parallel-item,\n",
       "div.sk-serial,\n",
       "div.sk-item {\n",
       "  /* draw centered vertical line to link estimators */\n",
       "  background-image: linear-gradient(var(--sklearn-color-text-on-default-background), var(--sklearn-color-text-on-default-background));\n",
       "  background-size: 2px 100%;\n",
       "  background-repeat: no-repeat;\n",
       "  background-position: center center;\n",
       "}\n",
       "\n",
       "/* Parallel-specific style estimator block */\n",
       "\n",
       "#sk-container-id-1 div.sk-parallel-item::after {\n",
       "  content: \"\";\n",
       "  width: 100%;\n",
       "  border-bottom: 2px solid var(--sklearn-color-text-on-default-background);\n",
       "  flex-grow: 1;\n",
       "}\n",
       "\n",
       "#sk-container-id-1 div.sk-parallel {\n",
       "  display: flex;\n",
       "  align-items: stretch;\n",
       "  justify-content: center;\n",
       "  background-color: var(--sklearn-color-background);\n",
       "  position: relative;\n",
       "}\n",
       "\n",
       "#sk-container-id-1 div.sk-parallel-item {\n",
       "  display: flex;\n",
       "  flex-direction: column;\n",
       "}\n",
       "\n",
       "#sk-container-id-1 div.sk-parallel-item:first-child::after {\n",
       "  align-self: flex-end;\n",
       "  width: 50%;\n",
       "}\n",
       "\n",
       "#sk-container-id-1 div.sk-parallel-item:last-child::after {\n",
       "  align-self: flex-start;\n",
       "  width: 50%;\n",
       "}\n",
       "\n",
       "#sk-container-id-1 div.sk-parallel-item:only-child::after {\n",
       "  width: 0;\n",
       "}\n",
       "\n",
       "/* Serial-specific style estimator block */\n",
       "\n",
       "#sk-container-id-1 div.sk-serial {\n",
       "  display: flex;\n",
       "  flex-direction: column;\n",
       "  align-items: center;\n",
       "  background-color: var(--sklearn-color-background);\n",
       "  padding-right: 1em;\n",
       "  padding-left: 1em;\n",
       "}\n",
       "\n",
       "\n",
       "/* Toggleable style: style used for estimator/Pipeline/ColumnTransformer box that is\n",
       "clickable and can be expanded/collapsed.\n",
       "- Pipeline and ColumnTransformer use this feature and define the default style\n",
       "- Estimators will overwrite some part of the style using the `sk-estimator` class\n",
       "*/\n",
       "\n",
       "/* Pipeline and ColumnTransformer style (default) */\n",
       "\n",
       "#sk-container-id-1 div.sk-toggleable {\n",
       "  /* Default theme specific background. It is overwritten whether we have a\n",
       "  specific estimator or a Pipeline/ColumnTransformer */\n",
       "  background-color: var(--sklearn-color-background);\n",
       "}\n",
       "\n",
       "/* Toggleable label */\n",
       "#sk-container-id-1 label.sk-toggleable__label {\n",
       "  cursor: pointer;\n",
       "  display: flex;\n",
       "  width: 100%;\n",
       "  margin-bottom: 0;\n",
       "  padding: 0.5em;\n",
       "  box-sizing: border-box;\n",
       "  text-align: center;\n",
       "  align-items: start;\n",
       "  justify-content: space-between;\n",
       "  gap: 0.5em;\n",
       "}\n",
       "\n",
       "#sk-container-id-1 label.sk-toggleable__label .caption {\n",
       "  font-size: 0.6rem;\n",
       "  font-weight: lighter;\n",
       "  color: var(--sklearn-color-text-muted);\n",
       "}\n",
       "\n",
       "#sk-container-id-1 label.sk-toggleable__label-arrow:before {\n",
       "  /* Arrow on the left of the label */\n",
       "  content: \"▸\";\n",
       "  float: left;\n",
       "  margin-right: 0.25em;\n",
       "  color: var(--sklearn-color-icon);\n",
       "}\n",
       "\n",
       "#sk-container-id-1 label.sk-toggleable__label-arrow:hover:before {\n",
       "  color: var(--sklearn-color-text);\n",
       "}\n",
       "\n",
       "/* Toggleable content - dropdown */\n",
       "\n",
       "#sk-container-id-1 div.sk-toggleable__content {\n",
       "  max-height: 0;\n",
       "  max-width: 0;\n",
       "  overflow: hidden;\n",
       "  text-align: left;\n",
       "  /* unfitted */\n",
       "  background-color: var(--sklearn-color-unfitted-level-0);\n",
       "}\n",
       "\n",
       "#sk-container-id-1 div.sk-toggleable__content.fitted {\n",
       "  /* fitted */\n",
       "  background-color: var(--sklearn-color-fitted-level-0);\n",
       "}\n",
       "\n",
       "#sk-container-id-1 div.sk-toggleable__content pre {\n",
       "  margin: 0.2em;\n",
       "  border-radius: 0.25em;\n",
       "  color: var(--sklearn-color-text);\n",
       "  /* unfitted */\n",
       "  background-color: var(--sklearn-color-unfitted-level-0);\n",
       "}\n",
       "\n",
       "#sk-container-id-1 div.sk-toggleable__content.fitted pre {\n",
       "  /* unfitted */\n",
       "  background-color: var(--sklearn-color-fitted-level-0);\n",
       "}\n",
       "\n",
       "#sk-container-id-1 input.sk-toggleable__control:checked~div.sk-toggleable__content {\n",
       "  /* Expand drop-down */\n",
       "  max-height: 200px;\n",
       "  max-width: 100%;\n",
       "  overflow: auto;\n",
       "}\n",
       "\n",
       "#sk-container-id-1 input.sk-toggleable__control:checked~label.sk-toggleable__label-arrow:before {\n",
       "  content: \"▾\";\n",
       "}\n",
       "\n",
       "/* Pipeline/ColumnTransformer-specific style */\n",
       "\n",
       "#sk-container-id-1 div.sk-label input.sk-toggleable__control:checked~label.sk-toggleable__label {\n",
       "  color: var(--sklearn-color-text);\n",
       "  background-color: var(--sklearn-color-unfitted-level-2);\n",
       "}\n",
       "\n",
       "#sk-container-id-1 div.sk-label.fitted input.sk-toggleable__control:checked~label.sk-toggleable__label {\n",
       "  background-color: var(--sklearn-color-fitted-level-2);\n",
       "}\n",
       "\n",
       "/* Estimator-specific style */\n",
       "\n",
       "/* Colorize estimator box */\n",
       "#sk-container-id-1 div.sk-estimator input.sk-toggleable__control:checked~label.sk-toggleable__label {\n",
       "  /* unfitted */\n",
       "  background-color: var(--sklearn-color-unfitted-level-2);\n",
       "}\n",
       "\n",
       "#sk-container-id-1 div.sk-estimator.fitted input.sk-toggleable__control:checked~label.sk-toggleable__label {\n",
       "  /* fitted */\n",
       "  background-color: var(--sklearn-color-fitted-level-2);\n",
       "}\n",
       "\n",
       "#sk-container-id-1 div.sk-label label.sk-toggleable__label,\n",
       "#sk-container-id-1 div.sk-label label {\n",
       "  /* The background is the default theme color */\n",
       "  color: var(--sklearn-color-text-on-default-background);\n",
       "}\n",
       "\n",
       "/* On hover, darken the color of the background */\n",
       "#sk-container-id-1 div.sk-label:hover label.sk-toggleable__label {\n",
       "  color: var(--sklearn-color-text);\n",
       "  background-color: var(--sklearn-color-unfitted-level-2);\n",
       "}\n",
       "\n",
       "/* Label box, darken color on hover, fitted */\n",
       "#sk-container-id-1 div.sk-label.fitted:hover label.sk-toggleable__label.fitted {\n",
       "  color: var(--sklearn-color-text);\n",
       "  background-color: var(--sklearn-color-fitted-level-2);\n",
       "}\n",
       "\n",
       "/* Estimator label */\n",
       "\n",
       "#sk-container-id-1 div.sk-label label {\n",
       "  font-family: monospace;\n",
       "  font-weight: bold;\n",
       "  display: inline-block;\n",
       "  line-height: 1.2em;\n",
       "}\n",
       "\n",
       "#sk-container-id-1 div.sk-label-container {\n",
       "  text-align: center;\n",
       "}\n",
       "\n",
       "/* Estimator-specific */\n",
       "#sk-container-id-1 div.sk-estimator {\n",
       "  font-family: monospace;\n",
       "  border: 1px dotted var(--sklearn-color-border-box);\n",
       "  border-radius: 0.25em;\n",
       "  box-sizing: border-box;\n",
       "  margin-bottom: 0.5em;\n",
       "  /* unfitted */\n",
       "  background-color: var(--sklearn-color-unfitted-level-0);\n",
       "}\n",
       "\n",
       "#sk-container-id-1 div.sk-estimator.fitted {\n",
       "  /* fitted */\n",
       "  background-color: var(--sklearn-color-fitted-level-0);\n",
       "}\n",
       "\n",
       "/* on hover */\n",
       "#sk-container-id-1 div.sk-estimator:hover {\n",
       "  /* unfitted */\n",
       "  background-color: var(--sklearn-color-unfitted-level-2);\n",
       "}\n",
       "\n",
       "#sk-container-id-1 div.sk-estimator.fitted:hover {\n",
       "  /* fitted */\n",
       "  background-color: var(--sklearn-color-fitted-level-2);\n",
       "}\n",
       "\n",
       "/* Specification for estimator info (e.g. \"i\" and \"?\") */\n",
       "\n",
       "/* Common style for \"i\" and \"?\" */\n",
       "\n",
       ".sk-estimator-doc-link,\n",
       "a:link.sk-estimator-doc-link,\n",
       "a:visited.sk-estimator-doc-link {\n",
       "  float: right;\n",
       "  font-size: smaller;\n",
       "  line-height: 1em;\n",
       "  font-family: monospace;\n",
       "  background-color: var(--sklearn-color-background);\n",
       "  border-radius: 1em;\n",
       "  height: 1em;\n",
       "  width: 1em;\n",
       "  text-decoration: none !important;\n",
       "  margin-left: 0.5em;\n",
       "  text-align: center;\n",
       "  /* unfitted */\n",
       "  border: var(--sklearn-color-unfitted-level-1) 1pt solid;\n",
       "  color: var(--sklearn-color-unfitted-level-1);\n",
       "}\n",
       "\n",
       ".sk-estimator-doc-link.fitted,\n",
       "a:link.sk-estimator-doc-link.fitted,\n",
       "a:visited.sk-estimator-doc-link.fitted {\n",
       "  /* fitted */\n",
       "  border: var(--sklearn-color-fitted-level-1) 1pt solid;\n",
       "  color: var(--sklearn-color-fitted-level-1);\n",
       "}\n",
       "\n",
       "/* On hover */\n",
       "div.sk-estimator:hover .sk-estimator-doc-link:hover,\n",
       ".sk-estimator-doc-link:hover,\n",
       "div.sk-label-container:hover .sk-estimator-doc-link:hover,\n",
       ".sk-estimator-doc-link:hover {\n",
       "  /* unfitted */\n",
       "  background-color: var(--sklearn-color-unfitted-level-3);\n",
       "  color: var(--sklearn-color-background);\n",
       "  text-decoration: none;\n",
       "}\n",
       "\n",
       "div.sk-estimator.fitted:hover .sk-estimator-doc-link.fitted:hover,\n",
       ".sk-estimator-doc-link.fitted:hover,\n",
       "div.sk-label-container:hover .sk-estimator-doc-link.fitted:hover,\n",
       ".sk-estimator-doc-link.fitted:hover {\n",
       "  /* fitted */\n",
       "  background-color: var(--sklearn-color-fitted-level-3);\n",
       "  color: var(--sklearn-color-background);\n",
       "  text-decoration: none;\n",
       "}\n",
       "\n",
       "/* Span, style for the box shown on hovering the info icon */\n",
       ".sk-estimator-doc-link span {\n",
       "  display: none;\n",
       "  z-index: 9999;\n",
       "  position: relative;\n",
       "  font-weight: normal;\n",
       "  right: .2ex;\n",
       "  padding: .5ex;\n",
       "  margin: .5ex;\n",
       "  width: min-content;\n",
       "  min-width: 20ex;\n",
       "  max-width: 50ex;\n",
       "  color: var(--sklearn-color-text);\n",
       "  box-shadow: 2pt 2pt 4pt #999;\n",
       "  /* unfitted */\n",
       "  background: var(--sklearn-color-unfitted-level-0);\n",
       "  border: .5pt solid var(--sklearn-color-unfitted-level-3);\n",
       "}\n",
       "\n",
       ".sk-estimator-doc-link.fitted span {\n",
       "  /* fitted */\n",
       "  background: var(--sklearn-color-fitted-level-0);\n",
       "  border: var(--sklearn-color-fitted-level-3);\n",
       "}\n",
       "\n",
       ".sk-estimator-doc-link:hover span {\n",
       "  display: block;\n",
       "}\n",
       "\n",
       "/* \"?\"-specific style due to the `<a>` HTML tag */\n",
       "\n",
       "#sk-container-id-1 a.estimator_doc_link {\n",
       "  float: right;\n",
       "  font-size: 1rem;\n",
       "  line-height: 1em;\n",
       "  font-family: monospace;\n",
       "  background-color: var(--sklearn-color-background);\n",
       "  border-radius: 1rem;\n",
       "  height: 1rem;\n",
       "  width: 1rem;\n",
       "  text-decoration: none;\n",
       "  /* unfitted */\n",
       "  color: var(--sklearn-color-unfitted-level-1);\n",
       "  border: var(--sklearn-color-unfitted-level-1) 1pt solid;\n",
       "}\n",
       "\n",
       "#sk-container-id-1 a.estimator_doc_link.fitted {\n",
       "  /* fitted */\n",
       "  border: var(--sklearn-color-fitted-level-1) 1pt solid;\n",
       "  color: var(--sklearn-color-fitted-level-1);\n",
       "}\n",
       "\n",
       "/* On hover */\n",
       "#sk-container-id-1 a.estimator_doc_link:hover {\n",
       "  /* unfitted */\n",
       "  background-color: var(--sklearn-color-unfitted-level-3);\n",
       "  color: var(--sklearn-color-background);\n",
       "  text-decoration: none;\n",
       "}\n",
       "\n",
       "#sk-container-id-1 a.estimator_doc_link.fitted:hover {\n",
       "  /* fitted */\n",
       "  background-color: var(--sklearn-color-fitted-level-3);\n",
       "}\n",
       "</style><div id=\"sk-container-id-1\" class=\"sk-top-container\"><div class=\"sk-text-repr-fallback\"><pre>LogisticRegression()</pre><b>In a Jupyter environment, please rerun this cell to show the HTML representation or trust the notebook. <br />On GitHub, the HTML representation is unable to render, please try loading this page with nbviewer.org.</b></div><div class=\"sk-container\" hidden><div class=\"sk-item\"><div class=\"sk-estimator fitted sk-toggleable\"><input class=\"sk-toggleable__control sk-hidden--visually\" id=\"sk-estimator-id-1\" type=\"checkbox\" checked><label for=\"sk-estimator-id-1\" class=\"sk-toggleable__label fitted sk-toggleable__label-arrow\"><div><div>LogisticRegression</div></div><div><a class=\"sk-estimator-doc-link fitted\" rel=\"noreferrer\" target=\"_blank\" href=\"https://scikit-learn.org/1.6/modules/generated/sklearn.linear_model.LogisticRegression.html\">?<span>Documentation for LogisticRegression</span></a><span class=\"sk-estimator-doc-link fitted\">i<span>Fitted</span></span></div></label><div class=\"sk-toggleable__content fitted\"><pre>LogisticRegression()</pre></div> </div></div></div></div>"
      ],
      "text/plain": [
       "LogisticRegression()"
      ]
     },
     "execution_count": 62,
     "metadata": {},
     "output_type": "execute_result"
    }
   ],
   "source": [
    "logistic = LogisticRegression()\n",
    "logistic.fit(X, y.ravel())"
   ]
  },
  {
   "cell_type": "code",
   "execution_count": 63,
   "id": "850de8ac",
   "metadata": {},
   "outputs": [],
   "source": [
    "fake_data = np.linspace(0, 1, X.shape[0]).reshape(-1, 1)\n",
    "probs = logistic.predict_proba(fake_data)"
   ]
  },
  {
   "cell_type": "code",
   "execution_count": 64,
   "id": "cb2062a4",
   "metadata": {},
   "outputs": [
    {
     "data": {
      "image/png": "[encoded data removed]",
      "text/plain": [
       "<Figure size 800x400 with 1 Axes>"
      ]
     },
     "metadata": {},
     "output_type": "display_data"
    }
   ],
   "source": [
    "fig, ax = plt.subplots(figsize=(8, 4))\n",
    "ax.scatter(X, y, alpha=.6)\n",
    "ax.plot(fake_data, probs[:,1], 'g--')\n",
    "plt.tight_layout()\n",
    "plt.show()"
   ]
  },
  {
   "cell_type": "markdown",
   "id": "ad6b0060",
   "metadata": {},
   "source": [
    "### A different vectorization process\n",
    "We want to vectorize documents as vectors of the same size than classes\n",
    "- for each recipe $x$ and for each ingredient $i$ we compute the probability of $i$ to be in all the classes.\n",
    "- sum up the probability values per class\n",
    "- create a vector over the classes for the recipe"
   ]
  },
  {
   "cell_type": "code",
   "execution_count": 65,
   "id": "67a381f3",
   "metadata": {},
   "outputs": [],
   "source": [
    "sample_size = 200\n",
    "class_vocabulary = list(cuisine_frequency.keys())\n",
    "X, y = np.zeros((sample_size, len(class_vocabulary))), np.ones((sample_size, 1))\n",
    "for i, recipe in enumerate(data[:sample_size]):\n",
    "    ingredients = recipe['ingredients']\n",
    "    prob_index = defaultdict(lambda: 0)\n",
    "    for ingr in ingredients:\n",
    "        for class_label in class_vocabulary:\n",
    "            p_i = cuisine_frequency[class_label][ingredient] / sum(cuisine_frequency[class_label].values())\n",
    "            prob_index[class_label] += p_i\n",
    "    for class_label, score in prob_index.items():\n",
    "        X[i, class_vocabulary.index(class_label)] = score\n",
    "    if recipe[label_field] != cuisine:\n",
    "        y[i] = 0"
   ]
  },
  {
   "cell_type": "code",
   "execution_count": 66,
   "id": "867ec369",
   "metadata": {},
   "outputs": [
    {
     "data": {
      "text/html": [
       "<style>#sk-container-id-2 {\n",
       "  /* Definition of color scheme common for light and dark mode */\n",
       "  --sklearn-color-text: #000;\n",
       "  --sklearn-color-text-muted: #666;\n",
       "  --sklearn-color-line: gray;\n",
       "  /* Definition of color scheme for unfitted estimators */\n",
       "  --sklearn-color-unfitted-level-0: #fff5e6;\n",
       "  --sklearn-color-unfitted-level-1: #f6e4d2;\n",
       "  --sklearn-color-unfitted-level-2: #ffe0b3;\n",
       "  --sklearn-color-unfitted-level-3: chocolate;\n",
       "  /* Definition of color scheme for fitted estimators */\n",
       "  --sklearn-color-fitted-level-0: #f0f8ff;\n",
       "  --sklearn-color-fitted-level-1: #d4ebff;\n",
       "  --sklearn-color-fitted-level-2: #b3dbfd;\n",
       "  --sklearn-color-fitted-level-3: cornflowerblue;\n",
       "\n",
       "  /* Specific color for light theme */\n",
       "  --sklearn-color-text-on-default-background: var(--sg-text-color, var(--theme-code-foreground, var(--jp-content-font-color1, black)));\n",
       "  --sklearn-color-background: var(--sg-background-color, var(--theme-background, var(--jp-layout-color0, white)));\n",
       "  --sklearn-color-border-box: var(--sg-text-color, var(--theme-code-foreground, var(--jp-content-font-color1, black)));\n",
       "  --sklearn-color-icon: #696969;\n",
       "\n",
       "  @media (prefers-color-scheme: dark) {\n",
       "    /* Redefinition of color scheme for dark theme */\n",
       "    --sklearn-color-text-on-default-background: var(--sg-text-color, var(--theme-code-foreground, var(--jp-content-font-color1, white)));\n",
       "    --sklearn-color-background: var(--sg-background-color, var(--theme-background, var(--jp-layout-color0, #111)));\n",
       "    --sklearn-color-border-box: var(--sg-text-color, var(--theme-code-foreground, var(--jp-content-font-color1, white)));\n",
       "    --sklearn-color-icon: #878787;\n",
       "  }\n",
       "}\n",
       "\n",
       "#sk-container-id-2 {\n",
       "  color: var(--sklearn-color-text);\n",
       "}\n",
       "\n",
       "#sk-container-id-2 pre {\n",
       "  padding: 0;\n",
       "}\n",
       "\n",
       "#sk-container-id-2 input.sk-hidden--visually {\n",
       "  border: 0;\n",
       "  clip: rect(1px 1px 1px 1px);\n",
       "  clip: rect(1px, 1px, 1px, 1px);\n",
       "  height: 1px;\n",
       "  margin: -1px;\n",
       "  overflow: hidden;\n",
       "  padding: 0;\n",
       "  position: absolute;\n",
       "  width: 1px;\n",
       "}\n",
       "\n",
       "#sk-container-id-2 div.sk-dashed-wrapped {\n",
       "  border: 1px dashed var(--sklearn-color-line);\n",
       "  margin: 0 0.4em 0.5em 0.4em;\n",
       "  box-sizing: border-box;\n",
       "  padding-bottom: 0.4em;\n",
       "  background-color: var(--sklearn-color-background);\n",
       "}\n",
       "\n",
       "#sk-container-id-2 div.sk-container {\n",
       "  /* jupyter's `normalize.less` sets `[hidden] { display: none; }`\n",
       "     but bootstrap.min.css set `[hidden] { display: none !important; }`\n",
       "     so we also need the `!important` here to be able to override the\n",
       "     default hidden behavior on the sphinx rendered scikit-learn.org.\n",
       "     See: https://github.com/scikit-learn/scikit-learn/issues/21755 */\n",
       "  display: inline-block !important;\n",
       "  position: relative;\n",
       "}\n",
       "\n",
       "#sk-container-id-2 div.sk-text-repr-fallback {\n",
       "  display: none;\n",
       "}\n",
       "\n",
       "div.sk-parallel-item,\n",
       "div.sk-serial,\n",
       "div.sk-item {\n",
       "  /* draw centered vertical line to link estimators */\n",
       "  background-image: linear-gradient(var(--sklearn-color-text-on-default-background), var(--sklearn-color-text-on-default-background));\n",
       "  background-size: 2px 100%;\n",
       "  background-repeat: no-repeat;\n",
       "  background-position: center center;\n",
       "}\n",
       "\n",
       "/* Parallel-specific style estimator block */\n",
       "\n",
       "#sk-container-id-2 div.sk-parallel-item::after {\n",
       "  content: \"\";\n",
       "  width: 100%;\n",
       "  border-bottom: 2px solid var(--sklearn-color-text-on-default-background);\n",
       "  flex-grow: 1;\n",
       "}\n",
       "\n",
       "#sk-container-id-2 div.sk-parallel {\n",
       "  display: flex;\n",
       "  align-items: stretch;\n",
       "  justify-content: center;\n",
       "  background-color: var(--sklearn-color-background);\n",
       "  position: relative;\n",
       "}\n",
       "\n",
       "#sk-container-id-2 div.sk-parallel-item {\n",
       "  display: flex;\n",
       "  flex-direction: column;\n",
       "}\n",
       "\n",
       "#sk-container-id-2 div.sk-parallel-item:first-child::after {\n",
       "  align-self: flex-end;\n",
       "  width: 50%;\n",
       "}\n",
       "\n",
       "#sk-container-id-2 div.sk-parallel-item:last-child::after {\n",
       "  align-self: flex-start;\n",
       "  width: 50%;\n",
       "}\n",
       "\n",
       "#sk-container-id-2 div.sk-parallel-item:only-child::after {\n",
       "  width: 0;\n",
       "}\n",
       "\n",
       "/* Serial-specific style estimator block */\n",
       "\n",
       "#sk-container-id-2 div.sk-serial {\n",
       "  display: flex;\n",
       "  flex-direction: column;\n",
       "  align-items: center;\n",
       "  background-color: var(--sklearn-color-background);\n",
       "  padding-right: 1em;\n",
       "  padding-left: 1em;\n",
       "}\n",
       "\n",
       "\n",
       "/* Toggleable style: style used for estimator/Pipeline/ColumnTransformer box that is\n",
       "clickable and can be expanded/collapsed.\n",
       "- Pipeline and ColumnTransformer use this feature and define the default style\n",
       "- Estimators will overwrite some part of the style using the `sk-estimator` class\n",
       "*/\n",
       "\n",
       "/* Pipeline and ColumnTransformer style (default) */\n",
       "\n",
       "#sk-container-id-2 div.sk-toggleable {\n",
       "  /* Default theme specific background. It is overwritten whether we have a\n",
       "  specific estimator or a Pipeline/ColumnTransformer */\n",
       "  background-color: var(--sklearn-color-background);\n",
       "}\n",
       "\n",
       "/* Toggleable label */\n",
       "#sk-container-id-2 label.sk-toggleable__label {\n",
       "  cursor: pointer;\n",
       "  display: flex;\n",
       "  width: 100%;\n",
       "  margin-bottom: 0;\n",
       "  padding: 0.5em;\n",
       "  box-sizing: border-box;\n",
       "  text-align: center;\n",
       "  align-items: start;\n",
       "  justify-content: space-between;\n",
       "  gap: 0.5em;\n",
       "}\n",
       "\n",
       "#sk-container-id-2 label.sk-toggleable__label .caption {\n",
       "  font-size: 0.6rem;\n",
       "  font-weight: lighter;\n",
       "  color: var(--sklearn-color-text-muted);\n",
       "}\n",
       "\n",
       "#sk-container-id-2 label.sk-toggleable__label-arrow:before {\n",
       "  /* Arrow on the left of the label */\n",
       "  content: \"▸\";\n",
       "  float: left;\n",
       "  margin-right: 0.25em;\n",
       "  color: var(--sklearn-color-icon);\n",
       "}\n",
       "\n",
       "#sk-container-id-2 label.sk-toggleable__label-arrow:hover:before {\n",
       "  color: var(--sklearn-color-text);\n",
       "}\n",
       "\n",
       "/* Toggleable content - dropdown */\n",
       "\n",
       "#sk-container-id-2 div.sk-toggleable__content {\n",
       "  max-height: 0;\n",
       "  max-width: 0;\n",
       "  overflow: hidden;\n",
       "  text-align: left;\n",
       "  /* unfitted */\n",
       "  background-color: var(--sklearn-color-unfitted-level-0);\n",
       "}\n",
       "\n",
       "#sk-container-id-2 div.sk-toggleable__content.fitted {\n",
       "  /* fitted */\n",
       "  background-color: var(--sklearn-color-fitted-level-0);\n",
       "}\n",
       "\n",
       "#sk-container-id-2 div.sk-toggleable__content pre {\n",
       "  margin: 0.2em;\n",
       "  border-radius: 0.25em;\n",
       "  color: var(--sklearn-color-text);\n",
       "  /* unfitted */\n",
       "  background-color: var(--sklearn-color-unfitted-level-0);\n",
       "}\n",
       "\n",
       "#sk-container-id-2 div.sk-toggleable__content.fitted pre {\n",
       "  /* unfitted */\n",
       "  background-color: var(--sklearn-color-fitted-level-0);\n",
       "}\n",
       "\n",
       "#sk-container-id-2 input.sk-toggleable__control:checked~div.sk-toggleable__content {\n",
       "  /* Expand drop-down */\n",
       "  max-height: 200px;\n",
       "  max-width: 100%;\n",
       "  overflow: auto;\n",
       "}\n",
       "\n",
       "#sk-container-id-2 input.sk-toggleable__control:checked~label.sk-toggleable__label-arrow:before {\n",
       "  content: \"▾\";\n",
       "}\n",
       "\n",
       "/* Pipeline/ColumnTransformer-specific style */\n",
       "\n",
       "#sk-container-id-2 div.sk-label input.sk-toggleable__control:checked~label.sk-toggleable__label {\n",
       "  color: var(--sklearn-color-text);\n",
       "  background-color: var(--sklearn-color-unfitted-level-2);\n",
       "}\n",
       "\n",
       "#sk-container-id-2 div.sk-label.fitted input.sk-toggleable__control:checked~label.sk-toggleable__label {\n",
       "  background-color: var(--sklearn-color-fitted-level-2);\n",
       "}\n",
       "\n",
       "/* Estimator-specific style */\n",
       "\n",
       "/* Colorize estimator box */\n",
       "#sk-container-id-2 div.sk-estimator input.sk-toggleable__control:checked~label.sk-toggleable__label {\n",
       "  /* unfitted */\n",
       "  background-color: var(--sklearn-color-unfitted-level-2);\n",
       "}\n",
       "\n",
       "#sk-container-id-2 div.sk-estimator.fitted input.sk-toggleable__control:checked~label.sk-toggleable__label {\n",
       "  /* fitted */\n",
       "  background-color: var(--sklearn-color-fitted-level-2);\n",
       "}\n",
       "\n",
       "#sk-container-id-2 div.sk-label label.sk-toggleable__label,\n",
       "#sk-container-id-2 div.sk-label label {\n",
       "  /* The background is the default theme color */\n",
       "  color: var(--sklearn-color-text-on-default-background);\n",
       "}\n",
       "\n",
       "/* On hover, darken the color of the background */\n",
       "#sk-container-id-2 div.sk-label:hover label.sk-toggleable__label {\n",
       "  color: var(--sklearn-color-text);\n",
       "  background-color: var(--sklearn-color-unfitted-level-2);\n",
       "}\n",
       "\n",
       "/* Label box, darken color on hover, fitted */\n",
       "#sk-container-id-2 div.sk-label.fitted:hover label.sk-toggleable__label.fitted {\n",
       "  color: var(--sklearn-color-text);\n",
       "  background-color: var(--sklearn-color-fitted-level-2);\n",
       "}\n",
       "\n",
       "/* Estimator label */\n",
       "\n",
       "#sk-container-id-2 div.sk-label label {\n",
       "  font-family: monospace;\n",
       "  font-weight: bold;\n",
       "  display: inline-block;\n",
       "  line-height: 1.2em;\n",
       "}\n",
       "\n",
       "#sk-container-id-2 div.sk-label-container {\n",
       "  text-align: center;\n",
       "}\n",
       "\n",
       "/* Estimator-specific */\n",
       "#sk-container-id-2 div.sk-estimator {\n",
       "  font-family: monospace;\n",
       "  border: 1px dotted var(--sklearn-color-border-box);\n",
       "  border-radius: 0.25em;\n",
       "  box-sizing: border-box;\n",
       "  margin-bottom: 0.5em;\n",
       "  /* unfitted */\n",
       "  background-color: var(--sklearn-color-unfitted-level-0);\n",
       "}\n",
       "\n",
       "#sk-container-id-2 div.sk-estimator.fitted {\n",
       "  /* fitted */\n",
       "  background-color: var(--sklearn-color-fitted-level-0);\n",
       "}\n",
       "\n",
       "/* on hover */\n",
       "#sk-container-id-2 div.sk-estimator:hover {\n",
       "  /* unfitted */\n",
       "  background-color: var(--sklearn-color-unfitted-level-2);\n",
       "}\n",
       "\n",
       "#sk-container-id-2 div.sk-estimator.fitted:hover {\n",
       "  /* fitted */\n",
       "  background-color: var(--sklearn-color-fitted-level-2);\n",
       "}\n",
       "\n",
       "/* Specification for estimator info (e.g. \"i\" and \"?\") */\n",
       "\n",
       "/* Common style for \"i\" and \"?\" */\n",
       "\n",
       ".sk-estimator-doc-link,\n",
       "a:link.sk-estimator-doc-link,\n",
       "a:visited.sk-estimator-doc-link {\n",
       "  float: right;\n",
       "  font-size: smaller;\n",
       "  line-height: 1em;\n",
       "  font-family: monospace;\n",
       "  background-color: var(--sklearn-color-background);\n",
       "  border-radius: 1em;\n",
       "  height: 1em;\n",
       "  width: 1em;\n",
       "  text-decoration: none !important;\n",
       "  margin-left: 0.5em;\n",
       "  text-align: center;\n",
       "  /* unfitted */\n",
       "  border: var(--sklearn-color-unfitted-level-1) 1pt solid;\n",
       "  color: var(--sklearn-color-unfitted-level-1);\n",
       "}\n",
       "\n",
       ".sk-estimator-doc-link.fitted,\n",
       "a:link.sk-estimator-doc-link.fitted,\n",
       "a:visited.sk-estimator-doc-link.fitted {\n",
       "  /* fitted */\n",
       "  border: var(--sklearn-color-fitted-level-1) 1pt solid;\n",
       "  color: var(--sklearn-color-fitted-level-1);\n",
       "}\n",
       "\n",
       "/* On hover */\n",
       "div.sk-estimator:hover .sk-estimator-doc-link:hover,\n",
       ".sk-estimator-doc-link:hover,\n",
       "div.sk-label-container:hover .sk-estimator-doc-link:hover,\n",
       ".sk-estimator-doc-link:hover {\n",
       "  /* unfitted */\n",
       "  background-color: var(--sklearn-color-unfitted-level-3);\n",
       "  color: var(--sklearn-color-background);\n",
       "  text-decoration: none;\n",
       "}\n",
       "\n",
       "div.sk-estimator.fitted:hover .sk-estimator-doc-link.fitted:hover,\n",
       ".sk-estimator-doc-link.fitted:hover,\n",
       "div.sk-label-container:hover .sk-estimator-doc-link.fitted:hover,\n",
       ".sk-estimator-doc-link.fitted:hover {\n",
       "  /* fitted */\n",
       "  background-color: var(--sklearn-color-fitted-level-3);\n",
       "  color: var(--sklearn-color-background);\n",
       "  text-decoration: none;\n",
       "}\n",
       "\n",
       "/* Span, style for the box shown on hovering the info icon */\n",
       ".sk-estimator-doc-link span {\n",
       "  display: none;\n",
       "  z-index: 9999;\n",
       "  position: relative;\n",
       "  font-weight: normal;\n",
       "  right: .2ex;\n",
       "  padding: .5ex;\n",
       "  margin: .5ex;\n",
       "  width: min-content;\n",
       "  min-width: 20ex;\n",
       "  max-width: 50ex;\n",
       "  color: var(--sklearn-color-text);\n",
       "  box-shadow: 2pt 2pt 4pt #999;\n",
       "  /* unfitted */\n",
       "  background: var(--sklearn-color-unfitted-level-0);\n",
       "  border: .5pt solid var(--sklearn-color-unfitted-level-3);\n",
       "}\n",
       "\n",
       ".sk-estimator-doc-link.fitted span {\n",
       "  /* fitted */\n",
       "  background: var(--sklearn-color-fitted-level-0);\n",
       "  border: var(--sklearn-color-fitted-level-3);\n",
       "}\n",
       "\n",
       ".sk-estimator-doc-link:hover span {\n",
       "  display: block;\n",
       "}\n",
       "\n",
       "/* \"?\"-specific style due to the `<a>` HTML tag */\n",
       "\n",
       "#sk-container-id-2 a.estimator_doc_link {\n",
       "  float: right;\n",
       "  font-size: 1rem;\n",
       "  line-height: 1em;\n",
       "  font-family: monospace;\n",
       "  background-color: var(--sklearn-color-background);\n",
       "  border-radius: 1rem;\n",
       "  height: 1rem;\n",
       "  width: 1rem;\n",
       "  text-decoration: none;\n",
       "  /* unfitted */\n",
       "  color: var(--sklearn-color-unfitted-level-1);\n",
       "  border: var(--sklearn-color-unfitted-level-1) 1pt solid;\n",
       "}\n",
       "\n",
       "#sk-container-id-2 a.estimator_doc_link.fitted {\n",
       "  /* fitted */\n",
       "  border: var(--sklearn-color-fitted-level-1) 1pt solid;\n",
       "  color: var(--sklearn-color-fitted-level-1);\n",
       "}\n",
       "\n",
       "/* On hover */\n",
       "#sk-container-id-2 a.estimator_doc_link:hover {\n",
       "  /* unfitted */\n",
       "  background-color: var(--sklearn-color-unfitted-level-3);\n",
       "  color: var(--sklearn-color-background);\n",
       "  text-decoration: none;\n",
       "}\n",
       "\n",
       "#sk-container-id-2 a.estimator_doc_link.fitted:hover {\n",
       "  /* fitted */\n",
       "  background-color: var(--sklearn-color-fitted-level-3);\n",
       "}\n",
       "</style><div id=\"sk-container-id-2\" class=\"sk-top-container\"><div class=\"sk-text-repr-fallback\"><pre>LogisticRegression()</pre><b>In a Jupyter environment, please rerun this cell to show the HTML representation or trust the notebook. <br />On GitHub, the HTML representation is unable to render, please try loading this page with nbviewer.org.</b></div><div class=\"sk-container\" hidden><div class=\"sk-item\"><div class=\"sk-estimator fitted sk-toggleable\"><input class=\"sk-toggleable__control sk-hidden--visually\" id=\"sk-estimator-id-2\" type=\"checkbox\" checked><label for=\"sk-estimator-id-2\" class=\"sk-toggleable__label fitted sk-toggleable__label-arrow\"><div><div>LogisticRegression</div></div><div><a class=\"sk-estimator-doc-link fitted\" rel=\"noreferrer\" target=\"_blank\" href=\"https://scikit-learn.org/1.6/modules/generated/sklearn.linear_model.LogisticRegression.html\">?<span>Documentation for LogisticRegression</span></a><span class=\"sk-estimator-doc-link fitted\">i<span>Fitted</span></span></div></label><div class=\"sk-toggleable__content fitted\"><pre>LogisticRegression()</pre></div> </div></div></div></div>"
      ],
      "text/plain": [
       "LogisticRegression()"
      ]
     },
     "execution_count": 66,
     "metadata": {},
     "output_type": "execute_result"
    }
   ],
   "source": [
    "logistic = LogisticRegression()\n",
    "logistic.fit(X, y.ravel())"
   ]
  },
  {
   "cell_type": "code",
   "execution_count": 67,
   "id": "7077c123",
   "metadata": {},
   "outputs": [],
   "source": [
    "y_pred = logistic.predict(X)"
   ]
  },
  {
   "cell_type": "code",
   "execution_count": 68,
   "id": "71fc10d0",
   "metadata": {},
   "outputs": [
    {
     "name": "stdout",
     "output_type": "stream",
     "text": [
      "              precision    recall  f1-score   support\n",
      "\n",
      "         0.0       0.70      1.00      0.83       141\n",
      "         1.0       0.00      0.00      0.00        59\n",
      "\n",
      "    accuracy                           0.70       200\n",
      "   macro avg       0.35      0.50      0.41       200\n",
      "weighted avg       0.50      0.70      0.58       200\n",
      "\n"
     ]
    }
   ],
   "source": [
    "print(mt.classification_report(y.ravel(), y_pred, zero_division=0))"
   ]
  },
  {
   "cell_type": "markdown",
   "id": "bbd332a2",
   "metadata": {},
   "source": [
    "## Support Vector Machine (intuition)\n",
    "\n",
    "The basic idea of SVM is to learn a prediction that is featured by the largest margin from the classes.\n",
    "\n",
    "Recall that $\\theta^T \\mathbf{x} = 0$ (including the bias term) is the equation of the hiperplane that separates the data and that we can use the hyperplane for classification by computing\n",
    "\n",
    "$$\n",
    "\\hat{y} = sign(\\theta^T \\mathbf{x})\n",
    "$$\n",
    "\n",
    "However, we can have several different hyperplanes which serve to the same goal by $\\lambda \\theta$ for $\\lambda \\in \\mathbb{R}^{+}$. We can thus define a *canonical hyperplane* as the one that separates the point with a *functional distance* of at least 1.\n",
    "\n",
    "$$\n",
    "\\mathbf{x}_i \\cdot \\theta \\geq 1\\ \\textrm{if}\\ y_i = 1 \\newline\n",
    "\\mathbf{x}_i \\cdot \\theta \\leq -1\\ \\textrm{if}\\ y_i = -1 \\newline\n",
    "$$\n",
    "\n",
    "or\n",
    "\n",
    "$$\n",
    "y_i(\\mathbf{x}_i \\cdot \\theta) \\geq 1\n",
    "$$\n",
    "\n",
    "Note that the notion of functional distance is referred to the resul value of the classification function, not to the geometric margin. The geomeric distance of the margin is given by:\n",
    "\n",
    "$$\n",
    "\\frac{y_i(\\mathbf{x}_i \\cdot \\theta)}{\\mid\\mid \\theta \\mid\\mid} \\geq \\frac{1}{\\mid\\mid \\theta \\mid\\mid}\n",
    "$$\n",
    "\n",
    "The goal of finding an optimal margin is thus to find a boundary that maximizes the geometric distance to the closest data points. This can be obtained by minimizing $\\mid\\mid \\theta \\mid\\mid$.\n",
    "\n",
    "In other terms, we want to minimize $\\mid\\mid \\theta \\mid\\mid$ without violating the margin constraints $y_i(\\mathbf{x}_i \\cdot \\theta) \\geq 1$. Moreover, we express the minimization problem as follows:\n",
    "\n",
    "$$\n",
    "\\textrm{minimize} \\ \\frac{1}{2} \\theta^T \\cdot \\theta \\newline\n",
    "\\textrm{subject to} \\ y_i(\\mathbf{x}_i \\cdot \\theta) \\geq 1\n",
    "$$\n",
    "\n",
    "Note that we use $\\frac{1}{2} \\theta^T \\cdot \\theta$ instead of $\\mid\\mid \\theta \\mid\\mid$ because it has a simple derivative.\n",
    "\n",
    "### Online SVM\n",
    "We can address the problem by gradient descent using the following loss function.\n",
    "\n",
    "$$\n",
    "\\ell(\\theta) = \\frac{1}{2} \\theta^T \\cdot \\theta + C \\sum\\limits_{i=1}^{m} \\max\\left( 0, 1 - y^{(i)} \\left( \\theta^T \\mathbf{x}^{(i)} \\right) \\right)\n",
    "$$\n",
    "where $C$ is a hyperparameter for balancing. The first sum push the model to find a small $\\theta$ to have a larger margin. The second sum compute the total of all margin violation. Minimizing this function means to find a large margin by minimizing the number of violations."
   ]
  },
  {
   "cell_type": "markdown",
   "id": "8748e1ae",
   "metadata": {},
   "source": [
    "## Perceptron\n",
    "We have seen how we can generalize the idea of linear classification by the following equation:\n",
    "\n",
    "$$\n",
    "\\hat{y} = g(\\theta^T \\cdot \\mathbf{X})\n",
    "$$\n",
    "\n",
    "where $g(\\cdot)$ is a function that maps the predicted value to the target variable. This idea can be graphically represented as follows:"
   ]
  },
  {
   "cell_type": "markdown",
   "id": "d8b2b57f",
   "metadata": {},
   "source": [
    "![](../imgs/perceptron.jpg)"
   ]
  },
  {
   "cell_type": "markdown",
   "id": "415db324",
   "metadata": {},
   "source": [
    "![](../imgs/perceptron-example.jpg)"
   ]
  },
  {
   "cell_type": "markdown",
   "id": "3b31e742",
   "metadata": {},
   "source": [
    "## Neural networks\n",
    "Perceptron can be easily generalized to handle multi-class problems as the in following image. Note that the only main change is in the dimensionality of $\\theta$. Given $k$ classes, we will have $\\theta \\in \\mathbb{R}^{n \\times k}$. "
   ]
  },
  {
   "cell_type": "code",
   "execution_count": 70,
   "id": "fa4adcd5",
   "metadata": {},
   "outputs": [
    {
     "data": {
      "text/plain": [
       "np.float64(1.7999999999999998)"
      ]
     },
     "execution_count": 70,
     "metadata": {},
     "output_type": "execute_result"
    }
   ],
   "source": [
    "a = np.array([1,0,0,1,0,1])\n",
    "th = np.array([.4, .2, 0, .6, .1, .8])\n",
    "a.dot(th)"
   ]
  },
  {
   "cell_type": "code",
   "execution_count": 72,
   "id": "2e3f6a52",
   "metadata": {},
   "outputs": [
    {
     "data": {
      "text/plain": [
       "array([1.8, 1. ])"
      ]
     },
     "execution_count": 72,
     "metadata": {},
     "output_type": "execute_result"
    }
   ],
   "source": [
    "a = np.array([1,0,0,1,0,1])\n",
    "th = np.array([[.4, .2, 0, .6, .1, .8], [.4, .2, 0, .6, .1, .0]])\n",
    "a.dot(th.T)"
   ]
  },
  {
   "cell_type": "markdown",
   "id": "d77bcbf8",
   "metadata": {},
   "source": [
    "![](../imgs/ffn.jpg)"
   ]
  },
  {
   "cell_type": "code",
   "execution_count": 73,
   "id": "fcc22cc1",
   "metadata": {},
   "outputs": [
    {
     "data": {
      "text/plain": [
       "array([0.85814894, 0.73105858])"
      ]
     },
     "execution_count": 73,
     "metadata": {},
     "output_type": "execute_result"
    }
   ],
   "source": [
    "1 / (1 + np.exp(-np.array([1.8, 1])))"
   ]
  },
  {
   "cell_type": "markdown",
   "id": "59f1ddac",
   "metadata": {},
   "source": [
    "![](../imgs/ffn-example.jpg)"
   ]
  },
  {
   "cell_type": "markdown",
   "id": "a8c502d0",
   "metadata": {},
   "source": [
    "### Main activation functions"
   ]
  },
  {
   "cell_type": "code",
   "execution_count": 74,
   "id": "824f6610",
   "metadata": {},
   "outputs": [],
   "source": [
    "import numpy as np\n",
    "import matplotlib.pyplot as plt"
   ]
  },
  {
   "cell_type": "code",
   "execution_count": 75,
   "id": "43c95fd9",
   "metadata": {},
   "outputs": [],
   "source": [
    "activation = {\n",
    "    'identity': lambda x: x,\n",
    "    'sign': lambda x: np.sign(x),\n",
    "    'sigmoid': lambda x: 1 / (1 + np.exp(-x)),\n",
    "    'ReLU': lambda x: np.array([max([k, 0]) for k in x]),\n",
    "    'tahn': lambda x: (np.exp(2*x) - 1) / (np.exp(2*x) + 1),\n",
    "    'hard tahn': lambda x: np.array([max([min([k, 1]), -1]) for k in x])\n",
    "}\n",
    "data = np.linspace(-5, 5)"
   ]
  },
  {
   "cell_type": "code",
   "execution_count": 76,
   "id": "ab948a6f",
   "metadata": {},
   "outputs": [
    {
     "data": {
      "image/png": "[encoded data removed]",
      "text/plain": [
       "<Figure size 1800x300 with 6 Axes>"
      ]
     },
     "metadata": {},
     "output_type": "display_data"
    }
   ],
   "source": [
    "fig, ax = plt.subplots(figsize=(3*len(activation), 3), ncols=len(activation))\n",
    "for i, (fun, f) in enumerate(activation.items()):\n",
    "    ax[i].plot(data, f(data), 'g--')\n",
    "    ax[i].set_title(fun)\n",
    "plt.tight_layout()\n",
    "plt.show()"
   ]
  },
  {
   "cell_type": "markdown",
   "id": "ea1ed03a",
   "metadata": {},
   "source": [
    "### Simple feedforward network using PyTorch\n",
    "\n",
    "Predict the cuisine given the combination of ingredients."
   ]
  },
  {
   "cell_type": "code",
   "execution_count": 77,
   "id": "d83e6f2f",
   "metadata": {},
   "outputs": [],
   "source": [
    "from sklearn.preprocessing import OneHotEncoder"
   ]
  },
  {
   "cell_type": "code",
   "execution_count": 84,
   "id": "e45f3d30",
   "metadata": {},
   "outputs": [],
   "source": [
    "db = pymongo.MongoClient()['cousine']\n",
    "recipes = db['foodcom']\n",
    "label_field = 'category'\n",
    "data = []\n",
    "labels = ['italian', 'indian', 'southern', 'mexican', 'chinese', 'greek']\n",
    "\n",
    "q = {'search_terms': {'$in': labels}}\n",
    "for recipe in recipes.find(q):\n",
    "    data.append({\n",
    "        'ingredients': recipe['ingredients'],\n",
    "        label_field: [x for x in recipe['search_terms'] if x in labels][0]\n",
    "    })"
   ]
  },
  {
   "cell_type": "code",
   "execution_count": 86,
   "id": "0caafaeb",
   "metadata": {},
   "outputs": [],
   "source": [
    "train_data = data[:5000]\n",
    "test_data = data[5000:6000]"
   ]
  },
  {
   "cell_type": "code",
   "execution_count": 87,
   "id": "2baf2804",
   "metadata": {},
   "outputs": [],
   "source": [
    "vocabulary = list(pd.Series(document_frequency).sort_values(\n",
    "    ascending=False).head(1000).keys().values)"
   ]
  },
  {
   "cell_type": "code",
   "execution_count": 88,
   "id": "77bb68e7",
   "metadata": {},
   "outputs": [],
   "source": [
    "enc_labels = OneHotEncoder(handle_unknown='ignore')"
   ]
  },
  {
   "cell_type": "code",
   "execution_count": 89,
   "id": "9b5c544b",
   "metadata": {},
   "outputs": [],
   "source": [
    "def get_data(data, vocabulary):\n",
    "    features, labels = [], []\n",
    "    for recipe in data:\n",
    "        features.append([f for f in recipe['ingredients'] if f in vocabulary])\n",
    "        labels.append([recipe[label_field]])\n",
    "    return features, labels"
   ]
  },
  {
   "cell_type": "code",
   "execution_count": 90,
   "id": "f0e319dc",
   "metadata": {},
   "outputs": [],
   "source": [
    "train_docs, train_labels = get_data(train_data, vocabulary)\n",
    "test_docs, test_labels = get_data(test_data, vocabulary)"
   ]
  },
  {
   "cell_type": "code",
   "execution_count": 92,
   "id": "2e9a9bae",
   "metadata": {},
   "outputs": [
    {
     "data": {
      "text/plain": [
       "[['italian'], ['italian']]"
      ]
     },
     "execution_count": 92,
     "metadata": {},
     "output_type": "execute_result"
    }
   ],
   "source": [
    "train_labels[:2]"
   ]
  },
  {
   "cell_type": "code",
   "execution_count": 93,
   "id": "cf64791c",
   "metadata": {},
   "outputs": [],
   "source": [
    "X_train = np.zeros((len(train_docs), len(vocabulary)))\n",
    "for i, doc in enumerate(train_docs):\n",
    "    for ingredient in doc:\n",
    "        X_train[i, vocabulary.index(ingredient)] = 1\n",
    "y_train = enc_labels.fit_transform(np.array(train_labels)).toarray()"
   ]
  },
  {
   "cell_type": "code",
   "execution_count": 94,
   "id": "18997bd1",
   "metadata": {},
   "outputs": [],
   "source": [
    "X_test = np.zeros((len(test_docs), len(vocabulary)))\n",
    "for i, doc in enumerate(test_docs):\n",
    "    for ingredient in doc:\n",
    "        X_test[i, vocabulary.index(ingredient)] = 1\n",
    "y_test = enc_labels.transform(np.array(test_labels)).toarray()"
   ]
  },
  {
   "cell_type": "code",
   "execution_count": 95,
   "id": "9023e571",
   "metadata": {},
   "outputs": [
    {
     "data": {
      "text/plain": [
       "array([[0., 1., 0., ..., 0., 0., 0.],\n",
       "       [1., 0., 1., ..., 0., 0., 0.],\n",
       "       [0., 0., 0., ..., 0., 0., 0.],\n",
       "       ...,\n",
       "       [0., 0., 0., ..., 0., 0., 0.],\n",
       "       [0., 0., 0., ..., 0., 0., 0.],\n",
       "       [1., 1., 0., ..., 0., 0., 0.]], shape=(5000, 1000))"
      ]
     },
     "execution_count": 95,
     "metadata": {},
     "output_type": "execute_result"
    }
   ],
   "source": [
    "X_train"
   ]
  },
  {
   "cell_type": "code",
   "execution_count": 96,
   "id": "161d5fc6",
   "metadata": {},
   "outputs": [
    {
     "data": {
      "text/plain": [
       "array([[0., 0., 0., 1., 0., 0.],\n",
       "       [0., 0., 0., 1., 0., 0.],\n",
       "       [0., 0., 0., 1., 0., 0.],\n",
       "       ...,\n",
       "       [0., 0., 0., 0., 1., 0.],\n",
       "       [0., 0., 0., 0., 1., 0.],\n",
       "       [0., 0., 0., 0., 1., 0.]], shape=(5000, 6))"
      ]
     },
     "execution_count": 96,
     "metadata": {},
     "output_type": "execute_result"
    }
   ],
   "source": [
    "y_train"
   ]
  },
  {
   "cell_type": "markdown",
   "id": "0510d775",
   "metadata": {},
   "source": [
    "### Torch data loader"
   ]
  },
  {
   "cell_type": "code",
   "execution_count": 97,
   "id": "04a8ed08",
   "metadata": {},
   "outputs": [],
   "source": [
    "import torch\n",
    "from torch.utils.data import TensorDataset, DataLoader"
   ]
  },
  {
   "cell_type": "code",
   "execution_count": 98,
   "id": "3efd83f2",
   "metadata": {},
   "outputs": [],
   "source": [
    "train_dataset = TensorDataset(torch.Tensor(X_train), torch.Tensor(y_train))\n",
    "train_dataloader = DataLoader(train_dataset, batch_size=10)"
   ]
  },
  {
   "cell_type": "code",
   "execution_count": 99,
   "id": "0cfe48e0",
   "metadata": {},
   "outputs": [
    {
     "name": "stdout",
     "output_type": "stream",
     "text": [
      "torch.Size([10, 1000]) torch.Size([10, 6])\n"
     ]
    }
   ],
   "source": [
    "for (x, y) in train_dataloader:\n",
    "    print(x.shape, y.shape)\n",
    "    break"
   ]
  },
  {
   "cell_type": "code",
   "execution_count": 100,
   "id": "6c90ee01",
   "metadata": {},
   "outputs": [],
   "source": [
    "test_dataset = TensorDataset(torch.Tensor(X_test), torch.Tensor(y_test))\n",
    "test_dataloader = DataLoader(test_dataset, batch_size=10)"
   ]
  },
  {
   "cell_type": "markdown",
   "id": "12938068",
   "metadata": {},
   "source": [
    "### The simple Net"
   ]
  },
  {
   "cell_type": "code",
   "execution_count": 101,
   "id": "be56bb5c",
   "metadata": {},
   "outputs": [],
   "source": [
    "import torch.nn as nn\n",
    "import torch.nn.functional as F"
   ]
  },
  {
   "cell_type": "code",
   "execution_count": 102,
   "id": "75d292ed",
   "metadata": {},
   "outputs": [],
   "source": [
    "class SimpleNet(nn.Module):\n",
    "\n",
    "    def __init__(self, input_size, output_size):\n",
    "        super(SimpleNet, self).__init__()\n",
    "        self.fc = nn.Linear(input_size, output_size)\n",
    "\n",
    "    def forward(self, x):\n",
    "        x = F.softmax(self.fc(x), dim=0)\n",
    "        return x"
   ]
  },
  {
   "cell_type": "code",
   "execution_count": 103,
   "id": "bec659fb",
   "metadata": {},
   "outputs": [],
   "source": [
    "net = SimpleNet(X_train.shape[1], y_train.shape[1])"
   ]
  },
  {
   "cell_type": "code",
   "execution_count": 104,
   "id": "800e6ae7",
   "metadata": {},
   "outputs": [],
   "source": [
    "for (x, y) in train_dataloader:\n",
    "    p = net(x)\n",
    "    break"
   ]
  },
  {
   "cell_type": "code",
   "execution_count": 105,
   "id": "fed989fe",
   "metadata": {},
   "outputs": [
    {
     "data": {
      "text/plain": [
       "torch.Size([10, 6])"
      ]
     },
     "execution_count": 105,
     "metadata": {},
     "output_type": "execute_result"
    }
   ],
   "source": [
    "p.shape"
   ]
  },
  {
   "cell_type": "code",
   "execution_count": 106,
   "id": "9b53a7c5",
   "metadata": {},
   "outputs": [
    {
     "data": {
      "text/plain": [
       "tensor([0.0966, 0.0980, 0.1030, 0.1019, 0.0984, 0.0969],\n",
       "       grad_fn=<SelectBackward0>)"
      ]
     },
     "execution_count": 106,
     "metadata": {},
     "output_type": "execute_result"
    }
   ],
   "source": [
    "p[0]"
   ]
  },
  {
   "cell_type": "markdown",
   "id": "83da215b",
   "metadata": {},
   "source": [
    "### Train"
   ]
  },
  {
   "cell_type": "code",
   "execution_count": 107,
   "id": "ba6fbc62",
   "metadata": {},
   "outputs": [],
   "source": [
    "import time\n",
    "import math"
   ]
  },
  {
   "cell_type": "code",
   "execution_count": 108,
   "id": "b1457d3c",
   "metadata": {},
   "outputs": [],
   "source": [
    "batches = [(doc, lab) for doc, lab in train_dataloader]\n",
    "read_labels = [x.replace('x0_', '') for x in enc_labels.get_feature_names_out()]"
   ]
  },
  {
   "cell_type": "code",
   "execution_count": 110,
   "id": "fcb8de55",
   "metadata": {},
   "outputs": [],
   "source": [
    "def train(document_tensor, label_tensor, criterion, learning_rate):\n",
    "    net.zero_grad()\n",
    "    output = net(document_tensor)\n",
    "    loss = criterion(output, label_tensor)\n",
    "    loss.backward()\n",
    "\n",
    "    for p in net.parameters():\n",
    "        p.data.add_(p.grad.data, alpha=-learning_rate)\n",
    "    return output, loss.item()"
   ]
  },
  {
   "cell_type": "code",
   "execution_count": 112,
   "id": "949097d2",
   "metadata": {},
   "outputs": [
    {
     "data": {
      "application/vnd.jupyter.widget-view+json": {
       "model_id": "20995697214648e59d36a7720a3dd7f4",
       "version_major": 2,
       "version_minor": 0
      },
      "text/plain": [
       "  0%|          | 0/20000 [00:00<?, ?it/s]"
      ]
     },
     "metadata": {},
     "output_type": "display_data"
    },
    {
     "name": "stdout",
     "output_type": "stream",
     "text": [
      "mexican ==> southern\n",
      "italian ==> southern\n",
      "mexican ==> mexican\n",
      "italian ==> italian\n",
      "italian ==> italian\n",
      "chinese ==> southern\n",
      "italian ==> italian\n",
      "southern ==> southern\n",
      "southern ==> italian\n",
      "southern ==> italian\n",
      "mexican ==> indian\n",
      "mexican ==> southern\n",
      "chinese ==> southern\n",
      "southern ==> mexican\n",
      "mexican ==> mexican\n",
      "indian ==> mexican\n",
      "southern ==> mexican\n",
      "italian ==> mexican\n",
      "indian ==> indian\n",
      "southern ==> southern\n",
      "southern ==> southern\n",
      "indian ==> indian\n",
      "italian ==> southern\n",
      "southern ==> southern\n",
      "southern ==> southern\n",
      "mexican ==> southern\n",
      "greek ==> southern\n",
      "southern ==> italian\n",
      "southern ==> greek\n",
      "southern ==> italian\n"
     ]
    }
   ],
   "source": [
    "n_iters = 20000\n",
    "print_every = 2000\n",
    "plot_every = 200\n",
    "criterion = nn.BCEWithLogitsLoss()\n",
    "learning_rate = 0.1\n",
    "\n",
    "current_loss = 0\n",
    "all_losses = []\n",
    "\n",
    "def timeSince(since):\n",
    "    now = time.time()\n",
    "    s = now - since\n",
    "    m = math.floor(s / 60)\n",
    "    s -= m * 60\n",
    "    return '%dm %ds' % (m, s)\n",
    "\n",
    "start = time.time()\n",
    "\n",
    "epochs = list(range(1, n_iters + 1))\n",
    "for it in tqdm(epochs):\n",
    "    document_tensor, label_tensor = batches[np.random.randint(0, len(batches) - 1)]\n",
    "    output, loss = train(document_tensor, label_tensor, criterion, learning_rate)\n",
    "    current_loss += loss\n",
    "\n",
    "    if it % print_every == 0:\n",
    "        preds = torch.argmax(output, dim=1)\n",
    "        ground = torch.argmax(label_tensor, dim=1)\n",
    "        for i, p in enumerate(preds[:3]):\n",
    "            g = ground[i]\n",
    "            print('{} ==> {}'.format(read_labels[p], read_labels[g]))\n",
    "\n",
    "    if it % plot_every == 0:\n",
    "        all_losses.append(current_loss / plot_every)\n",
    "        current_loss = 0"
   ]
  },
  {
   "cell_type": "code",
   "execution_count": 113,
   "id": "07d25dd9",
   "metadata": {},
   "outputs": [
    {
     "data": {
      "image/png": "[encoded data removed]",
      "text/plain": [
       "<Figure size 800x400 with 1 Axes>"
      ]
     },
     "metadata": {},
     "output_type": "display_data"
    }
   ],
   "source": [
    "fig, ax = plt.subplots(figsize=(8, 4))\n",
    "ax.plot(all_losses, 'g')\n",
    "plt.tight_layout()\n",
    "plt.show()"
   ]
  },
  {
   "cell_type": "markdown",
   "id": "7793ff36",
   "metadata": {},
   "source": [
    "### Prediction on train"
   ]
  },
  {
   "cell_type": "code",
   "execution_count": 114,
   "id": "4b2fbb86",
   "metadata": {},
   "outputs": [],
   "source": [
    "y_pred_train, y_true_train = [], []\n",
    "for doc, lab in train_dataloader:\n",
    "    output = net(doc)\n",
    "    preds = torch.argmax(output, dim=1)\n",
    "    ground = torch.argmax(lab, dim=1)\n",
    "    for i, p in enumerate(preds):\n",
    "        y_pred_train.append(p)\n",
    "        g = ground[i]\n",
    "        y_true_train.append(g)"
   ]
  },
  {
   "cell_type": "code",
   "execution_count": 115,
   "id": "16ba15a8",
   "metadata": {},
   "outputs": [
    {
     "name": "stdout",
     "output_type": "stream",
     "text": [
      "              precision    recall  f1-score   support\n",
      "\n",
      "           0       0.40      0.79      0.53       388\n",
      "           1       0.32      0.61      0.42       342\n",
      "           2       0.48      0.65      0.55       548\n",
      "           3       0.76      0.50      0.60      1325\n",
      "           4       0.73      0.57      0.64      1199\n",
      "           5       0.56      0.49      0.52      1198\n",
      "\n",
      "    accuracy                           0.56      5000\n",
      "   macro avg       0.54      0.60      0.54      5000\n",
      "weighted avg       0.62      0.56      0.57      5000\n",
      "\n"
     ]
    }
   ],
   "source": [
    "print(mt.classification_report(y_true_train, y_pred_train))"
   ]
  },
  {
   "cell_type": "markdown",
   "id": "1746fe20",
   "metadata": {},
   "source": [
    "### Prediction on test"
   ]
  },
  {
   "cell_type": "code",
   "execution_count": 116,
   "id": "1b3571f8",
   "metadata": {},
   "outputs": [],
   "source": [
    "y_pred, y_true = [], []\n",
    "for doc, lab in test_dataloader:\n",
    "    output = net(doc)\n",
    "    preds = torch.argmax(output, dim=1)\n",
    "    ground = torch.argmax(lab, dim=1)\n",
    "    for i, p in enumerate(preds):\n",
    "        y_pred.append(p)\n",
    "        g = ground[i]\n",
    "        y_true.append(g)"
   ]
  },
  {
   "cell_type": "code",
   "execution_count": 117,
   "id": "548e48c0",
   "metadata": {},
   "outputs": [
    {
     "name": "stdout",
     "output_type": "stream",
     "text": [
      "              precision    recall  f1-score   support\n",
      "\n",
      "           0       0.38      0.79      0.51        80\n",
      "           1       0.22      0.39      0.28        69\n",
      "           2       0.29      0.57      0.38        81\n",
      "           3       0.78      0.47      0.59       270\n",
      "           4       0.63      0.53      0.58       213\n",
      "           5       0.56      0.41      0.47       287\n",
      "\n",
      "    accuracy                           0.49      1000\n",
      "   macro avg       0.48      0.53      0.47      1000\n",
      "weighted avg       0.57      0.49      0.51      1000\n",
      "\n"
     ]
    }
   ],
   "source": [
    "print(mt.classification_report(y_true, y_pred, zero_division=0))"
   ]
  },
  {
   "cell_type": "code",
   "execution_count": 119,
   "id": "655e21f5",
   "metadata": {},
   "outputs": [
    {
     "data": {
      "image/png": "[encoded data removed]",
      "text/plain": [
       "<Figure size 800x600 with 2 Axes>"
      ]
     },
     "metadata": {},
     "output_type": "display_data"
    }
   ],
   "source": [
    "fig, ax = plt.subplots(figsize=(8, 6), ncols=2)\n",
    "cmd_train = mt.ConfusionMatrixDisplay(confusion_matrix=mt.confusion_matrix(y_true_train, y_pred_train), \n",
    "                                      display_labels=read_labels)\n",
    "cmd_test = mt.ConfusionMatrixDisplay(confusion_matrix=mt.confusion_matrix(y_true, y_pred), \n",
    "                                     display_labels=read_labels)\n",
    "cmd_train.plot(ax=ax[0], cmap='Greys', colorbar=False, xticks_rotation='vertical')\n",
    "cmd_test.plot(ax=ax[1], cmap='Greys', colorbar=False, xticks_rotation='vertical')\n",
    "ax[0].set_title('Trainset')\n",
    "ax[1].set_title('Testset')\n",
    "plt.tight_layout()\n",
    "plt.show()"
   ]
  },
  {
   "cell_type": "markdown",
   "id": "03052352",
   "metadata": {},
   "source": [
    "## Some considerations about network parameters"
   ]
  },
  {
   "cell_type": "code",
   "execution_count": 122,
   "id": "584b5f1f",
   "metadata": {},
   "outputs": [],
   "source": [
    "params = {name: param.detach().numpy() for name, param in net.named_parameters()}"
   ]
  },
  {
   "cell_type": "code",
   "execution_count": 125,
   "id": "09fcc7c6",
   "metadata": {},
   "outputs": [
    {
     "data": {
      "text/plain": [
       "(6, 1000)"
      ]
     },
     "execution_count": 125,
     "metadata": {},
     "output_type": "execute_result"
    }
   ],
   "source": [
    "params['fc.weight'].shape"
   ]
  },
  {
   "cell_type": "markdown",
   "id": "9bb78f68",
   "metadata": {},
   "source": [
    "**Note** that we have 6 classes and 1000 features in this dataset. Thus, we can associate one 6 value vector to each feature. Let's try:"
   ]
  },
  {
   "cell_type": "code",
   "execution_count": 126,
   "id": "d81ca8b3",
   "metadata": {},
   "outputs": [
    {
     "data": {
      "text/html": [
       "<div>\n",
       "<style scoped>\n",
       "    .dataframe tbody tr th:only-of-type {\n",
       "        vertical-align: middle;\n",
       "    }\n",
       "\n",
       "    .dataframe tbody tr th {\n",
       "        vertical-align: top;\n",
       "    }\n",
       "\n",
       "    .dataframe thead th {\n",
       "        text-align: right;\n",
       "    }\n",
       "</style>\n",
       "<table border=\"1\" class=\"dataframe\">\n",
       "  <thead>\n",
       "    <tr style=\"text-align: right;\">\n",
       "      <th></th>\n",
       "      <th>italian</th>\n",
       "      <th>indian</th>\n",
       "      <th>southern</th>\n",
       "      <th>mexican</th>\n",
       "      <th>chinese</th>\n",
       "      <th>greek</th>\n",
       "    </tr>\n",
       "  </thead>\n",
       "  <tbody>\n",
       "    <tr>\n",
       "      <th>salt</th>\n",
       "      <td>-0.108829</td>\n",
       "      <td>-0.043732</td>\n",
       "      <td>0.919251</td>\n",
       "      <td>-0.225072</td>\n",
       "      <td>-0.322081</td>\n",
       "      <td>0.227612</td>\n",
       "    </tr>\n",
       "    <tr>\n",
       "      <th>onion</th>\n",
       "      <td>-0.211217</td>\n",
       "      <td>-0.146539</td>\n",
       "      <td>0.209217</td>\n",
       "      <td>0.016362</td>\n",
       "      <td>0.473644</td>\n",
       "      <td>-0.067206</td>\n",
       "    </tr>\n",
       "    <tr>\n",
       "      <th>olive oil</th>\n",
       "      <td>-0.329753</td>\n",
       "      <td>0.679668</td>\n",
       "      <td>-0.280853</td>\n",
       "      <td>0.975460</td>\n",
       "      <td>-0.308118</td>\n",
       "      <td>-0.656444</td>\n",
       "    </tr>\n",
       "    <tr>\n",
       "      <th>garlic cloves</th>\n",
       "      <td>0.111183</td>\n",
       "      <td>0.141959</td>\n",
       "      <td>0.077758</td>\n",
       "      <td>0.363953</td>\n",
       "      <td>-0.022093</td>\n",
       "      <td>-0.428828</td>\n",
       "    </tr>\n",
       "    <tr>\n",
       "      <th>water</th>\n",
       "      <td>0.297361</td>\n",
       "      <td>-0.104772</td>\n",
       "      <td>0.312339</td>\n",
       "      <td>-0.142517</td>\n",
       "      <td>-0.160248</td>\n",
       "      <td>-0.043296</td>\n",
       "    </tr>\n",
       "    <tr>\n",
       "      <th>...</th>\n",
       "      <td>...</td>\n",
       "      <td>...</td>\n",
       "      <td>...</td>\n",
       "      <td>...</td>\n",
       "      <td>...</td>\n",
       "      <td>...</td>\n",
       "    </tr>\n",
       "    <tr>\n",
       "      <th>hot pepper flakes</th>\n",
       "      <td>-0.017678</td>\n",
       "      <td>0.008508</td>\n",
       "      <td>0.016208</td>\n",
       "      <td>0.000650</td>\n",
       "      <td>0.023142</td>\n",
       "      <td>0.021479</td>\n",
       "    </tr>\n",
       "    <tr>\n",
       "      <th>dried chilies</th>\n",
       "      <td>-0.005690</td>\n",
       "      <td>-0.000720</td>\n",
       "      <td>-0.019983</td>\n",
       "      <td>0.024003</td>\n",
       "      <td>0.025584</td>\n",
       "      <td>-0.025106</td>\n",
       "    </tr>\n",
       "    <tr>\n",
       "      <th>fish</th>\n",
       "      <td>-0.035034</td>\n",
       "      <td>-0.028242</td>\n",
       "      <td>0.027345</td>\n",
       "      <td>0.003202</td>\n",
       "      <td>0.001439</td>\n",
       "      <td>-0.031410</td>\n",
       "    </tr>\n",
       "    <tr>\n",
       "      <th>fennel</th>\n",
       "      <td>0.024657</td>\n",
       "      <td>-0.022946</td>\n",
       "      <td>-0.013354</td>\n",
       "      <td>-0.027985</td>\n",
       "      <td>-0.018947</td>\n",
       "      <td>-0.022956</td>\n",
       "    </tr>\n",
       "    <tr>\n",
       "      <th>coarse black pepper</th>\n",
       "      <td>0.024217</td>\n",
       "      <td>-0.008771</td>\n",
       "      <td>0.004335</td>\n",
       "      <td>0.026398</td>\n",
       "      <td>0.006318</td>\n",
       "      <td>0.017310</td>\n",
       "    </tr>\n",
       "  </tbody>\n",
       "</table>\n",
       "<p>1000 rows × 6 columns</p>\n",
       "</div>"
      ],
      "text/plain": [
       "                      italian    indian  southern   mexican   chinese  \\\n",
       "salt                -0.108829 -0.043732  0.919251 -0.225072 -0.322081   \n",
       "onion               -0.211217 -0.146539  0.209217  0.016362  0.473644   \n",
       "olive oil           -0.329753  0.679668 -0.280853  0.975460 -0.308118   \n",
       "garlic cloves        0.111183  0.141959  0.077758  0.363953 -0.022093   \n",
       "water                0.297361 -0.104772  0.312339 -0.142517 -0.160248   \n",
       "...                       ...       ...       ...       ...       ...   \n",
       "hot pepper flakes   -0.017678  0.008508  0.016208  0.000650  0.023142   \n",
       "dried chilies       -0.005690 -0.000720 -0.019983  0.024003  0.025584   \n",
       "fish                -0.035034 -0.028242  0.027345  0.003202  0.001439   \n",
       "fennel               0.024657 -0.022946 -0.013354 -0.027985 -0.018947   \n",
       "coarse black pepper  0.024217 -0.008771  0.004335  0.026398  0.006318   \n",
       "\n",
       "                        greek  \n",
       "salt                 0.227612  \n",
       "onion               -0.067206  \n",
       "olive oil           -0.656444  \n",
       "garlic cloves       -0.428828  \n",
       "water               -0.043296  \n",
       "...                       ...  \n",
       "hot pepper flakes    0.021479  \n",
       "dried chilies       -0.025106  \n",
       "fish                -0.031410  \n",
       "fennel              -0.022956  \n",
       "coarse black pepper  0.017310  \n",
       "\n",
       "[1000 rows x 6 columns]"
      ]
     },
     "execution_count": 126,
     "metadata": {},
     "output_type": "execute_result"
    }
   ],
   "source": [
    "feature_vectors = pd.DataFrame(params['fc.weight'].T, index=vocabulary, columns=labels)\n",
    "feature_vectors"
   ]
  },
  {
   "cell_type": "markdown",
   "id": "27f340c2",
   "metadata": {},
   "source": [
    "Now, let's try computing ingredient similarity by this vectors"
   ]
  },
  {
   "cell_type": "code",
   "execution_count": 127,
   "id": "a60310bf",
   "metadata": {},
   "outputs": [],
   "source": [
    "from sklearn.metrics.pairwise import cosine_similarity"
   ]
  },
  {
   "cell_type": "code",
   "execution_count": 130,
   "id": "adfb8d75",
   "metadata": {},
   "outputs": [],
   "source": [
    "sigma = cosine_similarity(feature_vectors, feature_vectors)\n",
    "S = pd.DataFrame(sigma, index=vocabulary, columns=vocabulary)"
   ]
  },
  {
   "cell_type": "code",
   "execution_count": 132,
   "id": "250a2c4f",
   "metadata": {},
   "outputs": [
    {
     "data": {
      "text/html": [
       "<div>\n",
       "<style scoped>\n",
       "    .dataframe tbody tr th:only-of-type {\n",
       "        vertical-align: middle;\n",
       "    }\n",
       "\n",
       "    .dataframe tbody tr th {\n",
       "        vertical-align: top;\n",
       "    }\n",
       "\n",
       "    .dataframe thead th {\n",
       "        text-align: right;\n",
       "    }\n",
       "</style>\n",
       "<table border=\"1\" class=\"dataframe\">\n",
       "  <thead>\n",
       "    <tr style=\"text-align: right;\">\n",
       "      <th></th>\n",
       "      <th>salt</th>\n",
       "      <th>onion</th>\n",
       "      <th>olive oil</th>\n",
       "      <th>garlic cloves</th>\n",
       "      <th>water</th>\n",
       "      <th>butter</th>\n",
       "      <th>sugar</th>\n",
       "      <th>garlic</th>\n",
       "      <th>eggs</th>\n",
       "      <th>parmesan cheese</th>\n",
       "      <th>...</th>\n",
       "      <th>mild salsa</th>\n",
       "      <th>creme fraiche</th>\n",
       "      <th>reduced-fat sour cream</th>\n",
       "      <th>gruyere cheese</th>\n",
       "      <th>white mushrooms</th>\n",
       "      <th>hot pepper flakes</th>\n",
       "      <th>dried chilies</th>\n",
       "      <th>fish</th>\n",
       "      <th>fennel</th>\n",
       "      <th>coarse black pepper</th>\n",
       "    </tr>\n",
       "  </thead>\n",
       "  <tbody>\n",
       "    <tr>\n",
       "      <th>salt</th>\n",
       "      <td>1.000000</td>\n",
       "      <td>0.083528</td>\n",
       "      <td>-0.346659</td>\n",
       "      <td>-0.193808</td>\n",
       "      <td>0.652492</td>\n",
       "      <td>0.203538</td>\n",
       "      <td>0.349827</td>\n",
       "      <td>0.001466</td>\n",
       "      <td>-0.036543</td>\n",
       "      <td>-0.277926</td>\n",
       "      <td>...</td>\n",
       "      <td>0.112510</td>\n",
       "      <td>-0.029592</td>\n",
       "      <td>-0.158817</td>\n",
       "      <td>-0.130585</td>\n",
       "      <td>-0.536200</td>\n",
       "      <td>0.328266</td>\n",
       "      <td>-0.750232</td>\n",
       "      <td>0.344776</td>\n",
       "      <td>-0.120306</td>\n",
       "      <td>-0.053840</td>\n",
       "    </tr>\n",
       "    <tr>\n",
       "      <th>onion</th>\n",
       "      <td>0.083528</td>\n",
       "      <td>1.000000</td>\n",
       "      <td>-0.205589</td>\n",
       "      <td>-0.010681</td>\n",
       "      <td>-0.199357</td>\n",
       "      <td>-0.358709</td>\n",
       "      <td>-0.679621</td>\n",
       "      <td>-0.244527</td>\n",
       "      <td>-0.529240</td>\n",
       "      <td>-0.137686</td>\n",
       "      <td>...</td>\n",
       "      <td>-0.543523</td>\n",
       "      <td>-0.663212</td>\n",
       "      <td>0.698080</td>\n",
       "      <td>0.138875</td>\n",
       "      <td>0.460790</td>\n",
       "      <td>0.652433</td>\n",
       "      <td>0.406172</td>\n",
       "      <td>0.562264</td>\n",
       "      <td>-0.394068</td>\n",
       "      <td>-0.027409</td>\n",
       "    </tr>\n",
       "    <tr>\n",
       "      <th>olive oil</th>\n",
       "      <td>-0.346659</td>\n",
       "      <td>-0.205589</td>\n",
       "      <td>1.000000</td>\n",
       "      <td>0.783625</td>\n",
       "      <td>-0.440972</td>\n",
       "      <td>-0.199960</td>\n",
       "      <td>-0.521025</td>\n",
       "      <td>0.711955</td>\n",
       "      <td>0.015713</td>\n",
       "      <td>0.789920</td>\n",
       "      <td>...</td>\n",
       "      <td>-0.347692</td>\n",
       "      <td>-0.237929</td>\n",
       "      <td>0.088762</td>\n",
       "      <td>0.244555</td>\n",
       "      <td>0.489859</td>\n",
       "      <td>-0.228842</td>\n",
       "      <td>0.558575</td>\n",
       "      <td>0.089056</td>\n",
       "      <td>-0.331080</td>\n",
       "      <td>-0.045059</td>\n",
       "    </tr>\n",
       "    <tr>\n",
       "      <th>garlic cloves</th>\n",
       "      <td>-0.193808</td>\n",
       "      <td>-0.010681</td>\n",
       "      <td>0.783625</td>\n",
       "      <td>1.000000</td>\n",
       "      <td>0.043096</td>\n",
       "      <td>-0.666881</td>\n",
       "      <td>-0.450101</td>\n",
       "      <td>0.925605</td>\n",
       "      <td>-0.487422</td>\n",
       "      <td>0.670290</td>\n",
       "      <td>...</td>\n",
       "      <td>-0.239431</td>\n",
       "      <td>-0.330905</td>\n",
       "      <td>0.481447</td>\n",
       "      <td>0.057543</td>\n",
       "      <td>0.381427</td>\n",
       "      <td>-0.371519</td>\n",
       "      <td>0.583146</td>\n",
       "      <td>0.241040</td>\n",
       "      <td>-0.045363</td>\n",
       "      <td>0.154945</td>\n",
       "    </tr>\n",
       "    <tr>\n",
       "      <th>water</th>\n",
       "      <td>0.652492</td>\n",
       "      <td>-0.199357</td>\n",
       "      <td>-0.440972</td>\n",
       "      <td>0.043096</td>\n",
       "      <td>1.000000</td>\n",
       "      <td>-0.224055</td>\n",
       "      <td>0.639327</td>\n",
       "      <td>0.252133</td>\n",
       "      <td>-0.327592</td>\n",
       "      <td>-0.314734</td>\n",
       "      <td>...</td>\n",
       "      <td>0.467147</td>\n",
       "      <td>0.243641</td>\n",
       "      <td>0.008439</td>\n",
       "      <td>-0.386161</td>\n",
       "      <td>-0.674391</td>\n",
       "      <td>-0.289870</td>\n",
       "      <td>-0.603170</td>\n",
       "      <td>0.057754</td>\n",
       "      <td>0.502741</td>\n",
       "      <td>0.192567</td>\n",
       "    </tr>\n",
       "  </tbody>\n",
       "</table>\n",
       "<p>5 rows × 1000 columns</p>\n",
       "</div>"
      ],
      "text/plain": [
       "                   salt     onion  olive oil  garlic cloves     water  \\\n",
       "salt           1.000000  0.083528  -0.346659      -0.193808  0.652492   \n",
       "onion          0.083528  1.000000  -0.205589      -0.010681 -0.199357   \n",
       "olive oil     -0.346659 -0.205589   1.000000       0.783625 -0.440972   \n",
       "garlic cloves -0.193808 -0.010681   0.783625       1.000000  0.043096   \n",
       "water          0.652492 -0.199357  -0.440972       0.043096  1.000000   \n",
       "\n",
       "                 butter     sugar    garlic      eggs  parmesan cheese  ...  \\\n",
       "salt           0.203538  0.349827  0.001466 -0.036543        -0.277926  ...   \n",
       "onion         -0.358709 -0.679621 -0.244527 -0.529240        -0.137686  ...   \n",
       "olive oil     -0.199960 -0.521025  0.711955  0.015713         0.789920  ...   \n",
       "garlic cloves -0.666881 -0.450101  0.925605 -0.487422         0.670290  ...   \n",
       "water         -0.224055  0.639327  0.252133 -0.327592        -0.314734  ...   \n",
       "\n",
       "               mild salsa  creme fraiche  reduced-fat sour cream  \\\n",
       "salt             0.112510      -0.029592               -0.158817   \n",
       "onion           -0.543523      -0.663212                0.698080   \n",
       "olive oil       -0.347692      -0.237929                0.088762   \n",
       "garlic cloves   -0.239431      -0.330905                0.481447   \n",
       "water            0.467147       0.243641                0.008439   \n",
       "\n",
       "               gruyere cheese  white mushrooms  hot pepper flakes  \\\n",
       "salt                -0.130585        -0.536200           0.328266   \n",
       "onion                0.138875         0.460790           0.652433   \n",
       "olive oil            0.244555         0.489859          -0.228842   \n",
       "garlic cloves        0.057543         0.381427          -0.371519   \n",
       "water               -0.386161        -0.674391          -0.289870   \n",
       "\n",
       "               dried chilies      fish    fennel  coarse black pepper  \n",
       "salt               -0.750232  0.344776 -0.120306            -0.053840  \n",
       "onion               0.406172  0.562264 -0.394068            -0.027409  \n",
       "olive oil           0.558575  0.089056 -0.331080            -0.045059  \n",
       "garlic cloves       0.583146  0.241040 -0.045363             0.154945  \n",
       "water              -0.603170  0.057754  0.502741             0.192567  \n",
       "\n",
       "[5 rows x 1000 columns]"
      ]
     },
     "execution_count": 132,
     "metadata": {},
     "output_type": "execute_result"
    }
   ],
   "source": [
    "S.head()"
   ]
  },
  {
   "cell_type": "code",
   "execution_count": 135,
   "id": "175c89d3",
   "metadata": {},
   "outputs": [
    {
     "data": {
      "text/plain": [
       "cucumber                       1.000000\n",
       "feta cheese                    0.974079\n",
       "greek yogurt                   0.973329\n",
       "lemon%2c juice of              0.971056\n",
       "kalamata olives                0.946378\n",
       "pita bread                     0.943351\n",
       "kalamata olive                 0.941362\n",
       "feta                           0.935412\n",
       "dill                           0.921270\n",
       "all purpose greek seasoning    0.918815\n",
       "Name: cucumber, dtype: float32"
      ]
     },
     "execution_count": 135,
     "metadata": {},
     "output_type": "execute_result"
    }
   ],
   "source": [
    "query = 'cucumber'\n",
    "S.loc[query].sort_values(ascending=False).head(10)"
   ]
  },
  {
   "cell_type": "code",
   "execution_count": null,
   "id": "fce84a97",
   "metadata": {},
   "outputs": [],
   "source": []
  }
 ],
 "metadata": {
  "kernelspec": {
   "display_name": "nlp",
   "language": "python",
   "name": "python3"
  },
  "language_info": {
   "codemirror_mode": {
    "name": "ipython",
    "version": 3
   },
   "file_extension": ".py",
   "mimetype": "text/x-python",
   "name": "python",
   "nbconvert_exporter": "python",
   "pygments_lexer": "ipython3",
   "version": "3.10.4"
  },
  "toc": {
   "base_numbering": 1,
   "nav_menu": {},
   "number_sections": true,
   "sideBar": true,
   "skip_h1_title": false,
   "title_cell": "Table of Contents",
   "title_sidebar": "Contents",
   "toc_cell": false,
   "toc_position": {},
   "toc_section_display": true,
   "toc_window_display": false
  }
 },
 "nbformat": 4,
 "nbformat_minor": 5
}
