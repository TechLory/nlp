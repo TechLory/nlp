{
 "cells": [
  {
   "cell_type": "markdown",
   "metadata": {
    "vscode": {
     "languageId": "plaintext"
    }
   },
   "source": [
    "##### Master Degree in Computer Science and Data Science for Economics\n",
    "\n",
    "# Introduction to encoding textual data\n",
    "\n",
    "### Alfio Ferrara"
   ]
  },
  {
   "cell_type": "markdown",
   "metadata": {},
   "source": [
    "## Introduction: what is the text for the machine\n",
    "\n",
    "Example data are taken from [Food Recipes](https://www.kaggle.com/datasets/sarthak71/food-recipes) and stored in MongoDb by this [script](../data/get-recipes.ipynb)."
   ]
  },
  {
   "cell_type": "code",
   "execution_count": 1,
   "metadata": {},
   "outputs": [],
   "source": [
    "import pandas as pd\n",
    "import numpy as np\n",
    "import pymongo"
   ]
  },
  {
   "cell_type": "code",
   "execution_count": 2,
   "metadata": {},
   "outputs": [],
   "source": [
    "db = pymongo.MongoClient()['cousine']\n",
    "collections = db['recipes']\n",
    "docs = [f\"{x['recipe_title']}: {x['description']}\" for x in collections.find({}, {'_id': 0, 'recipe_title': 1, 'description': 1})]"
   ]
  },
  {
   "cell_type": "code",
   "execution_count": 3,
   "metadata": {},
   "outputs": [
    {
     "name": "stdout",
     "output_type": "stream",
     "text": [
      "Roasted Peppers And Mushroom Tortilla Pizza Recipe:  is a quicker version pizza to satisfy your cravings. It is a very quick and easy recipe for days that you do not feel like cooking a full fledged meal. With the preference of toppings of your choice this pizza recipe is definitely a winner at any home. The toppings used in this  has some roasted peppers, mushroom with loaded cheese and marinara sauce. Enjoy this easy recipe with your favorite toppings.  This is a great recipe, if you are looking for an Indian/Fusion Pizza or a Homemade Pizza recipe. Serve  along with   and   for a weekend night dinner. If you like this recipe, you can also try other  for your weekend dinner:\n",
      "\n",
      "Thakkali Gotsu Recipe | Thakkali Curry | Spicy & Tangy Tomato Gravy:  also known as the   is a quick and easy to make, spicy and tangy tomato gravy you can prepare for a change as a breakfast accompaniment or even as a side dish along with Ven Pongal, Khichdi, Paratha or Dosa.  Tomato Gotsu that is packed with simple flavours from roasted baby onions simmered along with tamarind and sambar powder giving it that delectable taste. Serve   with   and  for breakfast. Browse here for more accompaniments of South Indian cuisine\n",
      "\n",
      "Spicy Grilled Pineapple Salsa Recipe: Spicy Grilled Pineapple Salsa is a simple recipe of a tropical salsa and is bursting with sweet and spicy flavors. It's the perfect summer dish, best served cold. Grilled Pineapple Salsa can be enjoyed on its own or it can be filled in the tacos along with chili beans and sour cream. Spicy Grilled Pineapple Salsa can be a great appetizer for the barbecue party as well along with some nachos.  Serve Spicy Grilled Pineapple Salsa along   as an appetizer along with a meal of   and   for dessert. Other recipes that you can try are:\n",
      "\n",
      "Karwar Style Dali Thoy Recipe - Toor dal Curry: The   is a quintessential of Konkani dish which is popular among Mangaloreans from Kongunadu. It is a spiced toor dal stew dish which is a simple dish. When you crave for something very light, comforting yet delicious you can rely on this simple curry. Serve the   with   to make a simple satisfying meal.  Take a look at more Karwar Style recipes that you could also try : \n",
      "\n",
      "Rajma Kofta In Milk And Poppy Seed Gravy Recipe: Koftas are traditional Indian recipes mostly well done by the vegetarians. A peculiar variation is the key for making interesting koftas and this Rajma Kofta In Milk And Poppy Seed Gravy Recipe uses cooked rajma paste instead of regular besan, lentils etc as the basic ingredient to make the yummy kofta balls for shallow frying in paniyaram pan. Once fried those can be served as an appetizer but I have cooked a special gravy with milk and poppy seeds paste to make this recipe a delightful vegetarian side dish which can be served with various flatbreads or rice recipes. Serve Rajma Kofta In Milk And Poppy Seed Gravy Recipe along with   and   for lunch or dinner with   to complete the meal. If you like this recipe, try more recipes like\n",
      "\n",
      "Barnyard Millet Mushroom Biryani Recipe:  is a flavorful one pot preparation made with barnyard millet which is popularly called as samvat, Kuthiraivali, Udalu and oodalu in other regional languages. It is considered to be a valuable ingredient during the season of fasting.  is a healthy millet main course dish made along with button mushrooms. Whole spices like bay leaf, clove and cinnamon, with onion and ginger garlic, fresh coriander leaves all pressure cooked together to make this nutrition packed meal.  Millets are highly variable small seeded grasses that are cultivated as a crop, they are usually small in size and come in various color like white, brown, red and yellow. The barnyard millet have light brown color and is rich in Iron and Protein. So therefore very essential to be included into your everyday diet and perfectly diabetic friendly too. Serve the   along with a  to go along with your meal.  If you are looking for more Mushroom Recipes here are some :\n",
      "\n",
      "Mexican Green Sauce Recipe :  is a cold sauce made with fresh herbs and spices that is churned into a creamy refreshing sauce that can be used as an accompaniment for various dishes. The dish has a very few ingredients that can be all put together and blitzed to form a sauce in 5 minutes. The green sauce is more popular in many parts of the world but they can be made in different ways. Serve the   can be served along with  ,   to create a refreshing dip or an accompaniment with your appetizers. If you are looking for more sauce recipes here are some : \n",
      "\n",
      "Karnataka Style Avarekalu Chitranna Recipe (Field Beans Tossed With Lemon Rice): Karnataka Style Avarekalu Chitranna Recipe (Field Beans Tossed With Lemon Rice) is a special breakfast made in most of the Karnataka Style households. Bengaluru is the only place where they celebrate “Avarekalu Mela” during the month of January. The mela consists of series of stalls selling out dishes that are made from these field beans or avarekalu beans. Serve the Karnataka Style Avarekalu Chitranna Recipe (Field Beans Tossed With Lemon Rice) as a delicious Breakfast recipe along with some Mango Pickle.  If you are looking for more Rice Recipes here are some : \n",
      "\n",
      "Schezwan Style Chinese Veg Samosa Recipe - Roz Ka Khana with Figaro Olive Oil: Love samosas? You must try these Chinese veg samosa, that is tossed in Sichuan sauce. These lip smacking Chinese Samosa are packed with flavors and spices and fried in Pure Olive Oil.  Serve the Veg Chinese Samosa along with a   as an appetizer or a evening tea time snack for parties.  Pure Olive Oil does not get rancid after being exposed to high heat. Research says that, you can reuse this oil multiple times in your cooking. If you like Indo Chinese Recipes then you must try some of our favorites\n",
      "\n",
      "Pineapple Upside Down Cake Recipe: The Classic Pineapple Upside Down Cake is simple and fun to make. It makes a perfect dessert for a an afternoon tea party. I have used my tried and tested   here and that made it even more simpler to share with recipe with you. My favorite way to serve this upside down cake is along with Vanilla Custard and Walnuts, but you can serve it along with ice cream too. I have also used the  , which is a very high quality vanilla extract which derives its signature flavour from the finest imported vanilla beans grown in Madagascar I have shared how to make this cake egg free (eggless) as well using the  . Here are more cake recipes for you to try\n",
      "\n"
     ]
    }
   ],
   "source": [
    "for doc in docs[:10]:\n",
    "    print(f\"{doc}\\n\")"
   ]
  },
  {
   "cell_type": "markdown",
   "metadata": {},
   "source": [
    "**What kind of tasks do we want to perform with textual information?**"
   ]
  },
  {
   "cell_type": "markdown",
   "metadata": {},
   "source": [
    "In order to understand how even trivial tasks can be difficult for a machine, we need to figure out how the text appears to the machine eye:"
   ]
  },
  {
   "cell_type": "code",
   "execution_count": 4,
   "metadata": {},
   "outputs": [],
   "source": [
    "from nlp.utils import messy_text"
   ]
  },
  {
   "cell_type": "code",
   "execution_count": 5,
   "metadata": {},
   "outputs": [
    {
     "name": "stdout",
     "output_type": "stream",
     "text": [
      "mMiEAfgznfIIfFEztPgzo:EcFMMRzkMFAaSSizna  izmfhaIfuzzaEzizH:ahTfFz/fFEaMPzIa  izAMzEiAaEe,z,M:FzhFi/aPdEwzpAzaEziz/fF,zH:ahTziPgzfiE,zFfhaIfzeMFzgi,EzAciAz,M:zgMzPMAzeffSzSaTfzhMMTaPdzize:SSzeSfgdfgzRfiSwzjaAczAcfzIFfefFfPhfzMezAMIIaPdEzMez,M:FzhcMahfzAcaEzIa  izFfhaIfzaEzgfeaPaAfS,ziz.aPPfFziAziP,zcMRfwzkcfzAMIIaPdEz:EfgzaPzAcaEzzciEzEMRfzFMiEAfgzIfIIfFEyzR:EcFMMRz.aAczSMigfgzhcffEfziPgzRiFaPiFizEi:hfwzsPWM,zAcaEzfiE,zFfhaIfz.aAcz,M:Fzei/MFaAfzAMIIaPdEwzzkcaEzaEzizdFfiAzFfhaIfyzaez,M:ziFfzSMMTaPdzeMFziPzpPgaiPvr:EaMPzna  izMFzizqMRfRigfzna  izFfhaIfwzlfF/fzziSMPdz.aAczzziPgzzzeMFziz.ffTfPgzPadcAzgaPPfFwzpez,M:zSaTfzAcaEzFfhaIfyz,M:zhiPziSEMzAF,zMAcfFzzeMFz,M:Fz.ffTfPgzgaPPfFu\n",
      "\n",
      "kahTThSV|qKBC:|mdfVId| |kahTThSV|s:DD&| |lIVf&|y|khPb&|kKRhBK|qDh.&u||hSCK|TPK,P|hC|Bad|||VC|h|G:VfT|hPe|dhC&|BK|RhTdw|CIVf&|hPe|BhPb&|BKRhBK|bDh.&|&K:|fhP|IDdIhDd|cKD|h|fahPbd|hC|h|gDdhTchCB|hffKRIhPVRdPB|KD|d.dP|hC|h|CVed|eVCa|hSKPb|,VBa|idP|nKPbhSw|oaVfaeVw|nhDhBah|KD|rKChv||kKRhBK|qKBC:|BahB|VC|IhfTde|,VBa|CVRISd|cSh.K:DC|cDKR|DKhCBde|ghg&|KPVKPC|CVRRdDde|hSKPb|,VBa|BhRhDVPe|hPe|ChRghD|IK,edD|bV.VPb|VB|BahB|edSdfBhgSd|BhCBdv|ldD.d|||,VBa|||hPe||cKD|gDdhTchCBv|tDK,Cd|adDd|cKD|RKDd|hffKRIhPVRdPBC|Kc|lK:Ba|pPeVhP|f:VCVPd\n",
      "\n",
      "nPdj'ztOdbbhizpdShmPPbhznmbImzohjdPhuznPdj'ztOdbbhizpdShmPPbhznmbImzdIzmzIdaPbhzOhjdPhzRgzmzGORPdjmbzImbImzmSizdIzl:OIGdSfz,dGezI,hhGzmSizIPdj'zgbm.ROIvzsGyIzGehzPhOghjGzI:aahOzidIewzlhIGzIhO.hizjRbivztOdbbhizpdShmPPbhznmbImzjmSzlhzhScR'hizRSzdGIzR,SzROzdGzjmSzlhzgdbbhizdSzGehzGmjRIzmbRSfz,dGezjedbdzlhmSIzmSizIR:OzjOhmavznPdj'ztOdbbhizpdShmPPbhznmbImzjmSzlhzmzfOhmGzmPPhGd hOzgROzGehzlmOlhj:hzPmOG'zmIz,hbbzmbRSfz,dGezIRahzSmjeRIvzznhO.hznPdj'ztOdbbhizpdShmPPbhznmbImzmbRSfzzzmIzmSzmPPhGd hOzmbRSfz,dGezmzahmbzRgzzzmSizzzgROzihIIhOGvzrGehOzOhjdPhIzGemGz'R:zjmSzGO'zmOhu\n",
      "\n",
      "piD,iDym: TfyriTaylcM ynfhaKfyvylMMDygiTys.DD tylcfyyyaCyiyI.aR:fCCfR:aiTyMeypMRWiRaygaCcy,cahcyaCyKMK.TiDyiSMRdyoiRdiTMDfiRCyeDMSypMRd.Rig.uyq:yaCyiyCKahfgy:MMDygiTyC:f,ygaCcy,cahcyaCyiyCaSKTfygaCcuykcfRy M.yhDi-fyeMDyCMSf:caRdy-fD yTadc:wyhMSeMD:aRdy f:ygfTahaM.Cy M.yhiRyDfT yMRy:caCyCaSKTfyh.DD uymfD-fy:cfyyy,a:cyyy:MySiWfyiyCaSKTfyCi:aCe aRdySfiTuyyliWfyiyTMMWyi:ySMDfypiD,iDym: TfyDfhaKfCy:ci:y M.yhM.TgyiTCMy:D yty\n",
      "\n",
      "mkbRkzrOfGkzsPzpcSazuPhznOMM,zlgghztKk:,zmgicMgvzrOfGkIzkKgzGKkhcGcOPkSzsPhckPzKgicMgIzROIGS,z.gSSzhOPgzj,zGdgz:gegGkKckPIwzuzMgiASckKz:kKckGcOPzcIzGdgzag,zfOKzRkacPezcPGgKgIGcPezaOfGkIzkPhzGdcIzmkbRkzrOfGkzsPzpcSazuPhznOMM,zlgghztKk:,zmgicMgzAIgIziOOaghzKkbRkzMkIGgzcPIGgkhzOfzKgeASkKzjgIkPyzSgPGcSIzgGizkIzGdgzjkIcizcPeKghcgPGzGOzRkagzGdgz,ARR,zaOfGkzjkSSIzfOKzIdkSSO.zfK,cPezcPzMkPc,kKkRzMkPwzoPigzfKcghzGdOIgzikPzjgzIgK:ghzkIzkPzkMMgGc gKzjAGzszdk:gziOOaghzkzIMgickSzeKk:,z.cGdzRcSazkPhzMOMM,zIgghIzMkIGgzGOzRkagzGdcIzKgicMgzkzhgScedGfASz:gegGkKckPzIchgzhcIdz.dcidzikPzjgzIgK:ghz.cGdz:kKcOAIzfSkGjKgkhIzOKzKcigzKgicMgIwzlgK:gzmkbRkzrOfGkzsPzpcSazuPhznOMM,zlgghztKk:,zmgicMgzkSOPez.cGdzzzkPhzzzfOKzSAPidzOKzhcPPgKz.cGdzzzGOziORMSgGgzGdgzRgkSwzsfz,OAzScagzGdcIzKgicMgyzGK,zROKgzKgicMgIzScag\n",
      "\n",
      "uiMS,iMfzraUUeIzrBKbMRRTzuaM,iSazoegaPevzzaKzizdUi:RMdBUzRSezPRIzPMePiMiIaRSzTifez.aIbzhiMS,iMfzTaUUeIz.bagbzaKzPRPBUiMU,zgiUUefziKzKiT:iIyzsBIbaMia:iUayzlfiUBziSfzRRfiUBzaSzRIbeMzMecaRSiUzUiScBiceKwztIzaKzgRSKafeMefzIRzheziz:iUBihUezaScMefaeSIzfBMaSczIbezKeiKRSzRdzdiKIaScwzzaKzizbeiUIb,zTaUUeIzTiaSzgRBMKezfaKbzTifeziURScz.aIbzhBIIRSzTBKbMRRTKwzkbRUezKPageKzUaWezhi,zUeidyzgUR:eziSfzgaSSiTRSyz.aIbzRSaRSziSfzcaSceMzciMUagyzdMeKbzgRMaiSfeMzUei:eKziUUzPMeKKBMezgRRWefzIRceIbeMzIRzTiWezIbaKzSBIMaIaRSzPigWefzTeiUwzzraUUeIKziMezbacbU,z:iMaihUezKTiUUzKeefefzcMiKKeKzIbiIziMezgBUIa:iIefziKzizgMRPyzIbe,ziMezBKBiUU,zKTiUUzaSzKa eziSfzgRTezaSz:iMaRBKzgRURMzUaWez.baIeyzhMR.SyzMefziSfz,eUUR.wzmbezhiMS,iMfzTaUUeIzbi:ezUacbIzhMR.SzgRURMziSfzaKzMagbzaSztMRSziSfzpMRIeaSwznRzIbeMedRMez:eM,zeKKeSIaiUzIRzhezaSgUBfefzaSIRz,RBMze:eM,fi,zfaeIziSfzPeMdegIU,zfaiheIagzdMaeSfU,zIRRwzneM:ezIbezzziURScz.aIbzizzIRzcRziURScz.aIbz,RBMzTeiUwzztdz,RBziMezURRWaSczdRMzTRMezrBKbMRRTzoegaPeKzbeMeziMezKRTezv\n",
      "\n",
      "si.elnazuRiiazpnGlizrileSizvzzeMznzlTckzMnGlizbnkiz5eIfzhRiMfzfiRmMznakzMSeliMzIfnIzeMzlfGRaikzeaITznzlRinb,zRihRiMfeagzMnGlizIfnIzlnazmizGMikznMznaznllTbSnaebiaIzhTRz:nReTGMzkeMfiMxzofizkeMfzfnMznz:iR,zhi5zeagRikeiaIMzIfnIzlnazmizncczSGIzITgiIfiRznakzmceI ikzITzhTRbznzMnGlizeazwzbeaGIiMxzofizgRiiazMnGlizeMzbTRizSTSGcnRzeazbna,zSnRIMzThzIfiz5TRckzmGIzIfi,zlnazmizbnkizeazkehhiRiaIz5n,MxzpiR:izIfizzzlnazmizMiR:ikzncTagz5eIfzzyzzzITzlRinIiznzRihRiMfeagzkeSzTRznaznllTbSnaebiaIz5eIfz,TGRznSSiIe iRMxzthz,TGznRizcTTdeagzhTRzbTRizMnGlizRileSiMzfiRiznRizMTbizvz\n",
      "\n",
      "neFKeBePe”hB)Ma”u:eFaPeMA”sSRBFeKKe”iacRIa”“rRaMb”taeKC”gJCCab”fRBS”maLJK”iRcayv”neFKeBePe”hB)Ma”u:eFaPeMA”sSRBFeKKe”iacRIa”“rRaMb”taeKC”gJCCab”fRBS”maLJK”iRcay”RC”e”CIacReM”dFaePWeCB”Leba”RK”LJCB”JW”BSa”neFKeBePe”hB)Ma”SJACaSJMbCw”taKTeMAFA”RC”BSa”JKM)”IMeca”.SaFa”BSa)”caMadFeBa”(u:eFaPeMA”laMe ”bAFRKT”BSa”LJKBS”JW”oeKAeF)w”gSa”LaMe”cJKCRCBC”JW”CaFRaC”JW”CBeMMC”CaMMRKT”JAB”bRCSaC”BSeB”eFa”Leba”WFJL”BSaCa”WRaMb”daeKC”JF”e:eFaPeMA”daeKCw”haF:a”BSa”neFKeBePe”hB)Ma”u:eFaPeMA”sSRBFeKKe”iacRIa”“rRaMb”taeKC”gJCCab”fRBS”maLJK”iRcay”eC”e”baMRcRJAC”tFaePWeCB”FacRIa”eMJKT”.RBS”CJLa”leKTJ”kRcPMaw””pW”)JA”eFa”MJJPRKT”WJF”LJFa”iRca”iacRIaC”SaFa”eFa”CJLa”v”\n",
      "\n",
      "kdVb .fOzkC,RbztVTObFbzhbYzkfPLFfzlbdTKbzxzlL zpfzpVfOfz.TCVzsTYfILznRT:bznTRvzoL:bzFfPLFfFuzgL?zP?FCzCI,zCVbFbztVTObFbz:bYzFfPLFfyzCVfCzTFzCLFFbczTOzkTdV?fOzFf?dbwziVbFbzRTKzFPfdSTOYztVTObFbzkfPLFfzfIbzKfdSbcz.TCVzaRf:LIFzfOczFKTdbFzfOczaITbczTOzm?IbznRT:bznTRwzzkbI:bzCVbzhbYztVTObFbzkfPLFfzfRLOYz.TCVzfzzzfFzfOzfKKbCT bIzLIzfzb:bOTOYzCbfzCTPbzFOfdSzaLIzKfICTbFwzzm?IbznRT:bznTRzcLbFzOLCzYbCzIfOdTczfaCbIzebTOYzb-KLFbczCLzVTYVzVbfCwzlbFbfIdVzFf,FzCVfCyz,L?zdfOzIb?FbzCVTFzLTRzP?RCTKRbzCTPbFzTOz,L?IzdLLSTOYwzraz,L?zRTSbzrOcLztVTObFbzlbdTKbFzCVbOz,L?zP?FCzCI,zFLPbzLazL?Izaf:LITCbF\n",
      "\n",
      "nVPcgIITcykICVdcyrM)PysgUcymceVIctylWcysTgCCVeynVPcgIITcykICVdcyrM)PysgUcyVCyCVRITcygPdyb.Py:MyRgUcuyp:yRgUcCygyIcDbce:ydcCCcD:ybMDygygPygb:cDPMMPy:cgyIgD: uypyWg,cy.CcdyR y:DVcdygPdy:cC:cdyyyWcDcygPdy:Wg:yRgdcyV:yc,cPyRMDcyCVRITcDy:MyCWgDcy)V:WyDceVIcy)V:Wy M.uyo ybg,MDV:cy)g y:MyCcD,cy:WVCy.ICVdcydM)PyegUcyVCygTMPay)V:WyigPVTTgys.C:gDdygPdyhgTP.:Cvyf.:y M.yegPyCcD,cyV:ygTMPay)V:WyVecyeDcgRy:MMuypyWg,cygTCMy.Ccdy:Wcyyvy)WVeWyVCygy,cD yWVaWyH.gTV: y,gPVTTgyc(:Dge:y)WVeWydcDV,cCyV:CyCVaPg:.DcybTg,M.DybDMRy:WcybVPcC:yVRIMD:cdy,gPVTTgyfcgPCyaDM)PyVPyogdgagCegDypyWg,cyCWgDcdyWM)y:MyRgUcy:WVCyegUcycaaybDccyxcaaTcCCwygCy)cTTy.CVPay:WcyyuyqcDcygDcyRMDcyegUcyDceVIcCybMDy M.y:My:D \n",
      "\n"
     ]
    }
   ],
   "source": [
    "for text in docs[:10]:\n",
    "    print(f\"{messy_text(text)}\\n\")"
   ]
  },
  {
   "cell_type": "markdown",
   "metadata": {},
   "source": [
    "## Vector Space Model\n",
    "One way to transform a text into something that the machine can actually work with is to extract some features from the text and use them to transform each text into a vector of the same size of the features."
   ]
  },
  {
   "cell_type": "code",
   "execution_count": 6,
   "metadata": {},
   "outputs": [],
   "source": [
    "def features(text):\n",
    "    return np.array([len(text), len([x for x in text if x.isupper()]) / len(text)])"
   ]
  },
  {
   "cell_type": "code",
   "execution_count": 7,
   "metadata": {},
   "outputs": [
    {
     "data": {
      "text/plain": [
       "array([[6.85000000e+02, 2.77372263e-02],\n",
       "       [5.27000000e+02, 3.79506641e-02],\n",
       "       [5.71000000e+02, 4.02802102e-02],\n",
       "       ...,\n",
       "       [7.62000000e+02, 3.54330709e-02],\n",
       "       [4.61000000e+02, 3.03687636e-02],\n",
       "       [4.50000000e+02, 4.88888889e-02]], shape=(7997, 2))"
      ]
     },
     "execution_count": 7,
     "metadata": {},
     "output_type": "execute_result"
    }
   ],
   "source": [
    "D = np.array([features(d) for d in docs])\n",
    "D "
   ]
  },
  {
   "cell_type": "code",
   "execution_count": 8,
   "metadata": {},
   "outputs": [],
   "source": [
    "import matplotlib.pyplot as plt"
   ]
  },
  {
   "cell_type": "markdown",
   "metadata": {},
   "source": [
    "**Scale data**"
   ]
  },
  {
   "cell_type": "code",
   "execution_count": 9,
   "metadata": {},
   "outputs": [],
   "source": [
    "from sklearn.preprocessing import MinMaxScaler"
   ]
  },
  {
   "cell_type": "code",
   "execution_count": 10,
   "metadata": {},
   "outputs": [],
   "source": [
    "scaler = MinMaxScaler()\n",
    "S = scaler.fit_transform(D)\n",
    "row_norms = np.linalg.norm(S, axis=1, keepdims=True)\n",
    "row_norms[row_norms == 0] = 1\n",
    "U = S / row_norms"
   ]
  },
  {
   "cell_type": "code",
   "execution_count": 11,
   "metadata": {},
   "outputs": [
    {
     "data": {
      "image/png": "[encoded data removed]",
      "text/plain": [
       "<Figure size 1200x400 with 3 Axes>"
      ]
     },
     "metadata": {},
     "output_type": "display_data"
    }
   ],
   "source": [
    "fig, ax = plt.subplots(figsize=(12, 4), ncols=3)\n",
    "ax[0].scatter(D[:,0], D[:,1], s=4, alpha=.4)\n",
    "ax[0].set_title('Raw data')\n",
    "ax[1].scatter(S[:,0], S[:,1], s=4, alpha=.4)\n",
    "ax[1].set_title('Scaled data (MinMax)')\n",
    "ax[2].scatter(U[:,0], U[:,1], s=4, alpha=.4)\n",
    "ax[2].set_title('Unitary vectors')\n",
    "plt.tight_layout()\n",
    "plt.show()"
   ]
  },
  {
   "cell_type": "markdown",
   "metadata": {},
   "source": [
    "## Words as features\n",
    "\n",
    "### Regural expression tokenizers"
   ]
  },
  {
   "cell_type": "code",
   "execution_count": 12,
   "metadata": {},
   "outputs": [],
   "source": [
    "from nltk.tokenize import word_tokenize"
   ]
  },
  {
   "cell_type": "code",
   "execution_count": 13,
   "metadata": {},
   "outputs": [
    {
     "name": "stdout",
     "output_type": "stream",
     "text": [
      "['Roasted', 'Peppers', 'And', 'Mushroom', 'Tortilla', 'Pizza', 'Recipe', ':', 'is', 'a', 'quicker', 'version', 'pizza', 'to', 'satisfy', 'your', 'cravings', '.', 'It', 'is', 'a', 'very', 'quick', 'and', 'easy', 'recipe', 'for', 'days', 'that', 'you', 'do', 'not', 'feel', 'like', 'cooking', 'a', 'full', 'fledged', 'meal', '.', 'With', 'the', 'preference', 'of', 'toppings', 'of', 'your', 'choice', 'this', 'pizza', 'recipe', 'is', 'definitely', 'a', 'winner', 'at', 'any', 'home', '.', 'The', 'toppings', 'used', 'in', 'this', 'has', 'some', 'roasted', 'peppers', ',', 'mushroom', 'with', 'loaded', 'cheese', 'and', 'marinara', 'sauce', '.', 'Enjoy', 'this', 'easy', 'recipe', 'with', 'your', 'favorite', 'toppings', '.', 'This', 'is', 'a', 'great', 'recipe', ',', 'if', 'you', 'are', 'looking', 'for', 'an', 'Indian/Fusion', 'Pizza', 'or', 'a', 'Homemade', 'Pizza', 'recipe', '.', 'Serve', 'along', 'with', 'and', 'for', 'a', 'weekend', 'night', 'dinner', '.', 'If', 'you', 'like', 'this', 'recipe', ',', 'you', 'can', 'also', 'try', 'other', 'for', 'your', 'weekend', 'dinner', ':']\n",
      "['Thakkali', 'Gotsu', 'Recipe', '|', 'Thakkali', 'Curry', '|', 'Spicy', '&', 'Tangy', 'Tomato', 'Gravy', ':', 'also', 'known', 'as', 'the', 'is', 'a', 'quick', 'and', 'easy', 'to', 'make', ',', 'spicy', 'and', 'tangy', 'tomato', 'gravy', 'you', 'can', 'prepare', 'for', 'a', 'change', 'as', 'a', 'breakfast', 'accompaniment', 'or', 'even', 'as', 'a', 'side', 'dish', 'along', 'with', 'Ven', 'Pongal', ',', 'Khichdi', ',', 'Paratha', 'or', 'Dosa', '.', 'Tomato', 'Gotsu', 'that', 'is', 'packed', 'with', 'simple', 'flavours', 'from', 'roasted', 'baby', 'onions', 'simmered', 'along', 'with', 'tamarind', 'and', 'sambar', 'powder', 'giving', 'it', 'that', 'delectable', 'taste', '.', 'Serve', 'with', 'and', 'for', 'breakfast', '.', 'Browse', 'here', 'for', 'more', 'accompaniments', 'of', 'South', 'Indian', 'cuisine']\n",
      "['Spicy', 'Grilled', 'Pineapple', 'Salsa', 'Recipe', ':', 'Spicy', 'Grilled', 'Pineapple', 'Salsa', 'is', 'a', 'simple', 'recipe', 'of', 'a', 'tropical', 'salsa', 'and', 'is', 'bursting', 'with', 'sweet', 'and', 'spicy', 'flavors', '.', 'It', \"'s\", 'the', 'perfect', 'summer', 'dish', ',', 'best', 'served', 'cold', '.', 'Grilled', 'Pineapple', 'Salsa', 'can', 'be', 'enjoyed', 'on', 'its', 'own', 'or', 'it', 'can', 'be', 'filled', 'in', 'the', 'tacos', 'along', 'with', 'chili', 'beans', 'and', 'sour', 'cream', '.', 'Spicy', 'Grilled', 'Pineapple', 'Salsa', 'can', 'be', 'a', 'great', 'appetizer', 'for', 'the', 'barbecue', 'party', 'as', 'well', 'along', 'with', 'some', 'nachos', '.', 'Serve', 'Spicy', 'Grilled', 'Pineapple', 'Salsa', 'along', 'as', 'an', 'appetizer', 'along', 'with', 'a', 'meal', 'of', 'and', 'for', 'dessert', '.', 'Other', 'recipes', 'that', 'you', 'can', 'try', 'are', ':']\n",
      "['Karwar', 'Style', 'Dali', 'Thoy', 'Recipe', '-', 'Toor', 'dal', 'Curry', ':', 'The', 'is', 'a', 'quintessential', 'of', 'Konkani', 'dish', 'which', 'is', 'popular', 'among', 'Mangaloreans', 'from', 'Kongunadu', '.', 'It', 'is', 'a', 'spiced', 'toor', 'dal', 'stew', 'dish', 'which', 'is', 'a', 'simple', 'dish', '.', 'When', 'you', 'crave', 'for', 'something', 'very', 'light', ',', 'comforting', 'yet', 'delicious', 'you', 'can', 'rely', 'on', 'this', 'simple', 'curry', '.', 'Serve', 'the', 'with', 'to', 'make', 'a', 'simple', 'satisfying', 'meal', '.', 'Take', 'a', 'look', 'at', 'more', 'Karwar', 'Style', 'recipes', 'that', 'you', 'could', 'also', 'try', ':']\n",
      "['Rajma', 'Kofta', 'In', 'Milk', 'And', 'Poppy', 'Seed', 'Gravy', 'Recipe', ':', 'Koftas', 'are', 'traditional', 'Indian', 'recipes', 'mostly', 'well', 'done', 'by', 'the', 'vegetarians', '.', 'A', 'peculiar', 'variation', 'is', 'the', 'key', 'for', 'making', 'interesting', 'koftas', 'and', 'this', 'Rajma', 'Kofta', 'In', 'Milk', 'And', 'Poppy', 'Seed', 'Gravy', 'Recipe', 'uses', 'cooked', 'rajma', 'paste', 'instead', 'of', 'regular', 'besan', ',', 'lentils', 'etc', 'as', 'the', 'basic', 'ingredient', 'to', 'make', 'the', 'yummy', 'kofta', 'balls', 'for', 'shallow', 'frying', 'in', 'paniyaram', 'pan', '.', 'Once', 'fried', 'those', 'can', 'be', 'served', 'as', 'an', 'appetizer', 'but', 'I', 'have', 'cooked', 'a', 'special', 'gravy', 'with', 'milk', 'and', 'poppy', 'seeds', 'paste', 'to', 'make', 'this', 'recipe', 'a', 'delightful', 'vegetarian', 'side', 'dish', 'which', 'can', 'be', 'served', 'with', 'various', 'flatbreads', 'or', 'rice', 'recipes', '.', 'Serve', 'Rajma', 'Kofta', 'In', 'Milk', 'And', 'Poppy', 'Seed', 'Gravy', 'Recipe', 'along', 'with', 'and', 'for', 'lunch', 'or', 'dinner', 'with', 'to', 'complete', 'the', 'meal', '.', 'If', 'you', 'like', 'this', 'recipe', ',', 'try', 'more', 'recipes', 'like']\n",
      "['Barnyard', 'Millet', 'Mushroom', 'Biryani', 'Recipe', ':', 'is', 'a', 'flavorful', 'one', 'pot', 'preparation', 'made', 'with', 'barnyard', 'millet', 'which', 'is', 'popularly', 'called', 'as', 'samvat', ',', 'Kuthiraivali', ',', 'Udalu', 'and', 'oodalu', 'in', 'other', 'regional', 'languages', '.', 'It', 'is', 'considered', 'to', 'be', 'a', 'valuable', 'ingredient', 'during', 'the', 'season', 'of', 'fasting', '.', 'is', 'a', 'healthy', 'millet', 'main', 'course', 'dish', 'made', 'along', 'with', 'button', 'mushrooms', '.', 'Whole', 'spices', 'like', 'bay', 'leaf', ',', 'clove', 'and', 'cinnamon', ',', 'with', 'onion', 'and', 'ginger', 'garlic', ',', 'fresh', 'coriander', 'leaves', 'all', 'pressure', 'cooked', 'together', 'to', 'make', 'this', 'nutrition', 'packed', 'meal', '.', 'Millets', 'are', 'highly', 'variable', 'small', 'seeded', 'grasses', 'that', 'are', 'cultivated', 'as', 'a', 'crop', ',', 'they', 'are', 'usually', 'small', 'in', 'size', 'and', 'come', 'in', 'various', 'color', 'like', 'white', ',', 'brown', ',', 'red', 'and', 'yellow', '.', 'The', 'barnyard', 'millet', 'have', 'light', 'brown', 'color', 'and', 'is', 'rich', 'in', 'Iron', 'and', 'Protein', '.', 'So', 'therefore', 'very', 'essential', 'to', 'be', 'included', 'into', 'your', 'everyday', 'diet', 'and', 'perfectly', 'diabetic', 'friendly', 'too', '.', 'Serve', 'the', 'along', 'with', 'a', 'to', 'go', 'along', 'with', 'your', 'meal', '.', 'If', 'you', 'are', 'looking', 'for', 'more', 'Mushroom', 'Recipes', 'here', 'are', 'some', ':']\n",
      "['Mexican', 'Green', 'Sauce', 'Recipe', ':', 'is', 'a', 'cold', 'sauce', 'made', 'with', 'fresh', 'herbs', 'and', 'spices', 'that', 'is', 'churned', 'into', 'a', 'creamy', 'refreshing', 'sauce', 'that', 'can', 'be', 'used', 'as', 'an', 'accompaniment', 'for', 'various', 'dishes', '.', 'The', 'dish', 'has', 'a', 'very', 'few', 'ingredients', 'that', 'can', 'be', 'all', 'put', 'together', 'and', 'blitzed', 'to', 'form', 'a', 'sauce', 'in', '5', 'minutes', '.', 'The', 'green', 'sauce', 'is', 'more', 'popular', 'in', 'many', 'parts', 'of', 'the', 'world', 'but', 'they', 'can', 'be', 'made', 'in', 'different', 'ways', '.', 'Serve', 'the', 'can', 'be', 'served', 'along', 'with', ',', 'to', 'create', 'a', 'refreshing', 'dip', 'or', 'an', 'accompaniment', 'with', 'your', 'appetizers', '.', 'If', 'you', 'are', 'looking', 'for', 'more', 'sauce', 'recipes', 'here', 'are', 'some', ':']\n",
      "['Karnataka', 'Style', 'Avarekalu', 'Chitranna', 'Recipe', '(', 'Field', 'Beans', 'Tossed', 'With', 'Lemon', 'Rice', ')', ':', 'Karnataka', 'Style', 'Avarekalu', 'Chitranna', 'Recipe', '(', 'Field', 'Beans', 'Tossed', 'With', 'Lemon', 'Rice', ')', 'is', 'a', 'special', 'breakfast', 'made', 'in', 'most', 'of', 'the', 'Karnataka', 'Style', 'households', '.', 'Bengaluru', 'is', 'the', 'only', 'place', 'where', 'they', 'celebrate', '“', 'Avarekalu', 'Mela', '”', 'during', 'the', 'month', 'of', 'January', '.', 'The', 'mela', 'consists', 'of', 'series', 'of', 'stalls', 'selling', 'out', 'dishes', 'that', 'are', 'made', 'from', 'these', 'field', 'beans', 'or', 'avarekalu', 'beans', '.', 'Serve', 'the', 'Karnataka', 'Style', 'Avarekalu', 'Chitranna', 'Recipe', '(', 'Field', 'Beans', 'Tossed', 'With', 'Lemon', 'Rice', ')', 'as', 'a', 'delicious', 'Breakfast', 'recipe', 'along', 'with', 'some', 'Mango', 'Pickle', '.', 'If', 'you', 'are', 'looking', 'for', 'more', 'Rice', 'Recipes', 'here', 'are', 'some', ':']\n",
      "['Schezwan', 'Style', 'Chinese', 'Veg', 'Samosa', 'Recipe', '-', 'Roz', 'Ka', 'Khana', 'with', 'Figaro', 'Olive', 'Oil', ':', 'Love', 'samosas', '?', 'You', 'must', 'try', 'these', 'Chinese', 'veg', 'samosa', ',', 'that', 'is', 'tossed', 'in', 'Sichuan', 'sauce', '.', 'These', 'lip', 'smacking', 'Chinese', 'Samosa', 'are', 'packed', 'with', 'flavors', 'and', 'spices', 'and', 'fried', 'in', 'Pure', 'Olive', 'Oil', '.', 'Serve', 'the', 'Veg', 'Chinese', 'Samosa', 'along', 'with', 'a', 'as', 'an', 'appetizer', 'or', 'a', 'evening', 'tea', 'time', 'snack', 'for', 'parties', '.', 'Pure', 'Olive', 'Oil', 'does', 'not', 'get', 'rancid', 'after', 'being', 'exposed', 'to', 'high', 'heat', '.', 'Research', 'says', 'that', ',', 'you', 'can', 'reuse', 'this', 'oil', 'multiple', 'times', 'in', 'your', 'cooking', '.', 'If', 'you', 'like', 'Indo', 'Chinese', 'Recipes', 'then', 'you', 'must', 'try', 'some', 'of', 'our', 'favorites']\n",
      "['Pineapple', 'Upside', 'Down', 'Cake', 'Recipe', ':', 'The', 'Classic', 'Pineapple', 'Upside', 'Down', 'Cake', 'is', 'simple', 'and', 'fun', 'to', 'make', '.', 'It', 'makes', 'a', 'perfect', 'dessert', 'for', 'a', 'an', 'afternoon', 'tea', 'party', '.', 'I', 'have', 'used', 'my', 'tried', 'and', 'tested', 'here', 'and', 'that', 'made', 'it', 'even', 'more', 'simpler', 'to', 'share', 'with', 'recipe', 'with', 'you', '.', 'My', 'favorite', 'way', 'to', 'serve', 'this', 'upside', 'down', 'cake', 'is', 'along', 'with', 'Vanilla', 'Custard', 'and', 'Walnuts', ',', 'but', 'you', 'can', 'serve', 'it', 'along', 'with', 'ice', 'cream', 'too', '.', 'I', 'have', 'also', 'used', 'the', ',', 'which', 'is', 'a', 'very', 'high', 'quality', 'vanilla', 'extract', 'which', 'derives', 'its', 'signature', 'flavour', 'from', 'the', 'finest', 'imported', 'vanilla', 'beans', 'grown', 'in', 'Madagascar', 'I', 'have', 'shared', 'how', 'to', 'make', 'this', 'cake', 'egg', 'free', '(', 'eggless', ')', 'as', 'well', 'using', 'the', '.', 'Here', 'are', 'more', 'cake', 'recipes', 'for', 'you', 'to', 'try']\n"
     ]
    }
   ],
   "source": [
    "for doc in docs[:10]:\n",
    "    print(word_tokenize(doc))"
   ]
  },
  {
   "cell_type": "markdown",
   "metadata": {},
   "source": [
    "### Linguistic-based tokenizers"
   ]
  },
  {
   "cell_type": "code",
   "execution_count": 14,
   "metadata": {},
   "outputs": [],
   "source": [
    "import spacy\n",
    "from spacy.displacy import render"
   ]
  },
  {
   "cell_type": "code",
   "execution_count": 15,
   "metadata": {},
   "outputs": [],
   "source": [
    "nlp = spacy.load('en_core_web_lg')"
   ]
  },
  {
   "cell_type": "code",
   "execution_count": 16,
   "metadata": {},
   "outputs": [],
   "source": [
    "tokens = []\n",
    "for token in nlp(docs[0]):\n",
    "    tokens.append({'text': token.text, 'lemma': token.lemma_, 'pos': token.pos_, \n",
    "                   'tag': token.tag_, 'dep': token.dep_, 'shape': token.shape_, \n",
    "                   'alpha': token.is_alpha, 'stopword': token.is_stop})\n",
    "T = pd.DataFrame(tokens)"
   ]
  },
  {
   "cell_type": "code",
   "execution_count": 17,
   "metadata": {},
   "outputs": [
    {
     "data": {
      "text/html": [
       "<div>\n",
       "<style scoped>\n",
       "    .dataframe tbody tr th:only-of-type {\n",
       "        vertical-align: middle;\n",
       "    }\n",
       "\n",
       "    .dataframe tbody tr th {\n",
       "        vertical-align: top;\n",
       "    }\n",
       "\n",
       "    .dataframe thead th {\n",
       "        text-align: right;\n",
       "    }\n",
       "</style>\n",
       "<table border=\"1\" class=\"dataframe\">\n",
       "  <thead>\n",
       "    <tr style=\"text-align: right;\">\n",
       "      <th></th>\n",
       "      <th>text</th>\n",
       "      <th>lemma</th>\n",
       "      <th>pos</th>\n",
       "      <th>tag</th>\n",
       "      <th>dep</th>\n",
       "      <th>shape</th>\n",
       "      <th>alpha</th>\n",
       "      <th>stopword</th>\n",
       "    </tr>\n",
       "  </thead>\n",
       "  <tbody>\n",
       "    <tr>\n",
       "      <th>0</th>\n",
       "      <td>Roasted</td>\n",
       "      <td>Roasted</td>\n",
       "      <td>PROPN</td>\n",
       "      <td>NNP</td>\n",
       "      <td>compound</td>\n",
       "      <td>Xxxxx</td>\n",
       "      <td>True</td>\n",
       "      <td>False</td>\n",
       "    </tr>\n",
       "    <tr>\n",
       "      <th>1</th>\n",
       "      <td>Peppers</td>\n",
       "      <td>Peppers</td>\n",
       "      <td>PROPN</td>\n",
       "      <td>NNPS</td>\n",
       "      <td>nsubj</td>\n",
       "      <td>Xxxxx</td>\n",
       "      <td>True</td>\n",
       "      <td>False</td>\n",
       "    </tr>\n",
       "    <tr>\n",
       "      <th>2</th>\n",
       "      <td>And</td>\n",
       "      <td>and</td>\n",
       "      <td>CCONJ</td>\n",
       "      <td>CC</td>\n",
       "      <td>cc</td>\n",
       "      <td>Xxx</td>\n",
       "      <td>True</td>\n",
       "      <td>True</td>\n",
       "    </tr>\n",
       "    <tr>\n",
       "      <th>3</th>\n",
       "      <td>Mushroom</td>\n",
       "      <td>Mushroom</td>\n",
       "      <td>PROPN</td>\n",
       "      <td>NNP</td>\n",
       "      <td>compound</td>\n",
       "      <td>Xxxxx</td>\n",
       "      <td>True</td>\n",
       "      <td>False</td>\n",
       "    </tr>\n",
       "    <tr>\n",
       "      <th>4</th>\n",
       "      <td>Tortilla</td>\n",
       "      <td>Tortilla</td>\n",
       "      <td>PROPN</td>\n",
       "      <td>NNP</td>\n",
       "      <td>compound</td>\n",
       "      <td>Xxxxx</td>\n",
       "      <td>True</td>\n",
       "      <td>False</td>\n",
       "    </tr>\n",
       "    <tr>\n",
       "      <th>...</th>\n",
       "      <td>...</td>\n",
       "      <td>...</td>\n",
       "      <td>...</td>\n",
       "      <td>...</td>\n",
       "      <td>...</td>\n",
       "      <td>...</td>\n",
       "      <td>...</td>\n",
       "      <td>...</td>\n",
       "    </tr>\n",
       "    <tr>\n",
       "      <th>136</th>\n",
       "      <td>for</td>\n",
       "      <td>for</td>\n",
       "      <td>ADP</td>\n",
       "      <td>IN</td>\n",
       "      <td>prep</td>\n",
       "      <td>xxx</td>\n",
       "      <td>True</td>\n",
       "      <td>True</td>\n",
       "    </tr>\n",
       "    <tr>\n",
       "      <th>137</th>\n",
       "      <td>your</td>\n",
       "      <td>your</td>\n",
       "      <td>PRON</td>\n",
       "      <td>PRP$</td>\n",
       "      <td>poss</td>\n",
       "      <td>xxxx</td>\n",
       "      <td>True</td>\n",
       "      <td>True</td>\n",
       "    </tr>\n",
       "    <tr>\n",
       "      <th>138</th>\n",
       "      <td>weekend</td>\n",
       "      <td>weekend</td>\n",
       "      <td>NOUN</td>\n",
       "      <td>NN</td>\n",
       "      <td>compound</td>\n",
       "      <td>xxxx</td>\n",
       "      <td>True</td>\n",
       "      <td>False</td>\n",
       "    </tr>\n",
       "    <tr>\n",
       "      <th>139</th>\n",
       "      <td>dinner</td>\n",
       "      <td>dinner</td>\n",
       "      <td>NOUN</td>\n",
       "      <td>NN</td>\n",
       "      <td>pobj</td>\n",
       "      <td>xxxx</td>\n",
       "      <td>True</td>\n",
       "      <td>False</td>\n",
       "    </tr>\n",
       "    <tr>\n",
       "      <th>140</th>\n",
       "      <td>:</td>\n",
       "      <td>:</td>\n",
       "      <td>PUNCT</td>\n",
       "      <td>:</td>\n",
       "      <td>punct</td>\n",
       "      <td>:</td>\n",
       "      <td>False</td>\n",
       "      <td>False</td>\n",
       "    </tr>\n",
       "  </tbody>\n",
       "</table>\n",
       "<p>141 rows × 8 columns</p>\n",
       "</div>"
      ],
      "text/plain": [
       "         text     lemma    pos   tag       dep  shape  alpha  stopword\n",
       "0     Roasted   Roasted  PROPN   NNP  compound  Xxxxx   True     False\n",
       "1     Peppers   Peppers  PROPN  NNPS     nsubj  Xxxxx   True     False\n",
       "2         And       and  CCONJ    CC        cc    Xxx   True      True\n",
       "3    Mushroom  Mushroom  PROPN   NNP  compound  Xxxxx   True     False\n",
       "4    Tortilla  Tortilla  PROPN   NNP  compound  Xxxxx   True     False\n",
       "..        ...       ...    ...   ...       ...    ...    ...       ...\n",
       "136       for       for    ADP    IN      prep    xxx   True      True\n",
       "137      your      your   PRON  PRP$      poss   xxxx   True      True\n",
       "138   weekend   weekend   NOUN    NN  compound   xxxx   True     False\n",
       "139    dinner    dinner   NOUN    NN      pobj   xxxx   True     False\n",
       "140         :         :  PUNCT     :     punct      :  False     False\n",
       "\n",
       "[141 rows x 8 columns]"
      ]
     },
     "execution_count": 17,
     "metadata": {},
     "output_type": "execute_result"
    }
   ],
   "source": [
    "T"
   ]
  },
  {
   "cell_type": "code",
   "execution_count": 18,
   "metadata": {},
   "outputs": [
    {
     "data": {
      "text/html": [
       "<span class=\"tex2jax_ignore\"><svg xmlns=\"http://www.w3.org/2000/svg\" xmlns:xlink=\"http://www.w3.org/1999/xlink\" xml:lang=\"en\" id=\"5c0a05c2b77e470c8ec28ee318975f71-0\" class=\"displacy\" width=\"1975\" height=\"487.0\" direction=\"ltr\" style=\"max-width: none; height: 487.0px; color: #000000; background: #ffffff; font-family: Arial; direction: ltr\">\n",
       "<text class=\"displacy-token\" fill=\"currentColor\" text-anchor=\"middle\" y=\"397.0\">\n",
       "    <tspan class=\"displacy-word\" fill=\"currentColor\" x=\"50\">Tortilla</tspan>\n",
       "    <tspan class=\"displacy-tag\" dy=\"2em\" fill=\"currentColor\" x=\"50\">PROPN</tspan>\n",
       "</text>\n",
       "\n",
       "<text class=\"displacy-token\" fill=\"currentColor\" text-anchor=\"middle\" y=\"397.0\">\n",
       "    <tspan class=\"displacy-word\" fill=\"currentColor\" x=\"225\">Pizza</tspan>\n",
       "    <tspan class=\"displacy-tag\" dy=\"2em\" fill=\"currentColor\" x=\"225\">PROPN</tspan>\n",
       "</text>\n",
       "\n",
       "<text class=\"displacy-token\" fill=\"currentColor\" text-anchor=\"middle\" y=\"397.0\">\n",
       "    <tspan class=\"displacy-word\" fill=\"currentColor\" x=\"400\">is</tspan>\n",
       "    <tspan class=\"displacy-tag\" dy=\"2em\" fill=\"currentColor\" x=\"400\">AUX</tspan>\n",
       "</text>\n",
       "\n",
       "<text class=\"displacy-token\" fill=\"currentColor\" text-anchor=\"middle\" y=\"397.0\">\n",
       "    <tspan class=\"displacy-word\" fill=\"currentColor\" x=\"575\">a</tspan>\n",
       "    <tspan class=\"displacy-tag\" dy=\"2em\" fill=\"currentColor\" x=\"575\">DET</tspan>\n",
       "</text>\n",
       "\n",
       "<text class=\"displacy-token\" fill=\"currentColor\" text-anchor=\"middle\" y=\"397.0\">\n",
       "    <tspan class=\"displacy-word\" fill=\"currentColor\" x=\"750\">quicker</tspan>\n",
       "    <tspan class=\"displacy-tag\" dy=\"2em\" fill=\"currentColor\" x=\"750\">ADJ</tspan>\n",
       "</text>\n",
       "\n",
       "<text class=\"displacy-token\" fill=\"currentColor\" text-anchor=\"middle\" y=\"397.0\">\n",
       "    <tspan class=\"displacy-word\" fill=\"currentColor\" x=\"925\">version</tspan>\n",
       "    <tspan class=\"displacy-tag\" dy=\"2em\" fill=\"currentColor\" x=\"925\">NOUN</tspan>\n",
       "</text>\n",
       "\n",
       "<text class=\"displacy-token\" fill=\"currentColor\" text-anchor=\"middle\" y=\"397.0\">\n",
       "    <tspan class=\"displacy-word\" fill=\"currentColor\" x=\"1100\">pizza</tspan>\n",
       "    <tspan class=\"displacy-tag\" dy=\"2em\" fill=\"currentColor\" x=\"1100\">NOUN</tspan>\n",
       "</text>\n",
       "\n",
       "<text class=\"displacy-token\" fill=\"currentColor\" text-anchor=\"middle\" y=\"397.0\">\n",
       "    <tspan class=\"displacy-word\" fill=\"currentColor\" x=\"1275\">to</tspan>\n",
       "    <tspan class=\"displacy-tag\" dy=\"2em\" fill=\"currentColor\" x=\"1275\">PART</tspan>\n",
       "</text>\n",
       "\n",
       "<text class=\"displacy-token\" fill=\"currentColor\" text-anchor=\"middle\" y=\"397.0\">\n",
       "    <tspan class=\"displacy-word\" fill=\"currentColor\" x=\"1450\">satisfy</tspan>\n",
       "    <tspan class=\"displacy-tag\" dy=\"2em\" fill=\"currentColor\" x=\"1450\">VERB</tspan>\n",
       "</text>\n",
       "\n",
       "<text class=\"displacy-token\" fill=\"currentColor\" text-anchor=\"middle\" y=\"397.0\">\n",
       "    <tspan class=\"displacy-word\" fill=\"currentColor\" x=\"1625\">your</tspan>\n",
       "    <tspan class=\"displacy-tag\" dy=\"2em\" fill=\"currentColor\" x=\"1625\">PRON</tspan>\n",
       "</text>\n",
       "\n",
       "<text class=\"displacy-token\" fill=\"currentColor\" text-anchor=\"middle\" y=\"397.0\">\n",
       "    <tspan class=\"displacy-word\" fill=\"currentColor\" x=\"1800\">cravings</tspan>\n",
       "    <tspan class=\"displacy-tag\" dy=\"2em\" fill=\"currentColor\" x=\"1800\">NOUN</tspan>\n",
       "</text>\n",
       "\n",
       "<g class=\"displacy-arrow\">\n",
       "    <path class=\"displacy-arc\" id=\"arrow-5c0a05c2b77e470c8ec28ee318975f71-0-0\" stroke-width=\"2px\" d=\"M70,352.0 C70,264.5 210.0,264.5 210.0,352.0\" fill=\"none\" stroke=\"currentColor\"/>\n",
       "    <text dy=\"1.25em\" style=\"font-size: 0.8em; letter-spacing: 1px\">\n",
       "        <textPath xlink:href=\"#arrow-5c0a05c2b77e470c8ec28ee318975f71-0-0\" class=\"displacy-label\" startOffset=\"50%\" side=\"left\" fill=\"currentColor\" text-anchor=\"middle\">compound</textPath>\n",
       "    </text>\n",
       "    <path class=\"displacy-arrowhead\" d=\"M70,354.0 L62,342.0 78,342.0\" fill=\"currentColor\"/>\n",
       "</g>\n",
       "\n",
       "<g class=\"displacy-arrow\">\n",
       "    <path class=\"displacy-arc\" id=\"arrow-5c0a05c2b77e470c8ec28ee318975f71-0-1\" stroke-width=\"2px\" d=\"M245,352.0 C245,264.5 385.0,264.5 385.0,352.0\" fill=\"none\" stroke=\"currentColor\"/>\n",
       "    <text dy=\"1.25em\" style=\"font-size: 0.8em; letter-spacing: 1px\">\n",
       "        <textPath xlink:href=\"#arrow-5c0a05c2b77e470c8ec28ee318975f71-0-1\" class=\"displacy-label\" startOffset=\"50%\" side=\"left\" fill=\"currentColor\" text-anchor=\"middle\">nsubj</textPath>\n",
       "    </text>\n",
       "    <path class=\"displacy-arrowhead\" d=\"M245,354.0 L237,342.0 253,342.0\" fill=\"currentColor\"/>\n",
       "</g>\n",
       "\n",
       "<g class=\"displacy-arrow\">\n",
       "    <path class=\"displacy-arc\" id=\"arrow-5c0a05c2b77e470c8ec28ee318975f71-0-2\" stroke-width=\"2px\" d=\"M595,352.0 C595,89.5 1095.0,89.5 1095.0,352.0\" fill=\"none\" stroke=\"currentColor\"/>\n",
       "    <text dy=\"1.25em\" style=\"font-size: 0.8em; letter-spacing: 1px\">\n",
       "        <textPath xlink:href=\"#arrow-5c0a05c2b77e470c8ec28ee318975f71-0-2\" class=\"displacy-label\" startOffset=\"50%\" side=\"left\" fill=\"currentColor\" text-anchor=\"middle\">det</textPath>\n",
       "    </text>\n",
       "    <path class=\"displacy-arrowhead\" d=\"M595,354.0 L587,342.0 603,342.0\" fill=\"currentColor\"/>\n",
       "</g>\n",
       "\n",
       "<g class=\"displacy-arrow\">\n",
       "    <path class=\"displacy-arc\" id=\"arrow-5c0a05c2b77e470c8ec28ee318975f71-0-3\" stroke-width=\"2px\" d=\"M770,352.0 C770,177.0 1090.0,177.0 1090.0,352.0\" fill=\"none\" stroke=\"currentColor\"/>\n",
       "    <text dy=\"1.25em\" style=\"font-size: 0.8em; letter-spacing: 1px\">\n",
       "        <textPath xlink:href=\"#arrow-5c0a05c2b77e470c8ec28ee318975f71-0-3\" class=\"displacy-label\" startOffset=\"50%\" side=\"left\" fill=\"currentColor\" text-anchor=\"middle\">amod</textPath>\n",
       "    </text>\n",
       "    <path class=\"displacy-arrowhead\" d=\"M770,354.0 L762,342.0 778,342.0\" fill=\"currentColor\"/>\n",
       "</g>\n",
       "\n",
       "<g class=\"displacy-arrow\">\n",
       "    <path class=\"displacy-arc\" id=\"arrow-5c0a05c2b77e470c8ec28ee318975f71-0-4\" stroke-width=\"2px\" d=\"M945,352.0 C945,264.5 1085.0,264.5 1085.0,352.0\" fill=\"none\" stroke=\"currentColor\"/>\n",
       "    <text dy=\"1.25em\" style=\"font-size: 0.8em; letter-spacing: 1px\">\n",
       "        <textPath xlink:href=\"#arrow-5c0a05c2b77e470c8ec28ee318975f71-0-4\" class=\"displacy-label\" startOffset=\"50%\" side=\"left\" fill=\"currentColor\" text-anchor=\"middle\">compound</textPath>\n",
       "    </text>\n",
       "    <path class=\"displacy-arrowhead\" d=\"M945,354.0 L937,342.0 953,342.0\" fill=\"currentColor\"/>\n",
       "</g>\n",
       "\n",
       "<g class=\"displacy-arrow\">\n",
       "    <path class=\"displacy-arc\" id=\"arrow-5c0a05c2b77e470c8ec28ee318975f71-0-5\" stroke-width=\"2px\" d=\"M420,352.0 C420,2.0 1100.0,2.0 1100.0,352.0\" fill=\"none\" stroke=\"currentColor\"/>\n",
       "    <text dy=\"1.25em\" style=\"font-size: 0.8em; letter-spacing: 1px\">\n",
       "        <textPath xlink:href=\"#arrow-5c0a05c2b77e470c8ec28ee318975f71-0-5\" class=\"displacy-label\" startOffset=\"50%\" side=\"left\" fill=\"currentColor\" text-anchor=\"middle\">attr</textPath>\n",
       "    </text>\n",
       "    <path class=\"displacy-arrowhead\" d=\"M1100.0,354.0 L1108.0,342.0 1092.0,342.0\" fill=\"currentColor\"/>\n",
       "</g>\n",
       "\n",
       "<g class=\"displacy-arrow\">\n",
       "    <path class=\"displacy-arc\" id=\"arrow-5c0a05c2b77e470c8ec28ee318975f71-0-6\" stroke-width=\"2px\" d=\"M1295,352.0 C1295,264.5 1435.0,264.5 1435.0,352.0\" fill=\"none\" stroke=\"currentColor\"/>\n",
       "    <text dy=\"1.25em\" style=\"font-size: 0.8em; letter-spacing: 1px\">\n",
       "        <textPath xlink:href=\"#arrow-5c0a05c2b77e470c8ec28ee318975f71-0-6\" class=\"displacy-label\" startOffset=\"50%\" side=\"left\" fill=\"currentColor\" text-anchor=\"middle\">aux</textPath>\n",
       "    </text>\n",
       "    <path class=\"displacy-arrowhead\" d=\"M1295,354.0 L1287,342.0 1303,342.0\" fill=\"currentColor\"/>\n",
       "</g>\n",
       "\n",
       "<g class=\"displacy-arrow\">\n",
       "    <path class=\"displacy-arc\" id=\"arrow-5c0a05c2b77e470c8ec28ee318975f71-0-7\" stroke-width=\"2px\" d=\"M1120,352.0 C1120,177.0 1440.0,177.0 1440.0,352.0\" fill=\"none\" stroke=\"currentColor\"/>\n",
       "    <text dy=\"1.25em\" style=\"font-size: 0.8em; letter-spacing: 1px\">\n",
       "        <textPath xlink:href=\"#arrow-5c0a05c2b77e470c8ec28ee318975f71-0-7\" class=\"displacy-label\" startOffset=\"50%\" side=\"left\" fill=\"currentColor\" text-anchor=\"middle\">relcl</textPath>\n",
       "    </text>\n",
       "    <path class=\"displacy-arrowhead\" d=\"M1440.0,354.0 L1448.0,342.0 1432.0,342.0\" fill=\"currentColor\"/>\n",
       "</g>\n",
       "\n",
       "<g class=\"displacy-arrow\">\n",
       "    <path class=\"displacy-arc\" id=\"arrow-5c0a05c2b77e470c8ec28ee318975f71-0-8\" stroke-width=\"2px\" d=\"M1645,352.0 C1645,264.5 1785.0,264.5 1785.0,352.0\" fill=\"none\" stroke=\"currentColor\"/>\n",
       "    <text dy=\"1.25em\" style=\"font-size: 0.8em; letter-spacing: 1px\">\n",
       "        <textPath xlink:href=\"#arrow-5c0a05c2b77e470c8ec28ee318975f71-0-8\" class=\"displacy-label\" startOffset=\"50%\" side=\"left\" fill=\"currentColor\" text-anchor=\"middle\">poss</textPath>\n",
       "    </text>\n",
       "    <path class=\"displacy-arrowhead\" d=\"M1645,354.0 L1637,342.0 1653,342.0\" fill=\"currentColor\"/>\n",
       "</g>\n",
       "\n",
       "<g class=\"displacy-arrow\">\n",
       "    <path class=\"displacy-arc\" id=\"arrow-5c0a05c2b77e470c8ec28ee318975f71-0-9\" stroke-width=\"2px\" d=\"M1470,352.0 C1470,177.0 1790.0,177.0 1790.0,352.0\" fill=\"none\" stroke=\"currentColor\"/>\n",
       "    <text dy=\"1.25em\" style=\"font-size: 0.8em; letter-spacing: 1px\">\n",
       "        <textPath xlink:href=\"#arrow-5c0a05c2b77e470c8ec28ee318975f71-0-9\" class=\"displacy-label\" startOffset=\"50%\" side=\"left\" fill=\"currentColor\" text-anchor=\"middle\">dobj</textPath>\n",
       "    </text>\n",
       "    <path class=\"displacy-arrowhead\" d=\"M1790.0,354.0 L1798.0,342.0 1782.0,342.0\" fill=\"currentColor\"/>\n",
       "</g>\n",
       "</svg></span>"
      ],
      "text/plain": [
       "<IPython.core.display.HTML object>"
      ]
     },
     "metadata": {},
     "output_type": "display_data"
    }
   ],
   "source": [
    "sentence = \"Tortilla Pizza is a quicker version pizza to satisfy your cravings\"\n",
    "render(nlp(sentence))"
   ]
  },
  {
   "cell_type": "code",
   "execution_count": 23,
   "metadata": {},
   "outputs": [],
   "source": [
    "def spacy_tokenizer(text, lowercase=True, lemma=True, keep_pos=None):\n",
    "    def selector(token, lemma=lemma, keep_pos=keep_pos):\n",
    "        if keep_pos is None or token.pos_ in keep_pos:\n",
    "            if lemma:\n",
    "                return token.lemma_ \n",
    "            else:\n",
    "                return token.text \n",
    "    tokens = []\n",
    "    for token in nlp(text):\n",
    "        s = selector(token)\n",
    "        if s is not None:\n",
    "            if lowercase:\n",
    "                tokens.append(s.lower())\n",
    "            else:\n",
    "                tokens.append(s)\n",
    "    return tokens"
   ]
  },
  {
   "cell_type": "code",
   "execution_count": 25,
   "metadata": {},
   "outputs": [
    {
     "name": "stdout",
     "output_type": "stream",
     "text": [
      "['roasted', 'peppers', 'mushroom', 'tortilla', 'pizza', 'recipe', 'be', 'quick', 'satisfy', 'be', 'very', 'quick', 'easy', 'do', 'feel', 'cook', 'full', 'fledged', 'be', 'definitely', 'use', 'have', 'roasted', 'loaded', 'enjoy', 'easy', 'favorite', 'be', 'great', 'be', 'look', 'indian', 'fusion', 'pizza', 'homemade', 'pizza', 'serve', 'like', 'can', 'also', 'try', 'other']\n",
      "['thakkali', 'gotsu', 'recipe', 'thakkali', 'curry', 'spicy', 'tangy', 'tomato', 'gravy', 'also', 'know', 'be', 'quick', 'easy', 'make', 'spicy', 'tangy', 'can', 'prepare', 'even', 'ven', 'pongal', 'khichdi', 'paratha', 'dosa', 'tomato', 'gotsu', 'be', 'pack', 'simple', 'roasted', 'simmer', 'along', 'give', 'delectable', 'serve', 'browse', 'here', 'more', 'south', 'indian']\n",
      "['spicy', 'grilled', 'pineapple', 'salsa', 'recipe', 'spicy', 'grilled', 'pineapple', 'salsa', 'be', 'simple', 'tropical', 'be', 'burst', 'sweet', 'spicy', 'be', 'perfect', 'well', 'serve', 'cold', 'grill', 'pineapple', 'salsa', 'can', 'be', 'enjoy', 'own', 'can', 'be', 'fill', 'sour', 'spicy', 'grilled', 'pineapple', 'salsa', 'can', 'be', 'great', 'barbecue', 'as', 'well', 'serve', 'spicy', 'grilled', 'pineapple', 'salsa', 'other', 'can', 'try', 'be']\n",
      "['karwar', 'style', 'dali', 'thoy', 'recipe', 'toor', 'dal', 'curry', 'be', 'quintessential', 'konkani', 'be', 'popular', 'mangaloreans', 'kongunadu', 'be', 'spiced', 'toor', 'be', 'simple', 'crave', 'very', 'light', 'comfort', 'yet', 'delicious', 'can', 'rely', 'simple', 'serve', 'make', 'simple', 'satisfying', 'take', 'more', 'karwar', 'style', 'could', 'also', 'try']\n",
      "['rajma', 'kofta', 'milk', 'poppy', 'seed', 'gravy', 'recipe', 'koftas', 'be', 'traditional', 'indian', 'mostly', 'well', 'do', 'peculiar', 'be', 'make', 'interesting', 'rajma', 'kofta', 'milk', 'poppy', 'seed', 'gravy', 'recipe', 'use', 'cook', 'instead', 'regular', 'basic', 'make', 'yummy', 'shallow', 'paniyaram', 'pan', 'once', 'fry', 'can', 'be', 'serve', 'have', 'cook', 'special', 'poppy', 'paste', 'make', 'delightful', 'vegetarian', 'can', 'be', 'serve', 'various', 'serve', 'rajma', 'kofta', 'milk', 'poppy', 'seed', 'gravy', 'recipe', 'along', 'complete', 'like', 'try', 'more']\n",
      "['barnyard', 'millet', 'mushroom', 'biryani', 'recipe', 'be', 'flavorful', 'make', 'barnyard', 'be', 'popularly', 'call', 'kuthiraivali', 'udalu', 'oodalu', 'other', 'regional', 'be', 'consider', 'be', 'valuable', 'be', 'healthy', 'main', 'make', 'whole', 'fresh', 'leave', 'cook', 'together', 'make', 'pack', 'be', 'highly', 'variable', 'small', 'seeded', 'be', 'cultivate', 'be', 'usually', 'small', 'come', 'various', 'white', 'brown', 'red', 'yellow', 'barnyard', 'have', 'light', 'brown', 'be', 'rich', 'iron', 'protein', 'so', 'therefore', 'very', 'essential', 'be', 'include', 'everyday', 'perfectly', 'diabetic', 'friendly', 'too', 'serve', 'go', 'be', 'look', 'more', 'mushroom', 'recipes', 'here', 'be']\n",
      "['mexican', 'green', 'sauce', 'recipe', 'be', 'cold', 'make', 'fresh', 'be', 'churn', 'creamy', 'refreshing', 'can', 'be', 'use', 'various', 'have', 'very', 'few', 'can', 'be', 'put', 'together', 'blitz', 'form', 'green', 'be', 'more', 'popular', 'many', 'can', 'be', 'make', 'different', 'serve', 'can', 'be', 'serve', 'create', 'refreshing', 'be', 'look', 'more', 'here', 'be']\n",
      "['karnataka', 'style', 'avarekalu', 'chitranna', 'recipe', 'field', 'beans', 'toss', 'lemon', 'rice', 'karnataka', 'style', 'avarekalu', 'chitranna', 'recipe', 'field', 'beans', 'toss', 'lemon', 'rice', 'be', 'special', 'make', 'most', 'karnataka', 'style', 'bengaluru', 'be', 'only', 'celebrate', 'avarekalu', 'mela', 'january', 'consist', 'sell', 'be', 'make', 'avarekalu', 'serve', 'karnataka', 'style', 'avarekalu', 'chitranna', 'recipe', 'field', 'beans', 'toss', 'lemon', 'rice', 'delicious', 'breakfast', 'mango', 'pickle', 'be', 'look', 'more', 'rice', 'here', 'be']\n",
      "['schezwan', 'style', 'chinese', 'veg', 'samosa', 'recipe', 'roz', 'ka', 'khana', 'figaro', 'olive', 'oil', 'must', 'try', 'chinese', 'be', 'toss', 'sichuan', 'smack', 'chinese', 'samosa', 'be', 'pack', 'fry', 'pure', 'olive', 'oil', 'serve', 'veg', 'chinese', 'samosa', 'pure', 'olive', 'oil', 'do', 'get', 'rancid', 'be', 'expose', 'high', 'say', 'can', 'reuse', 'multiple', 'like', 'indo', 'chinese', 'recipes', 'then', 'must', 'try']\n",
      "['pineapple', 'upside', 'down', 'cake', 'recipe', 'classic', 'pineapple', 'upside', 'down', 'cake', 'be', 'simple', 'make', 'make', 'perfect', 'have', 'use', 'try', 'test', 'here', 'make', 'even', 'more', 'simple', 'share', 'favorite', 'serve', 'down', 'be', 'along', 'vanilla', 'custard', 'walnuts', 'can', 'serve', 'too', 'have', 'also', 'use', 'be', 'very', 'high', 'derive', 'fine', 'import', 'grow', 'madagascar', 'have', 'share', 'make', 'free', 'eggless', 'well', 'use', 'here', 'be', 'more', 'try']\n"
     ]
    }
   ],
   "source": [
    "for doc in docs[:10]:\n",
    "    print(spacy_tokenizer(doc, lowercase=True, lemma=True, keep_pos=['PROPN', 'VERB', 'ADJ', 'ADV', 'AUX']))"
   ]
  },
  {
   "cell_type": "markdown",
   "metadata": {},
   "source": [
    "### Size of the vocabulary with different types of tokenizers"
   ]
  },
  {
   "cell_type": "code",
   "execution_count": 26,
   "metadata": {},
   "outputs": [],
   "source": [
    "from collections import defaultdict\n",
    "from tqdm.notebook import tqdm"
   ]
  },
  {
   "cell_type": "code",
   "execution_count": 27,
   "metadata": {},
   "outputs": [
    {
     "data": {
      "application/vnd.jupyter.widget-view+json": {
       "model_id": "649dba25f5654d7fbf15006837ebb955",
       "version_major": 2,
       "version_minor": 0
      },
      "text/plain": [
       "  0%|          | 0/7997 [00:00<?, ?it/s]"
      ]
     },
     "metadata": {},
     "output_type": "display_data"
    },
    {
     "data": {
      "application/vnd.jupyter.widget-view+json": {
       "model_id": "3409a2db08ce4083aa3b63b6083ef643",
       "version_major": 2,
       "version_minor": 0
      },
      "text/plain": [
       "  0%|          | 0/7997 [00:00<?, ?it/s]"
      ]
     },
     "metadata": {},
     "output_type": "display_data"
    }
   ],
   "source": [
    "nltk_vocabulary = defaultdict(lambda: 0)\n",
    "spacy_vocabulary = defaultdict(lambda: 0)\n",
    "step = 10\n",
    "\n",
    "def counter(docs: list, tokenizer: callable, vocabulary: dict, step: int = 10):\n",
    "    run = list(enumerate(docs))\n",
    "    stats = []\n",
    "    for i, doc in tqdm(run):\n",
    "        if i % step == 0:\n",
    "            stats.append(len(vocabulary))\n",
    "        for token in tokenizer(doc):\n",
    "            vocabulary[token] += 1\n",
    "    return stats \n",
    "\n",
    "nltk_stats = counter(docs, word_tokenize, nltk_vocabulary, step=step)\n",
    "spacy_stats = counter(docs, spacy_tokenizer, spacy_vocabulary, step=step)\n"
   ]
  },
  {
   "cell_type": "code",
   "execution_count": 31,
   "metadata": {},
   "outputs": [
    {
     "data": {
      "image/png": "[encoded data removed]",
      "text/plain": [
       "<Figure size 600x300 with 1 Axes>"
      ]
     },
     "metadata": {},
     "output_type": "display_data"
    }
   ],
   "source": [
    "fig, ax = plt.subplots(figsize=(6, 3))\n",
    "ax.set_title('Vocabulary Size')\n",
    "ax.plot(nltk_stats, label='NLTK')\n",
    "ax.plot(spacy_stats, label='spaCy')\n",
    "ax.legend()\n",
    "plt.tight_layout()\n",
    "plt.show()"
   ]
  },
  {
   "cell_type": "markdown",
   "metadata": {},
   "source": [
    "### Learning tokenization\n",
    "\n",
    "For an introduction to methods based on WordPiece see [WordPiece Example](./L0.1-wordpiece-example.ipynb)\n",
    "\n",
    "WordPiece is a subword-based tokenization algorithm commonly used in transformer-based models like BERT. It improves efficiency by balancing vocabulary size and representation power. The goal of training is to construct an optimal vocabulary from raw text data, balancing vocabulary size with subword efficiency.\n",
    "\n",
    "#### Step 1: Start with a Base Vocabulary\n",
    "The initial vocabulary contains all single Unicode characters (A-Z, a-z, 0-9, punctuation) plus special tokens like `[UNK]`.\n",
    "\n",
    "#### Step 2: Compute Frequency of Character Sequences\n",
    "We scan the training corpus and count the occurrence of every pairs of tokens (initially each char is seen as a token), by marking with a special characted the tokens that are not the initial ones."
   ]
  },
  {
   "cell_type": "code",
   "execution_count": 38,
   "metadata": {},
   "outputs": [],
   "source": [
    "import nltk"
   ]
  },
  {
   "cell_type": "code",
   "execution_count": 39,
   "metadata": {},
   "outputs": [
    {
     "data": {
      "text/plain": [
       "p    ##l    5\n",
       "##l  ##a    5\n",
       "##a  ##y    5\n",
       "##y  ##i    1\n",
       "##i  ##n    1\n",
       "##n  ##g    1\n",
       "##y  ##e    1\n",
       "##e  ##d    1\n",
       "##y  ##s    1\n",
       "     ##f    1\n",
       "##f  ##u    1\n",
       "##u  ##l    1\n",
       "dtype: int64"
      ]
     },
     "execution_count": 39,
     "metadata": {},
     "output_type": "execute_result"
    }
   ],
   "source": [
    "corpus = [\"play\", \"playing\", \"played\", \"plays\", \"playful\"]\n",
    "vocabulary = defaultdict(lambda: 0)\n",
    "c_prefix = \"##\"\n",
    "\n",
    "def update_vocabulary(corpus, vocabulary, c_prefix):\n",
    "    for text in corpus:\n",
    "        for i, (a, b) in enumerate(nltk.ngrams(text, n=2)):\n",
    "            if i == 0:\n",
    "                vocabulary[(a, f\"{c_prefix}{b}\")] += 1\n",
    "            else:\n",
    "                vocabulary[(f\"{c_prefix}{a}\", f\"{c_prefix}{b}\")] += 1\n",
    "\n",
    "update_vocabulary(corpus=corpus, vocabulary=vocabulary, c_prefix=c_prefix)\n",
    "\n",
    "pd.Series(vocabulary).sort_values(ascending=False)"
   ]
  },
  {
   "cell_type": "markdown",
   "metadata": {},
   "source": [
    "#### Step 3: Merge the Most Frequent Pair and Update the Corpus\n",
    "We merge the two most frequent pair and update the vocabulary and the corpus by substituting this sequence with a single token"
   ]
  },
  {
   "cell_type": "code",
   "execution_count": 47,
   "metadata": {},
   "outputs": [
    {
     "name": "stdout",
     "output_type": "stream",
     "text": [
      "['pl', 'a', 'y']\n",
      "['h', 'e', 'l', 'l', 'o']\n"
     ]
    }
   ],
   "source": [
    "pair = list(pd.Series(vocabulary).sort_values(ascending=False).head(1).keys())[0]\n",
    "new_token = f\"{pair[0].replace(c_prefix, '')}{pair[1].replace(c_prefix, '')}\"\n",
    "\n",
    "vocabulary[new_token] = vocabulary[pair]\n",
    "\n",
    "def wordpiece_split(word, vocabulary):\n",
    "    tokens = []\n",
    "    i = 0\n",
    "    while i < len(word):\n",
    "        matched = None\n",
    "        for j in range(len(word), i, -1):\n",
    "            subword = word[i:j]\n",
    "            if subword in vocabulary:\n",
    "                matched = subword\n",
    "                break\n",
    "        if matched is None:\n",
    "            matched = word[i]\n",
    "        tokens.append(matched)\n",
    "        i += len(matched)\n",
    "    return tokens\n",
    "\n",
    "print(wordpiece_split(\"play\", vocabulary=vocabulary))\n",
    "print(wordpiece_split(\"hello\", vocabulary=vocabulary))\n",
    "\n",
    "new_corpus = []\n",
    "for text in corpus:\n",
    "    tokens = wordpiece_split(text, vocabulary=vocabulary)\n",
    "    new_corpus.append(tokens)\n",
    "\n",
    "corpus = new_corpus"
   ]
  },
  {
   "cell_type": "code",
   "execution_count": 48,
   "metadata": {},
   "outputs": [
    {
     "data": {
      "text/plain": [
       "[['pl', 'a', 'y'],\n",
       " ['pl', 'a', 'y', 'i', 'n', 'g'],\n",
       " ['pl', 'a', 'y', 'e', 'd'],\n",
       " ['pl', 'a', 'y', 's'],\n",
       " ['pl', 'a', 'y', 'f', 'u', 'l']]"
      ]
     },
     "execution_count": 48,
     "metadata": {},
     "output_type": "execute_result"
    }
   ],
   "source": [
    "corpus"
   ]
  },
  {
   "cell_type": "markdown",
   "metadata": {},
   "source": [
    "#### Step 4: Repeat until we reach the maximum size of vocabulary\n",
    "From there on, all the non maching string portions will be left alone\n"
   ]
  },
  {
   "cell_type": "code",
   "execution_count": 49,
   "metadata": {},
   "outputs": [],
   "source": [
    "update_vocabulary(corpus=corpus, vocabulary=vocabulary, c_prefix=c_prefix)"
   ]
  },
  {
   "cell_type": "code",
   "execution_count": 50,
   "metadata": {},
   "outputs": [
    {
     "data": {
      "text/plain": [
       "(##a, ##y)    10\n",
       "(p, ##l)       5\n",
       "(##l, ##a)     5\n",
       "pl             5\n",
       "(pl, ##a)      5\n",
       "(##y, ##i)     2\n",
       "(##i, ##n)     2\n",
       "(##n, ##g)     2\n",
       "(##y, ##e)     2\n",
       "(##e, ##d)     2\n",
       "(##y, ##s)     2\n",
       "(##y, ##f)     2\n",
       "(##f, ##u)     2\n",
       "(##u, ##l)     2\n",
       "dtype: int64"
      ]
     },
     "execution_count": 50,
     "metadata": {},
     "output_type": "execute_result"
    }
   ],
   "source": [
    "pd.Series(vocabulary).sort_values(ascending=False)"
   ]
  },
  {
   "cell_type": "code",
   "execution_count": 52,
   "metadata": {},
   "outputs": [
    {
     "name": "stdout",
     "output_type": "stream",
     "text": [
      "ay\n",
      "[['pl', 'ay'], ['pl', 'ay', 'i', 'n', 'g'], ['pl', 'ay', 'e', 'd'], ['pl', 'ay', 's'], ['pl', 'ay', 'f', 'u', 'l']]\n"
     ]
    }
   ],
   "source": [
    "pair = list(pd.Series(vocabulary).sort_values(ascending=False).head(1).keys())[0]\n",
    "new_token = f\"{pair[0].replace(c_prefix, '')}{pair[1].replace(c_prefix, '')}\"\n",
    "\n",
    "print(new_token)\n",
    "\n",
    "vocabulary[new_token] = vocabulary[pair]\n",
    "\n",
    "new_corpus = []\n",
    "for text in corpus:\n",
    "    tokens = wordpiece_split(\"\".join(text), vocabulary=vocabulary)\n",
    "    new_corpus.append(tokens)\n",
    "\n",
    "corpus = new_corpus\n",
    "\n",
    "print(corpus)"
   ]
  },
  {
   "cell_type": "markdown",
   "metadata": {},
   "source": [
    "**Note**: this naive implementation does now work completely; for a usable example you can check here [WordPieace](L0.1-wordpiece-example.ipynb)"
   ]
  },
  {
   "cell_type": "code",
   "execution_count": null,
   "metadata": {},
   "outputs": [],
   "source": []
  }
 ],
 "metadata": {
  "kernelspec": {
   "display_name": "nlp",
   "language": "python",
   "name": "python3"
  },
  "language_info": {
   "codemirror_mode": {
    "name": "ipython",
    "version": 3
   },
   "file_extension": ".py",
   "mimetype": "text/x-python",
   "name": "python",
   "nbconvert_exporter": "python",
   "pygments_lexer": "ipython3",
   "version": "3.10.4"
  }
 },
 "nbformat": 4,
 "nbformat_minor": 2
}
