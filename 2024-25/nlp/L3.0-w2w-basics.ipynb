{
 "cells": [
  {
   "cell_type": "markdown",
   "metadata": {},
   "source": [
    "##### Master Degree in Computer Science and Data Science for Economics\n",
    "\n",
    "# Word2Vec\n",
    "## A toy example and from scratch implementation\n",
    "\n",
    "### Alfio Ferrara\n",
    "\n",
    "For the details about the model, see [wordvec.py](./nlp/wordvec.py)"
   ]
  },
  {
   "cell_type": "markdown",
   "metadata": {},
   "source": [
    "## A simple toy dataset\n",
    "Let's take a simple example with pseudo docs representing different weather conditions"
   ]
  },
  {
   "cell_type": "code",
   "execution_count": 2,
   "metadata": {},
   "outputs": [],
   "source": [
    "import json"
   ]
  },
  {
   "cell_type": "code",
   "execution_count": 3,
   "metadata": {},
   "outputs": [
    {
     "name": "stdout",
     "output_type": "stream",
     "text": [
      "mountains | snow | ice | peak | woods | cold\n",
      "beach | sand | sea | wave | sun | hot\n",
      "desert | dune | cactus | sand | sun | arid\n",
      "forest | tree | leaf | animal | rain | humidity\n",
      "river | water | fish | spring | current | bank\n",
      "sky | cloud | wind | rain | thunder | rainbow\n"
     ]
    }
   ],
   "source": [
    "with open('../data/weather.json', 'r') as file_in:\n",
    "    data = json.load(file_in)\n",
    "weather = data['weather']\n",
    "for doc in weather:\n",
    "    print(\" | \".join(doc))"
   ]
  },
  {
   "cell_type": "markdown",
   "metadata": {},
   "source": [
    "## Create SkipGram dataloader"
   ]
  },
  {
   "cell_type": "code",
   "execution_count": 4,
   "metadata": {},
   "outputs": [],
   "source": [
    "import nlp.wordbags as wb\n",
    "import pandas as pd\n",
    "import torch "
   ]
  },
  {
   "cell_type": "code",
   "execution_count": 5,
   "metadata": {},
   "outputs": [],
   "source": [
    "bow = wb.Bow(corpus=weather)\n",
    "data_loader, inputs, outputs = bow.one_hot_skip_gram_dataloader(window=2, batch=2)"
   ]
  },
  {
   "cell_type": "code",
   "execution_count": 6,
   "metadata": {},
   "outputs": [
    {
     "data": {
      "text/plain": [
       "mountains    1.0\n",
       "snow         0.0\n",
       "ice          0.0\n",
       "peak         0.0\n",
       "woods        0.0\n",
       "Name: 0, dtype: float32"
      ]
     },
     "execution_count": 6,
     "metadata": {},
     "output_type": "execute_result"
    }
   ],
   "source": [
    "readable_input = pd.DataFrame(inputs, columns=bow.vocabulary)\n",
    "readable_input.iloc[0].head()"
   ]
  },
  {
   "cell_type": "code",
   "execution_count": 7,
   "metadata": {},
   "outputs": [
    {
     "data": {
      "text/plain": [
       "mountains    0.0\n",
       "snow         1.0\n",
       "ice          1.0\n",
       "peak         0.0\n",
       "woods        0.0\n",
       "Name: 0, dtype: float32"
      ]
     },
     "execution_count": 7,
     "metadata": {},
     "output_type": "execute_result"
    }
   ],
   "source": [
    "readable_target = pd.DataFrame(outputs, columns=bow.vocabulary)\n",
    "readable_target.iloc[0].head()"
   ]
  },
  {
   "cell_type": "code",
   "execution_count": 8,
   "metadata": {},
   "outputs": [
    {
     "name": "stdout",
     "output_type": "stream",
     "text": [
      "Input: tensor([[1., 0., 0., 0., 0., 0., 0., 0., 0., 0., 0., 0., 0., 0., 0., 0., 0., 0.,\n",
      "         0., 0., 0., 0., 0., 0., 0., 0., 0., 0., 0., 0., 0., 0., 0.],\n",
      "        [0., 1., 0., 0., 0., 0., 0., 0., 0., 0., 0., 0., 0., 0., 0., 0., 0., 0.,\n",
      "         0., 0., 0., 0., 0., 0., 0., 0., 0., 0., 0., 0., 0., 0., 0.]])\n",
      "Target: tensor([[0., 1., 1., 0., 0., 0., 0., 0., 0., 0., 0., 0., 0., 0., 0., 0., 0., 0.,\n",
      "         0., 0., 0., 0., 0., 0., 0., 0., 0., 0., 0., 0., 0., 0., 0.],\n",
      "        [1., 0., 1., 1., 0., 0., 0., 0., 0., 0., 0., 0., 0., 0., 0., 0., 0., 0.,\n",
      "         0., 0., 0., 0., 0., 0., 0., 0., 0., 0., 0., 0., 0., 0., 0.]])\n"
     ]
    }
   ],
   "source": [
    "for x, y in data_loader:\n",
    "    print(f\"Input: {x}\")\n",
    "    print(f\"Target: {y}\")\n",
    "    break "
   ]
  },
  {
   "cell_type": "code",
   "execution_count": 9,
   "metadata": {},
   "outputs": [
    {
     "name": "stdout",
     "output_type": "stream",
     "text": [
      "['mountains'] ==> ['snow', 'ice']\n",
      "['snow'] ==> ['mountains', 'ice', 'peak']\n",
      "['ice'] ==> ['mountains', 'snow', 'peak', 'woods']\n",
      "['peak'] ==> ['snow', 'ice', 'woods', 'cold']\n",
      "['woods'] ==> ['ice', 'peak', 'cold']\n",
      "['cold'] ==> ['peak', 'woods']\n",
      "['beach'] ==> ['sand', 'sea']\n",
      "['sand'] ==> ['beach', 'sea', 'wave']\n",
      "['sea'] ==> ['beach', 'sand', 'wave', 'sun']\n",
      "['wave'] ==> ['sand', 'sea', 'sun', 'hot']\n",
      "['sun'] ==> ['sea', 'wave', 'hot']\n",
      "['hot'] ==> ['wave', 'sun']\n",
      "['desert'] ==> ['dune', 'cactus']\n",
      "['dune'] ==> ['sand', 'desert', 'cactus']\n"
     ]
    }
   ],
   "source": [
    "for i, (x, y) in enumerate(data_loader):\n",
    "    for batch_i in range(x.shape[0]):\n",
    "        x_indices = torch.where(x[batch_i] == 1)[0].numpy()\n",
    "        y_indices = torch.where(y[batch_i] == 1)[0].numpy()\n",
    "        input_word = f\"{[bow.idx2word[w_x] for w_x in x_indices]}\"\n",
    "        target_word = f\"{[bow.idx2word[w_y] for w_y in y_indices]}\"\n",
    "        print(f\"{input_word} ==> {target_word}\")\n",
    "    if i > 5:\n",
    "        break "
   ]
  },
  {
   "cell_type": "markdown",
   "metadata": {},
   "source": [
    "## Build and train a predictor"
   ]
  },
  {
   "cell_type": "code",
   "execution_count": 10,
   "metadata": {},
   "outputs": [],
   "source": [
    "from nlp.wordvec import Word2WordPrediction, Word2VecModel\n",
    "from nlp.w2w_readers import WordEmbeddings"
   ]
  },
  {
   "cell_type": "code",
   "execution_count": 11,
   "metadata": {},
   "outputs": [
    {
     "name": "stderr",
     "output_type": "stream",
     "text": [
      "100%|██████████| 50/50 [00:00<00:00, 348.00it/s]"
     ]
    },
    {
     "name": "stdout",
     "output_type": "stream",
     "text": [
      "10.489991717868381 9.715192317962646\n"
     ]
    },
    {
     "name": "stderr",
     "output_type": "stream",
     "text": [
      "\n"
     ]
    }
   ],
   "source": [
    "w2w = Word2WordPrediction(input_dim=bow.size, hidden_dim=4)\n",
    "epochs = 50\n",
    "learning_rate = 0.01\n",
    "history = w2w.train(data_loader=data_loader, epochs=epochs, \n",
    "                    learning_rate=learning_rate)\n",
    "print(history[0], history[-1])"
   ]
  },
  {
   "cell_type": "markdown",
   "metadata": {},
   "source": [
    "### Predict next word"
   ]
  },
  {
   "cell_type": "code",
   "execution_count": 12,
   "metadata": {},
   "outputs": [],
   "source": [
    "model = WordEmbeddings(words=bow, model=w2w)"
   ]
  },
  {
   "cell_type": "code",
   "execution_count": 13,
   "metadata": {},
   "outputs": [
    {
     "data": {
      "text/plain": [
       "cactus    0.983893\n",
       "sand      0.007746\n",
       "leaf      0.004653\n",
       "woods     0.002746\n",
       "snow      0.000616\n",
       "sea       0.000071\n",
       "spring    0.000063\n",
       "tree      0.000047\n",
       "river     0.000026\n",
       "dune      0.000026\n",
       "dtype: float32"
      ]
     },
     "execution_count": 13,
     "metadata": {},
     "output_type": "execute_result"
    }
   ],
   "source": [
    "query = 'desert'\n",
    "next_word = model.predict(query, topk=10)\n",
    "next_word"
   ]
  },
  {
   "cell_type": "markdown",
   "metadata": {},
   "source": [
    "### Generate text"
   ]
  },
  {
   "cell_type": "code",
   "execution_count": 14,
   "metadata": {},
   "outputs": [],
   "source": [
    "import numpy as np "
   ]
  },
  {
   "cell_type": "code",
   "execution_count": 15,
   "metadata": {},
   "outputs": [
    {
     "name": "stdout",
     "output_type": "stream",
     "text": [
      "desert cactus sun cactus sand sun cactus\n"
     ]
    }
   ],
   "source": [
    "start = \"desert\"\n",
    "text = [start]\n",
    "for i in range(6):\n",
    "    p = model.predict(start)\n",
    "    next_word = np.random.choice(p.index.values, p=p.values / p.values.sum())\n",
    "    text.append(next_word)\n",
    "    start = next_word\n",
    "\n",
    "print(\" \".join(text))"
   ]
  },
  {
   "cell_type": "markdown",
   "metadata": {},
   "source": [
    "## Word Embeddings"
   ]
  },
  {
   "cell_type": "code",
   "execution_count": 16,
   "metadata": {},
   "outputs": [],
   "source": [
    "search = 'dune'"
   ]
  },
  {
   "cell_type": "code",
   "execution_count": 17,
   "metadata": {},
   "outputs": [
    {
     "data": {
      "text/plain": [
       "array([ 1.2090666,  1.2371256, -1.4616163, -1.3776888], dtype=float32)"
      ]
     },
     "execution_count": 17,
     "metadata": {},
     "output_type": "execute_result"
    }
   ],
   "source": [
    "model[search]"
   ]
  },
  {
   "cell_type": "markdown",
   "metadata": {},
   "source": [
    "### Most similar"
   ]
  },
  {
   "cell_type": "code",
   "execution_count": 18,
   "metadata": {},
   "outputs": [
    {
     "data": {
      "text/plain": [
       "dune      1.000000\n",
       "sun       0.986408\n",
       "desert    0.872596\n",
       "beach     0.849499\n",
       "forest    0.502287\n",
       "wave      0.491123\n",
       "tree      0.488658\n",
       "sea       0.471971\n",
       "arid      0.470290\n",
       "cactus    0.451583\n",
       "Name: dune, dtype: float32"
      ]
     },
     "execution_count": 18,
     "metadata": {},
     "output_type": "execute_result"
    }
   ],
   "source": [
    "model.most_similar(search, topk=10)"
   ]
  },
  {
   "cell_type": "markdown",
   "metadata": {},
   "source": [
    "### Visual map"
   ]
  },
  {
   "cell_type": "code",
   "execution_count": 19,
   "metadata": {},
   "outputs": [],
   "source": [
    "from sklearn.manifold import TSNE\n",
    "import matplotlib.pyplot as plt\n",
    "\n",
    "plt.style.use('seaborn-v0_8-dark-palette')"
   ]
  },
  {
   "cell_type": "code",
   "execution_count": 20,
   "metadata": {},
   "outputs": [],
   "source": [
    "tsne = TSNE(n_components=2)\n",
    "vectors = model.vectors(bow.vocabulary)\n",
    "v2d = tsne.fit_transform(vectors)"
   ]
  },
  {
   "cell_type": "code",
   "execution_count": 21,
   "metadata": {},
   "outputs": [
    {
     "data": {
      "image/png": "[encoded data removed]",
      "text/plain": [
       "<Figure size 500x500 with 1 Axes>"
      ]
     },
     "metadata": {},
     "output_type": "display_data"
    }
   ],
   "source": [
    "selected_words = bow.vocabulary\n",
    "indexes = [bow.word2idx[w] for w in selected_words]\n",
    "selected2d = v2d[indexes]\n",
    "\n",
    "fig, ax = plt.subplots(figsize=(5, 5))\n",
    "ax.scatter(selected2d[:,0], selected2d[:, 1])\n",
    "for i, w in enumerate(selected_words):\n",
    "    ax.text(selected2d[i][0] + .02, selected2d[i][1] + .02, w)\n",
    "plt.tight_layout()\n",
    "plt.show()"
   ]
  },
  {
   "cell_type": "markdown",
   "metadata": {},
   "source": [
    "### Directions"
   ]
  },
  {
   "cell_type": "code",
   "execution_count": 22,
   "metadata": {},
   "outputs": [
    {
     "data": {
      "image/png": "[encoded data removed]",
      "text/plain": [
       "<Figure size 400x400 with 1 Axes>"
      ]
     },
     "metadata": {},
     "output_type": "display_data"
    }
   ],
   "source": [
    "def pointer(group, vectors):\n",
    "    g = vectors[[bow.word2idx[w] for w in group]]\n",
    "    return g.mean(axis=0)\n",
    "\n",
    "group1 = ['dune', 'beach', 'cactus', 'arid']\n",
    "group2 = ['snow', 'peak', 'mountains', 'ice']\n",
    "group3 = ['forest', 'tree', 'rain', 'humidity']\n",
    "g1 = pointer(group1, v2d)\n",
    "g2 = pointer(group2, v2d)\n",
    "g3 = pointer(group3, v2d)\n",
    "\n",
    "fig, ax = plt.subplots(figsize=(4, 4))\n",
    "ax.arrow(0, 0, g1[0], g1[1], head_width=0.05, head_length=0.05, fc='red', ec='red')\n",
    "ax.arrow(0, 0, g2[0], g2[1], head_width=0.05, head_length=0.05, fc='blue', ec='blue')\n",
    "ax.arrow(0, 0, g3[0], g3[1], head_width=0.05, head_length=0.05, fc='green', ec='green')\n",
    "plt.tight_layout()\n",
    "plt.show()"
   ]
  },
  {
   "cell_type": "markdown",
   "metadata": {},
   "source": [
    "## Compositionality"
   ]
  },
  {
   "cell_type": "code",
   "execution_count": 23,
   "metadata": {},
   "outputs": [
    {
     "name": "stdout",
     "output_type": "stream",
     "text": [
      "desert\n"
     ]
    }
   ],
   "source": [
    "answer, a_vector = model.analogy('sea', 'wave', 'desert')\n",
    "print(answer)"
   ]
  },
  {
   "cell_type": "code",
   "execution_count": 24,
   "metadata": {},
   "outputs": [
    {
     "data": {
      "text/plain": [
       "wave      0.914150\n",
       "beach     0.905733\n",
       "sea       0.893922\n",
       "arid      0.881191\n",
       "cactus    0.876507\n",
       "sun       0.777162\n",
       "dune      0.712349\n",
       "hot       0.707097\n",
       "sand      0.679534\n",
       "desert    0.443886\n",
       "dtype: float32"
      ]
     },
     "execution_count": 24,
     "metadata": {},
     "output_type": "execute_result"
    }
   ],
   "source": [
    "model.common_meanings(['sea', 'wave', 'desert', 'sand'])"
   ]
  },
  {
   "cell_type": "code",
   "execution_count": 25,
   "metadata": {},
   "outputs": [
    {
     "data": {
      "text/plain": [
       "sand         0.269533\n",
       "peak         0.643646\n",
       "snow         0.818660\n",
       "mountains    0.904269\n",
       "dtype: float32"
      ]
     },
     "execution_count": 25,
     "metadata": {},
     "output_type": "execute_result"
    }
   ],
   "source": [
    "model.spot_odd_one(words=['mountains', 'peak', 'snow', 'sand'])"
   ]
  },
  {
   "cell_type": "code",
   "execution_count": 32,
   "metadata": {},
   "outputs": [
    {
     "data": {
      "text/plain": [
       "cold        0.651316\n",
       "ice         0.607832\n",
       "snow        0.559899\n",
       "woods       0.558223\n",
       "peak        0.528262\n",
       "humidity    0.509921\n",
       "river       0.502198\n",
       "spring      0.494384\n",
       "animal      0.485455\n",
       "thunder     0.469369\n",
       "dtype: float32"
      ]
     },
     "execution_count": 32,
     "metadata": {},
     "output_type": "execute_result"
    }
   ],
   "source": [
    "model.search(positive=['sea'], negative=['wave'])"
   ]
  },
  {
   "cell_type": "code",
   "execution_count": 33,
   "metadata": {},
   "outputs": [
    {
     "data": {
      "text/plain": [
       "desert       0.998238\n",
       "sun          0.867434\n",
       "dune         0.867257\n",
       "peak         0.567095\n",
       "forest       0.536191\n",
       "tree         0.522827\n",
       "ice          0.500448\n",
       "cold         0.498755\n",
       "beach        0.490832\n",
       "mountains    0.270256\n",
       "dtype: float32"
      ]
     },
     "execution_count": 33,
     "metadata": {},
     "output_type": "execute_result"
    }
   ],
   "source": [
    "model.search(positive=['sea', 'desert'], negative=['wave'])"
   ]
  },
  {
   "cell_type": "code",
   "execution_count": null,
   "metadata": {},
   "outputs": [],
   "source": []
  }
 ],
 "metadata": {
  "kernelspec": {
   "display_name": "nlp",
   "language": "python",
   "name": "python3"
  },
  "language_info": {
   "codemirror_mode": {
    "name": "ipython",
    "version": 3
   },
   "file_extension": ".py",
   "mimetype": "text/x-python",
   "name": "python",
   "nbconvert_exporter": "python",
   "pygments_lexer": "ipython3",
   "version": "3.10.4"
  }
 },
 "nbformat": 4,
 "nbformat_minor": 2
}
